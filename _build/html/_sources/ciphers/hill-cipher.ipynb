{
 "cells": [
  {
   "cell_type": "markdown",
   "metadata": {},
   "source": [
    "# **The Hill Cipher**\n",
    "\n",
    "---\n",
    "\n",
    "The Hill cipher is a polygraphic substitution cipher based on linear algebra. It was invented by Lester S. Hill in 1929. The cipher uses an $n \\times n$ matrix to encrypt blocks of $n$ letters at a time. The matrix must be invertible, and the determinant of the matrix must be coprime with the length of the alphabet. The matrix is multiplied by a vector of the plaintext to get the ciphertext. The inverse of the matrix is used to decrypt the ciphertext.\n",
    "\n",
    "Let's break down the process step by step:\n",
    "\n",
    "1. **Transformation of Letters to Numbers**:\n",
    "    - Each letter in the alphabet is assigned a number:\n",
    "    \n",
    "    $$\n",
    "    \\begin{aligned}\n",
    "    A & = 0, \\\\\n",
    "    B & = 1, \\\\\n",
    "    \\vdots \\\\\n",
    "    Z & = 25.\n",
    "    \\end{aligned}\n",
    "    $$\n",
    "\n",
    "2. **Encryption Process**:\n",
    "    - Choose an $n \\times n$ matrix $K$ as the key for encryption. This matrix must be invertible modulo 26.\n",
    "    - Divide the plaintext into vectors of size $n$. For example, for a 2x2 matrix and plaintext \"HELP\":\n",
    "        \n",
    "    $$\\text{Plaintext: } \\text{HELP} \\rightarrow \\begin{pmatrix} H & E \\\\ L & P \\end{pmatrix} = \\begin{pmatrix} 7 & 4 \\\\ 11 & 15 \\end{pmatrix}$$\n",
    "\n",
    "    - Multiply each vector by the matrix $K$ modulo 26 to get the ciphertext vector:\n",
    "        \n",
    "    $$\\text{Ciphertext vector: } C = K \\cdot P \\mod 26$$\n",
    "    \n",
    "    - For example, if $K = \\begin{pmatrix} 3 & 3 \\\\ 2 & 5 \\end{pmatrix}$ and $P = \\begin{pmatrix} 7 \\\\ 4 \\end{pmatrix}$:\n",
    "        \n",
    "    $$C = \\begin{pmatrix} 3 & 3 \\\\ 2 & 5 \\end{pmatrix} \\cdot \\begin{pmatrix} 7 \\\\ 4 \\end{pmatrix} \\mod 26 = \\begin{pmatrix} 21 \\\\ 6 \\end{pmatrix} \\mod 26 = \\begin{pmatrix} 21 \\\\ 6 \\end{pmatrix}$$\n",
    "   \n",
    "    - The ciphertext corresponds to the letters $V$ and $G$.\n",
    "\n",
    "3. **Decryption Process**:\n",
    "    - To decrypt, use the inverse of the matrix $K$, denoted as $K^{-1}$.\n",
    "    - Multiply the ciphertext vector by the inverse matrix $K^{-1}$ modulo 26 to get the plaintext vector:\n",
    "        \n",
    "    $$\\text{Plaintext vector: } P = K^{-1} \\cdot C \\mod 26$$\n",
    "        \n",
    "    - For example, if $K^{-1} = \\begin{pmatrix} 15 & 17 \\\\ 20 & 9 \\end{pmatrix}$ and $C = \\begin{pmatrix} 21 \\\\ 6 \\end{pmatrix}$:\n",
    "        \n",
    "    $$P = \\begin{pmatrix} 15 & 17 \\\\ 20 & 9 \\end{pmatrix} \\cdot \\begin{pmatrix} 21 \\\\ 6 \\end{pmatrix} \\mod 26 = \\begin{pmatrix} 7 \\\\ 4 \\end{pmatrix} \\mod 26 = \\begin{pmatrix} 7 \\\\ 4 \\end{pmatrix}$$\n",
    "      \n",
    "    - The plaintext corresponds to the letters $H$ and $E$.\n",
    "\n",
    "**Note**: The matrix $K$ must be carefully chosen so that its determinant is coprime with 26 to ensure it has an inverse modulo 26.\n",
    "\n",
    "### Example:\n",
    "- Plaintext: \"HELP\"\n",
    "- Key matrix $K = \\begin{pmatrix} 3 & 3 \\\\ 2 & 5 \\end{pmatrix}$\n",
    "- Encryption:\n",
    "\n",
    "    $$\n",
    "    \\begin{aligned}\n",
    "    P_1 &= \\begin{pmatrix} H & E \\end{pmatrix} = \\begin{pmatrix} 7 & 4 \\end{pmatrix} \\\\\n",
    "    \\end{aligned}\n",
    "    $$\n",
    "\n",
    "    $$\n",
    "    \\begin{aligned}\n",
    "    C_1 &= \\begin{pmatrix} 3 & 3 \\\\ 2 & 5 \\end{pmatrix} \\cdot \\begin{pmatrix} 7 \\\\ 4 \\end{pmatrix} \\mod 26 = \\begin{pmatrix} 21 \\\\ 6 \\end{pmatrix} = \\text{VG}\n",
    "    \\end{aligned}\n",
    "    $$\n",
    "  \n",
    "- Decryption:\n",
    "\n",
    "    $$\n",
    "    \\begin{aligned}\n",
    "    C_1 &= \\begin{pmatrix} V & G \\end{pmatrix} = \\begin{pmatrix} 21 & 6 \\end{pmatrix} \\\\\n",
    "    \\end{aligned}\n",
    "    $$\n",
    "\n",
    "    $$\n",
    "    \\begin{aligned}\n",
    "    P_1 &= \\begin{pmatrix} 15 & 17 \\\\ 20 & 9 \\end{pmatrix} \\cdot \\begin{pmatrix} 21 \\\\ 6 \\end{pmatrix} \\mod 26 = \\begin{pmatrix} 7 \\\\ 4 \\end{pmatrix} = \\text{HE}\n",
    "    \\end{aligned}\n",
    "    $$\n",
    "\n",
    "\n",
    "### Table of Contents\n",
    "\n",
    "- [1. Hill Cipher Algorithm](##1.hill-cipher-algorithm)\n",
    "- [2. Examples of the Hill Cipher](##2.examples-of-the-hill-cipher)\n",
    "- [3. Generating Invertible Key Matrix](##3.generating-invertible-key-matrix)\n",
    "- [4. Hill Cipher with Random Key Matrix](##4.hill-cipher-with-random-key-matrix)\n",
    "- [5. Comparing Matrix Size and Execution Time](##5.comparing-matrix-size-and-execution-time)\n",
    "\n",
    "---"
   ]
  },
  {
   "cell_type": "markdown",
   "metadata": {},
   "source": [
    "## **1. Hill Cipher Algorithm**\n",
    "\n",
    "---"
   ]
  },
  {
   "cell_type": "markdown",
   "metadata": {},
   "source": [
    "The Hill cipher functions are implemented in the following order:\n",
    "- `hill_cipher_encrypt`: Encrypts the plaintext using the Hill cipher. It takes the `key` matrix and the `plaintext` as input and returns the ciphertext. It will also pad the plaintext if the length of the plaintext is not a multiple of the key matrix size.\n",
    "- `hill_cipher_decrypt`: Decrypts the ciphertext using the Hill cipher. It takes the `key` matrix and the `ciphertext` as input and returns the plaintext.\n",
    "- `hill_cipher`: Is used for both encryption and decryption. It takes the `key`, `text`, and `mode` as input and returns the encrypted or decrypted text based on the mode. Then outputs the results."
   ]
  },
  {
   "metadata": {
    "ExecuteTime": {
     "end_time": "2024-06-27T05:45:45.781422Z",
     "start_time": "2024-06-27T05:45:45.525927Z"
    }
   },
   "cell_type": "code",
   "source": [
    "import sympy as sp\n",
    "import random\n",
    "import faker"
   ],
   "outputs": [],
   "execution_count": 2
  },
  {
   "cell_type": "code",
   "metadata": {
    "ExecuteTime": {
     "end_time": "2024-06-27T05:45:46.881415Z",
     "start_time": "2024-06-27T05:45:46.877563Z"
    }
   },
   "source": [
    "def hill_cipher_encrypt(message, key_matrix):\n",
    "    n = key_matrix.shape[0]\n",
    "    message_numbers = [ord(char) - ord('A') for char in message.upper().replace(\" \", \"\")]\n",
    "    while len(message_numbers) % n != 0:\n",
    "        message_numbers.append(ord('X') - ord('A'))\n",
    "    message_matrix = sp.Matrix(n, len(message_numbers) // n, message_numbers)\n",
    "    encrypted_matrix = key_matrix * message_matrix\n",
    "    encrypted_matrix = encrypted_matrix.applyfunc(lambda x: x % 26)\n",
    "    encrypted_message = ''.join(chr(num + ord('A')) for num in encrypted_matrix)\n",
    "    return encrypted_message, len(message_numbers)"
   ],
   "outputs": [],
   "execution_count": 3
  },
  {
   "cell_type": "code",
   "metadata": {
    "ExecuteTime": {
     "end_time": "2024-06-27T05:45:47.739217Z",
     "start_time": "2024-06-27T05:45:47.734451Z"
    }
   },
   "source": [
    "def hill_cipher_decrypt(encrypted_message, key_matrix, original_message_length):\n",
    "    n = key_matrix.shape[0]\n",
    "    key_matrix_inv = key_matrix.inv_mod(26)\n",
    "    encrypted_numbers = [ord(char) - ord('A') for char in encrypted_message]\n",
    "    encrypted_matrix = sp.Matrix(n, len(encrypted_numbers) // n, encrypted_numbers)\n",
    "    decrypted_matrix = key_matrix_inv * encrypted_matrix\n",
    "    decrypted_matrix = decrypted_matrix.applyfunc(lambda x: x % 26)\n",
    "    decrypted_message = ''.join(chr(num + ord('A')) for num in decrypted_matrix)\n",
    "    return decrypted_message[:original_message_length]"
   ],
   "outputs": [],
   "execution_count": 4
  },
  {
   "cell_type": "code",
   "metadata": {
    "ExecuteTime": {
     "end_time": "2024-06-27T05:45:48.720170Z",
     "start_time": "2024-06-27T05:45:48.716553Z"
    }
   },
   "source": [
    "def hill_cipher(key_matrix, message): \n",
    "    print(f\"The key matrix is: {key_matrix}\")\n",
    "    print(f\"The message is: {message}\")\n",
    "    encrypted_message, original_length = hill_cipher_encrypt(message, key_matrix)\n",
    "    print(f\"The encrypted message is: {encrypted_message}\")\n",
    "    decrypted_message = hill_cipher_decrypt(encrypted_message, key_matrix, original_length)\n",
    "    print(f\"The decrypted message is: {decrypted_message}\")"
   ],
   "outputs": [],
   "execution_count": 5
  },
  {
   "cell_type": "markdown",
   "metadata": {},
   "source": [
    "## **2. Examples of the Hill Cipher**\n",
    "\n",
    "---"
   ]
  },
  {
   "cell_type": "markdown",
   "metadata": {},
   "source": [
    "#### The following is an example of the Hill cipher in action:\n",
    "\n",
    "Here the key matrix is a `3 x 3` matrix and the plaintext is `HELLO`. You'll notice the plaintext is padded with an `X` to make the length of the plaintext a multiple of 3."
   ]
  },
  {
   "cell_type": "code",
   "execution_count": 75,
   "metadata": {},
   "outputs": [
    {
     "name": "stdout",
     "output_type": "stream",
     "text": [
      "The key matrix is: Matrix([[6, 24, 1], [13, 16, 10], [20, 17, 15]])\n",
      "The message is: HELLO\n",
      "The encrypted message is: IZRQRO\n",
      "The decrypted message is: HELLOX\n"
     ]
    }
   ],
   "source": [
    "key_matrix = sp.Matrix([[6, 24, 1], [13, 16, 10], [20, 17, 15]])\n",
    "message = \"HELLO\"\n",
    "\n",
    "hill_cipher(key_matrix, message)"
   ]
  },
  {
   "metadata": {},
   "cell_type": "markdown",
   "source": [
    "### Explanation of the Hill Cipher Example\n",
    "\n",
    "Given the key matrix:\n",
    "\n",
    "$$\n",
    "K = \\begin{pmatrix}\n",
    "6 & 24 & 1 \\\\\n",
    "13 & 16 & 10 \\\\\n",
    "20 & 17 & 15\n",
    "\\end{pmatrix}\n",
    "$$\n",
    "\n",
    "and the message \"HELLO\":\n",
    "\n",
    "1. **Transformation of Letters to Numbers**:\n",
    "    - The message \"HELLO\" is padded to \"HELLOX\" to fit the matrix size.\n",
    "    - Convert letters to numbers:\n",
    "        \n",
    "    $$\n",
    "    \\text{H} = 7, \\ \\text{E} = 4, \\ \\text{L} = 11, \\ \\text{L} = 11, \\ \\text{O} = 14, \\ \\text{X} = 23\n",
    "    $$\n",
    "\n",
    "2. **Forming the Plaintext Vector**:\n",
    "    - Group the numbers into vectors of size 3 (matching the matrix size):\n",
    "        \n",
    "    $$\n",
    "    P = \\begin{pmatrix}\n",
    "    7 & 4 & 11 \\\\\n",
    "    11 & 14 & 23\n",
    "    \\end{pmatrix}\n",
    "    $$\n",
    "\n",
    "3. **Encryption Process**:\n",
    "    - Multiply each vector by the key matrix $K$ modulo 26:\n",
    "            \n",
    "    $$C = K \\cdot P \\mod 26$$\n",
    "    \n",
    "    - For the first vector $\\begin{pmatrix} 7 \\\\ 4 \\\\ 11 \\end{pmatrix}$:\n",
    "    \n",
    "        $$\n",
    "        \\begin{pmatrix}\n",
    "        6 & 24 & 1 \\\\\n",
    "        13 & 16 & 10 \\\\\n",
    "        20 & 17 & 15\n",
    "        \\end{pmatrix}\n",
    "        \\cdot\n",
    "        \\begin{pmatrix}\n",
    "        7 \\\\\n",
    "        4 \\\\\n",
    "        11\n",
    "        \\end{pmatrix}\n",
    "        \\mod 26 =\n",
    "        \\begin{pmatrix}\n",
    "        15 \\\\\n",
    "        25 \\\\\n",
    "        17\n",
    "        \\end{pmatrix}\n",
    "        $$\n",
    "\n",
    "    - Repeat for the second vector $\\begin{pmatrix} 11 \\\\ 14 \\\\ 23 \\end{pmatrix}$:\n",
    "        \n",
    "    $$\n",
    "    \\begin{pmatrix}\n",
    "    6 & 24 & 1 \\\\\n",
    "    13 & 16 & 10 \\\\\n",
    "    20 & 17 & 15\n",
    "    \\end{pmatrix}\n",
    "    \\cdot\n",
    "    \\begin{pmatrix}\n",
    "    11 \\\\\n",
    "    14 \\\\\n",
    "    23\n",
    "    \\end{pmatrix}\n",
    "    \\mod 26 =\n",
    "    \\begin{pmatrix}\n",
    "    17 \\\\\n",
    "    16 \\\\\n",
    "    14\n",
    "    \\end{pmatrix}\n",
    "    $$\n",
    "\n",
    "    - Combine results to get the ciphertext:\n",
    "    \n",
    "    $$\n",
    "    \\text{Ciphertext: } \\text{IZRQRO}\n",
    "    $$\n",
    "\n",
    "4. **Decryption Process**:\n",
    "    - Use the inverse of the key matrix $K^{-1}$ to decrypt. Multiply each ciphertext vector by $K^{-1}$ modulo 26 to retrieve the plaintext vectors.\n",
    "\n",
    "So, the message \"HELLO\" is encrypted as \"IZRQRO\" using the Hill cipher with the given key matrix.\n"
   ]
  },
  {
   "cell_type": "markdown",
   "metadata": {},
   "source": [
    "Here is the same matrix, this time with the plaintext `Why hello this is my message to you`, you'll notice the plain text returned is `WHYHELLOTHISISMYMESSAGETOYOUX`. The spaces are removed and the text is converted to uppercase, as well as the X added to the end to make the length a multiple of 3."
   ]
  },
  {
   "cell_type": "code",
   "execution_count": 76,
   "metadata": {},
   "outputs": [
    {
     "name": "stdout",
     "output_type": "stream",
     "text": [
      "The key matrix is: Matrix([[6, 24, 1], [13, 16, 10], [20, 17, 15]])\n",
      "The message is: Why hello this is my message to you\n",
      "The encrypted message is: MMCZOQESXDYXMXUNHELLEQADAAKYRL\n",
      "The decrypted message is: WHYHELLOTHISISMYMESSAGETOYOUXX\n"
     ]
    }
   ],
   "source": [
    "key_matrix = sp.Matrix([[6, 24, 1], [13, 16, 10], [20, 17, 15]])\n",
    "message = \"Why hello this is my message to you\"\n",
    "\n",
    "hill_cipher(key_matrix, message)"
   ]
  },
  {
   "cell_type": "markdown",
   "metadata": {},
   "source": [
    "## **3. Generating Invertible Key Matrix**\n",
    "\n",
    "---"
   ]
  },
  {
   "cell_type": "markdown",
   "metadata": {},
   "source": [
    "The following function generates an invertible key matrix for the Hill cipher. The matrix is generated by randomly selecting values between 0 and 25. The function checks if the matrix is invertible by calculating the determinant and checking if it is coprime with the length of the alphabet.\n",
    "\n",
    "We will also user the faker library to generate a random message for encrypting."
   ]
  },
  {
   "cell_type": "code",
   "execution_count": 77,
   "metadata": {},
   "outputs": [],
   "source": [
    "def generate_invertible_matrix_mod_26(size):\n",
    "    while True:\n",
    "        # Generate a random matrix with elements in the range [0, 25]\n",
    "        matrix_elements = [random.randint(0, 25) for _ in range(size * size)]\n",
    "        matrix = sp.Matrix(size, size, matrix_elements)\n",
    "        \n",
    "        # Check if the matrix is invertible modulo 26\n",
    "        if is_invertible_mod(matrix, 26):\n",
    "            return matrix\n",
    "\n",
    "def is_invertible_mod(matrix, mod):\n",
    "    try:\n",
    "        matrix.inv_mod(mod)\n",
    "        return True\n",
    "    except ValueError:\n",
    "        return False"
   ]
  },
  {
   "cell_type": "code",
   "execution_count": 78,
   "metadata": {},
   "outputs": [
    {
     "name": "stdout",
     "output_type": "stream",
     "text": [
      "Generated Invertible Matrix (mod 26):\n",
      "Matrix([[13, 1, 15], [8, 17, 6], [9, 4, 24]])\n"
     ]
    }
   ],
   "source": [
    "# Example usage\n",
    "size = 3  # Size of the matrix (e.g., 3x3)\n",
    "invertible_matrix = generate_invertible_matrix_mod_26(size)\n",
    "print(f\"Generated Invertible Matrix (mod 26):\\n{invertible_matrix}\")"
   ]
  },
  {
   "cell_type": "code",
   "execution_count": 84,
   "metadata": {},
   "outputs": [],
   "source": [
    "def random_message(n):\n",
    "    fake = faker.Faker()\n",
    "    return fake.text(max_nb_chars=n).upper()"
   ]
  },
  {
   "cell_type": "markdown",
   "metadata": {},
   "source": [
    "## **4. Hill Cipher with Random Key Matrix**\n",
    "\n",
    "---"
   ]
  },
  {
   "cell_type": "markdown",
   "metadata": {},
   "source": [
    "Now, we will use the Hill cipher with a randomly generated key matrix. We will encrypt and decrypt the plaintext thats randomly generated thanks to the `faker` library."
   ]
  },
  {
   "cell_type": "code",
   "execution_count": 90,
   "metadata": {},
   "outputs": [
    {
     "name": "stdout",
     "output_type": "stream",
     "text": [
      "The key matrix is: Matrix([[17, 13, 6], [2, 14, 15], [7, 8, 19]])\n",
      "The message is: GUESS ARGUE DEAL.\n",
      "The encrypted message is: QNQIKFAONPVOYBF\n",
      "The decrypted message is: GUESSARGUEDEALH\n",
      "CPU times: user 14.2 ms, sys: 15.1 ms, total: 29.3 ms\n",
      "Wall time: 28.2 ms\n"
     ]
    }
   ],
   "source": [
    "%%time\n",
    "size = 3\n",
    "key_matrix = generate_invertible_matrix_mod_26(size)\n",
    "message = random_message(20)\n",
    "\n",
    "hill_cipher(key_matrix, message)"
   ]
  },
  {
   "cell_type": "code",
   "execution_count": 91,
   "metadata": {},
   "outputs": [
    {
     "name": "stdout",
     "output_type": "stream",
     "text": [
      "The key matrix is: Matrix([[5, 22, 9, 9, 8, 15], [22, 20, 12, 7, 11, 11], [15, 0, 17, 13, 2, 4], [12, 23, 23, 2, 5, 21], [23, 22, 6, 19, 1, 23], [21, 17, 16, 7, 8, 3]])\n",
      "The message is: OK COLD MARKET STEP THOUSAND. SURFACE IF IF SUPPORT MARKET BUT. OF SHORT SEVERAL PURPOSE.\n",
      "The encrypted message is: BSXLWUFRHNQYZSTPRALYNMOXNBFRQBVTDNBYTXOMWAJBDFIYLDOVIRNTFGWJBGDMNGNJSBCDMTVRNO\n",
      "The decrypted message is: OKCOLDMARKETSTEPTHOUSANDHSURFACEIFIFSUPPORTMARKETBUTHOFSHORTSEVERALPURPOSEHXXX\n",
      "CPU times: user 130 ms, sys: 11.7 ms, total: 141 ms\n",
      "Wall time: 140 ms\n"
     ]
    }
   ],
   "source": [
    "%%time\n",
    "size = 6\n",
    "key_matrix = generate_invertible_matrix_mod_26(size)\n",
    "message = random_message(90)\n",
    "\n",
    "hill_cipher(key_matrix, message)"
   ]
  },
  {
   "cell_type": "code",
   "execution_count": 92,
   "metadata": {},
   "outputs": [
    {
     "name": "stdout",
     "output_type": "stream",
     "text": [
      "The key matrix is: Matrix([[1, 13, 15, 23, 7, 11, 16, 10, 24, 13, 8, 22], [9, 23, 10, 13, 5, 5, 21, 16, 6, 10, 13, 20], [5, 18, 8, 17, 17, 19, 20, 6, 20, 3, 22, 19], [9, 15, 5, 1, 12, 11, 21, 19, 24, 10, 9, 22], [17, 23, 21, 5, 10, 2, 8, 22, 2, 20, 20, 10], [22, 13, 23, 14, 19, 19, 3, 14, 11, 7, 13, 6], [22, 0, 6, 9, 9, 17, 5, 25, 18, 9, 16, 5], [22, 8, 24, 13, 10, 20, 21, 22, 7, 3, 16, 16], [15, 3, 17, 18, 1, 22, 0, 23, 24, 22, 24, 5], [0, 25, 4, 10, 25, 14, 15, 12, 25, 0, 2, 16], [0, 0, 24, 5, 17, 16, 3, 7, 24, 16, 11, 24], [1, 21, 16, 19, 2, 0, 11, 17, 20, 21, 24, 17]])\n",
      "The message is: LOOK SISTER MIND OPERATION TRIP BALL SING. TRUTH BOTH READ ITSELF EFFORT TO HAPPY.\n",
      "The encrypted message is: BRKRBFTCJBELNHVISTTWZWCPEJUMBCPYLDXJXLSOVAJUQOQESRVBZZPYGVHLPWKWIEEMPFJM\n",
      "The decrypted message is: LOOKSISTERMINDOPERATIONTRIPBALLSINGHTRUTHBOTHREADITSELFEFFORTTOHAPPYHXXX\n",
      "CPU times: user 1.7 s, sys: 9.16 ms, total: 1.71 s\n",
      "Wall time: 1.71 s\n"
     ]
    }
   ],
   "source": [
    "%%time\n",
    "size = 12\n",
    "key_matrix = generate_invertible_matrix_mod_26(size)\n",
    "message = random_message(90)\n",
    "\n",
    "hill_cipher(key_matrix, message)"
   ]
  },
  {
   "cell_type": "markdown",
   "metadata": {},
   "source": [
    "## **5. Comparing matrix size and Execution Time**\n",
    "\n",
    "--\n",
    "\n",
    "In the following two examples, both messages are 200 charcters long, however the first one uses a `5 x 5` matrix which takes `75ms` to encrypt and decrypt, while the second one uses a `15 x 15` matrix which takes `16.4s` to encrypt and decrypt. This shows the time difference between the matrix sizes."
   ]
  },
  {
   "cell_type": "code",
   "execution_count": 94,
   "metadata": {},
   "outputs": [
    {
     "name": "stdout",
     "output_type": "stream",
     "text": [
      "The key matrix is: Matrix([[0, 21, 11, 18, 18], [0, 20, 2, 24, 1], [22, 1, 4, 3, 15], [6, 12, 9, 18, 6], [15, 21, 1, 23, 9]])\n",
      "The message is: NATURAL FISH ITS MUST DESIGN. APPROACH COURT SAVE TALK RESOURCE MISSION FORGET PAPER. DREAM DOCTOR ELECTION FIGURE.\n",
      "NONE COMMERCIAL STUDY. CONDITION SHAKE EYE COLLEGE.\n",
      "The encrypted message is: YEHIYRGRUVIWWANEZPSORGBRIRYLGATWZSGTBWLAIDQTSCKEUGGMHZSWMZOCYQHVLYJEAUAMXIMXQEYICPNKJMYGSXXEBKGXVGVOZNTTYEGXEYLKJOZKVKMFEGIDEDJFFDABDATGVOELSTCYT\n",
      "The decrypted message is: NATURALFISHITSMUSTDESIGNHAPPROACHCOURTSAVETALKRESOURCEMISSIONFORGETPAPERHDREAMDOCTORELECTIONFIGUREHXNONECOMMERCIALSTUDYHCONDITIONSHAKEEYECOLLEGEH\n",
      "CPU times: user 69.2 ms, sys: 7.96 ms, total: 77.2 ms\n",
      "Wall time: 75.4 ms\n"
     ]
    }
   ],
   "source": [
    "%%time\n",
    "size = 5\n",
    "key_matrix = generate_invertible_matrix_mod_26(size)\n",
    "message = random_message(200)\n",
    "\n",
    "hill_cipher(key_matrix, message)"
   ]
  },
  {
   "cell_type": "code",
   "execution_count": 95,
   "metadata": {},
   "outputs": [
    {
     "name": "stdout",
     "output_type": "stream",
     "text": [
      "The key matrix is: Matrix([[9, 13, 17, 12, 4, 25, 9, 17, 22, 1, 8, 5, 23, 2, 14, 15, 2, 8, 13], [23, 1, 24, 15, 1, 23, 7, 2, 20, 20, 25, 8, 3, 4, 16, 13, 13, 3, 1], [5, 16, 0, 21, 5, 21, 5, 21, 16, 5, 2, 20, 9, 20, 8, 17, 17, 12, 9], [15, 4, 24, 16, 1, 5, 22, 15, 12, 0, 14, 12, 16, 13, 25, 23, 21, 19, 22], [2, 25, 3, 17, 20, 16, 15, 4, 22, 3, 7, 24, 21, 5, 5, 20, 5, 24, 3], [25, 0, 12, 22, 3, 16, 18, 19, 9, 6, 17, 9, 1, 15, 19, 22, 22, 10, 24], [6, 22, 19, 17, 0, 21, 8, 21, 16, 21, 10, 1, 0, 8, 2, 17, 24, 1, 0], [5, 5, 9, 11, 22, 21, 12, 14, 23, 12, 0, 10, 17, 4, 0, 7, 25, 2, 23], [8, 1, 14, 3, 22, 22, 16, 21, 7, 1, 19, 6, 1, 21, 16, 3, 13, 20, 12], [17, 17, 24, 2, 7, 5, 22, 12, 21, 0, 23, 8, 8, 14, 24, 12, 2, 12, 13], [15, 2, 21, 15, 3, 19, 11, 14, 8, 24, 1, 7, 18, 2, 18, 14, 8, 4, 17], [6, 19, 8, 0, 12, 1, 19, 19, 6, 16, 5, 4, 22, 14, 24, 7, 11, 25, 18], [0, 25, 18, 18, 1, 17, 19, 4, 2, 21, 8, 21, 0, 5, 23, 2, 4, 5, 21], [19, 16, 8, 0, 13, 0, 13, 23, 8, 12, 14, 23, 9, 21, 15, 19, 3, 0, 15], [16, 6, 19, 25, 4, 16, 3, 12, 7, 4, 9, 22, 19, 10, 5, 1, 14, 14, 11], [22, 13, 25, 2, 10, 16, 10, 20, 11, 7, 10, 20, 10, 12, 4, 16, 2, 14, 20], [19, 14, 18, 15, 21, 23, 14, 1, 16, 5, 8, 7, 0, 12, 2, 14, 11, 12, 0], [23, 15, 7, 6, 2, 22, 24, 11, 9, 19, 11, 24, 2, 4, 7, 20, 6, 6, 14], [8, 20, 20, 2, 25, 14, 11, 13, 21, 8, 21, 24, 10, 8, 25, 4, 11, 14, 12]])\n",
      "The message is: THE AT ACTUALLY LEVEL. SHAKE FEW VOTE BIT MEMORY.\n",
      "PARTICULARLY SIX ALWAYS INCLUDE MORE REPORT SEASON. PRODUCE HOTEL ADULT PLAN MILITARY HOLD POOR.\n",
      "The encrypted message is: ICYEZWDPPYXTDSARQUKHXKNQYUGWDCAIRAAAECKABXTWPZACGCIZKGNFTOWMWHBAJTMUJUHXOWIXLKRHOGBFPRGRIFLNJCALTEXNRRLPYQGFHADQVKRNMHJRPCCLQMTNQHZYR\n",
      "The decrypted message is: THEATACTUALLYLEVELHSHAKEFEWVOTEBITMEMORYHXPARTICULARLYSIXALWAYSINCLUDEMOREREPORTSEASONHPRODUCEHOTELADULTPLANMILITARYHOLDPOORHXXXXXXXX\n",
      "CPU times: user 16.4 s, sys: 17.9 ms, total: 16.4 s\n",
      "Wall time: 16.4 s\n"
     ]
    }
   ],
   "source": [
    "%%time\n",
    "size = 19\n",
    "key_matrix = generate_invertible_matrix_mod_26(size)\n",
    "message = random_message(200)\n",
    "\n",
    "hill_cipher(key_matrix, message)"
   ]
  }
 ],
 "metadata": {
  "kernelspec": {
   "display_name": "cryptography",
   "language": "python",
   "name": "python3"
  },
  "language_info": {
   "codemirror_mode": {
    "name": "ipython",
    "version": 3
   },
   "file_extension": ".py",
   "mimetype": "text/x-python",
   "name": "python",
   "nbconvert_exporter": "python",
   "pygments_lexer": "ipython3",
   "version": "3.12.3"
  }
 },
 "nbformat": 4,
 "nbformat_minor": 2
}
