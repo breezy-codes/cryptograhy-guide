{
 "cells": [
  {
   "cell_type": "code",
   "execution_count": null,
   "metadata": {},
   "outputs": [],
   "source": []
  },
  {
   "cell_type": "markdown",
   "metadata": {},
   "source": [
    "# Modular Arithmetic\n",
    "---\n",
    "\n",
    "Modular arithmetic is a system of arithmetic for integers, where numbers \"wrap around\" upon reaching a certain value called the modulus. It is a way to work with numbers that are too large to be represented in a computer's memory or too large to be manipulated using standard arithmetic operations. \n",
    "\n",
    "A great way to understand modular arithmetic is to think of a clock. The clock has 12 hours, and after 12 hours, it starts over at 1. This is an example of modular arithmetic with a modulus of 12."
   ]
  }
 ],
 "metadata": {
  "language_info": {
   "name": "python"
  }
 },
 "nbformat": 4,
 "nbformat_minor": 2
}
