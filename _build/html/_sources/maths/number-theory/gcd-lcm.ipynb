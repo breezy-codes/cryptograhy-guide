{
 "cells": [
  {
   "cell_type": "markdown",
   "metadata": {},
   "source": [
    "# **GCD and LCM**\n",
    "\n",
    "The Greatest Common Divisor (GCD) of two numbers is the largest positive integer that divides both numbers without leaving a remainder. The Least Common Multiple (LCM) of two numbers is the smallest positive integer that is divisible by both numbers.\n",
    "\n",
    "## Finding the GCD\n",
    "\n",
    "To find the GCD of two numbers $a$ and $b$, we can use the Euclidean Algorithm:\n",
    "\n",
    "1. **Divide $a$ by $b$**: Compute the quotient and remainder.\n",
    "2. **Replace $a$ with $b$ and $b$ with the remainder**: Repeat the process until the remainder is 0.\n",
    "3. **GCD is the last non-zero remainder**.\n",
    "\n",
    "## Finding the LCM\n",
    "\n",
    "To find the LCM of two numbers $a$ and $b$, we can use the relationship between GCD and LCM:\n",
    "\n",
    "$$\n",
    "\\text{LCM}(a, b) = \\frac{|a \\times b|}{\\text{GCD}(a, b)}\n",
    "$$\n"
   ]
  },
  {
   "cell_type": "code",
   "execution_count": null,
   "metadata": {},
   "outputs": [],
   "source": [
    "### Functions:"
   ]
  },
  {
   "cell_type": "code",
   "execution_count": null,
   "metadata": {
    "tags": [
     "hide-input"
    ]
   },
   "outputs": [],
   "source": [
    "import sympy as sp\n",
    "from sympy import *\n",
    "from math import gcd\n",
    "import random"
   ]
  },
  {
   "cell_type": "code",
   "execution_count": 3,
   "metadata": {},
   "outputs": [],
   "source": [
    "def find_gcd_lcm(a, b):\n",
    "    gcd = sp.gcd(a, b)\n",
    "    lcm = a * b // gcd\n",
    "    print(f\"GCD of {a} and {b} is {gcd}\")\n",
    "    print(f\"LCM of {a} and {b} is {lcm}\")"
   ]
  },
  {
   "cell_type": "markdown",
   "metadata": {},
   "source": [
    "### Examples:"
   ]
  },
  {
   "cell_type": "markdown",
   "metadata": {},
   "source": [
    "#### Finding the GCD and LCM of $44$ and $12$"
   ]
  },
  {
   "cell_type": "code",
   "execution_count": 4,
   "metadata": {},
   "outputs": [
    {
     "name": "stdout",
     "output_type": "stream",
     "text": [
      "GCD of 44 and 12 is 4\n",
      "LCM of 44 and 12 is 132\n"
     ]
    }
   ],
   "source": [
    "a = 44\n",
    "b = 12\n",
    "\n",
    "find_gcd_lcm(a, b)"
   ]
  },
  {
   "cell_type": "markdown",
   "metadata": {},
   "source": [
    "```{admonition} Explanation\n",
    ":class: tip\n",
    "\n",
    "To find the GCD of $44$ and $12$, we can use the Euclidean Algorithm:\n",
    "\n",
    "1. **Divide $44$ by $12$**:\n",
    "\n",
    "$$\n",
    "44 = 12 \\times 3 + 8\n",
    "$$\n",
    "\n",
    "2. **Replace $44$ with $12$ and $12$ with $8$**:\n",
    "\n",
    "$$\n",
    "12 = 8 \\times 1 + 4\n",
    "$$\n",
    "\n",
    "3. **Replace $12$ with $8$ and $8$ with $4$**:\n",
    "\n",
    "$$\n",
    "8 = 4 \\times 2 + 0\n",
    "$$\n",
    "\n",
    "4. **The GCD is the last non-zero remainder**:\n",
    "\n",
    "$$\n",
    "\\text{GCD}(44, 12) = 4\n",
    "$$\n",
    "\n",
    "#### Finding the LCM\n",
    "\n",
    "To find the LCM of $44$ and $12$, use the relationship between GCD and LCM:\n",
    "\n",
    "$$\n",
    "\\text{LCM}(44, 12) = \\frac{|44 \\times 12|}{\\text{GCD}(44, 12)} = \\frac{528}{4} = 132\n",
    "$$\n",
    "\n",
    "```"
   ]
  },
  {
   "cell_type": "markdown",
   "metadata": {},
   "source": [
    "#### Finding the GCD and LCM of $15$ and $25$"
   ]
  },
  {
   "cell_type": "code",
   "execution_count": 6,
   "metadata": {},
   "outputs": [
    {
     "name": "stdout",
     "output_type": "stream",
     "text": [
      "GCD of 15 and 25 is 5\n",
      "LCM of 15 and 25 is 75\n"
     ]
    }
   ],
   "source": [
    "a = 15\n",
    "b = 25\n",
    "\n",
    "find_gcd_lcm(a, b)"
   ]
  },
  {
   "cell_type": "markdown",
   "metadata": {},
   "source": [
    "```{admonition} Explanation\n",
    ":class: tip, dropdown\n",
    "\n",
    "To find the GCD of $15$ and $25$, we can use the Euclidean Algorithm:\n",
    "\n",
    "1. **Divide $25$ by $15$**:\n",
    "\n",
    "$$\n",
    "25 = 15 \\times 1 + 10\n",
    "$$\n",
    "\n",
    "2. **Replace $25$ with $15$ and $15$ with $10$**:\n",
    "\n",
    "$$\n",
    "15 = 10 \\times 1 + 5\n",
    "$$\n",
    "\n",
    "3. **Replace $15$ with $10$ and $10$ with $5$**:\n",
    "\n",
    "$$\n",
    "10 = 5 \\times 2 + 0\n",
    "$$\n",
    "\n",
    "4. **The GCD is the last non-zero remainder**:\n",
    "\n",
    "$$\n",
    "\\text{GCD}(15, 25) = 5\n",
    "$$\n",
    "\n",
    "#### Finding the LCM\n",
    "\n",
    "To find the LCM of $15$ and $25$, use the relationship between GCD and LCM:\n",
    "\n",
    "$$\n",
    "\\text{LCM}(15, 25) = \\frac{|15 \\times 25|}{\\text{GCD}(15, 25)} = \\frac{375}{5} = 75\n",
    "$$\n",
    "\n",
    "```"
   ]
  },
  {
   "cell_type": "markdown",
   "metadata": {},
   "source": [
    "#### Finding the GCD and LCM of $30$ and $45$"
   ]
  },
  {
   "cell_type": "code",
   "execution_count": null,
   "metadata": {},
   "outputs": [],
   "source": [
    "a = 30\n",
    "b = 45\n",
    "\n",
    "find_gcd_lcm(a, b)"
   ]
  },
  {
   "cell_type": "markdown",
   "metadata": {},
   "source": [
    "```{admonition} Explanation\n",
    ":class: tip, dropdown\n",
    "\n",
    "To find the GCD of $30$ and $45$, we can use the Euclidean Algorithm:\n",
    "\n",
    "1. **Divide $45$ by $30$**:\n",
    "\n",
    "$$\n",
    "45 = 30 \\times 1 + 15\n",
    "$$\n",
    "\n",
    "2. **Replace $45$ with $30$ and $30$ with $15$**:\n",
    "\n",
    "$$\n",
    "30 = 15 \\times 2 + 0\n",
    "$$\n",
    "\n",
    "3. **The GCD is the last non-zero remainder**:\n",
    "\n",
    "$$\n",
    "\\text{GCD}(30, 45) = 15\n",
    "$$\n",
    "\n",
    "#### Finding the LCM\n",
    "\n",
    "To find the LCM of $30$ and $45$, use the relationship between GCD and LCM:\n",
    "\n",
    "$$\n",
    "\\text{LCM}(30, 45) = \\frac{|30 \\times 45|}{\\text{GCD}(30, 45)} = \\frac{1350}{15} = 90\n",
    "$$\n",
    "\n",
    "```"
   ]
  },
  {
   "cell_type": "markdown",
   "metadata": {},
   "source": [
    "#### Finding the GCD and LCM of $21$ and $14$"
   ]
  },
  {
   "cell_type": "code",
   "execution_count": null,
   "metadata": {},
   "outputs": [],
   "source": [
    "a = 21\n",
    "b = 14\n",
    "\n",
    "find_gcd_lcm(a, b)"
   ]
  },
  {
   "cell_type": "markdown",
   "metadata": {},
   "source": [
    "```{admonition} Explanation\n",
    ":class: tip, dropdown\n",
    "\n",
    "To find the GCD of $21$ and $14$, we can use the Euclidean Algorithm:\n",
    "\n",
    "1. **Divide $21$ by $14$**:\n",
    "\n",
    "$$\n",
    "21 = 14 \\times 1 + 7\n",
    "$$\n",
    "\n",
    "2. **Replace $21$ with $14$ and $14$ with $7$**:\n",
    "\n",
    "$$\n",
    "14 = 7 \\times 2 + 0\n",
    "$$\n",
    "\n",
    "3. **The GCD is the last non-zero remainder**:\n",
    "\n",
    "$$\n",
    "\\text{GCD}(21, 14) = 7\n",
    "$$\n",
    "\n",
    "#### Finding the LCM\n",
    "\n",
    "To find the LCM of $21$ and $14$, use the relationship between GCD and LCM:\n",
    "\n",
    "$$\n",
    "\\text{LCM}(21, 14) = \\frac{|21 \\times 14|}{\\text{GCD}(21, 14)} = \\frac{294}{7} = 42\n",
    "$$\n",
    "\n",
    "```"
   ]
  }
 ],
 "metadata": {
  "kernelspec": {
   "display_name": "cryptography",
   "language": "python",
   "name": "python3"
  },
  "language_info": {
   "codemirror_mode": {
    "name": "ipython",
    "version": 3
   },
   "file_extension": ".py",
   "mimetype": "text/x-python",
   "name": "python",
   "nbconvert_exporter": "python",
   "pygments_lexer": "ipython3",
   "version": "3.12.3"
  }
 },
 "nbformat": 4,
 "nbformat_minor": 2
}
