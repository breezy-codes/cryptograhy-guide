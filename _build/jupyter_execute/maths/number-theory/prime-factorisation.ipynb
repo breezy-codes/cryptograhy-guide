{
 "cells": [
  {
   "cell_type": "markdown",
   "metadata": {},
   "source": [
    "# **Prime Factorisation**"
   ]
  },
  {
   "cell_type": "markdown",
   "metadata": {},
   "source": [
    "Prime factorisation is the process of breaking down a composite number into a product of prime numbers. The steps are as follows:\n",
    "\n",
    "## Steps: \n",
    "\n",
    "1. **Start with the smallest prime number**: Begin with the smallest prime number, which is 2.\n",
    "2. **Divide the number**: Divide the number by the prime number.\n",
    "3. **Check for divisibility**: If the number is divisible by the prime number, record the prime factor and divide the number by this prime factor.\n",
    "4. **Repeat the process**: Continue the process with the resulting quotient. If the quotient is no longer divisible by the current prime, move to the next larger prime number.\n",
    "5. **Continue until the quotient is 1**: Repeat the steps until the quotient becomes 1. The prime factors are all the prime numbers recorded during the division process.\n",
    "\n",
    "For a number $n$, the prime factorisation is:\n",
    "\n",
    "$$\n",
    "n = p_1^{e_1} \\times p_2^{e_2} \\times \\cdots \\times p_k^{e_k}\n",
    "$$\n",
    "\n",
    "where $p_1, p_2, \\ldots, p_k$ are prime numbers and $e_1, e_2, \\ldots, e_k$ are their respective exponents.\n"
   ]
  },
  {
   "cell_type": "markdown",
   "metadata": {},
   "source": [
    "## Functions for Finding Factors and Prime Factors"
   ]
  },
  {
   "cell_type": "code",
   "execution_count": null,
   "metadata": {
    "tags": [
     "hide-input"
    ]
   },
   "outputs": [],
   "source": [
    "import sympy as sp\n",
    "from sympy import *\n",
    "from math import gcd\n",
    "import random"
   ]
  },
  {
   "cell_type": "code",
   "execution_count": 2,
   "metadata": {},
   "outputs": [],
   "source": [
    "def find_factors(n):\n",
    "    factors = []\n",
    "    for i in range(1, n + 1):\n",
    "        if n % i == 0:\n",
    "            factors.append(i)\n",
    "    print(f\"Factors of {n} are: {factors}\")\n",
    "    \n",
    "def find_prime_factors(n):\n",
    "    factors = []\n",
    "    for i in range(1, n + 1):\n",
    "        if n % i == 0 and sympy.isprime(i):\n",
    "            factors.append(i)\n",
    "    print(f\"Prime factors of {n} are: {factors}\")\n",
    "    "
   ]
  },
  {
   "cell_type": "markdown",
   "metadata": {},
   "source": [
    "## Examples"
   ]
  },
  {
   "cell_type": "markdown",
   "metadata": {},
   "source": [
    "### Example with the number $12$"
   ]
  },
  {
   "cell_type": "code",
   "execution_count": 3,
   "metadata": {},
   "outputs": [
    {
     "name": "stdout",
     "output_type": "stream",
     "text": [
      "Factors of 12 are: [1, 2, 3, 4, 6, 12]\n",
      "Prime factors of 12 are: [2, 3]\n"
     ]
    }
   ],
   "source": [
    "n = 12\n",
    "find_factors(n)\n",
    "find_prime_factors(n)"
   ]
  },
  {
   "cell_type": "markdown",
   "metadata": {},
   "source": [
    "```{admonition} Explanation\n",
    ":class: tip\n",
    "\n",
    "**Factors of $12$**\n",
    "\n",
    "For $12$:\n",
    "- **1 divides 12**: $12 \\div 1 = 12$\n",
    "\n",
    "- **2 divides 12**: $12 \\div 2 = 6$\n",
    "\n",
    "- **3 divides 12**: $12 \\div 3 = 4$\n",
    "\n",
    "- **4 divides 12**: $12 \\div 4 = 3$\n",
    "\n",
    "- **6 divides 12**: $12 \\div 6 = 2$\n",
    "\n",
    "- **12 divides 12**: $12 \\div 12 = 1$\n",
    "\n",
    "\n",
    "The factors of $12$ are:\n",
    "\n",
    "$$\n",
    "[1, 2, 3, 4, 6, 12]\n",
    "$$\n",
    "\n",
    "**Prime Factors of $12$**\n",
    "\n",
    "Prime factors are the prime numbers that multiply together to give the original number. To find the prime factors of $12$, we start with the smallest prime number and divide $12$ by prime numbers until we cannot divide further.\n",
    "\n",
    "1. **Divide by the smallest prime number $(2)$**:\n",
    "\n",
    "$$\n",
    "12 \\div 2 = 6 \\quad \\text{(prime factor: 2)}\n",
    "$$\n",
    "\n",
    "2. **Continue dividing by $2$**:\n",
    "\n",
    "$$\n",
    "6 \\div 2 = 3 \\quad \\text{(prime factor: 2)}\n",
    "$$\n",
    "\n",
    "3. **$3$ is a prime number**:\n",
    "\n",
    "$$\n",
    "3 \\div 3 = 1 \\quad \\text{(prime factor: 3)}\n",
    "$$\n",
    "\n",
    "The prime factors of $12$ are:\n",
    "\n",
    "$$\n",
    "[2, 2, 3] \\quad \\text{or} \\quad 2^2 \\times 3\n",
    "$$\n",
    "\n",
    "```"
   ]
  },
  {
   "cell_type": "markdown",
   "metadata": {},
   "source": [
    "### Example with the number $88$"
   ]
  },
  {
   "cell_type": "code",
   "execution_count": 15,
   "metadata": {},
   "outputs": [
    {
     "name": "stdout",
     "output_type": "stream",
     "text": [
      "Factors of 88 are: [1, 2, 4, 8, 11, 22, 44, 88]\n",
      "Prime factors of 88 are: [2, 11]\n"
     ]
    }
   ],
   "source": [
    "n = 88\n",
    "find_factors(n)\n",
    "find_prime_factors(n)"
   ]
  },
  {
   "cell_type": "markdown",
   "metadata": {},
   "source": [
    "```{admonition} Explanation\n",
    ":class: tip, dropdown\n",
    "\n",
    "**Factors of $88$**\n",
    "\n",
    "For $88$:\n",
    "- **1 divides 88**: $88 \\div 1 = 88$\n",
    "\n",
    "- **2 divides 88**: $88 \\div 2 = 44$\n",
    "\n",
    "- **4 divides 88**: $88 \\div 4 = 22$\n",
    "\n",
    "- **8 divides 88**: $88 \\div 8 = 11$\n",
    "\n",
    "- **11 divides 88**: $88 \\div 11 = 8$\n",
    "\n",
    "- **22 divides 88**: $88 \\div 22 = 4$\n",
    "\n",
    "- **44 divides 88**: $88 \\div 44 = 2$\n",
    "\n",
    "- **88 divides 88**: $88 \\div 88 = 1$\n",
    "\n",
    "The factors of $88$ are:\n",
    "\n",
    "$$\n",
    "[1, 2, 4, 8, 11, 22, 44, 88]\n",
    "$$\n",
    "\n",
    "**Prime Factors of $88$**\n",
    "\n",
    "Prime factors are the prime numbers that multiply together to give the original number. To find the prime factors of $88$, we start with the smallest prime number and divide $88$ by prime numbers until we cannot divide further.\n",
    "\n",
    "1. **Divide by the smallest prime number $(2)$**:\n",
    "\n",
    "$$\n",
    "88 \\div 2 = 44 \\quad \\text{(prime factor: 2)}\n",
    "$$\n",
    "\n",
    "2. **Continue dividing by $2$**:\n",
    "\n",
    "$$\n",
    "44 \\div 2 = 22 \\quad \\text{(prime factor: 2)}\n",
    "$$\n",
    "\n",
    "3. **Continue dividing by $2$**:\n",
    "\n",
    "$$\n",
    "22 \\div 2 = 11 \\quad \\text{(prime factor: 2)}\n",
    "$$\n",
    "\n",
    "4. **$11$ is a prime number**:\n",
    "\n",
    "$$\n",
    "11 \\div 11 = 1 \\quad \\text{(prime factor: 11)}\n",
    "$$\n",
    "\n",
    "The prime factors of $88$ are:\n",
    "\n",
    "$$\n",
    "[2, 2, 2, 11] \\quad \\text{or} \\quad 2^3 \\times 11\n",
    "$$\n",
    "```"
   ]
  },
  {
   "cell_type": "markdown",
   "metadata": {},
   "source": [
    "### Example with the number $138$"
   ]
  },
  {
   "cell_type": "code",
   "execution_count": 18,
   "metadata": {},
   "outputs": [
    {
     "name": "stdout",
     "output_type": "stream",
     "text": [
      "Factors of 138 are: [1, 2, 3, 6, 23, 46, 69, 138]\n",
      "Prime factors of 138 are: [2, 3, 23]\n"
     ]
    }
   ],
   "source": [
    "n = 138\n",
    "find_factors(n)\n",
    "find_prime_factors(n)"
   ]
  },
  {
   "cell_type": "markdown",
   "metadata": {},
   "source": [
    "```{admonition} Explanation\n",
    ":class: tip, dropdown\n",
    "\n",
    "**Factors of $138$**\n",
    "\n",
    "For $138$:\n",
    "- **1 divides 138**: $138 \\div 1 = 138$\n",
    "\n",
    "- **2 divides 138**: $138 \\div 2 = 69$\n",
    "\n",
    "- **3 divides 138**: $138 \\div 3 = 46$\n",
    "\n",
    "- **6 divides 138**: $138 \\div 6 = 23$\n",
    "\n",
    "- **23 divides 138**: $138 \\div 23 = 6$\n",
    "\n",
    "- **46 divides 138**: $138 \\div 46 = 3$\n",
    "\n",
    "- **69 divides 138**: $138 \\div 69 = 2$\n",
    "\n",
    "- **138 divides 138**: $138 \\div 138 = 1$\n",
    "\n",
    "The factors of $138$ are:\n",
    "\n",
    "$$\n",
    "[1, 2, 3, 6, 23, 46, 69, 138]\n",
    "$$\n",
    "\n",
    "**Prime Factors of $138$**\n",
    "\n",
    "Prime factors are the prime numbers that multiply together to give the original number. To find the prime factors of $138$, we start with the smallest prime number and divide $138$ by prime numbers until we cannot divide further.\n",
    "\n",
    "1. **Divide by the smallest prime number $(2)$**:\n",
    "\n",
    "$$\n",
    "138 \\div 2 = 69 \\quad \\text{(prime factor: 2)}\n",
    "$$\n",
    "\n",
    "2. **Move to the next prime number $(3)$**:\n",
    "\n",
    "$$\n",
    "69 \\div 3 = 23 \\quad \\text{(prime factor: 3)}\n",
    "$$\n",
    "\n",
    "3. **$23$ is a prime number**:\n",
    "\n",
    "$$\n",
    "23 \\div 23 = 1 \\quad \\text{(prime factor: 23)}\n",
    "$$\n",
    "\n",
    "The prime factors of $138$ are:\n",
    "$$\n",
    "[2, 3, 23]\n",
    "$$"
   ]
  },
  {
   "cell_type": "markdown",
   "metadata": {},
   "source": [
    "## **Example with randomly generating a number**"
   ]
  },
  {
   "cell_type": "code",
   "execution_count": 6,
   "metadata": {},
   "outputs": [
    {
     "name": "stdout",
     "output_type": "stream",
     "text": [
      "Factors of 750 are: [1, 2, 3, 5, 6, 10, 15, 25, 30, 50, 75, 125, 150, 250, 375, 750]\n",
      "Prime factors of 750 are: [2, 3, 5]\n"
     ]
    }
   ],
   "source": [
    "n = random.randint(100, 1000)\n",
    "find_factors(n)\n",
    "find_prime_factors(n)"
   ]
  },
  {
   "cell_type": "code",
   "execution_count": 7,
   "metadata": {},
   "outputs": [
    {
     "name": "stdout",
     "output_type": "stream",
     "text": [
      "Factors of 3820 are: [1, 2, 4, 5, 10, 20, 191, 382, 764, 955, 1910, 3820]\n",
      "Prime factors of 3820 are: [2, 5, 191]\n"
     ]
    }
   ],
   "source": [
    "n = random.randint(1000, 10000)\n",
    "find_factors(n)\n",
    "find_prime_factors(n)"
   ]
  },
  {
   "cell_type": "code",
   "execution_count": 8,
   "metadata": {},
   "outputs": [
    {
     "name": "stdout",
     "output_type": "stream",
     "text": [
      "Factors of 32130 are: [1, 2, 3, 5, 6, 7, 9, 10, 14, 15, 17, 18, 21, 27, 30, 34, 35, 42, 45, 51, 54, 63, 70, 85, 90, 102, 105, 119, 126, 135, 153, 170, 189, 210, 238, 255, 270, 306, 315, 357, 378, 459, 510, 595, 630, 714, 765, 918, 945, 1071, 1190, 1530, 1785, 1890, 2142, 2295, 3213, 3570, 4590, 5355, 6426, 10710, 16065, 32130]\n",
      "Prime factors of 32130 are: [2, 3, 5, 7, 17]\n"
     ]
    }
   ],
   "source": [
    "n = random.randint(10000, 100000)\n",
    "find_factors(n)\n",
    "find_prime_factors(n)"
   ]
  }
 ],
 "metadata": {
  "kernelspec": {
   "display_name": "cryptography",
   "language": "python",
   "name": "python3"
  },
  "language_info": {
   "codemirror_mode": {
    "name": "ipython",
    "version": 3
   },
   "file_extension": ".py",
   "mimetype": "text/x-python",
   "name": "python",
   "nbconvert_exporter": "python",
   "pygments_lexer": "ipython3",
   "version": "3.12.3"
  }
 },
 "nbformat": 4,
 "nbformat_minor": 2
}