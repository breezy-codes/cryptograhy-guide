{
 "cells": [
  {
   "cell_type": "markdown",
   "metadata": {},
   "source": [
    "# **Fermat's Little Theorem**\n",
    "\n",
    "Fermat's Little Theorem states that if $p$ is a prime number and $a$ is an integer not divisible by $p$, then:\n",
    "\n",
    "$$\n",
    "a^{p-1} \\equiv 1 \\mod p\n",
    "$$\n",
    "\n",
    "This theorem is used in number theory and cryptography. It can be used to compute large powers modulo a prime number efficiently.\n",
    "\n",
    "The steps to apply Fermat's Little Theorem are as follows:\n",
    "\n",
    "1. **Ensure $p$ is prime**: Verify that $p$ is a prime number.\n",
    "2. **Ensure $a$ is not divisible by $p$**: Check that $a$ is an integer not divisible by $p$.\n",
    "3. **Apply the theorem**: Compute $a^{p-1} \\mod p$.\n",
    "\n",
    "For example, to compute $3^{6} \\mod 7$:\n",
    "1. $p = 7$ is prime.\n",
    "2. $a = 3$ is not divisible by 7.\n",
    "3. Apply the theorem: $3^{7-1} \\equiv 1 \\mod 7$\n",
    "4. $3^{6} \\mod 7 = 1$\n",
    "\n",
    "Therefore, $3^{6} \\equiv 1 \\mod 7$."
   ]
  },
  {
   "cell_type": "code",
   "execution_count": 2,
   "metadata": {
    "tags": [
     "hide-input"
    ]
   },
   "outputs": [],
   "source": [
    "import sympy as sp\n",
    "from sympy import *\n",
    "from math import gcd\n",
    "import random"
   ]
  },
  {
   "cell_type": "markdown",
   "metadata": {},
   "source": [
    "## Implementation:"
   ]
  },
  {
   "cell_type": "code",
   "execution_count": 40,
   "metadata": {},
   "outputs": [],
   "source": [
    "def check_congruence(a, n):\n",
    "    if pow(a, n-1, n) == 1 % n:\n",
    "        print(f\"true, {n} is congruent with base {a}.\")\n",
    "    else:\n",
    "        print(f\"false, {n} is not congruent with base {a}.\")\n",
    "        \n",
    "def fermats_test(n, a):\n",
    "    if pow(a, n-1, n) == 1:\n",
    "        return True\n",
    "    else:\n",
    "        return False"
   ]
  },
  {
   "cell_type": "markdown",
   "metadata": {},
   "source": [
    "## Examples:"
   ]
  },
  {
   "cell_type": "markdown",
   "metadata": {},
   "source": [
    "### Checking $91$ and $3$ for Fermat's Little Theorem:"
   ]
  },
  {
   "cell_type": "code",
   "execution_count": 41,
   "metadata": {},
   "outputs": [
    {
     "name": "stdout",
     "output_type": "stream",
     "text": [
      "true, 91 is congruent with base 3.\n",
      "91 is probably prime.\n",
      "CPU times: user 65 μs, sys: 14 μs, total: 79 μs\n",
      "Wall time: 69.1 μs\n"
     ]
    }
   ],
   "source": [
    "%%time\n",
    "\n",
    "n = 91\n",
    "a = 3\n",
    "\n",
    "check_congruence(a, n)\n",
    "\n",
    "if fermats_test(n, a):\n",
    "    print(f\"{n} is probably prime.\")\n",
    "else:\n",
    "    print(f\"{n} is composite.\")"
   ]
  },
  {
   "cell_type": "markdown",
   "metadata": {},
   "source": [
    "```{admonition} Explanation\n",
    ":class: tip\n",
    "\n",
    "#### Testing if 91 is Prime with Base 3\n",
    "\n",
    "Using Fermat's Little Theorem:\n",
    "\n",
    "$$\n",
    "3^{90} \\mod 91\n",
    "$$\n",
    "\n",
    "Calculate $3^{90} \\mod 91$:\n",
    "\n",
    "$$\n",
    "3^{90} \\equiv 1 \\mod 91\n",
    "$$\n",
    "\n",
    "Since the congruence holds true, 91 is probably prime.\n",
    "\n",
    "**Result**:\n",
    "- True, 91 is congruent with base 3.\n",
    "- 91 is probably prime.\n",
    "```"
   ]
  },
  {
   "cell_type": "markdown",
   "metadata": {},
   "source": [
    "### Checking $88$ and $6$ for Fermat's Little Theorem:"
   ]
  },
  {
   "cell_type": "code",
   "execution_count": 42,
   "metadata": {},
   "outputs": [
    {
     "name": "stdout",
     "output_type": "stream",
     "text": [
      "false, 88 is not congruent with base 6.\n",
      "88 is composite.\n",
      "CPU times: user 64 μs, sys: 13 μs, total: 77 μs\n",
      "Wall time: 68.2 μs\n"
     ]
    }
   ],
   "source": [
    "%%time\n",
    "\n",
    "n = 88\n",
    "a = 6\n",
    "\n",
    "check_congruence(a,n)\n",
    "\n",
    "if fermats_test(n, a):\n",
    "    print(f\"{n} is probably prime.\")\n",
    "else:\n",
    "    print(f\"{n} is composite.\")"
   ]
  },
  {
   "cell_type": "markdown",
   "metadata": {},
   "source": [
    "```{admonition} Explanation\n",
    ":class: tip, dropdown\n",
    "\n",
    "#### Testing if 88 is Prime with Base 6\n",
    "\n",
    "Using Fermat's Little Theorem:\n",
    "\n",
    "$$\n",
    "6^{87} \\mod 88\n",
    "$$\n",
    "\n",
    "Calculate $6^{87} \\mod 88$:\n",
    "\n",
    "$$\n",
    "6^{87} \\not\\equiv 1 \\mod 88\n",
    "$$\n",
    "\n",
    "Since the congruence does not hold true, 88 is composite.\n",
    "\n",
    "**Result**:\n",
    "- False, 88 is not congruent with base 6.\n",
    "- 88 is composite.\n",
    "```"
   ]
  },
  {
   "cell_type": "markdown",
   "metadata": {},
   "source": [
    "### Checking $104729$ and $2$ for Fermat's Little Theorem:"
   ]
  },
  {
   "cell_type": "code",
   "execution_count": 43,
   "metadata": {},
   "outputs": [
    {
     "name": "stdout",
     "output_type": "stream",
     "text": [
      "true, 104729 is congruent with base 2.\n",
      "104729 is probably prime.\n",
      "CPU times: user 76 μs, sys: 0 ns, total: 76 μs\n",
      "Wall time: 68.9 μs\n"
     ]
    }
   ],
   "source": [
    "%%time\n",
    "\n",
    "n = 104729\n",
    "a = 2\n",
    "\n",
    "check_congruence(a,n)\n",
    "\n",
    "if fermats_test(n, a):\n",
    "    print(f\"{n} is probably prime.\")\n",
    "else:\n",
    "    print(f\"{n} is composite.\")"
   ]
  },
  {
   "cell_type": "markdown",
   "metadata": {},
   "source": [
    "```{admonition} Explanation\n",
    ":class: tip, dropdown\n",
    "\n",
    "#### Testing if 104729 is Prime with Base 2\n",
    "\n",
    "Using Fermat's Little Theorem:\n",
    "\n",
    "$$\n",
    "2^{104728} \\mod 104729\n",
    "$$\n",
    "\n",
    "Calculate $2^{104728} \\mod 104729$:\n",
    "\n",
    "$$\n",
    "2^{104728} \\equiv 1 \\mod 104729\n",
    "$$\n",
    "\n",
    "Since the congruence holds true, 104729 is probably prime.\n",
    "\n",
    "**Result**:\n",
    "- True, 104729 is congruent with base 2.\n",
    "- 104729 is probably prime.\n",
    "```"
   ]
  }
 ],
 "metadata": {
  "kernelspec": {
   "display_name": "cryptography",
   "language": "python",
   "name": "python3"
  },
  "language_info": {
   "codemirror_mode": {
    "name": "ipython",
    "version": 3
   },
   "file_extension": ".py",
   "mimetype": "text/x-python",
   "name": "python",
   "nbconvert_exporter": "python",
   "pygments_lexer": "ipython3",
   "version": "3.12.3"
  }
 },
 "nbformat": 4,
 "nbformat_minor": 2
}