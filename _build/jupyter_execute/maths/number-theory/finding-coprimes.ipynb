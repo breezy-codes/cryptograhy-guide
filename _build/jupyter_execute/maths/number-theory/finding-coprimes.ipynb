{
 "cells": [
  {
   "cell_type": "markdown",
   "metadata": {},
   "source": [
    "# **Finding Coprimes**\n",
    "\n",
    "Two numbers $a$ and $b$ are said to be coprime (or relatively prime) if their greatest common divisor (gcd) is 1. This means they have no common prime factors.\n",
    "\n",
    "The steps to determine if two numbers are coprime are as follows:\n",
    "\n",
    "1. **Find the prime factors**: Determine the prime factors of both $a$ and $b$.\n",
    "2. **Check common factors**: Check if there are any common prime factors.\n",
    "3. **Compute gcd**: Use the Euclidean algorithm to find the gcd of $a$ and $b$. If $\\text{gcd}(a, b) = 1$, then $a$ and $b$ are coprime.\n",
    "\n",
    "For example, to check if 14 and 15 are coprime:\n",
    "1. Prime factors of 14: $2, 7$\n",
    "2. Prime factors of 15: $3, 5$\n",
    "3. No common prime factors.\n",
    "4. $\\text{gcd}(14, 15) = 1$\n",
    "5. Therefore, 14 and 15 are coprime.\n"
   ]
  },
  {
   "cell_type": "markdown",
   "metadata": {},
   "source": [
    "## **Finding the Coprime Pair**\n",
    "\n",
    "To find a coprime pair, we can generate two random numbers and check if they are coprime using the method described above. If the numbers are coprime it will output true, otherwise it will output false."
   ]
  },
  {
   "cell_type": "code",
   "execution_count": null,
   "metadata": {
    "tags": [
     "hide-input"
    ]
   },
   "outputs": [],
   "source": [
    "import sympy as sp\n",
    "from sympy import *\n",
    "from math import gcd\n",
    "import random"
   ]
  },
  {
   "cell_type": "code",
   "execution_count": 56,
   "metadata": {},
   "outputs": [],
   "source": [
    "def are_coprime(p, q):\n",
    "    if sp.gcd(p, q) == 1:\n",
    "        return True\n",
    "    else:\n",
    "        return False"
   ]
  },
  {
   "cell_type": "markdown",
   "metadata": {},
   "source": [
    "### Examples:"
   ]
  },
  {
   "cell_type": "markdown",
   "metadata": {},
   "source": [
    "#### Checking $44$ and $10$ for coprimality:"
   ]
  },
  {
   "cell_type": "code",
   "execution_count": 63,
   "metadata": {},
   "outputs": [
    {
     "data": {
      "text/plain": [
       "False"
      ]
     },
     "execution_count": 63,
     "metadata": {},
     "output_type": "execute_result"
    }
   ],
   "source": [
    "p = 44\n",
    "q = 10\n",
    "are_coprime(p,q)"
   ]
  },
  {
   "cell_type": "markdown",
   "metadata": {},
   "source": [
    "```{admonition} Explanation\n",
    ":class: tip\n",
    "\n",
    "Two numbers $a$ and $b$ are said to be coprime (or relatively prime) if their greatest common divisor (gcd) is 1. This means they have no common prime factors.\n",
    "\n",
    "To determine if 44 and 10 are coprime, follow these steps:\n",
    "\n",
    "1. **Find the prime factors**:\n",
    "    - Prime factors of 44: $2, 11$\n",
    "    - Prime factors of 10: $2, 5$\n",
    "\n",
    "2. **Check common factors**:\n",
    "    - Common prime factor: $2$\n",
    "\n",
    "3. **Compute gcd using the Euclidean Algorithm**:\n",
    "    - Apply the Euclidean algorithm to find $\\text{gcd}(44, 10)$:\n",
    "\n",
    "    $$\n",
    "    \\begin{aligned}\n",
    "    44 &= 10 \\times 4 + 4 \\\\\n",
    "    10 &= 4 \\times 2 + 2 \\\\\n",
    "    4 &= 2 \\times 2 + 0\n",
    "    \\end{aligned}\n",
    "    $$\n",
    "    \n",
    "    - The gcd is the last non-zero remainder:\n",
    "    \n",
    "    $$\n",
    "    \\text{gcd}(44, 10) = 2\n",
    "    $$\n",
    "\n",
    "Since $\\text{gcd}(44, 10) \\neq 1$, 44 and 10 are not coprime.\n",
    "```"
   ]
  },
  {
   "cell_type": "markdown",
   "metadata": {},
   "source": [
    "#### Checking $12$ and $25$ for coprimality:"
   ]
  },
  {
   "cell_type": "code",
   "execution_count": 65,
   "metadata": {},
   "outputs": [
    {
     "data": {
      "text/plain": [
       "True"
      ]
     },
     "execution_count": 65,
     "metadata": {},
     "output_type": "execute_result"
    }
   ],
   "source": [
    "p = 12\n",
    "q = 25\n",
    "are_coprime(p,q)"
   ]
  },
  {
   "cell_type": "markdown",
   "metadata": {},
   "source": [
    "```{admonition} Explanation\n",
    ":class: tip, dropdown\n",
    "Two numbers $a$ and $b$ are said to be coprime (or relatively prime) if their greatest common divisor (gcd) is 1. This means they have no common prime factors.\n",
    "\n",
    "To determine if 12 and 25 are coprime, follow these steps:\n",
    "\n",
    "1. **Find the prime factors**:\n",
    "    - Prime factors of 12: $2, 3$\n",
    "    - Prime factors of 25: $5$\n",
    "\n",
    "2. **Check common factors**:\n",
    "    - There are no common prime factors.\n",
    "\n",
    "3. **Compute gcd using the Euclidean Algorithm**:\n",
    "    - Apply the Euclidean algorithm to find $\\text{gcd}(12, 25)$:\n",
    "\n",
    "    $$\n",
    "    \\begin{aligned}\n",
    "    25 &= 12 \\times 2 + 1 \\\\\n",
    "    12 &= 1 \\times 12 + 0\n",
    "    \\end{aligned}\n",
    "    $$\n",
    "\n",
    "    - The gcd is the last non-zero remainder:\n",
    "    \n",
    "    $$\n",
    "    \\text{gcd}(12, 25) = 1\n",
    "    $$\n",
    "\n",
    "Since $\\text{gcd}(12, 25) = 1$, 12 and 25 are coprime.\n",
    "\n",
    "```"
   ]
  },
  {
   "cell_type": "markdown",
   "metadata": {},
   "source": [
    "#### Checking $18$ and $24$ for coprimality:"
   ]
  },
  {
   "cell_type": "code",
   "execution_count": 68,
   "metadata": {},
   "outputs": [
    {
     "data": {
      "text/plain": [
       "False"
      ]
     },
     "execution_count": 68,
     "metadata": {},
     "output_type": "execute_result"
    }
   ],
   "source": [
    "p = 18\n",
    "q = 24\n",
    "are_coprime(p,q)"
   ]
  },
  {
   "cell_type": "markdown",
   "metadata": {},
   "source": [
    "```{admonition} Explanation\n",
    ":class: tip, dropdown\n",
    "\n",
    "Two numbers $a$ and $b$ are said to be coprime (or relatively prime) if their greatest common divisor (gcd) is 1. This means they have no common prime factors.\n",
    "\n",
    "To determine if 18 and 24 are coprime, follow these steps:\n",
    "\n",
    "1. **Find the prime factors**:\n",
    "    - Prime factors of 18: $2, 3$\n",
    "    - Prime factors of 24: $2, 3$\n",
    "\n",
    "2. **Check common factors**:\n",
    "    - Common prime factors: $2, 3$\n",
    "\n",
    "3. **Compute gcd using the Euclidean Algorithm**:\n",
    "    - Apply the Euclidean algorithm to find $\\text{gcd}(18, 24)$:\n",
    "\n",
    "    $$\n",
    "    \\begin{aligned}\n",
    "    24 &= 18 \\times 1 + 6 \\\\\n",
    "    18 &= 6 \\times 3 + 0\n",
    "    \\end{aligned}\n",
    "    $$\n",
    "\n",
    "    - The gcd is the last non-zero remainder:\n",
    "    \n",
    "    $$\n",
    "    \\text{gcd}(18, 24) = 6\n",
    "    $$\n",
    "\n",
    "Since $\\text{gcd}(18, 24) \\neq 1$, 18 and 24 are not coprime.\n",
    "```"
   ]
  },
  {
   "cell_type": "markdown",
   "metadata": {},
   "source": [
    "## **Listing the coprimes of a number**\n",
    "\n",
    "To list the coprimes of a number, we can use the following function. This function will list all the coprimes of a given number."
   ]
  },
  {
   "cell_type": "code",
   "execution_count": 47,
   "metadata": {},
   "outputs": [],
   "source": [
    "def list_coprimes(a, n):\n",
    "    coprimes = []\n",
    "    while len(coprimes) < n:\n",
    "        b = random.randint(2, a - 1)\n",
    "        if sp.gcd(a, b) == 1 and b not in coprimes:\n",
    "            coprimes.append(b)\n",
    "    return coprimes"
   ]
  },
  {
   "cell_type": "markdown",
   "metadata": {},
   "source": [
    "### Finding the coprimes of $44$"
   ]
  },
  {
   "cell_type": "code",
   "execution_count": 48,
   "metadata": {},
   "outputs": [
    {
     "name": "stdout",
     "output_type": "stream",
     "text": [
      "10 numbers coprime with 44 are: [19, 13, 43, 39, 29, 23, 21, 5, 25, 37]\n",
      "CPU times: user 4.39 ms, sys: 68 μs, total: 4.46 ms\n",
      "Wall time: 4.36 ms\n"
     ]
    }
   ],
   "source": [
    "%%time\n",
    "\n",
    "a = 44\n",
    "n = 10\n",
    "coprimes = find_coprimes(a, n)\n",
    "print(f\"{n} numbers coprime with {a} are: {coprimes}\")"
   ]
  },
  {
   "cell_type": "markdown",
   "metadata": {},
   "source": [
    "### Finding the coprimes of $235319$"
   ]
  },
  {
   "cell_type": "code",
   "execution_count": 49,
   "metadata": {},
   "outputs": [
    {
     "name": "stdout",
     "output_type": "stream",
     "text": [
      "15 numbers coprime with 235319 are: [163414, 157744, 11463, 140811, 32392, 44937, 12774, 150809, 126921, 37073, 148998, 153702, 140029, 32500, 23621]\n",
      "CPU times: user 2.74 ms, sys: 0 ns, total: 2.74 ms\n",
      "Wall time: 2.74 ms\n"
     ]
    }
   ],
   "source": [
    "%%time\n",
    "\n",
    "a = 235319\n",
    "n = 15\n",
    "coprimes = find_coprimes(a, n)\n",
    "print(f\"{n} numbers coprime with {a} are: {coprimes}\")"
   ]
  },
  {
   "cell_type": "markdown",
   "metadata": {},
   "source": [
    "### Finding the coprimes of $80748256$"
   ]
  },
  {
   "cell_type": "code",
   "execution_count": 50,
   "metadata": {},
   "outputs": [
    {
     "name": "stdout",
     "output_type": "stream",
     "text": [
      "20 numbers coprime with 80748256 are: [29114469, 58172365, 78108367, 62599371, 49755597, 61995723, 44851709, 70508381, 12524571, 42994715, 63593083, 70468773, 1072089, 37095855, 16820199, 1146747, 44594747, 61118371, 63942835, 54817271]\n",
      "CPU times: user 5.17 ms, sys: 19 μs, total: 5.19 ms\n",
      "Wall time: 5.08 ms\n"
     ]
    }
   ],
   "source": [
    "%%time\n",
    "\n",
    "a = 80748256\n",
    "n = 20\n",
    "coprimes = find_coprimes(a, n)\n",
    "print(f\"{n} numbers coprime with {a} are: {coprimes}\")"
   ]
  }
 ],
 "metadata": {
  "kernelspec": {
   "display_name": "cryptography",
   "language": "python",
   "name": "python3"
  },
  "language_info": {
   "codemirror_mode": {
    "name": "ipython",
    "version": 3
   },
   "file_extension": ".py",
   "mimetype": "text/x-python",
   "name": "python",
   "nbconvert_exporter": "python",
   "pygments_lexer": "ipython3",
   "version": "3.12.3"
  }
 },
 "nbformat": 4,
 "nbformat_minor": 2
}