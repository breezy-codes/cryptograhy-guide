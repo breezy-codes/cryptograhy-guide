{
 "cells": [
  {
   "cell_type": "markdown",
   "metadata": {},
   "source": [
    "# **Prime Numbers**\n",
    "\n",
    "A prime number is a natural number greater than 1 that has no positive divisors other than 1 and itself. Prime numbers are the building blocks of all natural numbers because every number can be expressed as a product of primes.\n",
    "\n",
    "## Steps: \n",
    "\n",
    "The steps to determine if a number $n$ is prime are as follows:\n",
    "\n",
    "1. **Check divisibility by 2**: If $n$ is even and greater than 2, it is not prime.\n",
    "2. **Check divisibility by odd numbers**: Test if $n$ is divisible by any odd number from 3 up to $\\sqrt{n}$.\n",
    "3. **Prime if no divisors found**: If no divisors other than 1 and $n$ are found, then $n$ is prime.\n",
    "\n",
    "For example, to check if 29 is a prime number:\n",
    "1. 29 is not even.\n",
    "2. Check divisibility by odd numbers up to $\\sqrt{29} \\approx 5.39$ (i.e., check 3 and 5).\n",
    "3. 29 is not divisible by 3 or 5.\n",
    "4. Therefore, 29 is a prime number.\n"
   ]
  },
  {
   "cell_type": "code",
   "execution_count": 2,
   "metadata": {
    "tags": [
     "hide-input"
    ]
   },
   "outputs": [],
   "source": [
    "import sympy as sp\n",
    "from sympy import *\n",
    "from math import gcd"
   ]
  },
  {
   "cell_type": "markdown",
   "metadata": {},
   "source": [
    "## **Introduction to Prime Numbers**"
   ]
  },
  {
   "cell_type": "markdown",
   "metadata": {},
   "source": [
    "### **Checking if  number is prime or not**\n",
    "\n",
    "To check if a number is prime or not, we need to check if it is divisible by any number other than 1 and itself. We can do this by iterating over all numbers from 2 to the square root of the number and checking if the number is divisible by any of them. If the number is divisible by any number other than 1 and itself, then it is not prime."
   ]
  },
  {
   "cell_type": "code",
   "execution_count": 14,
   "metadata": {},
   "outputs": [],
   "source": [
    "def is_prime(n):\n",
    "    if n <= 1:\n",
    "        print(f\"The number {n} is not prime\")\n",
    "        return False\n",
    "    for i in range(2, int(sp.sqrt(n)) + 1):\n",
    "        if n % i == 0:\n",
    "            print(f\"The number {n} is not prime\")\n",
    "            return False\n",
    "    print(f\"The number {n} is prime\")\n",
    "    return True"
   ]
  },
  {
   "cell_type": "markdown",
   "metadata": {},
   "source": [
    "```{admonition} Explanation\n",
    ":class: tip\n",
    "\n",
    "**Checking if $6$ is Prime:**\n",
    "\n",
    "1. $6$ is even.\n",
    "2. Since $$ is greater than $2$ and even, it is not a prime number.\n",
    "```"
   ]
  },
  {
   "cell_type": "markdown",
   "metadata": {},
   "source": [
    "#### Checking if $69769$ is prime or not"
   ]
  },
  {
   "cell_type": "code",
   "execution_count": 15,
   "metadata": {},
   "outputs": [
    {
     "name": "stdout",
     "output_type": "stream",
     "text": [
      "The number 69769 is not prime\n"
     ]
    },
    {
     "data": {
      "text/plain": [
       "False"
      ]
     },
     "execution_count": 15,
     "metadata": {},
     "output_type": "execute_result"
    }
   ],
   "source": [
    "n = 69769\n",
    "is_prime(n)"
   ]
  },
  {
   "cell_type": "markdown",
   "metadata": {},
   "source": [
    "```{admonition} Explanation\n",
    ":class: tip\n",
    "\n",
    "**Checking if $69769$ is Prime:**\n",
    "\n",
    "1. $69769$ is not even.\n",
    "2. Calculate $\\sqrt{69769} \\approx 264.17$. Check for divisibility by odd numbers up to $264$.\n",
    "3. $69769$ is divisible by $263$:\n",
    "\n",
    "$$\n",
    "69769 \\div 263 = 265\n",
    "$$\n",
    "```"
   ]
  },
  {
   "cell_type": "markdown",
   "metadata": {},
   "source": [
    "#### Checking if $83$ is prime or not"
   ]
  },
  {
   "cell_type": "code",
   "execution_count": 16,
   "metadata": {},
   "outputs": [
    {
     "name": "stdout",
     "output_type": "stream",
     "text": [
      "The number 83 is prime\n"
     ]
    },
    {
     "data": {
      "text/plain": [
       "True"
      ]
     },
     "execution_count": 16,
     "metadata": {},
     "output_type": "execute_result"
    }
   ],
   "source": [
    "n = 83\n",
    "is_prime(n)"
   ]
  },
  {
   "cell_type": "markdown",
   "metadata": {},
   "source": [
    "```{admonition} Explanation\n",
    ":class: tip\n",
    "**Checking if 83 is Prime:**\n",
    "\n",
    "1. 83 is not even.\n",
    "2. Calculate $\\sqrt{83} \\approx 9.11$. Check for divisibility by odd numbers up to $9$.\n",
    "3. $83$ is not divisible by $3, 5, or 7$.\n",
    "4. Therefore, $83$ is a prime number.\n",
    "```"
   ]
  },
  {
   "cell_type": "markdown",
   "metadata": {},
   "source": [
    "#### Checking if $983$ is prime or not"
   ]
  },
  {
   "cell_type": "code",
   "execution_count": 17,
   "metadata": {},
   "outputs": [
    {
     "name": "stdout",
     "output_type": "stream",
     "text": [
      "The number 983 is prime\n"
     ]
    },
    {
     "data": {
      "text/plain": [
       "True"
      ]
     },
     "execution_count": 17,
     "metadata": {},
     "output_type": "execute_result"
    }
   ],
   "source": [
    "n = 983\n",
    "is_prime(n)"
   ]
  },
  {
   "cell_type": "markdown",
   "metadata": {},
   "source": [
    "```{admonition} Explanation\n",
    ":class: tip\n",
    "\n",
    "**Checking if $983$ is Prime:**\n",
    "\n",
    "1. $983$ is not even.\n",
    "2. Calculate $\\sqrt{983} \\approx 31.36$. Check for divisibility by odd numbers up to $31$.\n",
    "3. $983$ is not divisible by $3, 5, 7, 11, 13, 17, 19, 23, 29, or 31$.\n",
    "4. Therefore, $983$ is a prime number.\n",
    "```"
   ]
  },
  {
   "cell_type": "markdown",
   "metadata": {},
   "source": [
    "## **Generating Prime Numbers**\n",
    "\n",
    "To generate a random prime number, we can generate a random number and check if it is prime using the method described above. If the number is not prime, we can generate another random number and repeat the process until we find a prime number.\n",
    "\n",
    "With this function, we can actually specify the range of prime numbers we want to generate. For example, if we want to generate a prime number between 1 and 20, we can specify this in the generate prime function."
   ]
  },
  {
   "cell_type": "code",
   "execution_count": 29,
   "metadata": {},
   "outputs": [],
   "source": [
    "def generate_prime_number(start=1000, end=10000):\n",
    "    while True:\n",
    "        n = random.randint(start,end)\n",
    "        if is_prime(n):\n",
    "            return n"
   ]
  },
  {
   "cell_type": "code",
   "execution_count": 30,
   "metadata": {},
   "outputs": [
    {
     "name": "stdout",
     "output_type": "stream",
     "text": [
      "The number 3939 is not prime\n",
      "The number 6812 is not prime\n",
      "The number 4209 is not prime\n",
      "The number 5468 is not prime\n",
      "The number 1843 is not prime\n",
      "The number 5847 is not prime\n",
      "The number 1110 is not prime\n",
      "The number 5683 is prime\n",
      "p = 5683\n"
     ]
    }
   ],
   "source": [
    "p = generate_prime_number(1000,10000)\n",
    "print(f\"p = {p}\")"
   ]
  },
  {
   "cell_type": "code",
   "execution_count": 31,
   "metadata": {},
   "outputs": [
    {
     "name": "stdout",
     "output_type": "stream",
     "text": [
      "The number 69497 is prime\n",
      "p = 69497\n"
     ]
    }
   ],
   "source": [
    "p = generate_prime_number(10000, 100000)\n",
    "print(f\"p = {p}\")"
   ]
  },
  {
   "cell_type": "code",
   "execution_count": 32,
   "metadata": {},
   "outputs": [
    {
     "name": "stdout",
     "output_type": "stream",
     "text": [
      "The number 29375 is not prime\n",
      "The number 36854 is not prime\n",
      "The number 21716 is not prime\n",
      "The number 96230 is not prime\n",
      "The number 39050 is not prime\n",
      "The number 90887 is prime\n",
      "p = 90887\n"
     ]
    }
   ],
   "source": [
    "p = generate_prime_number(10000, 100000)\n",
    "print(f\"p = {p}\")"
   ]
  },
  {
   "cell_type": "markdown",
   "metadata": {},
   "source": [
    "## **Another Method for generating prime numbers:**\n",
    "\n",
    "Another method for this uses the `sympy` library in Python. The `sympy` library provides a function called `sympy.isprime` that generates the `n`th prime number. We can use this function to generate prime numbers."
   ]
  },
  {
   "cell_type": "code",
   "execution_count": 23,
   "metadata": {},
   "outputs": [],
   "source": [
    "def generate_prime(start=100000, end=800000):\n",
    "    while True:\n",
    "        num = random.randint(start, end)\n",
    "        if sp.isprime(num):\n",
    "            return num"
   ]
  },
  {
   "cell_type": "code",
   "execution_count": 33,
   "metadata": {},
   "outputs": [
    {
     "name": "stdout",
     "output_type": "stream",
     "text": [
      "p = 8353\n"
     ]
    }
   ],
   "source": [
    "p = generate_prime(1000,10000)\n",
    "print(f\"p = {p}\")"
   ]
  },
  {
   "cell_type": "code",
   "execution_count": 34,
   "metadata": {},
   "outputs": [
    {
     "name": "stdout",
     "output_type": "stream",
     "text": [
      "p = 427369\n"
     ]
    }
   ],
   "source": [
    "p = generate_prime(10000,1000000)\n",
    "print(f\"p = {p}\")"
   ]
  },
  {
   "cell_type": "code",
   "execution_count": 26,
   "metadata": {},
   "outputs": [
    {
     "name": "stdout",
     "output_type": "stream",
     "text": [
      "p = 17\n"
     ]
    }
   ],
   "source": [
    "p = generate_prime(2,20)\n",
    "print(f\"p = {p}\")"
   ]
  },
  {
   "cell_type": "markdown",
   "metadata": {},
   "source": [
    "## **Generating a range of prime numbers:**\n",
    "\n",
    "Here is a slight modification that allows us to print all prime numbers in a given range. We can use the `sympy.primerange` function to generate all prime numbers in a given range."
   ]
  },
  {
   "cell_type": "code",
   "execution_count": 36,
   "metadata": {},
   "outputs": [],
   "source": [
    "def generate_primes_in_range(start=2, end=20):\n",
    "    return list(sympy.primerange(start, end))\n",
    "\n",
    "def print_range(start, end):\n",
    "    primes = generate_primes_in_range(start, end)\n",
    "    print(f\"Primes in range {start} to {end} are: {primes}\")"
   ]
  },
  {
   "cell_type": "code",
   "execution_count": 37,
   "metadata": {},
   "outputs": [
    {
     "name": "stdout",
     "output_type": "stream",
     "text": [
      "Primes in range 1 to 20 are: [2, 3, 5, 7, 11, 13, 17, 19]\n"
     ]
    }
   ],
   "source": [
    "start = 1\n",
    "end = 20\n",
    "print_range(start, end)"
   ]
  },
  {
   "cell_type": "code",
   "execution_count": 38,
   "metadata": {},
   "outputs": [
    {
     "name": "stdout",
     "output_type": "stream",
     "text": [
      "Primes in range 1 to 100 are: [2, 3, 5, 7, 11, 13, 17, 19, 23, 29, 31, 37, 41, 43, 47, 53, 59, 61, 67, 71, 73, 79, 83, 89, 97]\n"
     ]
    }
   ],
   "source": [
    "start = 1\n",
    "end = 100\n",
    "print_range(start, end)"
   ]
  },
  {
   "cell_type": "code",
   "execution_count": 39,
   "metadata": {},
   "outputs": [
    {
     "name": "stdout",
     "output_type": "stream",
     "text": [
      "Primes in range 100 to 300 are: [101, 103, 107, 109, 113, 127, 131, 137, 139, 149, 151, 157, 163, 167, 173, 179, 181, 191, 193, 197, 199, 211, 223, 227, 229, 233, 239, 241, 251, 257, 263, 269, 271, 277, 281, 283, 293]\n"
     ]
    }
   ],
   "source": [
    "start = 100\n",
    "end = 300\n",
    "print_range(start, end)"
   ]
  }
 ],
 "metadata": {
  "kernelspec": {
   "display_name": "cryptography",
   "language": "python",
   "name": "python3"
  },
  "language_info": {
   "codemirror_mode": {
    "name": "ipython",
    "version": 3
   },
   "file_extension": ".py",
   "mimetype": "text/x-python",
   "name": "python",
   "nbconvert_exporter": "python",
   "pygments_lexer": "ipython3",
   "version": "3.12.3"
  }
 },
 "nbformat": 4,
 "nbformat_minor": 2
}