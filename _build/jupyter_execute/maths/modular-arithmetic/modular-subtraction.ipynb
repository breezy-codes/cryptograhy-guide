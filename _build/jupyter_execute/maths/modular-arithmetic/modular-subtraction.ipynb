{
 "cells": [
  {
   "cell_type": "markdown",
   "metadata": {},
   "source": [
    "# **Modular Subtraction**\n",
    "\n",
    "Modular subtraction involves subtracting one number from another and then taking the remainder when the result is divided by the modulus.\n",
    "\n",
    "The formula for modular subtraction of two numbers $a$ and $b$ with modulus $m$ is:\n",
    "\n",
    "$$\n",
    "(a - b) \\mod m\n",
    "$$\n",
    "\n",
    "Steps:\n",
    "1. Subtract the number $b$ from $a$.\n",
    "2. If the result is negative, add the modulus $m$ until the result is non-negative.\n",
    "3. Apply the modulus $m$ to find the remainder."
   ]
  },
  {
   "cell_type": "markdown",
   "metadata": {},
   "source": [
    "## Functions"
   ]
  },
  {
   "cell_type": "code",
   "execution_count": 1,
   "metadata": {
    "tags": [
     "hide-input"
    ]
   },
   "outputs": [],
   "source": [
    "import sympy as sp\n",
    "from sympy import *\n",
    "from math import gcd\n",
    "import random"
   ]
  },
  {
   "cell_type": "code",
   "execution_count": 4,
   "metadata": {},
   "outputs": [],
   "source": [
    "def modular_subtraction(a, b, modulus):\n",
    "    result = (a - b) % modulus\n",
    "    print(f\"{a} - {b} ≡ {result} (mod {modulus})\")\n",
    "    return result"
   ]
  },
  {
   "cell_type": "markdown",
   "metadata": {},
   "source": [
    "## Examples"
   ]
  },
  {
   "cell_type": "markdown",
   "metadata": {},
   "source": [
    "### Finding $(10 - 17)~mod~7$"
   ]
  },
  {
   "cell_type": "code",
   "execution_count": 5,
   "metadata": {},
   "outputs": [
    {
     "name": "stdout",
     "output_type": "stream",
     "text": [
      "10 - 17 ≡ 0 (mod 7)\n"
     ]
    }
   ],
   "source": [
    "a = 10\n",
    "b = 17\n",
    "modulus = 7\n",
    "\n",
    "result = modular_subtraction(a, b, modulus)"
   ]
  },
  {
   "cell_type": "markdown",
   "metadata": {},
   "source": [
    "```{admonition} Explanation\n",
    ":class: tip\n",
    "\n",
    "To find the result of \\( 10 - 17 \\) modulo \\( 7 \\), follow these steps:\n",
    "\n",
    "1. **Perform the subtraction**:\n",
    "\n",
    "$$\n",
    "10 - 17 = -7\n",
    "$$\n",
    "\n",
    "2. **Adjust to ensure the result is within the range 0 to modulus-1**:\n",
    "\n",
    "Since we have a negative result, we adjust it by adding the modulus until it becomes non-negative:\n",
    "\n",
    "$$\n",
    "-7 + 7 = 0\n",
    "$$\n",
    "\n",
    "3. **The adjusted result is the result of the modulo operation**:\n",
    "\n",
    "$$\n",
    "10 - 17 \\equiv 0 \\mod 7\n",
    "$$\n",
    "\n",
    "```"
   ]
  },
  {
   "cell_type": "markdown",
   "metadata": {},
   "source": [
    "### Finding $(217 - 240)~mod~19$"
   ]
  },
  {
   "cell_type": "code",
   "execution_count": 14,
   "metadata": {},
   "outputs": [
    {
     "name": "stdout",
     "output_type": "stream",
     "text": [
      "217 - 240 ≡ 15 (mod 19)\n"
     ]
    }
   ],
   "source": [
    "a = 217\n",
    "b = 240\n",
    "modulus = 19\n",
    "\n",
    "result = modular_subtraction(a, b, modulus)"
   ]
  },
  {
   "cell_type": "markdown",
   "metadata": {},
   "source": [
    "```{admonition} Explanation\n",
    ":class: tip, dropdown\n",
    "\n",
    "To find the result of \\( 217 - 240 \\) modulo \\( 19 \\), follow these steps:\n",
    "\n",
    "1. **Perform the subtraction**:\n",
    "\n",
    "$$\n",
    "217 - 240 = -23\n",
    "$$\n",
    "\n",
    "2. **Adjust to ensure the result is within the range 0 to modulus-1**:\n",
    "\n",
    "Since we have a negative result, we adjust it by adding the modulus until it becomes non-negative:\n",
    "\n",
    "$$\n",
    "-23 + 19 = -4\n",
    "$$\n",
    "\n",
    "3. **Find the remainder when divided by the modulus**:\n",
    "\n",
    "Now, calculate the remainder when \\( -4 \\) is divided by \\( 19 \\):\n",
    "\n",
    "$$\n",
    "-4 \\mod 19 = 15\n",
    "$$\n",
    "\n",
    "Therefore:\n",
    "\n",
    "$$\n",
    "217 - 240 \\equiv 15 \\mod 19\n",
    "$$\n",
    "\n",
    "```"
   ]
  },
  {
   "cell_type": "markdown",
   "metadata": {},
   "source": [
    "### Finding $(2293 - 334)~mod~38$"
   ]
  },
  {
   "cell_type": "code",
   "execution_count": 12,
   "metadata": {},
   "outputs": [
    {
     "name": "stdout",
     "output_type": "stream",
     "text": [
      "2293 - 334 ≡ 21 (mod 38)\n"
     ]
    }
   ],
   "source": [
    "a = 2293\n",
    "b = 334\n",
    "modulus = 38\n",
    "\n",
    "result = modular_subtraction(a, b, modulus)"
   ]
  },
  {
   "cell_type": "markdown",
   "metadata": {},
   "source": [
    "```{admonition} Explanation\n",
    ":class: tip, dropdown\n",
    "\n",
    "To find the result of \\( 2293 - 334 \\) modulo \\( 38 \\), follow these steps:\n",
    "\n",
    "1. **Perform the subtraction**:\n",
    "\n",
    "$$\n",
    "2293 - 334 = 1959\n",
    "$$\n",
    "\n",
    "2. **Find the remainder when divided by the modulus**:\n",
    "\n",
    "Now, calculate the remainder when \\( 1959 \\) is divided by \\( 38 \\):\n",
    "\n",
    "$$\n",
    "1959 \\div 38 = 51 \\text{ remainder } 21\n",
    "$$\n",
    "\n",
    "3. **Express the division**:\n",
    "\n",
    "$$\n",
    "1959 = 38 \\times 51 + 21\n",
    "$$\n",
    "\n",
    "4. **The remainder is the result of the modulo operation**:\n",
    "\n",
    "$$\n",
    "1959 \\mod 38 = 21\n",
    "$$\n",
    "\n",
    "Therefore:\n",
    "\n",
    "$$\n",
    "2293 - 334 \\equiv 21 \\mod 38\n",
    "$$\n",
    "\n",
    "```"
   ]
  }
 ],
 "metadata": {
  "kernelspec": {
   "display_name": "jupyter-books",
   "language": "python",
   "name": "python3"
  },
  "language_info": {
   "codemirror_mode": {
    "name": "ipython",
    "version": 3
   },
   "file_extension": ".py",
   "mimetype": "text/x-python",
   "name": "python",
   "nbconvert_exporter": "python",
   "pygments_lexer": "ipython3",
   "version": "3.12.3"
  }
 },
 "nbformat": 4,
 "nbformat_minor": 2
}