{
 "cells": [
  {
   "cell_type": "code",
   "execution_count": null,
   "metadata": {
    "vscode": {
     "languageId": "plaintext"
    }
   },
   "outputs": [],
   "source": [
    "import sympy as sp\n",
    "from sympy import *\n",
    "from math import gcd\n",
    "import random"
   ]
  },
  {
   "cell_type": "markdown",
   "metadata": {},
   "source": [
    "# **Modular Subtraction**\n",
    "\n",
    "Modular subtraction involves subtracting one number from another and then taking the remainder when the result is divided by the modulus.\n",
    "\n",
    "The formula for modular subtraction of two numbers $a$ and $b$ with modulus $m$ is:\n",
    "\n",
    "$$\n",
    "(a - b) \\mod m\n",
    "$$\n",
    "\n",
    "Steps:\n",
    "1. Subtract the number $b$ from $a$.\n",
    "2. If the result is negative, add the modulus $m$ until the result is non-negative.\n",
    "3. Apply the modulus $m$ to find the remainder."
   ]
  }
 ],
 "metadata": {
  "kernelspec": {
   "display_name": "jupyter-books",
   "language": "python",
   "name": "python3"
  },
  "language_info": {
   "codemirror_mode": {
    "name": "ipython",
    "version": 3
   },
   "file_extension": ".py",
   "mimetype": "text/x-python",
   "name": "python",
   "nbconvert_exporter": "python",
   "pygments_lexer": "ipython3",
   "version": "3.12.3"
  }
 },
 "nbformat": 4,
 "nbformat_minor": 2
}