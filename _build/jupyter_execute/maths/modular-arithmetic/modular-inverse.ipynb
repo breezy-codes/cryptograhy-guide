{
 "cells": [
  {
   "cell_type": "code",
   "execution_count": null,
   "metadata": {
    "vscode": {
     "languageId": "plaintext"
    }
   },
   "outputs": [],
   "source": [
    "import sympy as sp\n",
    "from sympy import *\n",
    "from math import gcd\n",
    "import random"
   ]
  },
  {
   "cell_type": "markdown",
   "metadata": {},
   "source": [
    "# **Modular Inverse**\n",
    "\n",
    "The modular inverse of a number $a$ modulo $m$ is a number $x$ such that:\n",
    "\n",
    "$$\n",
    "a \\times x \\equiv 1 \\mod m\n",
    "$$\n",
    "\n",
    "The modular inverse exists if and only if $a$ and $m$ are coprime (i.e., $\\text{gcd}(a, m) = 1$).\n",
    "\n",
    "To find the modular inverse of $a$ modulo $m$, you can use the Extended Euclidean Algorithm.\n"
   ]
  }
 ],
 "metadata": {
  "kernelspec": {
   "display_name": "jupyter-books",
   "language": "python",
   "name": "python3"
  },
  "language_info": {
   "codemirror_mode": {
    "name": "ipython",
    "version": 3
   },
   "file_extension": ".py",
   "mimetype": "text/x-python",
   "name": "python",
   "nbconvert_exporter": "python",
   "pygments_lexer": "ipython3",
   "version": "3.12.3"
  }
 },
 "nbformat": 4,
 "nbformat_minor": 2
}