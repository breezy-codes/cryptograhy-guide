{
 "cells": [
  {
   "cell_type": "markdown",
   "metadata": {},
   "source": [
    "# **Modular Inverse**\n",
    "\n",
    "The modular inverse of a number $a$ modulo $m$ is a number $x$ such that:\n",
    "\n",
    "$$\n",
    "a \\times x \\equiv 1 \\mod m\n",
    "$$\n",
    "\n",
    "The modular inverse exists if and only if $a$ and $m$ are coprime (i.e., $\\text{gcd}(a, m) = 1$).\n",
    "\n",
    "To find the modular inverse of $a$ modulo $m$, you can use the Extended Euclidean Algorithm.\n",
    "\n",
    "## Extended Euclidean Algorithm\n",
    "\n",
    "The Euclidean Algorithm is a method to find the greatest common divisor (gcd) of two integers. The Extended Euclidean Algorithm extends this to find the coefficients $x$ and $y$ such that:\n",
    "\n",
    "$$ a \\times x + b \\times y = \\text{gcd}(a, b) $$\n",
    "\n",
    "These coefficients $x$ and $y$ can be used to express the gcd as a linear combination of $a$ and $b$.\n"
   ]
  },
  {
   "cell_type": "code",
   "execution_count": 1,
   "metadata": {
    "tags": [
     "hide-input"
    ]
   },
   "outputs": [],
   "source": [
    "import sympy as sp\n",
    "from sympy import *\n",
    "from math import gcd"
   ]
  },
  {
   "cell_type": "code",
   "execution_count": 3,
   "metadata": {},
   "outputs": [],
   "source": [
    "def modular_inverse(a, modulus):\n",
    "    def extended_gcd(a, b):\n",
    "        if a == 0:\n",
    "            return b, 0, 1\n",
    "        gcd, x1, y1 = extended_gcd(b % a, a)\n",
    "        x = y1 - (b // a) * x1\n",
    "        y = x1\n",
    "        return gcd, x, y\n",
    "    \n",
    "    gcd, x, _ = extended_gcd(a, modulus)\n",
    "    if gcd != 1:\n",
    "        raise ValueError(f\"Inverse does not exist for {a} modulo {modulus}\")\n",
    "    else:\n",
    "        result = x % modulus\n",
    "        print(f\"Inverse of {a} ≡ {result} (mod {modulus})\")\n",
    "        return result"
   ]
  },
  {
   "cell_type": "markdown",
   "metadata": {},
   "source": [
    "### Finding the modular inverse of $23~mod~26$"
   ]
  },
  {
   "cell_type": "code",
   "execution_count": 4,
   "metadata": {},
   "outputs": [
    {
     "name": "stdout",
     "output_type": "stream",
     "text": [
      "Inverse of 23 ≡ 17 (mod 26)\n"
     ]
    }
   ],
   "source": [
    "a = 23\n",
    "modulus = 26\n",
    "\n",
    "result = modular_inverse(a, modulus)"
   ]
  },
  {
   "cell_type": "markdown",
   "metadata": {},
   "source": [
    "```{admonition} Modular Inverse Calculation\n",
    ":class: tip\n",
    "\n",
    "To find the modular inverse of 23 mod 26, follow these steps using the Extended Euclidean Algorithm:\n",
    "\n",
    "1. **Initialisation**:\n",
    "   Set initial values:\n",
    "   - $\\text{gcd} = 1$\n",
    "   - $x = 0$\n",
    "   - $y = 1$\n",
    "\n",
    "2. **Step-by-Step Calculation**:\n",
    "\n",
    "   **Step 0**:\n",
    "   - $\\text{gcd} = 1$\n",
    "   - $x = 0$\n",
    "   - $y = 1$\n",
    "\n",
    "   **Step 1**:\n",
    "   - Update values based on the Euclidean algorithm:\n",
    "   - $\\text{gcd} = 1$\n",
    "   - $x = 1$\n",
    "   - $y = 0$\n",
    "\n",
    "   **Step 2**:\n",
    "   - Continue updating:\n",
    "   - $\\text{gcd} = 1$\n",
    "   - $x = -1$\n",
    "   - $y = 1$\n",
    "\n",
    "   **Step 3**:\n",
    "   - Further updates:\n",
    "   - $\\text{gcd} = 1$\n",
    "   - $x = 8$\n",
    "   - $y = -1$\n",
    "\n",
    "   **Step 4**:\n",
    "   - Final updates:\n",
    "   - $\\text{gcd} = 1$\n",
    "   - $x = -9$\n",
    "   - $y = 8$\n",
    "\n",
    "3. **Result**:\n",
    "   - Since the $\\text{gcd}$ remains 1 throughout, 23 has an inverse modulo 26.\n",
    "   - The final value of $x$ after adjustments for modular arithmetic (as $-9 \\equiv 17 \\ (\\text{mod}\\ 26)$) gives the modular inverse.\n",
    "   - Thus, the inverse of 23 modulo 26 is 17.\n",
    "```"
   ]
  },
  {
   "cell_type": "markdown",
   "metadata": {},
   "source": [
    "## Extending the Function\n",
    "\n",
    "As modular inverse is a step up from the simple addition or subtraction operations in modular arithmetic; we can actually extend the function further to output the steps for using the Extended Euclidean Algorithm to find the modular inverse. This can be useful for understanding the steps, you can also use this to check your work for practicing the algorithm.\n",
    "\n",
    "To add steps into a function you can actually use a list to store the steps and then return the list as well as the modular inverse. Where each time you want a step you do `steps.append(\"Step\")` to add the step to the list."
   ]
  },
  {
   "cell_type": "code",
   "execution_count": 21,
   "metadata": {},
   "outputs": [],
   "source": [
    "def modular_inverse_steps(a, modulus):\n",
    "    def extended_gcd(a, b):\n",
    "        steps = []\n",
    "        if a == 0:\n",
    "            steps.append((b, 0, 1))\n",
    "            return b, 0, 1, steps\n",
    "        gcd, x1, y1, prev_steps = extended_gcd(b % a, a)\n",
    "        x = y1 - (b // a) * x1\n",
    "        y = x1\n",
    "        steps = prev_steps + [(gcd, x, y)]\n",
    "        return gcd, x, y, steps\n",
    "\n",
    "    gcd, x, y, steps = extended_gcd(a, modulus)\n",
    "    if gcd != 1:\n",
    "        raise ValueError(f\"Inverse does not exist for {a} modulo {modulus}\")\n",
    "    else:\n",
    "        result = x % modulus\n",
    "        print(f\"Steps to find the modular inverse of {a} mod {modulus}:\")\n",
    "        for i, (gcd, x, y) in enumerate(steps):\n",
    "            print(f\"Step {i}: gcd = {gcd}, x = {x}, y = {y}\")\n",
    "        print(f\"Inverse of {a} ≡ {result} (mod {modulus})\")\n",
    "        return"
   ]
  },
  {
   "cell_type": "markdown",
   "metadata": {},
   "source": [
    "### Finding the modular inverse of $11~mod~30$"
   ]
  },
  {
   "cell_type": "code",
   "execution_count": 11,
   "metadata": {},
   "outputs": [
    {
     "name": "stdout",
     "output_type": "stream",
     "text": [
      "Steps to find the modular inverse of 11 mod 30:\n",
      "Step 0: gcd = 1, x = 0, y = 1\n",
      "Step 1: gcd = 1, x = 1, y = 0\n",
      "Step 2: gcd = 1, x = -1, y = 1\n",
      "Step 3: gcd = 1, x = 3, y = -1\n",
      "Step 4: gcd = 1, x = -4, y = 3\n",
      "Step 5: gcd = 1, x = 11, y = -4\n",
      "Inverse of 11 ≡ 11 (mod 30)\n"
     ]
    }
   ],
   "source": [
    "a = 11\n",
    "modulus = 30\n",
    "\n",
    "result = modular_inverse_steps(a, modulus)"
   ]
  },
  {
   "cell_type": "markdown",
   "metadata": {},
   "source": [
    "### Finding the modular inverse of $23~mod~49$"
   ]
  },
  {
   "cell_type": "code",
   "execution_count": 13,
   "metadata": {},
   "outputs": [
    {
     "name": "stdout",
     "output_type": "stream",
     "text": [
      "Steps to find the modular inverse of 23 mod 49:\n",
      "Step 0: gcd = 1, x = 0, y = 1\n",
      "Step 1: gcd = 1, x = 1, y = 0\n",
      "Step 2: gcd = 1, x = -1, y = 1\n",
      "Step 3: gcd = 1, x = 8, y = -1\n",
      "Step 4: gcd = 1, x = -17, y = 8\n",
      "Inverse of 23 ≡ 32 (mod 49)\n"
     ]
    }
   ],
   "source": [
    "a = 23\n",
    "modulus = 49\n",
    "\n",
    "result = modular_inverse_steps(a, modulus)"
   ]
  },
  {
   "cell_type": "markdown",
   "metadata": {},
   "source": [
    "### Finding the modular inverse of $20~mod~40$\n",
    "\n",
    "In the following example you'll see what occurs when the modular inverse doesn't exist."
   ]
  },
  {
   "cell_type": "code",
   "execution_count": 22,
   "metadata": {},
   "outputs": [
    {
     "ename": "ValueError",
     "evalue": "Inverse does not exist for 20 modulo 40",
     "output_type": "error",
     "traceback": [
      "\u001b[0;31m---------------------------------------------------------------------------\u001b[0m",
      "\u001b[0;31mValueError\u001b[0m                                Traceback (most recent call last)",
      "Cell \u001b[0;32mIn[22], line 4\u001b[0m\n\u001b[1;32m      1\u001b[0m a \u001b[38;5;241m=\u001b[39m \u001b[38;5;241m20\u001b[39m\n\u001b[1;32m      2\u001b[0m modulus \u001b[38;5;241m=\u001b[39m \u001b[38;5;241m40\u001b[39m\n\u001b[0;32m----> 4\u001b[0m result \u001b[38;5;241m=\u001b[39m \u001b[43mmodular_inverse_steps\u001b[49m\u001b[43m(\u001b[49m\u001b[43ma\u001b[49m\u001b[43m,\u001b[49m\u001b[43m \u001b[49m\u001b[43mmodulus\u001b[49m\u001b[43m)\u001b[49m\n",
      "Cell \u001b[0;32mIn[21], line 15\u001b[0m, in \u001b[0;36mmodular_inverse_steps\u001b[0;34m(a, modulus)\u001b[0m\n\u001b[1;32m     13\u001b[0m gcd, x, y, steps \u001b[38;5;241m=\u001b[39m extended_gcd(a, modulus)\n\u001b[1;32m     14\u001b[0m \u001b[38;5;28;01mif\u001b[39;00m gcd \u001b[38;5;241m!=\u001b[39m \u001b[38;5;241m1\u001b[39m:\n\u001b[0;32m---> 15\u001b[0m     \u001b[38;5;28;01mraise\u001b[39;00m \u001b[38;5;167;01mValueError\u001b[39;00m(\u001b[38;5;124mf\u001b[39m\u001b[38;5;124m\"\u001b[39m\u001b[38;5;124mInverse does not exist for \u001b[39m\u001b[38;5;132;01m{\u001b[39;00ma\u001b[38;5;132;01m}\u001b[39;00m\u001b[38;5;124m modulo \u001b[39m\u001b[38;5;132;01m{\u001b[39;00mmodulus\u001b[38;5;132;01m}\u001b[39;00m\u001b[38;5;124m\"\u001b[39m)\n\u001b[1;32m     16\u001b[0m \u001b[38;5;28;01melse\u001b[39;00m:\n\u001b[1;32m     17\u001b[0m     result \u001b[38;5;241m=\u001b[39m x \u001b[38;5;241m%\u001b[39m modulus\n",
      "\u001b[0;31mValueError\u001b[0m: Inverse does not exist for 20 modulo 40"
     ]
    }
   ],
   "source": [
    "a = 20\n",
    "modulus = 40\n",
    "\n",
    "result = modular_inverse_steps(a, modulus)"
   ]
  }
 ],
 "metadata": {
  "kernelspec": {
   "display_name": "jupyter-books",
   "language": "python",
   "name": "python3"
  },
  "language_info": {
   "codemirror_mode": {
    "name": "ipython",
    "version": 3
   },
   "file_extension": ".py",
   "mimetype": "text/x-python",
   "name": "python",
   "nbconvert_exporter": "python",
   "pygments_lexer": "ipython3",
   "version": "3.12.3"
  }
 },
 "nbformat": 4,
 "nbformat_minor": 2
}