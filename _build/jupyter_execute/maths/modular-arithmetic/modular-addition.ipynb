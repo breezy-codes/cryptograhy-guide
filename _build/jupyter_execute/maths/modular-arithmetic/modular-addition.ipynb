{
 "cells": [
  {
   "cell_type": "markdown",
   "metadata": {},
   "source": [
    "# **Modular Addition**\n",
    "\n",
    "Modular addition involves adding two numbers and then taking the remainder when the result is divided by the modulus.\n",
    "\n",
    "The formula for modular addition of two numbers $a$ and $b$ with modulus $m$ is:\n",
    "\n",
    "$$\n",
    "(a + b) \\mod m\n",
    "$$\n",
    "\n",
    "Steps:\n",
    "1. Add the numbers $a$ and $b$.\n",
    "2. Take the result and apply the modulus $m$ to find the remainder."
   ]
  },
  {
   "cell_type": "markdown",
   "metadata": {},
   "source": [
    "## Functions"
   ]
  },
  {
   "cell_type": "code",
   "execution_count": 1,
   "metadata": {
    "tags": [
     "hide-input"
    ]
   },
   "outputs": [],
   "source": [
    "import sympy as sp\n",
    "from sympy import *\n",
    "from math import gcd\n",
    "import random"
   ]
  },
  {
   "cell_type": "code",
   "execution_count": 2,
   "metadata": {},
   "outputs": [],
   "source": [
    "def modular_addition(a, b, modulus):\n",
    "    result = (a + b) % modulus\n",
    "    print(f\"{a} + {b} ≡ {result} (mod {modulus})\")\n",
    "    return result"
   ]
  },
  {
   "cell_type": "markdown",
   "metadata": {},
   "source": [
    "## Examples\n"
   ]
  },
  {
   "cell_type": "markdown",
   "metadata": {},
   "source": [
    "### Finding $(10 + 17)~mod~7$"
   ]
  },
  {
   "cell_type": "code",
   "execution_count": 3,
   "metadata": {},
   "outputs": [
    {
     "name": "stdout",
     "output_type": "stream",
     "text": [
      "10 + 17 ≡ 6 (mod 7)\n"
     ]
    }
   ],
   "source": [
    "a = 10\n",
    "b = 17\n",
    "modulus = 7\n",
    "\n",
    "result = modular_addition(a, b, modulus)"
   ]
  },
  {
   "cell_type": "markdown",
   "metadata": {},
   "source": [
    "```{admonition} Explanation\n",
    ":class: tip\n",
    "\n",
    "To find the result of \\( 10 + 17 \\) modulo \\( 7 \\), follow these steps:\n",
    "\n",
    "1. **Perform the addition**:\n",
    "\n",
    "$$\n",
    "10 + 17 = 27\n",
    "$$\n",
    "\n",
    "2. **Compute the remainder when divided by the modulus**:\n",
    "\n",
    "$$\n",
    "27 \\div 7 = 3 \\text{ remainder } 6\n",
    "$$\n",
    "\n",
    "3. **Express the division**:\n",
    "\n",
    "$$\n",
    "27 = 7 \\times 3 + 6\n",
    "$$\n",
    "\n",
    "4. **The remainder is the result of the modulo operation**:\n",
    "\n",
    "$$\n",
    "27 \\mod 7 = 6\n",
    "$$\n",
    "\n",
    "Therefore:\n",
    "\n",
    "$$\n",
    "10 + 17 \\equiv 6 \\mod 7\n",
    "$$\n",
    "```\n"
   ]
  },
  {
   "cell_type": "markdown",
   "metadata": {},
   "source": [
    "### Finding $(203 + 17)~mod~10$"
   ]
  },
  {
   "cell_type": "code",
   "execution_count": 5,
   "metadata": {},
   "outputs": [
    {
     "name": "stdout",
     "output_type": "stream",
     "text": [
      "203 + 17 ≡ 0 (mod 10)\n"
     ]
    }
   ],
   "source": [
    "a = 203\n",
    "b = 17\n",
    "modulus = 10\n",
    "\n",
    "result = modular_addition(a, b, modulus)"
   ]
  },
  {
   "cell_type": "markdown",
   "metadata": {},
   "source": [
    "```{admonition} Explanation\n",
    ":class: tip, dropdown\n",
    "\n",
    "To find the result of \\( 203 + 17 \\) modulo \\( 10 \\), follow these steps:\n",
    "\n",
    "1. **Perform the addition**:\n",
    "\n",
    "$$\n",
    "203 + 17 = 220\n",
    "$$\n",
    "\n",
    "2. **Compute the remainder when divided by the modulus**:\n",
    "\n",
    "$$\n",
    "220 \\div 10 = 22 \\text{ remainder } 0\n",
    "$$\n",
    "\n",
    "3. **Express the division**:\n",
    "\n",
    "$$\n",
    "220 = 10 \\times 22 + 0\n",
    "$$\n",
    "\n",
    "4. **The remainder is the result of the modulo operation**:\n",
    "\n",
    "$$\n",
    "220 \\mod 10 = 0\n",
    "$$\n",
    "\n",
    "Therefore:\n",
    "\n",
    "$$\n",
    "203 + 17 \\equiv 0 \\mod 10\n",
    "$$\n",
    "\n",
    "```"
   ]
  },
  {
   "cell_type": "markdown",
   "metadata": {},
   "source": [
    "### Finding $(-43 + 128)~mod~26$"
   ]
  },
  {
   "cell_type": "code",
   "execution_count": 7,
   "metadata": {},
   "outputs": [
    {
     "name": "stdout",
     "output_type": "stream",
     "text": [
      "-43 + 128 ≡ 7 (mod 26)\n"
     ]
    }
   ],
   "source": [
    "a = -43\n",
    "b = 128\n",
    "modulus = 26\n",
    "\n",
    "result = modular_addition(a, b, modulus)"
   ]
  },
  {
   "cell_type": "markdown",
   "metadata": {},
   "source": [
    "```{admonition} Explanation\n",
    ":class: tip, dropdown\n",
    "\n",
    "To find the result of \\( -43 + 128 \\) modulo \\( 26 \\), follow these steps:\n",
    "\n",
    "1. **Perform the addition**:\n",
    "\n",
    "$$\n",
    "-43 + 128 = 85\n",
    "$$\n",
    "\n",
    "2. **Compute the remainder when divided by the modulus**:\n",
    "\n",
    "$$\n",
    "85 \\div 26 = 3 \\text{ remainder } 7\n",
    "$$\n",
    "\n",
    "3. **Express the division**:\n",
    "\n",
    "$$\n",
    "85 = 26 \\times 3 + 7\n",
    "$$\n",
    "\n",
    "4. **The remainder is the result of the modulo operation**:\n",
    "\n",
    "$$\n",
    "85 \\mod 26 = 7\n",
    "$$\n",
    "\n",
    "Therefore:\n",
    "\n",
    "$$\n",
    "-43 + 128 \\equiv 7 \\mod 26\n",
    "$$\n",
    "```"
   ]
  },
  {
   "cell_type": "markdown",
   "metadata": {},
   "source": [
    "### Finding $(3028 + 220934)~mod~85$"
   ]
  },
  {
   "cell_type": "code",
   "execution_count": 8,
   "metadata": {},
   "outputs": [
    {
     "name": "stdout",
     "output_type": "stream",
     "text": [
      "3028 + 220934 ≡ 72 (mod 85)\n"
     ]
    }
   ],
   "source": [
    "a = 3028\n",
    "b = 220934\n",
    "modulus = 85\n",
    "\n",
    "result = modular_addition(a, b, modulus)"
   ]
  },
  {
   "cell_type": "markdown",
   "metadata": {},
   "source": [
    "```{admonition} Explanation\n",
    ":class: tip, dropdown\n",
    "\n",
    "To find the result of \\( 3028 + 220934 \\) modulo \\( 85 \\), follow these steps:\n",
    "\n",
    "1. **Perform the addition**:\n",
    "\n",
    "$$\n",
    "3028 + 220934 = 223962\n",
    "$$\n",
    "\n",
    "2. **Compute the remainder when divided by the modulus**:\n",
    "\n",
    "$$\n",
    "223962 \\div 85 = 2634 \\text{ remainder } 12\n",
    "$$\n",
    "\n",
    "3. **Express the division**:\n",
    "\n",
    "$$\n",
    "223962 = 85 \\times 2634 + 12\n",
    "$$\n",
    "\n",
    "4. **The remainder is the result of the modulo operation**:\n",
    "\n",
    "$$\n",
    "223962 \\mod 85 = 12\n",
    "$$\n",
    "\n",
    "Therefore:\n",
    "\n",
    "$$\n",
    "3028 + 220934 \\equiv 12 \\mod 85\n",
    "$$\n",
    "\n",
    "```"
   ]
  }
 ],
 "metadata": {
  "kernelspec": {
   "display_name": "jupyter-books",
   "language": "python",
   "name": "python3"
  },
  "language_info": {
   "codemirror_mode": {
    "name": "ipython",
    "version": 3
   },
   "file_extension": ".py",
   "mimetype": "text/x-python",
   "name": "python",
   "nbconvert_exporter": "python",
   "pygments_lexer": "ipython3",
   "version": "3.12.3"
  }
 },
 "nbformat": 4,
 "nbformat_minor": 2
}