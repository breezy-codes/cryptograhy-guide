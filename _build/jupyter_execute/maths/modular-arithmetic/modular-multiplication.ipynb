{
 "cells": [
  {
   "cell_type": "markdown",
   "metadata": {},
   "source": [
    "# **Modular Multiplication**\n",
    "\n",
    "Modular multiplication involves multiplying two numbers and then taking the remainder when the result is divided by the modulus.\n",
    "\n",
    "The formula for modular multiplication of two numbers $a$ and $b$ with modulus $m$ is:\n",
    "\n",
    "$$\n",
    "(a \\times b) \\mod m\n",
    "$$\n",
    "\n",
    "Steps:\n",
    "1. Multiply the numbers $a$ and $b$.\n",
    "2. Apply the modulus $m$ to find the remainder.\n"
   ]
  },
  {
   "cell_type": "markdown",
   "metadata": {},
   "source": [
    "## Functions"
   ]
  },
  {
   "cell_type": "code",
   "execution_count": 1,
   "metadata": {
    "tags": [
     "hide-input"
    ]
   },
   "outputs": [],
   "source": [
    "import sympy as sp\n",
    "from sympy import *\n",
    "from math import gcd\n",
    "import random"
   ]
  },
  {
   "cell_type": "code",
   "execution_count": 3,
   "metadata": {},
   "outputs": [],
   "source": [
    "def modular_multiplication(a, b, modulus):\n",
    "    result = (a * b) % modulus\n",
    "    print(f\"{a} * {b} ≡ {result} (mod {modulus})\")\n",
    "    return result"
   ]
  },
  {
   "cell_type": "markdown",
   "metadata": {},
   "source": [
    "## Examples"
   ]
  },
  {
   "cell_type": "markdown",
   "metadata": {},
   "source": [
    "### Find $(23 \\times 7)~mod~26$"
   ]
  },
  {
   "cell_type": "code",
   "execution_count": 4,
   "metadata": {},
   "outputs": [
    {
     "name": "stdout",
     "output_type": "stream",
     "text": [
      "23 * 7 ≡ 5 (mod 26)\n"
     ]
    }
   ],
   "source": [
    "a = 23\n",
    "b = 7\n",
    "modulus = 26\n",
    "\n",
    "result = modular_multiplication(a, b, modulus)"
   ]
  },
  {
   "cell_type": "markdown",
   "metadata": {},
   "source": [
    "```{admonition} Explanation\n",
    ":class: tip\n",
    "\n",
    "To find the result of \\( 23 \\times 7 \\) modulo \\( 26 \\), follow these steps:\n",
    "\n",
    "1. **Perform the multiplication**:\n",
    "\n",
    "$$\n",
    "23 \\times 7 = 161\n",
    "$$\n",
    "\n",
    "2. **Find the remainder when divided by the modulus**:\n",
    "\n",
    "Now, calculate the remainder when \\( 161 \\) is divided by \\( 26 \\):\n",
    "\n",
    "$$\n",
    "161 \\div 26 = 6 \\text{ remainder } 5\n",
    "$$\n",
    "\n",
    "3. **Express the division**:\n",
    "\n",
    "$$\n",
    "161 = 26 \\times 6 + 5\n",
    "$$\n",
    "\n",
    "4. **The remainder is the result of the modulo operation**:\n",
    "\n",
    "$$\n",
    "161 \\mod 26 = 5\n",
    "$$\n",
    "\n",
    "Therefore:\n",
    "\n",
    "$$\n",
    "23 \\times 7 \\equiv 5 \\mod 26\n",
    "$$\n",
    "\n",
    "```"
   ]
  },
  {
   "cell_type": "markdown",
   "metadata": {},
   "source": [
    "### Finding $(182 \\times 39)~mod~8$"
   ]
  },
  {
   "cell_type": "code",
   "execution_count": null,
   "metadata": {},
   "outputs": [],
   "source": [
    "a = 182\n",
    "b = 39\n",
    "modulus = 8\n",
    "\n",
    "result = modular_multiplication(a, b, modulus)"
   ]
  },
  {
   "cell_type": "markdown",
   "metadata": {},
   "source": [
    "```{admonition} Explanation\n",
    ":class: tip, dropdown\n",
    "\n",
    "To find the result of \\( 182 \\times 39 \\) modulo \\( 8 \\), follow these steps:\n",
    "\n",
    "1. **Perform the multiplication**:\n",
    "\n",
    "$$\n",
    "182 \\times 39 = 7104\n",
    "$$\n",
    "\n",
    "2. **Find the remainder when divided by the modulus**:\n",
    "\n",
    "Now, calculate the remainder when \\( 7104 \\) is divided by \\( 8 \\):\n",
    "\n",
    "$$\n",
    "7104 \\div 8 = 888 \\text{ remainder } 0\n",
    "$$\n",
    "\n",
    "3. **Express the division**:\n",
    "\n",
    "$$\n",
    "7104 = 8 \\times 888 + 0\n",
    "$$\n",
    "\n",
    "4. **The remainder is the result of the modulo operation**:\n",
    "\n",
    "$$\n",
    "7104 \\mod 8 = 0\n",
    "$$\n",
    "\n",
    "Therefore:\n",
    "\n",
    "$$\n",
    "182 \\times 39 \\equiv 0 \\mod 8\n",
    "$$\n",
    "```"
   ]
  },
  {
   "cell_type": "markdown",
   "metadata": {},
   "source": [
    "### Finding $(123 \\times 291)~mod~39$"
   ]
  },
  {
   "cell_type": "code",
   "execution_count": 5,
   "metadata": {},
   "outputs": [
    {
     "name": "stdout",
     "output_type": "stream",
     "text": [
      "123 * 291 ≡ 30 (mod 39)\n"
     ]
    }
   ],
   "source": [
    "a = 123\n",
    "b = 291\n",
    "modulus = 39\n",
    "\n",
    "result = modular_multiplication(a, b, modulus)"
   ]
  },
  {
   "cell_type": "markdown",
   "metadata": {},
   "source": [
    "```{admonition} Explanation\n",
    ":class: tip, dropdown\n",
    "\n",
    "To find the result of \\( 123 \\times 291 \\) modulo \\( 39 \\), follow these steps:\n",
    "\n",
    "1. **Perform the multiplication**:\n",
    "\n",
    "$$\n",
    "123 \\times 291 = 35853\n",
    "$$\n",
    "\n",
    "2. **Find the remainder when divided by the modulus**:\n",
    "\n",
    "Now, calculate the remainder when \\( 35853 \\) is divided by \\( 39 \\):\n",
    "\n",
    "$$\n",
    "35853 \\div 39 = 919 \\text{ remainder } 32\n",
    "$$\n",
    "\n",
    "3. **Express the division**:\n",
    "\n",
    "$$\n",
    "35853 = 39 \\times 919 + 32\n",
    "$$\n",
    "\n",
    "4. **The remainder is the result of the modulo operation**:\n",
    "\n",
    "$$\n",
    "35853 \\mod 39 = 32\n",
    "$$\n",
    "\n",
    "Therefore:\n",
    "\n",
    "$$\n",
    "123 \\times 291 \\equiv 32 \\mod 39\n",
    "$$\n",
    "```"
   ]
  }
 ],
 "metadata": {
  "kernelspec": {
   "display_name": "jupyter-books",
   "language": "python",
   "name": "python3"
  },
  "language_info": {
   "codemirror_mode": {
    "name": "ipython",
    "version": 3
   },
   "file_extension": ".py",
   "mimetype": "text/x-python",
   "name": "python",
   "nbconvert_exporter": "python",
   "pygments_lexer": "ipython3",
   "version": "3.12.3"
  }
 },
 "nbformat": 4,
 "nbformat_minor": 2
}