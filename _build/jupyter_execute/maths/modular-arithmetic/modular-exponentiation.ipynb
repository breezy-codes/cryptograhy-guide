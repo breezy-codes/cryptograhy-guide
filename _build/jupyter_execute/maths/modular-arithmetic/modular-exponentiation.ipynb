{
 "cells": [
  {
   "cell_type": "markdown",
   "metadata": {},
   "source": [
    "# **Modular Exponentiation**\n",
    "\n",
    "Modular exponentiation involves raising a number to an exponent and then taking the remainder when the result is divided by the modulus. This operation is commonly used in fields such as cryptography.\n",
    "\n",
    "The formula for modular exponentiation of a number $a$ raised to an exponent $b$ with modulus $m$ is:\n",
    "\n",
    "$$a^b~\\mod~m$$\n",
    "\n",
    "## Steps to Perform Modular Exponentiation\n",
    "\n",
    "1. **Compute the Power $a^b$:**\n",
    "   Calculate the power of the base $a$ raised to the exponent $b$.\n",
    "\n",
    "2. **Apply the Modulus $m$:**\n",
    "   After computing $a^b$, take the remainder when the result is divided by the modulus $m$.\n",
    "\n",
    "However, computing $a^b$ directly for large $b$ can be computationally expensive and may result in very large intermediate results. Instead, we use an efficient method called **Exponentiation by Squaring** to perform modular exponentiation.\n",
    "\n",
    "### Exponentiation by Squaring\n",
    "\n",
    "Exponentiation by Squaring is an efficient algorithm to compute $a^b \\mod m$. It works by breaking down the exponentiation process into a series of squaring and multiplication steps, reducing the overall number of operations.\n",
    "\n",
    "### Steps of Exponentiation by Squaring:\n",
    "\n",
    "1. **Initialisation:**\n",
    "   Set the result to 1 and the base to $a$.\n",
    "\n",
    "2. **Iterate through the bits of the exponent $b$:**\n",
    "   - If the current bit is 1, multiply the result by the current base.\n",
    "   - Square the base for the next iteration.\n",
    "\n",
    "3. **Apply the modulus $m$ at each step:**\n",
    "   Take the remainder of both the result and the base with $m$ to keep the numbers manageable."
   ]
  },
  {
   "cell_type": "markdown",
   "metadata": {},
   "source": [
    "## Functions\n",
    "\n",
    "This time we will make two functions from the get go, one to initially show how to get the result, and one that can give you the steps for the Exponentiation by Squaring method."
   ]
  },
  {
   "cell_type": "code",
   "execution_count": 1,
   "metadata": {
    "tags": [
     "hide-input"
    ]
   },
   "outputs": [],
   "source": [
    "import sympy as sp\n",
    "from sympy import *\n",
    "from math import gcd"
   ]
  },
  {
   "cell_type": "code",
   "execution_count": 11,
   "metadata": {},
   "outputs": [],
   "source": [
    "def modular_exponentiation(base, exponent, modulus):\n",
    "    result = pow(base, exponent, modulus)\n",
    "    print(f\"{base}^{exponent} ≡ {result} (mod {modulus})\")\n",
    "    return result"
   ]
  },
  {
   "cell_type": "code",
   "execution_count": 12,
   "metadata": {},
   "outputs": [],
   "source": [
    "def modular_exponentiation_steps(base, exponent, modulus):\n",
    "    result = 1\n",
    "    base = base % modulus\n",
    "    steps = []\n",
    "\n",
    "    while exponent > 0:\n",
    "        if (exponent % 2) == 1:\n",
    "            result = (result * base) % modulus\n",
    "            steps.append(f\"Result updated to {result} after multiplying by base {base}\")\n",
    "        \n",
    "        base = (base * base) % modulus\n",
    "        steps.append(f\"Base squared and reduced modulo {modulus}: {base}\")\n",
    "\n",
    "        exponent = exponent // 2\n",
    "        steps.append(f\"Exponent shifted right: {exponent}\")\n",
    "\n",
    "    print(f\"Steps of computation:\")\n",
    "    for step in steps:\n",
    "        print(step)\n",
    "\n",
    "    print(f\"{base}^{exponent} ≡ {result} (mod {modulus})\")\n",
    "    return result\n"
   ]
  },
  {
   "cell_type": "markdown",
   "metadata": {},
   "source": [
    "## Examples"
   ]
  },
  {
   "cell_type": "markdown",
   "metadata": {},
   "source": [
    "### Finding the modular exponentiation of $11^{13}~mod~18$"
   ]
  },
  {
   "cell_type": "code",
   "execution_count": 14,
   "metadata": {},
   "outputs": [
    {
     "name": "stdout",
     "output_type": "stream",
     "text": [
      "11^13 ≡ 11 (mod 18)\n"
     ]
    }
   ],
   "source": [
    "a = 11\n",
    "exponent = 13\n",
    "modulus = 18\n",
    "\n",
    "result = modular_exponentiation(a, exponent, modulus)"
   ]
  },
  {
   "cell_type": "code",
   "execution_count": 7,
   "metadata": {},
   "outputs": [
    {
     "name": "stdout",
     "output_type": "stream",
     "text": [
      "Steps of computation:\n",
      "Result updated to 11 after multiplying by base 11\n",
      "Base squared and reduced modulo 30: 1\n",
      "Exponent shifted right: 6\n",
      "Base squared and reduced modulo 30: 1\n",
      "Exponent shifted right: 3\n",
      "Result updated to 11 after multiplying by base 1\n",
      "Base squared and reduced modulo 30: 1\n",
      "Exponent shifted right: 1\n",
      "Result updated to 11 after multiplying by base 1\n",
      "Base squared and reduced modulo 30: 1\n",
      "Exponent shifted right: 0\n",
      "1^0 ≡ 11 (mod 30)\n"
     ]
    }
   ],
   "source": [
    "result = modular_exponentiation_steps(a, exponent, modulus)"
   ]
  },
  {
   "cell_type": "markdown",
   "metadata": {},
   "source": [
    "### Finding the modular exponentiation of $283^{4}~mod~12$"
   ]
  },
  {
   "cell_type": "code",
   "execution_count": 16,
   "metadata": {},
   "outputs": [
    {
     "name": "stdout",
     "output_type": "stream",
     "text": [
      "283^4 ≡ 1 (mod 12)\n"
     ]
    }
   ],
   "source": [
    "a = 283\n",
    "exponent = 4\n",
    "modulus = 12\n",
    "\n",
    "result = modular_exponentiation(a, exponent, modulus)"
   ]
  },
  {
   "cell_type": "code",
   "execution_count": 17,
   "metadata": {},
   "outputs": [
    {
     "name": "stdout",
     "output_type": "stream",
     "text": [
      "Steps of computation:\n",
      "Base squared and reduced modulo 12: 1\n",
      "Exponent shifted right: 2\n",
      "Base squared and reduced modulo 12: 1\n",
      "Exponent shifted right: 1\n",
      "Result updated to 1 after multiplying by base 1\n",
      "Base squared and reduced modulo 12: 1\n",
      "Exponent shifted right: 0\n",
      "1^0 ≡ 1 (mod 12)\n"
     ]
    }
   ],
   "source": [
    "result = modular_exponentiation_steps(a, exponent, modulus)"
   ]
  },
  {
   "cell_type": "markdown",
   "metadata": {},
   "source": [
    "### Finding the modular exponentiation of $38273^{7}~mod~24$"
   ]
  },
  {
   "cell_type": "code",
   "execution_count": 23,
   "metadata": {},
   "outputs": [
    {
     "name": "stdout",
     "output_type": "stream",
     "text": [
      "38273^7 ≡ 17 (mod 24)\n"
     ]
    }
   ],
   "source": [
    "a = 38273\n",
    "exponent = 7\n",
    "modulus = 24\n",
    "\n",
    "result = modular_exponentiation(a, exponent, modulus)"
   ]
  },
  {
   "cell_type": "code",
   "execution_count": 24,
   "metadata": {},
   "outputs": [
    {
     "name": "stdout",
     "output_type": "stream",
     "text": [
      "Steps of computation:\n",
      "Result updated to 17 after multiplying by base 17\n",
      "Base squared and reduced modulo 24: 1\n",
      "Exponent shifted right: 3\n",
      "Result updated to 17 after multiplying by base 1\n",
      "Base squared and reduced modulo 24: 1\n",
      "Exponent shifted right: 1\n",
      "Result updated to 17 after multiplying by base 1\n",
      "Base squared and reduced modulo 24: 1\n",
      "Exponent shifted right: 0\n",
      "1^0 ≡ 17 (mod 24)\n"
     ]
    }
   ],
   "source": [
    "result = modular_exponentiation_steps(a, exponent, modulus)"
   ]
  }
 ],
 "metadata": {
  "kernelspec": {
   "display_name": "jupyter-books",
   "language": "python",
   "name": "python3"
  },
  "language_info": {
   "codemirror_mode": {
    "name": "ipython",
    "version": 3
   },
   "file_extension": ".py",
   "mimetype": "text/x-python",
   "name": "python",
   "nbconvert_exporter": "python",
   "pygments_lexer": "ipython3",
   "version": "3.12.3"
  }
 },
 "nbformat": 4,
 "nbformat_minor": 2
}