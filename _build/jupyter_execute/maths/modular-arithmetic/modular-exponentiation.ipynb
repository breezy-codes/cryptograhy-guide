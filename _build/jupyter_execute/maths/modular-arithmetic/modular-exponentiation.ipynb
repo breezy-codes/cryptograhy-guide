{
 "cells": [
  {
   "cell_type": "code",
   "execution_count": null,
   "metadata": {
    "vscode": {
     "languageId": "plaintext"
    }
   },
   "outputs": [],
   "source": [
    "import sympy as sp\n",
    "from sympy import *\n",
    "from math import gcd\n",
    "import random"
   ]
  },
  {
   "cell_type": "markdown",
   "metadata": {},
   "source": [
    "# **Modular Addition**\n",
    "\n",
    "Modular addition involves adding two numbers and then taking the remainder when the result is divided by the modulus.\n",
    "\n",
    "The formula for modular addition of two numbers $a$ and $b$ with modulus $m$ is:\n",
    "\n",
    "$$\n",
    "(a + b) \\mod m\n",
    "$$\n",
    "\n",
    "Steps:\n",
    "1. Add the numbers $a$ and $b$.\n",
    "2. Take the result and apply the modulus $m$ to find the remainder."
   ]
  },
  {
   "cell_type": "markdown",
   "metadata": {},
   "source": [
    "# **Modular Subtraction**\n",
    "\n",
    "Modular subtraction involves subtracting one number from another and then taking the remainder when the result is divided by the modulus.\n",
    "\n",
    "The formula for modular subtraction of two numbers $a$ and $b$ with modulus $m$ is:\n",
    "\n",
    "$$\n",
    "(a - b) \\mod m\n",
    "$$\n",
    "\n",
    "Steps:\n",
    "1. Subtract the number $b$ from $a$.\n",
    "2. If the result is negative, add the modulus $m$ until the result is non-negative.\n",
    "3. Apply the modulus $m$ to find the remainder."
   ]
  },
  {
   "cell_type": "markdown",
   "metadata": {},
   "source": [
    "# **Modular Multiplication**\n",
    "\n",
    "Modular multiplication involves multiplying two numbers and then taking the remainder when the result is divided by the modulus.\n",
    "\n",
    "The formula for modular multiplication of two numbers $a$ and $b$ with modulus $m$ is:\n",
    "\n",
    "$$\n",
    "(a \\times b) \\mod m\n",
    "$$\n",
    "\n",
    "Steps:\n",
    "1. Multiply the numbers $a$ and $b$.\n",
    "2. Apply the modulus $m$ to find the remainder.\n"
   ]
  },
  {
   "cell_type": "markdown",
   "metadata": {},
   "source": [
    "# **Modular Inverse**\n",
    "\n",
    "The modular inverse of a number $a$ modulo $m$ is a number $x$ such that:\n",
    "\n",
    "$$\n",
    "a \\times x \\equiv 1 \\mod m\n",
    "$$\n",
    "\n",
    "The modular inverse exists if and only if $a$ and $m$ are coprime (i.e., $\\text{gcd}(a, m) = 1$).\n",
    "\n",
    "To find the modular inverse of $a$ modulo $m$, you can use the Extended Euclidean Algorithm.\n"
   ]
  },
  {
   "cell_type": "markdown",
   "metadata": {},
   "source": [
    "# **Modular Exponentiation**\n",
    "\n",
    "Modular exponentiation involves raising a number to an exponent and then taking the remainder when the result is divided by the modulus.\n",
    "\n",
    "The formula for modular exponentiation of a number $a$ raised to an exponent $b$ with modulus $m$ is:\n",
    "\n",
    "$$\n",
    "a^b \\mod m\n",
    "$$\n",
    "\n",
    "Steps:\n",
    "1. Compute the power $a^b$.\n",
    "2. Apply the modulus $m$ to find the remainder."
   ]
  }
 ],
 "metadata": {
  "kernelspec": {
   "display_name": "jupyter-books",
   "language": "python",
   "name": "python3"
  },
  "language_info": {
   "codemirror_mode": {
    "name": "ipython",
    "version": 3
   },
   "file_extension": ".py",
   "mimetype": "text/x-python",
   "name": "python",
   "nbconvert_exporter": "python",
   "pygments_lexer": "ipython3",
   "version": "3.12.3"
  }
 },
 "nbformat": 4,
 "nbformat_minor": 2
}