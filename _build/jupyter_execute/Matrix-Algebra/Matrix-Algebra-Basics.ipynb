{
 "cells": [
  {
   "cell_type": "code",
   "execution_count": 1,
   "metadata": {},
   "outputs": [],
   "source": [
    "import sympy as sp"
   ]
  },
  {
   "cell_type": "markdown",
   "metadata": {},
   "source": [
    "# **Matrix Algebra Basics**\n",
    "\n",
    "---\n",
    "\n",
    "Matrix algebra is a branch of mathematics that deals with the study of matrices. A matrix is a rectangular array of numbers, symbols, or expressions, arranged in rows and columns. The numbers, symbols, or expressions in the matrix are called its elements or entries. The matrix is a powerful tool in mathematics and is used in various fields such as physics, engineering, computer science, and economics. In this notebook, we will learn the basics of matrix algebra, including matrix addition, matrix subtraction, matrix multiplication, and matrix division.\n",
    "\n",
    "### Table of Contents\n",
    "\n",
    "- [1. Introduction to Matrices](#1.-Introduction-to-Matrices)\n",
    "- [2. Matrix Addition](#2.-Matrix-Addition)\n",
    "- [3. Matrix Subtraction](#3.-Matrix-Subtraction)\n",
    "- [4. Matrix Multiplication](#4.-Matrix-Multiplication)\n",
    "- [5. Scalar Multiplication](#5.-Scalar-Multiplication)\n",
    "- [6. Introduction to Matrices](#6.-Introduction-to-Matrices)\n",
    "- [7. Matrix Calculations](#7.-Matrix-Calculations)\n",
    "- [8. Matrix Modular Arithmetic](#8.-Matrix-Modular-Arithmetic)\n",
    "---\n"
   ]
  },
  {
   "cell_type": "markdown",
   "metadata": {},
   "source": [
    "## **1. Introduction to Matrices**\n",
    "---\n",
    "\n",
    "A matrix is a rectangular array of numbers, symbols, or expressions, arranged in rows and columns. The numbers, symbols, or expressions in the matrix are called its elements or entries. A matrix is denoted by a capital letter, and its elements are denoted by lowercase letters with subscripts. For example, a matrix `A` with `m` rows and `n` columns can be represented as:\n",
    "```\n",
    "A = [a_ij]\n",
    "```\n",
    "where `a_ij` represents the element in the i-th row and j-th column of the matrix `A`. The size of a matrix is defined by the number of rows and columns it has. For example, a matrix with `m` rows and `n` columns is called an `m x n` matrix. The elements of a matrix can be real numbers, complex numbers, or other mathematical objects.\n",
    "\n",
    "A matrix can be classified based on its size and properties. Some common types of matrices include:\n",
    "- **Row Matrix**: A matrix with a single row and multiple columns.\n",
    "- **Column Matrix**: A matrix with a single column and multiple rows.\n",
    "- **Square Matrix**: A matrix with an equal number of rows and columns.\n",
    "- **Diagonal Matrix**: A square matrix in which all the elements outside the main diagonal are zero.\n",
    "- **Identity Matrix**: A square matrix in which all the elements of the main diagonal are one, and all other elements are zero.\n",
    "- **Zero Matrix**: A matrix in which all the elements are zero.\n",
    "- **Transpose of a Matrix**: The transpose of a matrix is obtained by interchanging its rows and columns.\n",
    "- **Symmetric Matrix**: A square matrix that is equal to its transpose.\n",
    "- **Skew-Symmetric Matrix**: A square matrix that is equal to the negative of its transpose.\n",
    "- **Orthogonal Matrix**: A square matrix whose transpose is equal to its inverse.\n",
    "- **Hermitian Matrix**: A matrix that is equal to its conjugate transpose.\n",
    "- **Unitary Matrix**: A square matrix whose conjugate transpose is equal to its inverse.\n",
    "\n",
    "## **2. Matrix Addition**\n",
    "---\n",
    "\n",
    "Matrix Addition is the process of adding two matrices of the same order. The order of a matrix is defined by the number of rows and columns it has. To add two matrices, we add the corresponding elements of the two matrices. The result is a new matrix with the same order as the original matrices.\n",
    "\n",
    "## **3. Matrix Subtraction**\n",
    "---\n",
    "\n",
    "Matrix subtraction is the process of subtracting one matrix from another. To subtract one matrix from another, we subtract the corresponding elements of the two matrices. The result is a new matrix with the same order as the original matrices.\n",
    "\n",
    "## **4. Matrix Multiplication**\n",
    "---\n",
    "\n",
    "Matrix multiplication is the process of multiplying two matrices to produce a new matrix. To multiply two matrices, the number of columns in the first matrix must be equal to the number of rows in the second matrix. The result is a new matrix with the number of rows of the first matrix and the number of columns of the second matrix.\n",
    "\n",
    "## **5. Scalar Multiplication**\n",
    "---\n",
    "\n",
    "Scalar multiplication is the process of multiplying a matrix by a scalar (a real number or complex number). To multiply a matrix by a scalar, we multiply each element of the matrix by the scalar. The result is a new matrix with the same order as the original matrix."
   ]
  },
  {
   "cell_type": "markdown",
   "metadata": {},
   "source": [
    "## **6. Introduction to Matrices**\n",
    "\n",
    "---"
   ]
  },
  {
   "cell_type": "markdown",
   "metadata": {},
   "source": [
    "#### Example of `2x2` and a `3x3` matrix:"
   ]
  },
  {
   "cell_type": "code",
   "execution_count": 27,
   "metadata": {},
   "outputs": [
    {
     "name": "stdout",
     "output_type": "stream",
     "text": [
      "2x2 Matrix:\n",
      "Matrix([[1, 2], [3, 4]])\n"
     ]
    }
   ],
   "source": [
    "matrix_2x2 = sp.Matrix([[1, 2], [3, 4]])\n",
    "print(\"2x2 Matrix:\")\n",
    "print(matrix_2x2)"
   ]
  },
  {
   "cell_type": "code",
   "execution_count": 28,
   "metadata": {},
   "outputs": [
    {
     "name": "stdout",
     "output_type": "stream",
     "text": [
      "\n",
      "3x3 Matrix:\n",
      "Matrix([[5, 6, 7], [8, 9, 10], [11, 12, 13]])\n"
     ]
    }
   ],
   "source": [
    "matrix_3x3 = sp.Matrix([[5, 6, 7], [8, 9, 10], [11, 12, 13]])\n",
    "print(\"\\n3x3 Matrix:\")\n",
    "print(matrix_3x3)"
   ]
  },
  {
   "cell_type": "markdown",
   "metadata": {},
   "source": [
    "#### Example of a zero matrix:"
   ]
  },
  {
   "cell_type": "code",
   "execution_count": 30,
   "metadata": {},
   "outputs": [
    {
     "name": "stdout",
     "output_type": "stream",
     "text": [
      "\n",
      "Zero Matrix (2x3):\n",
      "Matrix([[0, 0, 0], [0, 0, 0]])\n"
     ]
    }
   ],
   "source": [
    "zero_matrix = sp.zeros(2, 3)\n",
    "print(\"\\nZero Matrix (2x3):\")\n",
    "print(zero_matrix)"
   ]
  },
  {
   "cell_type": "markdown",
   "metadata": {},
   "source": [
    "#### Example of a symmetric matrix:"
   ]
  },
  {
   "cell_type": "code",
   "execution_count": 52,
   "metadata": {},
   "outputs": [
    {
     "name": "stdout",
     "output_type": "stream",
     "text": [
      "\n",
      "Symmetric Matrix:\n",
      "Matrix([[1, 2, 3], [2, 4, 5], [3, 5, 6]])\n"
     ]
    }
   ],
   "source": [
    "symmetric_matrix = sp.Matrix([[1, 2, 3], [2, 4, 5], [3, 5, 6]])\n",
    "print(\"\\nSymmetric Matrix:\")\n",
    "print(symmetric_matrix)"
   ]
  },
  {
   "cell_type": "code",
   "execution_count": 53,
   "metadata": {},
   "outputs": [
    {
     "name": "stdout",
     "output_type": "stream",
     "text": [
      "\n",
      "Identity Matrix:\n",
      "Matrix([[1, 0, 0], [0, 1, 0], [0, 0, 1]])\n"
     ]
    }
   ],
   "source": [
    "identity_matrix = sp.eye(3)\n",
    "print(\"\\nIdentity Matrix:\")\n",
    "print(identity_matrix)"
   ]
  },
  {
   "cell_type": "markdown",
   "metadata": {},
   "source": [
    "#### Example of a determinant of a matrix:"
   ]
  },
  {
   "cell_type": "code",
   "execution_count": 57,
   "metadata": {},
   "outputs": [
    {
     "name": "stdout",
     "output_type": "stream",
     "text": [
      "Determinant of matrix1:\n",
      "-2\n",
      "\n",
      "Determinant of matrix2:\n",
      "47\n"
     ]
    }
   ],
   "source": [
    "matrix1 = sp.Matrix([[1, 2], [3, 4]])\n",
    "matrix2 = sp.Matrix([[5, -3], [4, 7]])\n",
    "\n",
    "det_matrix1 = matrix1.det()\n",
    "print(\"Determinant of matrix1:\")\n",
    "print(det_matrix1)\n",
    "\n",
    "det_matrix2 = matrix2.det()\n",
    "print(\"\\nDeterminant of matrix2:\")\n",
    "print(det_matrix2)"
   ]
  },
  {
   "cell_type": "markdown",
   "metadata": {},
   "source": [
    "#### Example of an inverse of a matrix:"
   ]
  },
  {
   "cell_type": "code",
   "execution_count": 59,
   "metadata": {},
   "outputs": [
    {
     "name": "stdout",
     "output_type": "stream",
     "text": [
      "\n",
      "Inverse of matrix1:\n",
      "Matrix([[-2, 1], [3/2, -1/2]])\n",
      "\n",
      "Inverse of matrix2:\n",
      "Matrix([[7/47, 3/47], [-4/47, 5/47]])\n"
     ]
    }
   ],
   "source": [
    "matrix1 = sp.Matrix([[1, 2], [3, 4]])\n",
    "matrix2 = sp.Matrix([[5, -3], [4, 7]])\n",
    "\n",
    "inv_matrix1 = matrix1.inv()\n",
    "print(\"\\nInverse of matrix1:\")\n",
    "print(inv_matrix1)\n",
    "\n",
    "inv_matrix2 = matrix2.inv()\n",
    "print(\"\\nInverse of matrix2:\")\n",
    "print(inv_matrix2)"
   ]
  },
  {
   "cell_type": "markdown",
   "metadata": {},
   "source": [
    "#### Example of an adjoint (adjucate) of a matrix:"
   ]
  },
  {
   "cell_type": "code",
   "execution_count": 60,
   "metadata": {},
   "outputs": [
    {
     "name": "stdout",
     "output_type": "stream",
     "text": [
      "\n",
      "Adjoint (Adjugate) of matrix1:\n",
      "Matrix([[4, -2], [-3, 1]])\n",
      "\n",
      "Adjoint (Adjugate) of matrix2:\n",
      "Matrix([[7, 3], [-4, 5]])\n"
     ]
    }
   ],
   "source": [
    "matrix1 = sp.Matrix([[1, 2], [3, 4]])\n",
    "matrix2 = sp.Matrix([[5, -3], [4, 7]])\n",
    "\n",
    "adj_matrix1 = matrix1.adjugate()\n",
    "print(\"\\nAdjoint (Adjugate) of matrix1:\")\n",
    "print(adj_matrix1)\n",
    "\n",
    "adj_matrix2 = matrix2.adjugate()\n",
    "print(\"\\nAdjoint (Adjugate) of matrix2:\")\n",
    "print(adj_matrix2)"
   ]
  },
  {
   "cell_type": "markdown",
   "metadata": {},
   "source": [
    "#### Example of scalar multiplication and element-wise modulo operation:"
   ]
  },
  {
   "cell_type": "code",
   "execution_count": 63,
   "metadata": {},
   "outputs": [
    {
     "name": "stdout",
     "output_type": "stream",
     "text": [
      "\n",
      "Matrix1 * 5 % 6: Matrix([[5, 4], [3, 2]])\n",
      "Matrix2 * 5 % 6: Matrix([[7, 3], [2, 8]])\n"
     ]
    }
   ],
   "source": [
    "matrix1 = sp.Matrix([[1, 2], [3, 4]])\n",
    "matrix2 = sp.Matrix([[5, -3], [4, 7]])\n",
    "\n",
    "result1 = (matrix1 * 5) % 6\n",
    "result2 = (matrix2 * 5) % 9\n",
    "\n",
    "print(f\"\\nMatrix1 * 5 % 6: {result1}\")\n",
    "print(f\"Matrix2 * 5 % 6: {result2}\")"
   ]
  },
  {
   "cell_type": "markdown",
   "metadata": {},
   "source": [
    "## **7. Matrix Calculations**\n",
    "\n",
    "---"
   ]
  },
  {
   "cell_type": "markdown",
   "metadata": {},
   "source": [
    "Here are a series of matrix calculations performed on different matrices to demonstrate the basic operations of matrix algebra.\n",
    "\n",
    "The following function is used to perform the following basic matrix calculations:\n",
    "- `result_matrices_addition`: Performs the addition of two matrices by summing their corresponding elements.\n",
    "- `result_matrices_subtraction`: Calculates the difference between two matrices by subtracting the elements of the second matrix from the first.\n",
    "- `result_matrices_multiplication`: Computes the product of two matrices by performing the dot product of rows and columns.\n",
    "- `result_elementwise_multiplication`: Executes element-wise multiplication by multiplying corresponding elements of two matrices individually.\n",
    "- `result_scalar_multiplication`: Multiplies each element of a matrix by a given scalar value.\n",
    "- `transpose_matrix`: Produces the transpose of a matrix by swapping its rows with its columns.\n",
    "- `determinant_matrix`: Determines the determinant of a square matrix, which is a scalar value representing the matrix's scaling factor.\n",
    "- `inverse_matrix`: Calculates the inverse of a square matrix, which, when multiplied by the original matrix, yields the identity matrix.\n",
    "- `hermitian_matrix`: Checks if a matrix is Hermitian by verifying that it is equal to its own conjugate transpose.\n",
    "- `adjoint_matrix`: Computes the adjoint (or adjugate) of a matrix, which is the transpose of its cofactor matrix.\n",
    "- Then the results are printed for each of the calculations.\n",
    "\n",
    "This is combined into one singular function to provide examples of each on a few different matrices without duplicating code. If you would like to do calculations with just one you can use the individual functions provided in your own code snippet."
   ]
  },
  {
   "cell_type": "code",
   "execution_count": 43,
   "metadata": {},
   "outputs": [],
   "source": [
    "def print_matrix(matrix1, matrix2, scalar):\n",
    "    result_multiplication = matrix1 * matrix2 # Matrix Multiplication\n",
    "    result_addition = matrix1 + matrix2 # Matrix Addition\n",
    "    result_subtraction = matrix1 - matrix2 # Matrix Subtraction\n",
    "    result_elementwise = matrix1.multiply_elementwise(matrix2) # Elementwise Multiplication\n",
    "    result_scalar = matrix1 * scalar # Scalar Multiplication\n",
    "    transpose_matrix = matrix1.transpose() # Transpose of a Matrix\n",
    "    determinant_matrix = matrix1.det() # Determinant of a Matrix\n",
    "    inverse_matrix = matrix1.inv() # Inverse of a Matrix\n",
    "    hermatian_matrix = matrix1.H # Hermatian of a Matrix\n",
    "    adjoint_matrix = matrix1.adjoint() # Adjoint of a Matrix\n",
    "    \n",
    "    print(f\"Matrix 1: {matrix1}\")\n",
    "    print(f\"\\nMatrix 2: {matrix2}\")\n",
    "    print(f\"\\nResult of Matrix Addition: {result_addition}\")\n",
    "    print(f\"\\nResult of Matrix Subtraction: {result_subtraction}\")\n",
    "    print(f\"\\nResult of Matrix Multiplication: {result_multiplication}\")\n",
    "    print(f\"\\nResult of Elementwise Multiplication: {result_elementwise}\")\n",
    "    print(f\"\\nResult of Scalar Multiplication by {scalar}: {result_scalar}\")\n",
    "    print(f\"\\nTranspose of Matrix 1: {transpose_matrix}\")\n",
    "    print(f\"\\nDeterminant of Matrix 1: {determinant_matrix}\")\n",
    "    print(f\"\\nInverse of Matrix 1: {inverse_matrix}\")\n",
    "    print(f\"\\nHermatian of Matrix 1: {hermatian_matrix}\")\n",
    "    print(f\"\\nAdjoint of Matrix 1: {adjoint_matrix}\")"
   ]
  },
  {
   "cell_type": "code",
   "execution_count": 44,
   "metadata": {},
   "outputs": [
    {
     "name": "stdout",
     "output_type": "stream",
     "text": [
      "Matrix 1: Matrix([[1, 2], [3, 4]])\n",
      "\n",
      "Matrix 2: Matrix([[5, 6], [7, 8]])\n",
      "\n",
      "Result of Matrix Addition: Matrix([[6, 8], [10, 12]])\n",
      "\n",
      "Result of Matrix Subtraction: Matrix([[-4, -4], [-4, -4]])\n",
      "\n",
      "Result of Matrix Multiplication: Matrix([[19, 22], [43, 50]])\n",
      "\n",
      "Result of Elementwise Multiplication: Matrix([[5, 12], [21, 32]])\n",
      "\n",
      "Result of Scalar Multiplication by 2: Matrix([[2, 4], [6, 8]])\n",
      "\n",
      "Transpose of Matrix 1: Matrix([[1, 3], [2, 4]])\n",
      "\n",
      "Determinant of Matrix 1: -2\n",
      "\n",
      "Inverse of Matrix 1: Matrix([[-2, 1], [3/2, -1/2]])\n",
      "\n",
      "Hermatian of Matrix 1: Matrix([[1, 3], [2, 4]])\n",
      "\n",
      "Adjoint of Matrix 1: Matrix([[1, 3], [2, 4]])\n"
     ]
    }
   ],
   "source": [
    "matrix1 = sp.Matrix([[1, 2], [3, 4]])\n",
    "matrix2 = sp.Matrix([[5, 6], [7, 8]])\n",
    "scalar = 2 # This is the value for a scalar multiplication, you can modify this to any value\n",
    "print_matrix(matrix1, matrix2, scalar)"
   ]
  },
  {
   "cell_type": "code",
   "execution_count": 45,
   "metadata": {},
   "outputs": [
    {
     "name": "stdout",
     "output_type": "stream",
     "text": [
      "Matrix 1: Matrix([[9, 3, 5], [2, 8, 7], [1, 6, 4]])\n",
      "\n",
      "Matrix 2: Matrix([[4, 1, 7], [6, 5, 3], [2, 9, 8]])\n",
      "\n",
      "Result of Matrix Addition: Matrix([[13, 4, 12], [8, 13, 10], [3, 15, 12]])\n",
      "\n",
      "Result of Matrix Subtraction: Matrix([[5, 2, -2], [-4, 3, 4], [-1, -3, -4]])\n",
      "\n",
      "Result of Matrix Multiplication: Matrix([[64, 69, 112], [70, 105, 94], [48, 67, 57]])\n",
      "\n",
      "Result of Elementwise Multiplication: Matrix([[36, 3, 35], [12, 40, 21], [2, 54, 32]])\n",
      "\n",
      "Result of Scalar Multiplication by 9: Matrix([[81, 27, 45], [18, 72, 63], [9, 54, 36]])\n",
      "\n",
      "Transpose of Matrix 1: Matrix([[9, 2, 1], [3, 8, 6], [5, 7, 4]])\n",
      "\n",
      "Determinant of Matrix 1: -73\n",
      "\n",
      "Inverse of Matrix 1: Matrix([[10/73, -18/73, 19/73], [1/73, -31/73, 53/73], [-4/73, 51/73, -66/73]])\n",
      "\n",
      "Hermatian of Matrix 1: Matrix([[9, 2, 1], [3, 8, 6], [5, 7, 4]])\n",
      "\n",
      "Adjoint of Matrix 1: Matrix([[9, 2, 1], [3, 8, 6], [5, 7, 4]])\n"
     ]
    }
   ],
   "source": [
    "matrix1 = sp.Matrix([[9, 3, 5], [2, 8, 7], [1, 6, 4]])\n",
    "matrix2 = sp.Matrix([[4, 1, 7], [6, 5, 3], [2, 9, 8]])\n",
    "scalar = 9 # This is the value for a scalar multiplication, you can modify this to any value\n",
    "print_matrix(matrix1, matrix2, scalar)"
   ]
  },
  {
   "cell_type": "code",
   "execution_count": 46,
   "metadata": {},
   "outputs": [
    {
     "name": "stdout",
     "output_type": "stream",
     "text": [
      "Matrix 1: Matrix([[1, 4, 2, 8], [3, 6, 7, 5], [9, 1, 3, 2], [4, 8, 6, 7]])\n",
      "\n",
      "Matrix 2: Matrix([[5, 2, 9, 1], [7, 3, 8, 6], [4, 7, 1, 9], [2, 5, 3, 4]])\n",
      "\n",
      "Result of Matrix Addition: Matrix([[6, 6, 11, 9], [10, 9, 15, 11], [13, 8, 4, 11], [6, 13, 9, 11]])\n",
      "\n",
      "Result of Matrix Subtraction: Matrix([[-4, 2, -7, 7], [-4, 3, -1, -1], [5, -6, 2, -7], [2, 3, 3, 3]])\n",
      "\n",
      "Result of Matrix Multiplication: Matrix([[57, 68, 67, 75], [95, 98, 97, 122], [68, 52, 98, 50], [114, 109, 127, 134]])\n",
      "\n",
      "Result of Elementwise Multiplication: Matrix([[5, 8, 18, 8], [21, 18, 56, 30], [36, 7, 3, 18], [8, 40, 18, 28]])\n",
      "\n",
      "Result of Scalar Multiplication by 6: Matrix([[6, 24, 12, 48], [18, 36, 42, 30], [54, 6, 18, 12], [24, 48, 36, 42]])\n",
      "\n",
      "Transpose of Matrix 1: Matrix([[1, 3, 9, 4], [4, 6, 1, 8], [2, 7, 3, 6], [8, 5, 2, 7]])\n",
      "\n",
      "Determinant of Matrix 1: -775\n",
      "\n",
      "Inverse of Matrix 1: Matrix([[-27/775, -18/155, 88/775, 14/155], [-148/775, -47/155, -63/775, 71/155], [17/775, 63/155, 2/775, -49/155], [34/155, 2/31, 4/155, -5/31]])\n",
      "\n",
      "Hermatian of Matrix 1: Matrix([[1, 3, 9, 4], [4, 6, 1, 8], [2, 7, 3, 6], [8, 5, 2, 7]])\n",
      "\n",
      "Adjoint of Matrix 1: Matrix([[1, 3, 9, 4], [4, 6, 1, 8], [2, 7, 3, 6], [8, 5, 2, 7]])\n"
     ]
    }
   ],
   "source": [
    "matrix1 = sp.Matrix([[1, 4, 2, 8], [3, 6, 7, 5], [9, 1, 3, 2], [4, 8, 6, 7]])\n",
    "matrix2 = sp.Matrix([[5, 2, 9, 1], [7, 3, 8, 6], [4, 7, 1, 9], [2, 5, 3, 4]])\n",
    "scalar = 6 # This is the value for a scalar multiplication, you can modify this to any value\n",
    "print_matrix(matrix1, matrix2, scalar)"
   ]
  },
  {
   "cell_type": "markdown",
   "metadata": {},
   "source": [
    "### Here are some examples of matrix addition with negative numbers as well:"
   ]
  },
  {
   "cell_type": "code",
   "execution_count": 47,
   "metadata": {},
   "outputs": [
    {
     "name": "stdout",
     "output_type": "stream",
     "text": [
      "Matrix 1: Matrix([[9, -3, 5], [-2, 8, -7], [1, -6, 4]])\n",
      "\n",
      "Matrix 2: Matrix([[4, -1, -7], [6, -5, 3], [-2, 9, -8]])\n",
      "\n",
      "Result of Matrix Addition: Matrix([[13, -4, -2], [4, 3, -4], [-1, 3, -4]])\n",
      "\n",
      "Result of Matrix Subtraction: Matrix([[5, -2, 12], [-8, 13, -10], [3, -15, 12]])\n",
      "\n",
      "Result of Matrix Multiplication: Matrix([[8, 51, -112], [54, -101, 94], [-40, 65, -57]])\n",
      "\n",
      "Result of Elementwise Multiplication: Matrix([[36, 3, -35], [-12, -40, -21], [-2, -54, -32]])\n",
      "\n",
      "Result of Scalar Multiplication by -2: Matrix([[-18, 6, -10], [4, -16, 14], [-2, 12, -8]])\n",
      "\n",
      "Transpose of Matrix 1: Matrix([[9, -2, 1], [-3, 8, -6], [5, -7, 4]])\n",
      "\n",
      "Determinant of Matrix 1: -73\n",
      "\n",
      "Inverse of Matrix 1: Matrix([[10/73, 18/73, 19/73], [-1/73, -31/73, -53/73], [-4/73, -51/73, -66/73]])\n",
      "\n",
      "Hermatian of Matrix 1: Matrix([[9, -2, 1], [-3, 8, -6], [5, -7, 4]])\n",
      "\n",
      "Adjoint of Matrix 1: Matrix([[9, -2, 1], [-3, 8, -6], [5, -7, 4]])\n"
     ]
    }
   ],
   "source": [
    "matrix1 = sp.Matrix([[9, -3, 5], [-2, 8, -7], [1, -6, 4]])\n",
    "matrix2 = sp.Matrix([[4, -1, -7], [6, -5, 3], [-2, 9, -8]])\n",
    "scalar = -2 # This is the value for a scalar multiplication, you can modify this to any value\n",
    "print_matrix(matrix1, matrix2, scalar)"
   ]
  },
  {
   "cell_type": "code",
   "execution_count": 48,
   "metadata": {},
   "outputs": [
    {
     "name": "stdout",
     "output_type": "stream",
     "text": [
      "Matrix 1: Matrix([[1, -4, 2, 8], [-3, 6, -7, 5], [9, -1, 3, -2], [4, -8, 6, -7]])\n",
      "\n",
      "Matrix 2: Matrix([[-5, 2, -9, 1], [7, -3, 8, -6], [-4, 7, -1, 9], [2, -5, 3, 4]])\n",
      "\n",
      "Result of Matrix Addition: Matrix([[-4, -2, -7, 9], [4, 3, 1, -1], [5, 6, 2, 7], [6, -13, 9, -3]])\n",
      "\n",
      "Result of Matrix Subtraction: Matrix([[6, -6, 11, 7], [-10, 9, -15, 11], [13, -8, 4, -11], [2, -3, 3, -11]])\n",
      "\n",
      "Result of Matrix Multiplication: Matrix([[-25, -12, -19, 75], [95, -98, 97, -82], [-68, 52, -98, 34], [-114, 109, -127, 78]])\n",
      "\n",
      "Result of Elementwise Multiplication: Matrix([[-5, -8, -18, 8], [-21, -18, -56, -30], [-36, -7, -3, -18], [8, 40, 18, -28]])\n",
      "\n",
      "Result of Scalar Multiplication by -52: Matrix([[-52, 208, -104, -416], [156, -312, 364, -260], [-468, 52, -156, 104], [-208, 416, -312, 364]])\n",
      "\n",
      "Transpose of Matrix 1: Matrix([[1, -3, 9, 4], [-4, 6, -1, -8], [2, -7, 3, 6], [8, 5, -2, -7]])\n",
      "\n",
      "Determinant of Matrix 1: -1945\n",
      "\n",
      "Inverse of Matrix 1: Matrix([[27/1945, 198/1945, 232/1945, 106/1945], [-148/1945, -437/1945, 97/1945, -509/1945], [-17/1945, -773/1945, -2/1945, -571/1945], [34/389, -10/389, 4/389, -25/389]])\n",
      "\n",
      "Hermatian of Matrix 1: Matrix([[1, -3, 9, 4], [-4, 6, -1, -8], [2, -7, 3, 6], [8, 5, -2, -7]])\n",
      "\n",
      "Adjoint of Matrix 1: Matrix([[1, -3, 9, 4], [-4, 6, -1, -8], [2, -7, 3, 6], [8, 5, -2, -7]])\n"
     ]
    }
   ],
   "source": [
    "matrix1 = sp.Matrix([[1, -4, 2, 8], [-3, 6, -7, 5], [9, -1, 3, -2], [4, -8, 6, -7]])\n",
    "matrix2 = sp.Matrix([[-5, 2, -9, 1], [7, -3, 8, -6], [-4, 7, -1, 9], [2, -5, 3, 4]])\n",
    "scalar = -52 # This is the value for a scalar multiplication, you can modify this to any value\n",
    "print_matrix(matrix1, matrix2, scalar)"
   ]
  },
  {
   "cell_type": "markdown",
   "metadata": {},
   "source": [
    "### Here is an example with larger numbers:"
   ]
  },
  {
   "cell_type": "code",
   "execution_count": 49,
   "metadata": {},
   "outputs": [
    {
     "name": "stdout",
     "output_type": "stream",
     "text": [
      "Matrix 1: Matrix([[95, -34, 52], [-26, 87, -74], [18, -63, 41]])\n",
      "\n",
      "Matrix 2: Matrix([[43, -12, -78], [66, -59, 31], [-21, 96, -85]])\n",
      "\n",
      "Result of Matrix Addition: Matrix([[138, -46, -26], [40, 28, -43], [-3, 33, -44]])\n",
      "\n",
      "Result of Matrix Subtraction: Matrix([[52, -22, 130], [-92, 146, -105], [39, -159, 126]])\n",
      "\n",
      "Result of Matrix Multiplication: Matrix([[749, 5858, -12884], [6178, -11925, 11015], [-4245, 7437, -6842]])\n",
      "\n",
      "Result of Elementwise Multiplication: Matrix([[4085, 408, -4056], [-1716, -5133, -2294], [-378, -6048, -3485]])\n",
      "\n",
      "Result of Scalar Multiplication by 62: Matrix([[5890, -2108, 3224], [-1612, 5394, -4588], [1116, -3906, 2542]])\n",
      "\n",
      "Transpose of Matrix 1: Matrix([[95, -26, 18], [-34, 87, -63], [52, -74, 41]])\n",
      "\n",
      "Determinant of Matrix 1: -91237\n",
      "\n",
      "Inverse of Matrix 1: Matrix([[1095/91237, 1882/91237, 2008/91237], [266/91237, -2959/91237, -5678/91237], [-72/91237, -5373/91237, -7381/91237]])\n",
      "\n",
      "Hermatian of Matrix 1: Matrix([[95, -26, 18], [-34, 87, -63], [52, -74, 41]])\n",
      "\n",
      "Adjoint of Matrix 1: Matrix([[95, -26, 18], [-34, 87, -63], [52, -74, 41]])\n"
     ]
    }
   ],
   "source": [
    "matrix1 = sp.Matrix([[95, -34, 52], [-26, 87, -74], [18, -63, 41]])\n",
    "matrix2 = sp.Matrix([[43, -12, -78], [66, -59, 31], [-21, 96, -85]])\n",
    "scalar = 62 # This is the value for a scalar multiplication, you can modify this to any value\n",
    "print_matrix(matrix1, matrix2, scalar)"
   ]
  },
  {
   "cell_type": "code",
   "execution_count": 50,
   "metadata": {},
   "outputs": [
    {
     "name": "stdout",
     "output_type": "stream",
     "text": [
      "Matrix 1: Matrix([[14, -48, 23, 87], [-35, 62, -77, 59], [92, -15, 36, -28], [49, -81, 67, -73]])\n",
      "\n",
      "Matrix 2: Matrix([[-57, 26, -94, 11], [75, -38, 83, -67], [-46, 79, -12, 98], [23, -54, 39, 42]])\n",
      "\n",
      "Result of Matrix Addition: Matrix([[-43, -22, -71, 98], [40, 24, 6, -8], [46, 64, 24, 70], [72, -135, 106, -31]])\n",
      "\n",
      "Result of Matrix Subtraction: Matrix([[71, -74, 117, 76], [-110, 100, -160, 126], [138, -94, 48, -126], [26, -27, 28, -115]])\n",
      "\n",
      "Result of Matrix Multiplication: Matrix([[-3455, -693, -2183, 9278], [11544, -12535, 11661, -9607], [-8669, 7318, -11417, 4369], [-13629, 13587, -14980, 9466]])\n",
      "\n",
      "Result of Elementwise Multiplication: Matrix([[-798, -1248, -2162, 957], [-2625, -2356, -6391, -3953], [-4232, -1185, -432, -2744], [1127, 4374, 2613, -3066]])\n",
      "\n",
      "Result of Scalar Multiplication by 0: Matrix([[0, 0, 0, 0], [0, 0, 0, 0], [0, 0, 0, 0], [0, 0, 0, 0]])\n",
      "\n",
      "Transpose of Matrix 1: Matrix([[14, -35, 92, 49], [-48, 62, -15, -81], [23, -77, 36, 67], [87, 59, -28, -73]])\n",
      "\n",
      "Determinant of Matrix 1: -22360756\n",
      "\n",
      "Inverse of Matrix 1: Matrix([[6049/5590189, 57333/5590189, 66776/5590189, 27934/5590189], [-31392/5590189, -123796/5590189, 38829/5590189, -152360/5590189], [5980/5590189, -857313/22360756, 30247/22360756, -675991/22360756], [44381/5590189, -83463/22360756, 34713/22360756, -175513/22360756]])\n",
      "\n",
      "Hermatian of Matrix 1: Matrix([[14, -35, 92, 49], [-48, 62, -15, -81], [23, -77, 36, 67], [87, 59, -28, -73]])\n",
      "\n",
      "Adjoint of Matrix 1: Matrix([[14, -35, 92, 49], [-48, 62, -15, -81], [23, -77, 36, 67], [87, 59, -28, -73]])\n"
     ]
    }
   ],
   "source": [
    "matrix1 = sp.Matrix([[14, -48, 23, 87], [-35, 62, -77, 59], [92, -15, 36, -28], [49, -81, 67, -73]])\n",
    "matrix2 = sp.Matrix([[-57, 26, -94, 11], [75, -38, 83, -67], [-46, 79, -12, 98], [23, -54, 39, 42]])\n",
    "scalar = 0 # This is the value for a scalar multiplication, you can modify this to any value\n",
    "print_matrix(matrix1, matrix2, scalar)"
   ]
  },
  {
   "cell_type": "markdown",
   "metadata": {},
   "source": [
    "## **8. Matrix Modular Arithmetic**\n",
    "\n",
    "---"
   ]
  },
  {
   "cell_type": "markdown",
   "metadata": {},
   "source": [
    "Modular arithmetic is a system of arithmetic for integers, where numbers \"wrap around\" upon reaching a certain value called the modulus. In modular arithmetic, numbers are considered equivalent if they have the same remainder when divided by the modulus. This system is used in various applications, including cryptography, computer science, and number theory.\n",
    "\n",
    "A great way to think of this is as a clock, where the modulus is 12. When the clock reaches 12, it wraps around to 1. This is the same concept with modular arithmetic."
   ]
  },
  {
   "cell_type": "markdown",
   "metadata": {},
   "source": [
    "The following function is used to perform the following basic matrix calculations with modular arithmetic:"
   ]
  },
  {
   "cell_type": "code",
   "execution_count": 64,
   "metadata": {},
   "outputs": [],
   "source": [
    "def print_modulo(matrix1, matrix2, modulo):\n",
    "    result_modulo = (matrix1 * matrix2) % modulo # Matrix Multiplication modulo\n",
    "    print(f\"Matrix 1: {matrix1}\")\n",
    "    print(f\"\\nMatrix 2: {matrix2}\")\n",
    "    print(f\"\\nResult of Matrix Multiplication % {modulo}: {result_modulo}\")"
   ]
  },
  {
   "cell_type": "code",
   "execution_count": 65,
   "metadata": {},
   "outputs": [
    {
     "name": "stdout",
     "output_type": "stream",
     "text": [
      "Matrix 1: Matrix([[1, 2], [3, 4]])\n",
      "\n",
      "Matrix 2: Matrix([[5, 6], [7, 8]])\n",
      "\n",
      "Result of Matrix Multiplication % 6: Matrix([[1, 4], [1, 2]])\n"
     ]
    }
   ],
   "source": [
    "matrix1 = sp.Matrix([[1, 2], [3, 4]])\n",
    "matrix2 = sp.Matrix([[5, 6], [7, 8]])\n",
    "modulo = 6 # This is the value for a modulo operation, you can modify this to any value\n",
    "print_modulo(matrix1, matrix2, modulo)"
   ]
  },
  {
   "cell_type": "code",
   "execution_count": 66,
   "metadata": {},
   "outputs": [
    {
     "name": "stdout",
     "output_type": "stream",
     "text": [
      "Matrix 1: Matrix([[9, 3, 5], [2, 8, 7], [1, 6, 4]])\n",
      "\n",
      "Matrix 2: Matrix([[4, 1, 7], [6, 5, 3], [2, 9, 8]])\n",
      "\n",
      "Result of Matrix Multiplication % 6: Matrix([[4, 3, 4], [4, 3, 4], [0, 1, 3]])\n"
     ]
    }
   ],
   "source": [
    "matrix1 = sp.Matrix([[9, 3, 5], [2, 8, 7], [1, 6, 4]])\n",
    "matrix2 = sp.Matrix([[4, 1, 7], [6, 5, 3], [2, 9, 8]])\n",
    "modulo = 6 # This is the value for a modulo operation, you can modify this to any value\n",
    "print_modulo(matrix1, matrix2, modulo)"
   ]
  },
  {
   "cell_type": "code",
   "execution_count": 67,
   "metadata": {},
   "outputs": [
    {
     "name": "stdout",
     "output_type": "stream",
     "text": [
      "Matrix 1: Matrix([[9, -3, 5], [-2, 8, -7], [1, -6, 4]])\n",
      "\n",
      "Matrix 2: Matrix([[4, -1, -7], [6, -5, 3], [-2, 9, -8]])\n",
      "\n",
      "Result of Matrix Multiplication % 3: Matrix([[2, 0, 2], [0, 1, 1], [2, 2, 0]])\n"
     ]
    }
   ],
   "source": [
    "matrix1 = sp.Matrix([[9, -3, 5], [-2, 8, -7], [1, -6, 4]])\n",
    "matrix2 = sp.Matrix([[4, -1, -7], [6, -5, 3], [-2, 9, -8]])\n",
    "modulo = 3 # This is the value for a modulo operation, you can modify this to any value\n",
    "print_modulo(matrix1, matrix2, modulo)"
   ]
  },
  {
   "cell_type": "code",
   "execution_count": 68,
   "metadata": {},
   "outputs": [
    {
     "name": "stdout",
     "output_type": "stream",
     "text": [
      "Matrix 1: Matrix([[95, -34, 52], [-26, 87, -74], [18, -63, 41]])\n",
      "\n",
      "Matrix 2: Matrix([[43, -12, -78], [66, -59, 31], [-21, 96, -85]])\n",
      "\n",
      "Result of Matrix Multiplication % 12: Matrix([[5, 2, 4], [10, 3, 11], [3, 9, 10]])\n"
     ]
    }
   ],
   "source": [
    "matrix1 = sp.Matrix([[95, -34, 52], [-26, 87, -74], [18, -63, 41]])\n",
    "matrix2 = sp.Matrix([[43, -12, -78], [66, -59, 31], [-21, 96, -85]])\n",
    "modulo = 12 # This is the value for a modulo operation, you can modify this to any value\n",
    "print_modulo(matrix1, matrix2, modulo)"
   ]
  }
 ],
 "metadata": {
  "kernelspec": {
   "display_name": "cryptography",
   "language": "python",
   "name": "python3"
  },
  "language_info": {
   "codemirror_mode": {
    "name": "ipython",
    "version": 3
   },
   "file_extension": ".py",
   "mimetype": "text/x-python",
   "name": "python",
   "nbconvert_exporter": "python",
   "pygments_lexer": "ipython3",
   "version": "3.12.3"
  }
 },
 "nbformat": 4,
 "nbformat_minor": 2
}