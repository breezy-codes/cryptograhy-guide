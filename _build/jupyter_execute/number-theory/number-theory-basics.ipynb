{
 "cells": [
  {
   "cell_type": "code",
   "execution_count": 1,
   "metadata": {},
   "outputs": [
    {
     "ename": "ModuleNotFoundError",
     "evalue": "No module named 'sympy'",
     "output_type": "error",
     "traceback": [
      "\u001b[0;31m---------------------------------------------------------------------------\u001b[0m",
      "\u001b[0;31mModuleNotFoundError\u001b[0m                       Traceback (most recent call last)",
      "Cell \u001b[0;32mIn[1], line 1\u001b[0m\n\u001b[0;32m----> 1\u001b[0m \u001b[38;5;28;01mimport\u001b[39;00m \u001b[38;5;21;01msympy\u001b[39;00m\n\u001b[1;32m      2\u001b[0m \u001b[38;5;28;01mfrom\u001b[39;00m \u001b[38;5;21;01msympy\u001b[39;00m \u001b[38;5;28;01mimport\u001b[39;00m \u001b[38;5;241m*\u001b[39m\n\u001b[1;32m      3\u001b[0m \u001b[38;5;28;01mfrom\u001b[39;00m \u001b[38;5;21;01mmath\u001b[39;00m \u001b[38;5;28;01mimport\u001b[39;00m gcd\n",
      "\u001b[0;31mModuleNotFoundError\u001b[0m: No module named 'sympy'"
     ]
    }
   ],
   "source": [
    "import sympy\n",
    "from sympy import *\n",
    "from math import gcd\n",
    "import random"
   ]
  },
  {
   "cell_type": "markdown",
   "metadata": {},
   "source": [
    "# **Number Theory Basics**\n",
    "---\n",
    "\n",
    "Number theory is a branch of mathematics that deals with the properties and relationships of numbers, especially the integers. It is a fundamental branch of mathematics that has applications in many fields, including computer science, cryptography, and physics. In this notebook, we will cover some basic concepts in number theory, including prime numbers, Fermat's Little Theorem, coprimes, and the greatest common divisor (GCD) and least common multiple (LCM) of two numbers.\n",
    "\n",
    "Check out the [Modular Arithmetic File](Modular-Arithmetic.ipynb) for concepts of Modular Arithmetic and periodicity.\n",
    "\n",
    "### Table of Contents\n",
    "\n",
    "- [1. Prime Numbers](#1.prime-numbers)\n",
    "- [2. Generating Prime Numbers](#2.generating-prime-numbers)\n",
    "- [3. Checking if a number is prime with Fermat's Little Theorem](#3.checking-if-a-number-is-prime-with-fermats-little-theorem)\n",
    "- [4. Finding the coprime of a number](#4.finding-the-coprime-of-a-number)\n",
    "- [5. Finding the GCD and LCM of two numbers](#5.finding-the-gcd-and-lcm-of-two-numbers)\n",
    "- [6. Prime Factorisation](#6.prime-factorisation)\n",
    "\n",
    "---"
   ]
  },
  {
   "cell_type": "markdown",
   "metadata": {},
   "source": [
    "# **1. Prime Numbers**\n",
    "---"
   ]
  },
  {
   "cell_type": "markdown",
   "metadata": {},
   "source": [
    "## Checing if  number is prime or not\n",
    "\n",
    "To check if a number is prime or not, we need to check if it is divisible by any number other than 1 and itself. We can do this by iterating over all numbers from 2 to the square root of the number and checking if the number is divisible by any of them. If the number is divisible by any number other than 1 and itself, then it is not prime."
   ]
  },
  {
   "cell_type": "code",
   "execution_count": 10,
   "metadata": {},
   "outputs": [],
   "source": [
    "def is_prime(n):\n",
    "    if n <= 1:\n",
    "        print(f\"The number {n} is not prime\")\n",
    "        return False\n",
    "    for i in range(2, int(sp.sqrt(n)) + 1):\n",
    "        if n % i == 0:\n",
    "            print(f\"The number {n} is not prime\")\n",
    "            return False\n",
    "    print(f\"The number {n} is prime\")\n",
    "    return True"
   ]
  },
  {
   "cell_type": "code",
   "execution_count": 11,
   "metadata": {},
   "outputs": [
    {
     "name": "stdout",
     "output_type": "stream",
     "text": [
      "The number 6 is not prime\n"
     ]
    },
    {
     "data": {
      "text/plain": [
       "False"
      ]
     },
     "execution_count": 11,
     "metadata": {},
     "output_type": "execute_result"
    }
   ],
   "source": [
    "n = 6\n",
    "is_prime(n)"
   ]
  },
  {
   "cell_type": "code",
   "execution_count": 34,
   "metadata": {},
   "outputs": [
    {
     "name": "stdout",
     "output_type": "stream",
     "text": [
      "The number 69769 is not prime\n"
     ]
    },
    {
     "data": {
      "text/plain": [
       "False"
      ]
     },
     "execution_count": 34,
     "metadata": {},
     "output_type": "execute_result"
    }
   ],
   "source": [
    "n = 69769\n",
    "is_prime(n)"
   ]
  },
  {
   "cell_type": "code",
   "execution_count": 36,
   "metadata": {},
   "outputs": [
    {
     "name": "stdout",
     "output_type": "stream",
     "text": [
      "The number 83 is prime\n"
     ]
    },
    {
     "data": {
      "text/plain": [
       "True"
      ]
     },
     "execution_count": 36,
     "metadata": {},
     "output_type": "execute_result"
    }
   ],
   "source": [
    "n = 83\n",
    "is_prime(n)"
   ]
  },
  {
   "cell_type": "code",
   "execution_count": 38,
   "metadata": {},
   "outputs": [
    {
     "name": "stdout",
     "output_type": "stream",
     "text": [
      "The number 983 is prime\n"
     ]
    },
    {
     "data": {
      "text/plain": [
       "True"
      ]
     },
     "execution_count": 38,
     "metadata": {},
     "output_type": "execute_result"
    }
   ],
   "source": [
    "n = 983\n",
    "is_prime(n)"
   ]
  },
  {
   "cell_type": "markdown",
   "metadata": {},
   "source": [
    "# **2. Generating Prime Numbers**\n",
    "---"
   ]
  },
  {
   "cell_type": "markdown",
   "metadata": {},
   "source": [
    "To generate a random prime number, we can generate a random number and check if it is prime using the method described above. If the number is not prime, we can generate another random number and repeat the process until we find a prime number."
   ]
  },
  {
   "cell_type": "code",
   "execution_count": 39,
   "metadata": {},
   "outputs": [],
   "source": [
    "def generate_prime_number():\n",
    "    while True:\n",
    "        n = random.randint(1000, 10000)\n",
    "        if is_prime(n):\n",
    "            return n"
   ]
  },
  {
   "cell_type": "code",
   "execution_count": 41,
   "metadata": {},
   "outputs": [
    {
     "name": "stdout",
     "output_type": "stream",
     "text": [
      "The number 4054 is not prime\n",
      "The number 1959 is not prime\n",
      "The number 8817 is not prime\n",
      "The number 6847 is not prime\n",
      "The number 5533 is not prime\n",
      "The number 9027 is not prime\n",
      "The number 3054 is not prime\n",
      "The number 6823 is prime\n",
      "p = 6823\n"
     ]
    }
   ],
   "source": [
    "p = generate_prime_number()\n",
    "print(f\"p = {p}\")"
   ]
  },
  {
   "cell_type": "code",
   "execution_count": 42,
   "metadata": {},
   "outputs": [],
   "source": [
    "def generate_prime_number():\n",
    "    while True:\n",
    "        n = random.randint(10000, 100000)\n",
    "        if is_prime(n):\n",
    "            return n"
   ]
  },
  {
   "cell_type": "code",
   "execution_count": 44,
   "metadata": {},
   "outputs": [
    {
     "name": "stdout",
     "output_type": "stream",
     "text": [
      "The number 89843 is not prime\n",
      "The number 96361 is not prime\n",
      "The number 79960 is not prime\n",
      "The number 74714 is not prime\n",
      "The number 10386 is not prime\n",
      "The number 58990 is not prime\n",
      "The number 51115 is not prime\n",
      "The number 57354 is not prime\n",
      "The number 83908 is not prime\n",
      "The number 47504 is not prime\n",
      "The number 98469 is not prime\n",
      "The number 70236 is not prime\n",
      "The number 10142 is not prime\n",
      "The number 97299 is not prime\n",
      "The number 91878 is not prime\n",
      "The number 49998 is not prime\n",
      "The number 43987 is prime\n",
      "p = 43987\n"
     ]
    }
   ],
   "source": [
    "p = generate_prime_number()\n",
    "print(f\"p = {p}\")"
   ]
  },
  {
   "cell_type": "code",
   "execution_count": 48,
   "metadata": {},
   "outputs": [
    {
     "name": "stdout",
     "output_type": "stream",
     "text": [
      "The number 90239 is prime\n",
      "p = 90239\n"
     ]
    }
   ],
   "source": [
    "p = generate_prime_number()\n",
    "print(f\"p = {p}\")"
   ]
  },
  {
   "cell_type": "markdown",
   "metadata": {},
   "source": [
    "## Another Method for generating prime numbers:\n",
    "\n",
    "Another method for this uses the `sympy` library in Python. The `sympy` library provides a function called `sympy.isprime` that generates the `n`th prime number. We can use this function to generate prime numbers."
   ]
  },
  {
   "cell_type": "code",
   "execution_count": 53,
   "metadata": {},
   "outputs": [],
   "source": [
    "def generate_prime(start=100000, end=800000):\n",
    "    while True:\n",
    "        num = random.randint(start, end)\n",
    "        if sympy.isprime(num):\n",
    "            return num"
   ]
  },
  {
   "cell_type": "code",
   "execution_count": 57,
   "metadata": {},
   "outputs": [
    {
     "name": "stdout",
     "output_type": "stream",
     "text": [
      "p = 295201\n"
     ]
    }
   ],
   "source": [
    "p = generate_prime()\n",
    "print(f\"p = {p}\")"
   ]
  },
  {
   "cell_type": "markdown",
   "metadata": {},
   "source": [
    "With this function, we can actually specify the range of prime numbers we want to generate. For example, if we want to generate a prime number between 1 and 20, we can specify this in the generate prime function."
   ]
  },
  {
   "cell_type": "code",
   "execution_count": 58,
   "metadata": {},
   "outputs": [
    {
     "name": "stdout",
     "output_type": "stream",
     "text": [
      "p = 17\n"
     ]
    }
   ],
   "source": [
    "p = generate_prime(2,20)\n",
    "print(f\"p = {p}\")"
   ]
  },
  {
   "cell_type": "markdown",
   "metadata": {},
   "source": [
    "## Generating a range of prime numbers:\n",
    "\n",
    "Here is a slight modification that allows us to print all prime numbers in a given range. We can use the `sympy.primerange` function to generate all prime numbers in a given range."
   ]
  },
  {
   "cell_type": "code",
   "execution_count": 8,
   "metadata": {},
   "outputs": [],
   "source": [
    "def generate_primes_in_range(start=2, end=20):\n",
    "    return list(sympy.primerange(start, end))\n",
    "\n",
    "def print_range(start, end):\n",
    "    primes = generate_primes_in_range(start, end)\n",
    "    print(f\"Primes in range {start} to {end} are: {primes}\")"
   ]
  },
  {
   "cell_type": "code",
   "execution_count": 64,
   "metadata": {},
   "outputs": [
    {
     "name": "stdout",
     "output_type": "stream",
     "text": [
      "Primes in range 1 to 20 are: [2, 3, 5, 7, 11, 13, 17, 19]\n"
     ]
    }
   ],
   "source": [
    "start = 1\n",
    "end = 20\n",
    "print_range(start, end)"
   ]
  },
  {
   "cell_type": "code",
   "execution_count": 65,
   "metadata": {},
   "outputs": [
    {
     "name": "stdout",
     "output_type": "stream",
     "text": [
      "Primes in range 1 to 100 are: [2, 3, 5, 7, 11, 13, 17, 19, 23, 29, 31, 37, 41, 43, 47, 53, 59, 61, 67, 71, 73, 79, 83, 89, 97]\n"
     ]
    }
   ],
   "source": [
    "start = 1\n",
    "end = 100\n",
    "print_range(start, end)"
   ]
  },
  {
   "cell_type": "code",
   "execution_count": 68,
   "metadata": {},
   "outputs": [
    {
     "name": "stdout",
     "output_type": "stream",
     "text": [
      "Primes in range 100 to 300 are: [101, 103, 107, 109, 113, 127, 131, 137, 139, 149, 151, 157, 163, 167, 173, 179, 181, 191, 193, 197, 199, 211, 223, 227, 229, 233, 239, 241, 251, 257, 263, 269, 271, 277, 281, 283, 293]\n"
     ]
    }
   ],
   "source": [
    "start = 100\n",
    "end = 300\n",
    "print_range(start, end)"
   ]
  },
  {
   "cell_type": "code",
   "execution_count": 69,
   "metadata": {},
   "outputs": [
    {
     "name": "stdout",
     "output_type": "stream",
     "text": [
      "Primes in range 500000 to 520000 are: [500009, 500029, 500041, 500057, 500069, 500083, 500107, 500111, 500113, 500119, 500153, 500167, 500173, 500177, 500179, 500197, 500209, 500231, 500233, 500237, 500239, 500249, 500257, 500287, 500299, 500317, 500321, 500333, 500341, 500363, 500369, 500389, 500393, 500413, 500417, 500431, 500443, 500459, 500471, 500473, 500483, 500501, 500509, 500519, 500527, 500567, 500579, 500587, 500603, 500629, 500671, 500677, 500693, 500699, 500713, 500719, 500723, 500729, 500741, 500777, 500791, 500807, 500809, 500831, 500839, 500861, 500873, 500881, 500887, 500891, 500909, 500911, 500921, 500923, 500933, 500947, 500953, 500957, 500977, 501001, 501013, 501019, 501029, 501031, 501037, 501043, 501077, 501089, 501103, 501121, 501131, 501133, 501139, 501157, 501173, 501187, 501191, 501197, 501203, 501209, 501217, 501223, 501229, 501233, 501257, 501271, 501287, 501299, 501317, 501341, 501343, 501367, 501383, 501401, 501409, 501419, 501427, 501451, 501463, 501493, 501503, 501511, 501563, 501577, 501593, 501601, 501617, 501623, 501637, 501659, 501691, 501701, 501703, 501707, 501719, 501731, 501769, 501779, 501803, 501817, 501821, 501827, 501829, 501841, 501863, 501889, 501911, 501931, 501947, 501953, 501967, 501971, 501997, 502001, 502013, 502039, 502043, 502057, 502063, 502079, 502081, 502087, 502093, 502121, 502133, 502141, 502171, 502181, 502217, 502237, 502247, 502259, 502261, 502277, 502301, 502321, 502339, 502393, 502409, 502421, 502429, 502441, 502451, 502487, 502499, 502501, 502507, 502517, 502543, 502549, 502553, 502591, 502597, 502613, 502631, 502633, 502643, 502651, 502669, 502687, 502699, 502703, 502717, 502729, 502769, 502771, 502781, 502787, 502807, 502819, 502829, 502841, 502847, 502861, 502883, 502919, 502921, 502937, 502961, 502973, 503003, 503017, 503039, 503053, 503077, 503123, 503131, 503137, 503147, 503159, 503197, 503207, 503213, 503227, 503231, 503233, 503249, 503267, 503287, 503297, 503303, 503317, 503339, 503351, 503359, 503369, 503381, 503383, 503389, 503407, 503413, 503423, 503431, 503441, 503453, 503483, 503501, 503543, 503549, 503551, 503563, 503593, 503599, 503609, 503611, 503621, 503623, 503647, 503653, 503663, 503707, 503717, 503743, 503753, 503771, 503777, 503779, 503791, 503803, 503819, 503821, 503827, 503851, 503857, 503869, 503879, 503911, 503927, 503929, 503939, 503947, 503959, 503963, 503969, 503983, 503989, 504001, 504011, 504017, 504047, 504061, 504073, 504103, 504121, 504139, 504143, 504149, 504151, 504157, 504181, 504187, 504197, 504209, 504221, 504247, 504269, 504289, 504299, 504307, 504311, 504323, 504337, 504349, 504353, 504359, 504377, 504379, 504389, 504403, 504457, 504461, 504473, 504479, 504521, 504523, 504527, 504547, 504563, 504593, 504599, 504607, 504617, 504619, 504631, 504661, 504667, 504671, 504677, 504683, 504727, 504767, 504787, 504797, 504799, 504817, 504821, 504851, 504853, 504857, 504871, 504877, 504893, 504901, 504929, 504937, 504943, 504947, 504953, 504967, 504983, 504989, 504991, 505027, 505031, 505033, 505049, 505051, 505061, 505067, 505073, 505091, 505097, 505111, 505117, 505123, 505129, 505139, 505157, 505159, 505181, 505187, 505201, 505213, 505231, 505237, 505277, 505279, 505283, 505301, 505313, 505319, 505321, 505327, 505339, 505357, 505367, 505369, 505399, 505409, 505411, 505429, 505447, 505459, 505469, 505481, 505493, 505501, 505511, 505513, 505523, 505537, 505559, 505573, 505601, 505607, 505613, 505619, 505633, 505639, 505643, 505657, 505663, 505669, 505691, 505693, 505709, 505711, 505727, 505759, 505763, 505777, 505781, 505811, 505819, 505823, 505867, 505871, 505877, 505907, 505919, 505927, 505949, 505961, 505969, 505979, 506047, 506071, 506083, 506101, 506113, 506119, 506131, 506147, 506171, 506173, 506183, 506201, 506213, 506251, 506263, 506269, 506281, 506291, 506327, 506329, 506333, 506339, 506347, 506351, 506357, 506381, 506393, 506417, 506423, 506449, 506459, 506461, 506479, 506491, 506501, 506507, 506531, 506533, 506537, 506551, 506563, 506573, 506591, 506593, 506599, 506609, 506629, 506647, 506663, 506683, 506687, 506689, 506699, 506729, 506731, 506743, 506773, 506783, 506791, 506797, 506809, 506837, 506843, 506861, 506873, 506887, 506893, 506899, 506903, 506911, 506929, 506941, 506963, 506983, 506993, 506999, 507029, 507049, 507071, 507077, 507079, 507103, 507109, 507113, 507119, 507137, 507139, 507149, 507151, 507163, 507193, 507197, 507217, 507289, 507301, 507313, 507317, 507329, 507347, 507349, 507359, 507361, 507371, 507383, 507401, 507421, 507431, 507461, 507491, 507497, 507499, 507503, 507523, 507557, 507571, 507589, 507593, 507599, 507607, 507631, 507641, 507667, 507673, 507691, 507697, 507713, 507719, 507743, 507757, 507779, 507781, 507797, 507803, 507809, 507821, 507827, 507839, 507883, 507901, 507907, 507917, 507919, 507937, 507953, 507961, 507971, 507979, 508009, 508019, 508021, 508033, 508037, 508073, 508087, 508091, 508097, 508103, 508129, 508159, 508171, 508187, 508213, 508223, 508229, 508237, 508243, 508259, 508271, 508273, 508297, 508301, 508327, 508331, 508349, 508363, 508367, 508373, 508393, 508433, 508439, 508451, 508471, 508477, 508489, 508499, 508513, 508517, 508531, 508549, 508559, 508567, 508577, 508579, 508583, 508619, 508621, 508637, 508643, 508661, 508693, 508709, 508727, 508771, 508789, 508799, 508811, 508817, 508841, 508847, 508867, 508901, 508903, 508909, 508913, 508919, 508931, 508943, 508951, 508957, 508961, 508969, 508973, 508987, 509023, 509027, 509053, 509063, 509071, 509087, 509101, 509123, 509137, 509147, 509149, 509203, 509221, 509227, 509239, 509263, 509281, 509287, 509293, 509297, 509317, 509329, 509359, 509363, 509389, 509393, 509413, 509417, 509429, 509441, 509449, 509477, 509513, 509521, 509543, 509549, 509557, 509563, 509569, 509573, 509581, 509591, 509603, 509623, 509633, 509647, 509653, 509659, 509681, 509687, 509689, 509693, 509699, 509723, 509731, 509737, 509741, 509767, 509783, 509797, 509801, 509833, 509837, 509843, 509863, 509867, 509879, 509909, 509911, 509921, 509939, 509947, 509959, 509963, 509989, 510007, 510031, 510047, 510049, 510061, 510067, 510073, 510077, 510079, 510089, 510101, 510121, 510127, 510137, 510157, 510179, 510199, 510203, 510217, 510227, 510233, 510241, 510247, 510253, 510271, 510287, 510299, 510311, 510319, 510331, 510361, 510379, 510383, 510401, 510403, 510449, 510451, 510457, 510463, 510481, 510529, 510551, 510553, 510569, 510581, 510583, 510589, 510611, 510613, 510617, 510619, 510677, 510683, 510691, 510707, 510709, 510751, 510767, 510773, 510793, 510803, 510817, 510823, 510827, 510847, 510889, 510907, 510919, 510931, 510941, 510943, 510989, 511001, 511013, 511019, 511033, 511039, 511057, 511061, 511087, 511109, 511111, 511123, 511151, 511153, 511163, 511169, 511171, 511177, 511193, 511201, 511211, 511213, 511223, 511237, 511243, 511261, 511279, 511289, 511297, 511327, 511333, 511337, 511351, 511361, 511387, 511391, 511409, 511417, 511439, 511447, 511453, 511457, 511463, 511477, 511487, 511507, 511519, 511523, 511541, 511549, 511559, 511573, 511579, 511583, 511591, 511603, 511627, 511631, 511633, 511669, 511691, 511703, 511711, 511723, 511757, 511787, 511793, 511801, 511811, 511831, 511843, 511859, 511867, 511873, 511891, 511897, 511909, 511933, 511939, 511961, 511963, 511991, 511997, 512009, 512011, 512021, 512047, 512059, 512093, 512101, 512137, 512147, 512167, 512207, 512249, 512251, 512269, 512287, 512311, 512321, 512333, 512353, 512389, 512419, 512429, 512443, 512467, 512497, 512503, 512507, 512521, 512531, 512537, 512543, 512569, 512573, 512579, 512581, 512591, 512593, 512597, 512609, 512621, 512641, 512657, 512663, 512671, 512683, 512711, 512713, 512717, 512741, 512747, 512761, 512767, 512779, 512797, 512803, 512819, 512821, 512843, 512849, 512891, 512899, 512903, 512917, 512921, 512927, 512929, 512959, 512977, 512989, 512999, 513001, 513013, 513017, 513031, 513041, 513047, 513053, 513059, 513067, 513083, 513101, 513103, 513109, 513131, 513137, 513157, 513167, 513169, 513173, 513203, 513239, 513257, 513269, 513277, 513283, 513307, 513311, 513313, 513319, 513341, 513347, 513353, 513367, 513371, 513397, 513407, 513419, 513427, 513431, 513439, 513473, 513479, 513481, 513509, 513511, 513529, 513533, 513593, 513631, 513641, 513649, 513673, 513679, 513683, 513691, 513697, 513719, 513727, 513731, 513739, 513749, 513761, 513767, 513769, 513781, 513829, 513839, 513841, 513871, 513881, 513899, 513917, 513923, 513937, 513943, 513977, 513991, 514001, 514009, 514013, 514021, 514049, 514051, 514057, 514061, 514079, 514081, 514093, 514103, 514117, 514123, 514127, 514147, 514177, 514187, 514201, 514219, 514229, 514243, 514247, 514249, 514271, 514277, 514289, 514309, 514313, 514333, 514343, 514357, 514361, 514379, 514399, 514417, 514429, 514433, 514453, 514499, 514513, 514519, 514523, 514529, 514531, 514543, 514561, 514571, 514621, 514637, 514639, 514643, 514649, 514651, 514669, 514681, 514711, 514733, 514739, 514741, 514747, 514751, 514757, 514769, 514783, 514793, 514819, 514823, 514831, 514841, 514847, 514853, 514859, 514867, 514873, 514889, 514903, 514933, 514939, 514949, 514967, 515041, 515087, 515089, 515111, 515143, 515149, 515153, 515173, 515191, 515227, 515231, 515233, 515237, 515279, 515293, 515311, 515323, 515351, 515357, 515369, 515371, 515377, 515381, 515401, 515429, 515477, 515507, 515519, 515539, 515563, 515579, 515587, 515597, 515611, 515621, 515639, 515651, 515653, 515663, 515677, 515681, 515687, 515693, 515701, 515737, 515741, 515761, 515771, 515773, 515777, 515783, 515803, 515813, 515839, 515843, 515857, 515861, 515873, 515887, 515917, 515923, 515929, 515941, 515951, 515969, 515993, 516017, 516023, 516049, 516053, 516077, 516091, 516127, 516151, 516157, 516161, 516163, 516169, 516179, 516193, 516199, 516209, 516223, 516227, 516233, 516247, 516251, 516253, 516277, 516283, 516293, 516319, 516323, 516349, 516359, 516361, 516371, 516377, 516391, 516407, 516421, 516431, 516433, 516437, 516449, 516457, 516469, 516493, 516499, 516517, 516521, 516539, 516541, 516563, 516587, 516589, 516599, 516611, 516617, 516619, 516623, 516643, 516653, 516673, 516679, 516689, 516701, 516709, 516713, 516721, 516727, 516757, 516793, 516811, 516821, 516829, 516839, 516847, 516871, 516877, 516883, 516907, 516911, 516931, 516947, 516949, 516959, 516973, 516977, 516979, 516991, 517003, 517043, 517061, 517067, 517073, 517079, 517081, 517087, 517091, 517129, 517151, 517169, 517177, 517183, 517189, 517207, 517211, 517217, 517229, 517241, 517243, 517249, 517261, 517267, 517277, 517289, 517303, 517337, 517343, 517367, 517373, 517381, 517393, 517399, 517403, 517411, 517417, 517457, 517459, 517469, 517471, 517481, 517487, 517499, 517501, 517507, 517511, 517513, 517547, 517549, 517553, 517571, 517577, 517589, 517597, 517603, 517609, 517613, 517619, 517637, 517639, 517711, 517717, 517721, 517729, 517733, 517739, 517747, 517817, 517823, 517831, 517861, 517873, 517877, 517901, 517919, 517927, 517931, 517949, 517967, 517981, 517991, 517999, 518017, 518047, 518057, 518059, 518083, 518099, 518101, 518113, 518123, 518129, 518131, 518137, 518153, 518159, 518171, 518179, 518191, 518207, 518209, 518233, 518237, 518239, 518249, 518261, 518291, 518299, 518311, 518327, 518341, 518387, 518389, 518411, 518417, 518429, 518431, 518447, 518467, 518471, 518473, 518509, 518521, 518533, 518543, 518579, 518587, 518597, 518611, 518621, 518657, 518689, 518699, 518717, 518729, 518737, 518741, 518743, 518747, 518759, 518761, 518767, 518779, 518801, 518803, 518807, 518809, 518813, 518831, 518863, 518867, 518893, 518911, 518933, 518953, 518981, 518983, 518989, 519011, 519031, 519037, 519067, 519083, 519089, 519091, 519097, 519107, 519119, 519121, 519131, 519151, 519161, 519193, 519217, 519227, 519229, 519247, 519257, 519269, 519283, 519287, 519301, 519307, 519349, 519353, 519359, 519371, 519373, 519383, 519391, 519413, 519427, 519433, 519457, 519487, 519499, 519509, 519521, 519523, 519527, 519539, 519551, 519553, 519577, 519581, 519587, 519611, 519619, 519643, 519647, 519667, 519683, 519691, 519703, 519713, 519733, 519737, 519769, 519787, 519793, 519797, 519803, 519817, 519863, 519881, 519889, 519907, 519917, 519919, 519923, 519931, 519943, 519947, 519971, 519989, 519997]\n"
     ]
    }
   ],
   "source": [
    "start = 500000\n",
    "end = 520000\n",
    "print_range(start, end)"
   ]
  },
  {
   "cell_type": "markdown",
   "metadata": {},
   "source": [
    "# **3. Checking if a number is prime with Fermat's Little theorem**\n",
    "\n",
    "---"
   ]
  },
  {
   "cell_type": "markdown",
   "metadata": {},
   "source": [
    "Checking if a number is prime is a common problem in number theory. One efficient way to perform this check is by using **Fermat's Little Theorem**. This theorem states that if `p` is a prime number and `a` is an integer such that `1 ≤ a < p`, then `a^(p-1) ≡ 1 (mod p)`. In other words, for a prime number `p`, `a^(p-1) mod p` should equal 1.\n",
    "\n",
    "To implement this, we will define the following functions:\n",
    "- `check_congruence`: This function will verify the congruence `a^(p-1) mod p = 1` for a given `a` and `p`.\n",
    "- `fermats_test`: This function will use Fermat's Little Theorem to check if a number `p` is likely prime by testing if the congruence holds true."
   ]
  },
  {
   "cell_type": "code",
   "execution_count": 49,
   "metadata": {},
   "outputs": [],
   "source": [
    "def check_congruence(a, n):\n",
    "    if pow(a, n-1, n) == 1 % n:\n",
    "        print(f\"true, {n} is congruent with base {a}.\")\n",
    "    else:\n",
    "        print(f\"false, {n} is not congruent with base {a}.\")\n",
    "        \n",
    "def fermats_test(n, a):\n",
    "    if pow(a, n-1, n) == 1:\n",
    "        return True\n",
    "    else:\n",
    "        return False"
   ]
  },
  {
   "cell_type": "code",
   "execution_count": 50,
   "metadata": {},
   "outputs": [
    {
     "name": "stdout",
     "output_type": "stream",
     "text": [
      "true, 91 is congruent with base 3.\n",
      "91 is probably prime.\n",
      "CPU times: user 86 μs, sys: 17 μs, total: 103 μs\n",
      "Wall time: 98 μs\n"
     ]
    }
   ],
   "source": [
    "%%time\n",
    "\n",
    "n = 91\n",
    "a = 3\n",
    "\n",
    "check_congruence(a, n)\n",
    "\n",
    "if fermats_test(n, a):\n",
    "    print(f\"{n} is probably prime.\")\n",
    "else:\n",
    "    print(f\"{n} is composite.\")"
   ]
  },
  {
   "cell_type": "code",
   "execution_count": 51,
   "metadata": {},
   "outputs": [
    {
     "name": "stdout",
     "output_type": "stream",
     "text": [
      "false, 88 is not congruent with base 6.\n",
      "88 is composite.\n",
      "CPU times: user 113 μs, sys: 0 ns, total: 113 μs\n",
      "Wall time: 102 μs\n"
     ]
    }
   ],
   "source": [
    "%%time\n",
    "\n",
    "n = 88\n",
    "a = 6\n",
    "\n",
    "check_congruence(a,n)\n",
    "\n",
    "if fermats_test(n, a):\n",
    "    print(f\"{n} is probably prime.\")\n",
    "else:\n",
    "    print(f\"{n} is composite.\")"
   ]
  },
  {
   "cell_type": "code",
   "execution_count": 52,
   "metadata": {},
   "outputs": [
    {
     "name": "stdout",
     "output_type": "stream",
     "text": [
      "true, 104729 is congruent with base 2.\n",
      "104729 is probably prime.\n",
      "CPU times: user 680 μs, sys: 0 ns, total: 680 μs\n",
      "Wall time: 613 μs\n"
     ]
    }
   ],
   "source": [
    "%%time\n",
    "\n",
    "n = 104729\n",
    "a = 2\n",
    "\n",
    "check_congruence(a,n)\n",
    "\n",
    "if fermats_test(n, a):\n",
    "    print(f\"{n} is probably prime.\")\n",
    "else:\n",
    "    print(f\"{n} is composite.\")"
   ]
  },
  {
   "cell_type": "markdown",
   "metadata": {},
   "source": [
    "# **4. Finding the the coprime of a number**\n",
    "\n",
    "---"
   ]
  },
  {
   "cell_type": "markdown",
   "metadata": {},
   "source": [
    "Finding the coprime of a number is useful in the RSA algorithm as the public key exponent `e` must be coprime to the totient of `n`. This ensures that the public key exponent `e` is relatively prime to the totient of `n` and that the encryption key is secure.\n",
    "\n",
    "The following calculates the coprime of a number using the math gcd function to find the GCD of two numbers. If the GCD is equal to 1, then the two numbers are coprime. If the GCD is greater than 1, then the two numbers are not coprime. \n",
    "\n",
    "To implement this, we will define the following function:\n",
    "- `find_coprime`: To find the coprime of a number `a` we use the `find_gcd` function to find the GCD of `a` and `b`. If the GCD is equal to 1, then the two numbers are coprime."
   ]
  },
  {
   "cell_type": "code",
   "execution_count": 12,
   "metadata": {},
   "outputs": [],
   "source": [
    "def find_coprimes(a, n):\n",
    "    coprimes = []\n",
    "    while len(coprimes) < n:\n",
    "        b = random.randint(2, a - 1)\n",
    "        if find_gcd(a, b) == 1 and b not in coprimes:\n",
    "            coprimes.append(b)\n",
    "    return coprimes"
   ]
  },
  {
   "cell_type": "markdown",
   "metadata": {},
   "source": [
    "Add the number you'd like to find the coprime of as `a` then the amount of coprimes you'd like to find as `n`."
   ]
  },
  {
   "cell_type": "code",
   "execution_count": 28,
   "metadata": {},
   "outputs": [
    {
     "name": "stdout",
     "output_type": "stream",
     "text": [
      "10 numbers coprime with 44 are: [39, 9, 21, 37, 25, 7, 13, 27, 23, 19]\n",
      "CPU times: user 149 μs, sys: 0 ns, total: 149 μs\n",
      "Wall time: 142 μs\n"
     ]
    }
   ],
   "source": [
    "%%time\n",
    "\n",
    "a = 44\n",
    "n = 10\n",
    "coprimes = find_coprimes(a, n)\n",
    "print(f\"{n} numbers coprime with {a} are: {coprimes}\")"
   ]
  },
  {
   "cell_type": "code",
   "execution_count": 29,
   "metadata": {},
   "outputs": [
    {
     "name": "stdout",
     "output_type": "stream",
     "text": [
      "15 numbers coprime with 235319 are: [69002, 48759, 182845, 80799, 150149, 205458, 94989, 79045, 116134, 210002, 90578, 84050, 147696, 234768, 29804]\n",
      "CPU times: user 63 μs, sys: 15 μs, total: 78 μs\n",
      "Wall time: 80.8 μs\n"
     ]
    }
   ],
   "source": [
    "%%time\n",
    "\n",
    "a = 235319\n",
    "n = 15\n",
    "coprimes = find_coprimes(a, n)\n",
    "print(f\"{n} numbers coprime with {a} are: {coprimes}\")"
   ]
  },
  {
   "cell_type": "code",
   "execution_count": 30,
   "metadata": {},
   "outputs": [
    {
     "name": "stdout",
     "output_type": "stream",
     "text": [
      "20 numbers coprime with 80748256 are: [46879787, 28275449, 12990795, 28967519, 39496901, 69356995, 19022155, 46377373, 15036247, 42898701, 38832289, 39597345, 31578997, 29752853, 36764835, 57935619, 67660157, 39184563, 50241245, 76708881]\n",
      "CPU times: user 421 μs, sys: 97 μs, total: 518 μs\n",
      "Wall time: 365 μs\n"
     ]
    }
   ],
   "source": [
    "%%time\n",
    "\n",
    "a = 80748256\n",
    "n = 20\n",
    "coprimes = find_coprimes(a, n)\n",
    "print(f\"{n} numbers coprime with {a} are: {coprimes}\")"
   ]
  },
  {
   "cell_type": "markdown",
   "metadata": {},
   "source": [
    "# **5. Finding the GCD and LCM of two numbers**\n",
    "\n",
    "---"
   ]
  },
  {
   "cell_type": "markdown",
   "metadata": {},
   "source": [
    "Finding the greatest common divisor (GCD) of two numbers is a common problem in number theory. The GCD of two numbers is the largest number that divides both numbers without leaving a remainder. \n",
    "\n",
    "It can be found using the Euclidean algorithm which is an efficient way of finding the GCD of two numbers. The Euclidean algorithm works by repeatedly subtracting the smaller number from the larger number until the two numbers are equal. The GCD is then the common value that the two numbers have been reduced to.\n",
    "\n",
    "To implement the Euclidean algorithm, we will define a function called `gcd` that takes two numbers as input and returns the GCD of the two numbers."
   ]
  },
  {
   "cell_type": "code",
   "execution_count": 84,
   "metadata": {},
   "outputs": [],
   "source": [
    "def find_gcd_lcm(a, b):\n",
    "    gcd = sympy.gcd(a, b)\n",
    "    lcm = a * b // gcd\n",
    "    print(f\"GCD of {a} and {b} is {gcd}\")\n",
    "    print(f\"LCM of {a} and {b} is {lcm}\")"
   ]
  },
  {
   "cell_type": "code",
   "execution_count": 85,
   "metadata": {},
   "outputs": [
    {
     "name": "stdout",
     "output_type": "stream",
     "text": [
      "GCD of 44 and 12 is 4\n",
      "LCM of 44 and 12 is 132\n"
     ]
    }
   ],
   "source": [
    "a = 44\n",
    "b = 12\n",
    "\n",
    "find_gcd_lcm(a, b)"
   ]
  },
  {
   "cell_type": "code",
   "execution_count": 86,
   "metadata": {},
   "outputs": [
    {
     "name": "stdout",
     "output_type": "stream",
     "text": [
      "GCD of 1234 and 567 is 1\n",
      "LCM of 1234 and 567 is 699678\n"
     ]
    }
   ],
   "source": [
    "a = 1234\n",
    "b = 567\n",
    "\n",
    "find_gcd_lcm(a, b)"
   ]
  },
  {
   "cell_type": "code",
   "execution_count": 87,
   "metadata": {},
   "outputs": [
    {
     "name": "stdout",
     "output_type": "stream",
     "text": [
      "GCD of 283495740 and 1828360 is 20\n",
      "LCM of 283495740 and 1828360 is 25916613559320\n"
     ]
    }
   ],
   "source": [
    "a = 283495740\n",
    "b = 1828360\n",
    "\n",
    "find_gcd_lcm(a, b)"
   ]
  },
  {
   "cell_type": "markdown",
   "metadata": {},
   "source": [
    "# **6. Prime Factorisation**\n",
    "---"
   ]
  },
  {
   "cell_type": "markdown",
   "metadata": {},
   "source": [
    "Prime factorisation is the process of finding the prime numbers that multiply together to give a particular number. For example, the prime factorisation of 12 is 2 x 2 x 3. This is useful in many areas of mathematics, including cryptography and number theory."
   ]
  },
  {
   "cell_type": "code",
   "execution_count": 17,
   "metadata": {},
   "outputs": [],
   "source": [
    "def find_factors(n):\n",
    "    factors = []\n",
    "    for i in range(1, n + 1):\n",
    "        if n % i == 0:\n",
    "            factors.append(i)\n",
    "    print(f\"Factors of {n} are: {factors}\")\n",
    "    \n",
    "def find_prime_factors(n):\n",
    "    factors = []\n",
    "    for i in range(1, n + 1):\n",
    "        if n % i == 0 and sympy.isprime(i):\n",
    "            factors.append(i)\n",
    "    print(f\"Prime factors of {n} are: {factors}\")\n",
    "    "
   ]
  },
  {
   "cell_type": "code",
   "execution_count": 20,
   "metadata": {},
   "outputs": [
    {
     "name": "stdout",
     "output_type": "stream",
     "text": [
      "Factors of 12 are: [1, 2, 3, 4, 6, 12]\n",
      "Prime factors of 12 are: [2, 3]\n"
     ]
    }
   ],
   "source": [
    "n = 12\n",
    "find_factors(n)\n",
    "find_prime_factors(n)"
   ]
  },
  {
   "cell_type": "code",
   "execution_count": 19,
   "metadata": {},
   "outputs": [
    {
     "name": "stdout",
     "output_type": "stream",
     "text": [
      "Factors of 434 are: [1, 2, 7, 14, 31, 62, 217, 434]\n",
      "Prime factors of 434 are: [2, 7, 31]\n"
     ]
    }
   ],
   "source": [
    "n = random.randint(100, 1000)\n",
    "find_factors(n)\n",
    "find_prime_factors(n)"
   ]
  },
  {
   "cell_type": "markdown",
   "metadata": {},
   "source": [
    "#"
   ]
  }
 ],
 "metadata": {
  "kernelspec": {
   "display_name": "cryptography",
   "language": "python",
   "name": "python3"
  },
  "language_info": {
   "codemirror_mode": {
    "name": "ipython",
    "version": 3
   },
   "file_extension": ".py",
   "mimetype": "text/x-python",
   "name": "python",
   "nbconvert_exporter": "python",
   "pygments_lexer": "ipython3",
   "version": "3.12.3"
  }
 },
 "nbformat": 4,
 "nbformat_minor": 2
}