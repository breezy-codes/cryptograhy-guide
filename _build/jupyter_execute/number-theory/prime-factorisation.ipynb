{
 "cells": [
  {
   "cell_type": "markdown",
   "metadata": {},
   "source": [
    "# **Prime Numbers**\n",
    "\n",
    "A prime number is a natural number greater than 1 that has no positive divisors other than 1 and itself. Prime numbers are the building blocks of all natural numbers because every number can be expressed as a product of primes.\n",
    "\n",
    "The steps to determine if a number $n$ is prime are as follows:\n",
    "\n",
    "1. **Check divisibility by 2**: If $n$ is even and greater than 2, it is not prime.\n",
    "2. **Check divisibility by odd numbers**: Test if $n$ is divisible by any odd number from 3 up to $\\sqrt{n}$.\n",
    "3. **Prime if no divisors found**: If no divisors other than 1 and $n$ are found, then $n$ is prime.\n",
    "\n",
    "For example, to check if 29 is a prime number:\n",
    "1. 29 is not even.\n",
    "2. Check divisibility by odd numbers up to $\\sqrt{29} \\approx 5.39$ (i.e., check 3 and 5).\n",
    "3. 29 is not divisible by 3 or 5.\n",
    "4. Therefore, 29 is a prime number.\n"
   ]
  },
  {
   "cell_type": "code",
   "execution_count": 13,
   "metadata": {},
   "outputs": [],
   "source": [
    "import sympy as sp\n",
    "from sympy import *\n",
    "from math import gcd\n",
    "import random"
   ]
  },
  {
   "cell_type": "markdown",
   "metadata": {},
   "source": [
    "## **Checking if  number is prime or not**\n",
    "\n",
    "To check if a number is prime or not, we need to check if it is divisible by any number other than 1 and itself. We can do this by iterating over all numbers from 2 to the square root of the number and checking if the number is divisible by any of them. If the number is divisible by any number other than 1 and itself, then it is not prime."
   ]
  },
  {
   "cell_type": "code",
   "execution_count": 14,
   "metadata": {},
   "outputs": [],
   "source": [
    "def is_prime(n):\n",
    "    if n <= 1:\n",
    "        print(f\"The number {n} is not prime\")\n",
    "        return False\n",
    "    for i in range(2, int(sp.sqrt(n)) + 1):\n",
    "        if n % i == 0:\n",
    "            print(f\"The number {n} is not prime\")\n",
    "            return False\n",
    "    print(f\"The number {n} is prime\")\n",
    "    return True"
   ]
  },
  {
   "cell_type": "markdown",
   "metadata": {},
   "source": [
    "```{admonition} Explanation\n",
    ":class: tip\n",
    "#### Example: Checking if 6 is Prime\n",
    "\n",
    "1. 6 is even.\n",
    "2. Since 6 is greater than 2 and even, it is not a prime number.\n",
    "```"
   ]
  },
  {
   "cell_type": "code",
   "execution_count": 15,
   "metadata": {},
   "outputs": [
    {
     "name": "stdout",
     "output_type": "stream",
     "text": [
      "The number 69769 is not prime\n"
     ]
    },
    {
     "data": {
      "text/plain": [
       "False"
      ]
     },
     "execution_count": 15,
     "metadata": {},
     "output_type": "execute_result"
    }
   ],
   "source": [
    "n = 69769\n",
    "is_prime(n)"
   ]
  },
  {
   "cell_type": "markdown",
   "metadata": {},
   "source": [
    "```{admonition} Explanation\n",
    ":class: tip\n",
    "#### Example: Checking if 69769 is Prime\n",
    "\n",
    "1. 69769 is not even.\n",
    "2. Calculate $\\sqrt{69769} \\approx 264.17$. Check for divisibility by odd numbers up to 264.\n",
    "3. 69769 is divisible by 263:\n",
    "$$\n",
    "69769 \\div 263 = 265\n",
    "$$\n",
    "```"
   ]
  },
  {
   "cell_type": "code",
   "execution_count": 16,
   "metadata": {},
   "outputs": [
    {
     "name": "stdout",
     "output_type": "stream",
     "text": [
      "The number 83 is prime\n"
     ]
    },
    {
     "data": {
      "text/plain": [
       "True"
      ]
     },
     "execution_count": 16,
     "metadata": {},
     "output_type": "execute_result"
    }
   ],
   "source": [
    "n = 83\n",
    "is_prime(n)"
   ]
  },
  {
   "cell_type": "markdown",
   "metadata": {},
   "source": [
    "```{admonition} Explanation\n",
    ":class: tip\n",
    "#### Example: Checking if 83 is Prime\n",
    "\n",
    "1. 83 is not even.\n",
    "2. Calculate $\\sqrt{83} \\approx 9.11$. Check for divisibility by odd numbers up to 9.\n",
    "3. 83 is not divisible by 3, 5, or 7.\n",
    "4. Therefore, 83 is a prime number.\n",
    "```"
   ]
  },
  {
   "cell_type": "code",
   "execution_count": 17,
   "metadata": {},
   "outputs": [
    {
     "name": "stdout",
     "output_type": "stream",
     "text": [
      "The number 983 is prime\n"
     ]
    },
    {
     "data": {
      "text/plain": [
       "True"
      ]
     },
     "execution_count": 17,
     "metadata": {},
     "output_type": "execute_result"
    }
   ],
   "source": [
    "n = 983\n",
    "is_prime(n)"
   ]
  },
  {
   "cell_type": "markdown",
   "metadata": {},
   "source": [
    "```{admonition} Explanation\n",
    ":class: tip\n",
    "#### Example: Checking if 983 is Prime\n",
    "\n",
    "1. 983 is not even.\n",
    "2. Calculate $\\sqrt{983} \\approx 31.36$. Check for divisibility by odd numbers up to 31.\n",
    "3. 983 is not divisible by 3, 5, 7, 11, 13, 17, 19, 23, 29, or 31.\n",
    "4. Therefore, 983 is a prime number.\n",
    "```"
   ]
  },
  {
   "cell_type": "markdown",
   "metadata": {},
   "source": [
    "## **Generating Prime Numbers**\n",
    "\n",
    "To generate a random prime number, we can generate a random number and check if it is prime using the method described above. If the number is not prime, we can generate another random number and repeat the process until we find a prime number.\n",
    "\n",
    "With this function, we can actually specify the range of prime numbers we want to generate. For example, if we want to generate a prime number between 1 and 20, we can specify this in the generate prime function."
   ]
  },
  {
   "cell_type": "code",
   "execution_count": 29,
   "metadata": {},
   "outputs": [],
   "source": [
    "def generate_prime_number(start=1000, end=10000):\n",
    "    while True:\n",
    "        n = random.randint(start,end)\n",
    "        if is_prime(n):\n",
    "            return n"
   ]
  },
  {
   "cell_type": "code",
   "execution_count": 30,
   "metadata": {},
   "outputs": [
    {
     "name": "stdout",
     "output_type": "stream",
     "text": [
      "The number 3939 is not prime\n",
      "The number 6812 is not prime\n",
      "The number 4209 is not prime\n",
      "The number 5468 is not prime\n",
      "The number 1843 is not prime\n",
      "The number 5847 is not prime\n",
      "The number 1110 is not prime\n",
      "The number 5683 is prime\n",
      "p = 5683\n"
     ]
    }
   ],
   "source": [
    "p = generate_prime_number(1000,10000)\n",
    "print(f\"p = {p}\")"
   ]
  },
  {
   "cell_type": "code",
   "execution_count": 31,
   "metadata": {},
   "outputs": [
    {
     "name": "stdout",
     "output_type": "stream",
     "text": [
      "The number 69497 is prime\n",
      "p = 69497\n"
     ]
    }
   ],
   "source": [
    "p = generate_prime_number(10000, 100000)\n",
    "print(f\"p = {p}\")"
   ]
  },
  {
   "cell_type": "code",
   "execution_count": 32,
   "metadata": {},
   "outputs": [
    {
     "name": "stdout",
     "output_type": "stream",
     "text": [
      "The number 29375 is not prime\n",
      "The number 36854 is not prime\n",
      "The number 21716 is not prime\n",
      "The number 96230 is not prime\n",
      "The number 39050 is not prime\n",
      "The number 90887 is prime\n",
      "p = 90887\n"
     ]
    }
   ],
   "source": [
    "p = generate_prime_number(10000, 100000)\n",
    "print(f\"p = {p}\")"
   ]
  },
  {
   "cell_type": "markdown",
   "metadata": {},
   "source": [
    "## **Another Method for generating prime numbers:**\n",
    "\n",
    "Another method for this uses the `sympy` library in Python. The `sympy` library provides a function called `sympy.isprime` that generates the `n`th prime number. We can use this function to generate prime numbers."
   ]
  },
  {
   "cell_type": "code",
   "execution_count": 23,
   "metadata": {},
   "outputs": [],
   "source": [
    "def generate_prime(start=100000, end=800000):\n",
    "    while True:\n",
    "        num = random.randint(start, end)\n",
    "        if sp.isprime(num):\n",
    "            return num"
   ]
  },
  {
   "cell_type": "code",
   "execution_count": 33,
   "metadata": {},
   "outputs": [
    {
     "name": "stdout",
     "output_type": "stream",
     "text": [
      "p = 8353\n"
     ]
    }
   ],
   "source": [
    "p = generate_prime(1000,10000)\n",
    "print(f\"p = {p}\")"
   ]
  },
  {
   "cell_type": "code",
   "execution_count": 34,
   "metadata": {},
   "outputs": [
    {
     "name": "stdout",
     "output_type": "stream",
     "text": [
      "p = 427369\n"
     ]
    }
   ],
   "source": [
    "p = generate_prime(10000,1000000)\n",
    "print(f\"p = {p}\")"
   ]
  },
  {
   "cell_type": "code",
   "execution_count": 26,
   "metadata": {},
   "outputs": [
    {
     "name": "stdout",
     "output_type": "stream",
     "text": [
      "p = 17\n"
     ]
    }
   ],
   "source": [
    "p = generate_prime(2,20)\n",
    "print(f\"p = {p}\")"
   ]
  },
  {
   "cell_type": "markdown",
   "metadata": {},
   "source": [
    "## **Generating a range of prime numbers:**\n",
    "\n",
    "Here is a slight modification that allows us to print all prime numbers in a given range. We can use the `sympy.primerange` function to generate all prime numbers in a given range."
   ]
  },
  {
   "cell_type": "code",
   "execution_count": 36,
   "metadata": {},
   "outputs": [],
   "source": [
    "def generate_primes_in_range(start=2, end=20):\n",
    "    return list(sympy.primerange(start, end))\n",
    "\n",
    "def print_range(start, end):\n",
    "    primes = generate_primes_in_range(start, end)\n",
    "    print(f\"Primes in range {start} to {end} are: {primes}\")"
   ]
  },
  {
   "cell_type": "code",
   "execution_count": 37,
   "metadata": {},
   "outputs": [
    {
     "name": "stdout",
     "output_type": "stream",
     "text": [
      "Primes in range 1 to 20 are: [2, 3, 5, 7, 11, 13, 17, 19]\n"
     ]
    }
   ],
   "source": [
    "start = 1\n",
    "end = 20\n",
    "print_range(start, end)"
   ]
  },
  {
   "cell_type": "code",
   "execution_count": 38,
   "metadata": {},
   "outputs": [
    {
     "name": "stdout",
     "output_type": "stream",
     "text": [
      "Primes in range 1 to 100 are: [2, 3, 5, 7, 11, 13, 17, 19, 23, 29, 31, 37, 41, 43, 47, 53, 59, 61, 67, 71, 73, 79, 83, 89, 97]\n"
     ]
    }
   ],
   "source": [
    "start = 1\n",
    "end = 100\n",
    "print_range(start, end)"
   ]
  },
  {
   "cell_type": "code",
   "execution_count": 39,
   "metadata": {},
   "outputs": [
    {
     "name": "stdout",
     "output_type": "stream",
     "text": [
      "Primes in range 100 to 300 are: [101, 103, 107, 109, 113, 127, 131, 137, 139, 149, 151, 157, 163, 167, 173, 179, 181, 191, 193, 197, 199, 211, 223, 227, 229, 233, 239, 241, 251, 257, 263, 269, 271, 277, 281, 283, 293]\n"
     ]
    }
   ],
   "source": [
    "start = 100\n",
    "end = 300\n",
    "print_range(start, end)"
   ]
  },
  {
   "cell_type": "markdown",
   "metadata": {},
   "source": [
    "# **Fermat's Little Theorem**\n",
    "\n",
    "Fermat's Little Theorem states that if $p$ is a prime number and $a$ is an integer not divisible by $p$, then:\n",
    "$$\n",
    "a^{p-1} \\equiv 1 \\mod p\n",
    "$$\n",
    "\n",
    "This theorem is used in number theory and cryptography. It can be used to compute large powers modulo a prime number efficiently.\n",
    "\n",
    "The steps to apply Fermat's Little Theorem are as follows:\n",
    "\n",
    "1. **Ensure $p$ is prime**: Verify that $p$ is a prime number.\n",
    "2. **Ensure $a$ is not divisible by $p$**: Check that $a$ is an integer not divisible by $p$.\n",
    "3. **Apply the theorem**: Compute $a^{p-1} \\mod p$.\n",
    "\n",
    "For example, to compute $3^{6} \\mod 7$:\n",
    "1. $p = 7$ is prime.\n",
    "2. $a = 3$ is not divisible by 7.\n",
    "3. Apply the theorem: $3^{7-1} \\equiv 1 \\mod 7$\n",
    "4. $3^{6} \\mod 7 = 1$\n",
    "\n",
    "Therefore, $3^{6} \\equiv 1 \\mod 7$."
   ]
  },
  {
   "cell_type": "code",
   "execution_count": 40,
   "metadata": {},
   "outputs": [],
   "source": [
    "def check_congruence(a, n):\n",
    "    if pow(a, n-1, n) == 1 % n:\n",
    "        print(f\"true, {n} is congruent with base {a}.\")\n",
    "    else:\n",
    "        print(f\"false, {n} is not congruent with base {a}.\")\n",
    "        \n",
    "def fermats_test(n, a):\n",
    "    if pow(a, n-1, n) == 1:\n",
    "        return True\n",
    "    else:\n",
    "        return False"
   ]
  },
  {
   "cell_type": "code",
   "execution_count": 41,
   "metadata": {},
   "outputs": [
    {
     "name": "stdout",
     "output_type": "stream",
     "text": [
      "true, 91 is congruent with base 3.\n",
      "91 is probably prime.\n",
      "CPU times: user 65 μs, sys: 14 μs, total: 79 μs\n",
      "Wall time: 69.1 μs\n"
     ]
    }
   ],
   "source": [
    "%%time\n",
    "\n",
    "n = 91\n",
    "a = 3\n",
    "\n",
    "check_congruence(a, n)\n",
    "\n",
    "if fermats_test(n, a):\n",
    "    print(f\"{n} is probably prime.\")\n",
    "else:\n",
    "    print(f\"{n} is composite.\")"
   ]
  },
  {
   "cell_type": "markdown",
   "metadata": {},
   "source": [
    "```{admonition} Explanation\n",
    ":class: tip\n",
    "#### Example 1: Testing if 91 is Prime with Base 3\n",
    "\n",
    "Using Fermat's Little Theorem:\n",
    "$$\n",
    "3^{90} \\mod 91\n",
    "$$\n",
    "\n",
    "Calculate $3^{90} \\mod 91$:\n",
    "$$\n",
    "3^{90} \\equiv 1 \\mod 91\n",
    "$$\n",
    "\n",
    "Since the congruence holds true, 91 is probably prime.\n",
    "\n",
    "**Result**:\n",
    "- True, 91 is congruent with base 3.\n",
    "- 91 is probably prime.\n",
    "```"
   ]
  },
  {
   "cell_type": "code",
   "execution_count": 42,
   "metadata": {},
   "outputs": [
    {
     "name": "stdout",
     "output_type": "stream",
     "text": [
      "false, 88 is not congruent with base 6.\n",
      "88 is composite.\n",
      "CPU times: user 64 μs, sys: 13 μs, total: 77 μs\n",
      "Wall time: 68.2 μs\n"
     ]
    }
   ],
   "source": [
    "%%time\n",
    "\n",
    "n = 88\n",
    "a = 6\n",
    "\n",
    "check_congruence(a,n)\n",
    "\n",
    "if fermats_test(n, a):\n",
    "    print(f\"{n} is probably prime.\")\n",
    "else:\n",
    "    print(f\"{n} is composite.\")"
   ]
  },
  {
   "cell_type": "markdown",
   "metadata": {},
   "source": [
    "```{admonition} Explanation\n",
    ":class: tip\n",
    "#### Example 2: Testing if 88 is Prime with Base 6\n",
    "\n",
    "Using Fermat's Little Theorem:\n",
    "$$\n",
    "6^{87} \\mod 88\n",
    "$$\n",
    "\n",
    "Calculate $6^{87} \\mod 88$:\n",
    "$$\n",
    "6^{87} \\not\\equiv 1 \\mod 88\n",
    "$$\n",
    "\n",
    "Since the congruence does not hold true, 88 is composite.\n",
    "\n",
    "**Result**:\n",
    "- False, 88 is not congruent with base 6.\n",
    "- 88 is composite.\n",
    "```"
   ]
  },
  {
   "cell_type": "code",
   "execution_count": 43,
   "metadata": {},
   "outputs": [
    {
     "name": "stdout",
     "output_type": "stream",
     "text": [
      "true, 104729 is congruent with base 2.\n",
      "104729 is probably prime.\n",
      "CPU times: user 76 μs, sys: 0 ns, total: 76 μs\n",
      "Wall time: 68.9 μs\n"
     ]
    }
   ],
   "source": [
    "%%time\n",
    "\n",
    "n = 104729\n",
    "a = 2\n",
    "\n",
    "check_congruence(a,n)\n",
    "\n",
    "if fermats_test(n, a):\n",
    "    print(f\"{n} is probably prime.\")\n",
    "else:\n",
    "    print(f\"{n} is composite.\")"
   ]
  },
  {
   "cell_type": "markdown",
   "metadata": {},
   "source": [
    "```{admonition} Explanation\n",
    ":class: tip\n",
    "#### Example 3: Testing if 104729 is Prime with Base 2\n",
    "\n",
    "Using Fermat's Little Theorem:\n",
    "$$\n",
    "2^{104728} \\mod 104729\n",
    "$$\n",
    "\n",
    "Calculate $2^{104728} \\mod 104729$:\n",
    "$$\n",
    "2^{104728} \\equiv 1 \\mod 104729\n",
    "$$\n",
    "\n",
    "Since the congruence holds true, 104729 is probably prime.\n",
    "\n",
    "**Result**:\n",
    "- True, 104729 is congruent with base 2.\n",
    "- 104729 is probably prime.\n",
    "```"
   ]
  },
  {
   "cell_type": "markdown",
   "metadata": {},
   "source": [
    "# **Finding Coprimes**\n",
    "\n",
    "Two numbers $a$ and $b$ are said to be coprime (or relatively prime) if their greatest common divisor (gcd) is 1. This means they have no common prime factors.\n",
    "\n",
    "The steps to determine if two numbers are coprime are as follows:\n",
    "\n",
    "1. **Find the prime factors**: Determine the prime factors of both $a$ and $b$.\n",
    "2. **Check common factors**: Check if there are any common prime factors.\n",
    "3. **Compute gcd**: Use the Euclidean algorithm to find the gcd of $a$ and $b$. If $\\text{gcd}(a, b) = 1$, then $a$ and $b$ are coprime.\n",
    "\n",
    "For example, to check if 14 and 15 are coprime:\n",
    "1. Prime factors of 14: $2, 7$\n",
    "2. Prime factors of 15: $3, 5$\n",
    "3. No common prime factors.\n",
    "4. $\\text{gcd}(14, 15) = 1$\n",
    "5. Therefore, 14 and 15 are coprime.\n"
   ]
  },
  {
   "cell_type": "markdown",
   "metadata": {},
   "source": [
    "## **Finding the Coprime Pair**\n",
    "\n",
    "To find a coprime pair, we can generate two random numbers and check if they are coprime using the method described above. If the numbers are coprime it will output true, otherwise it will output false."
   ]
  },
  {
   "cell_type": "code",
   "execution_count": 56,
   "metadata": {},
   "outputs": [],
   "source": [
    "def are_coprime(p, q):\n",
    "    if sp.gcd(p, q) == 1:\n",
    "        return True\n",
    "    else:\n",
    "        return False"
   ]
  },
  {
   "cell_type": "markdown",
   "metadata": {},
   "source": [
    "### Checking $44$ and $10$ for coprimality:"
   ]
  },
  {
   "cell_type": "code",
   "execution_count": 63,
   "metadata": {},
   "outputs": [
    {
     "data": {
      "text/plain": [
       "False"
      ]
     },
     "execution_count": 63,
     "metadata": {},
     "output_type": "execute_result"
    }
   ],
   "source": [
    "p = 44\n",
    "q = 10\n",
    "are_coprime(p,q)"
   ]
  },
  {
   "cell_type": "markdown",
   "metadata": {},
   "source": [
    "```{admonition} Explanation\n",
    ":class: tip\n",
    "\n",
    "### Finding Coprimes of 44 and 10\n",
    "\n",
    "Two numbers $a$ and $b$ are said to be coprime (or relatively prime) if their greatest common divisor (gcd) is 1. This means they have no common prime factors.\n",
    "\n",
    "To determine if 44 and 10 are coprime, follow these steps:\n",
    "\n",
    "1. **Find the prime factors**:\n",
    "    - Prime factors of 44: $2, 11$\n",
    "    - Prime factors of 10: $2, 5$\n",
    "\n",
    "2. **Check common factors**:\n",
    "    - Common prime factor: $2$\n",
    "\n",
    "3. **Compute gcd using the Euclidean Algorithm**:\n",
    "    - Apply the Euclidean algorithm to find $\\text{gcd}(44, 10)$:\n",
    "    $$\n",
    "    \\begin{aligned}\n",
    "    44 &= 10 \\times 4 + 4 \\\\\n",
    "    10 &= 4 \\times 2 + 2 \\\\\n",
    "    4 &= 2 \\times 2 + 0\n",
    "    \\end{aligned}\n",
    "    $$\n",
    "    - The gcd is the last non-zero remainder:\n",
    "    $$\n",
    "    \\text{gcd}(44, 10) = 2\n",
    "    $$\n",
    "\n",
    "Since $\\text{gcd}(44, 10) \\neq 1$, 44 and 10 are not coprime.\n",
    "```"
   ]
  },
  {
   "cell_type": "markdown",
   "metadata": {},
   "source": [
    "### Checking $12$ and $25$ for coprimality:"
   ]
  },
  {
   "cell_type": "code",
   "execution_count": 65,
   "metadata": {},
   "outputs": [
    {
     "data": {
      "text/plain": [
       "True"
      ]
     },
     "execution_count": 65,
     "metadata": {},
     "output_type": "execute_result"
    }
   ],
   "source": [
    "p = 12\n",
    "q = 25\n",
    "are_coprime(p,q)"
   ]
  },
  {
   "cell_type": "markdown",
   "metadata": {},
   "source": [
    "```{admonition} Explanation\n",
    ":class: tip\n",
    "### Finding Coprimes of 12 and 25\n",
    "\n",
    "Two numbers $a$ and $b$ are said to be coprime (or relatively prime) if their greatest common divisor (gcd) is 1. This means they have no common prime factors.\n",
    "\n",
    "To determine if 12 and 25 are coprime, follow these steps:\n",
    "\n",
    "1. **Find the prime factors**:\n",
    "    - Prime factors of 12: $2, 3$\n",
    "    - Prime factors of 25: $5$\n",
    "\n",
    "2. **Check common factors**:\n",
    "    - There are no common prime factors.\n",
    "\n",
    "3. **Compute gcd using the Euclidean Algorithm**:\n",
    "    - Apply the Euclidean algorithm to find $\\text{gcd}(12, 25)$:\n",
    "    $$\n",
    "    \\begin{aligned}\n",
    "    25 &= 12 \\times 2 + 1 \\\\\n",
    "    12 &= 1 \\times 12 + 0\n",
    "    \\end{aligned}\n",
    "    $$\n",
    "    - The gcd is the last non-zero remainder:\n",
    "    $$\n",
    "    \\text{gcd}(12, 25) = 1\n",
    "    $$\n",
    "\n",
    "Since $\\text{gcd}(12, 25) = 1$, 12 and 25 are coprime.\n",
    "\n",
    "```"
   ]
  },
  {
   "cell_type": "markdown",
   "metadata": {},
   "source": [
    "### Checking $18$ and $24$ for coprimality:"
   ]
  },
  {
   "cell_type": "code",
   "execution_count": 68,
   "metadata": {},
   "outputs": [
    {
     "data": {
      "text/plain": [
       "False"
      ]
     },
     "execution_count": 68,
     "metadata": {},
     "output_type": "execute_result"
    }
   ],
   "source": [
    "p = 18\n",
    "q = 24\n",
    "are_coprime(p,q)"
   ]
  },
  {
   "cell_type": "markdown",
   "metadata": {},
   "source": [
    "```{admonition} Explanation\n",
    ":class: tip\n",
    "### Finding Coprimes of 18 and 24\n",
    "\n",
    "Two numbers $a$ and $b$ are said to be coprime (or relatively prime) if their greatest common divisor (gcd) is 1. This means they have no common prime factors.\n",
    "\n",
    "To determine if 18 and 24 are coprime, follow these steps:\n",
    "\n",
    "1. **Find the prime factors**:\n",
    "    - Prime factors of 18: $2, 3$\n",
    "    - Prime factors of 24: $2, 3$\n",
    "\n",
    "2. **Check common factors**:\n",
    "    - Common prime factors: $2, 3$\n",
    "\n",
    "3. **Compute gcd using the Euclidean Algorithm**:\n",
    "    - Apply the Euclidean algorithm to find $\\text{gcd}(18, 24)$:\n",
    "    $$\n",
    "    \\begin{aligned}\n",
    "    24 &= 18 \\times 1 + 6 \\\\\n",
    "    18 &= 6 \\times 3 + 0\n",
    "    \\end{aligned}\n",
    "    $$\n",
    "    - The gcd is the last non-zero remainder:\n",
    "    $$\n",
    "    \\text{gcd}(18, 24) = 6\n",
    "    $$\n",
    "\n",
    "Since $\\text{gcd}(18, 24) \\neq 1$, 18 and 24 are not coprime.\n",
    "```"
   ]
  },
  {
   "cell_type": "markdown",
   "metadata": {},
   "source": [
    "## **Listing the coprimes of a number**\n",
    "\n",
    "To list the coprimes of a number, we can use the following function. This function will list all the coprimes of a given number."
   ]
  },
  {
   "cell_type": "code",
   "execution_count": 47,
   "metadata": {},
   "outputs": [],
   "source": [
    "def list_coprimes(a, n):\n",
    "    coprimes = []\n",
    "    while len(coprimes) < n:\n",
    "        b = random.randint(2, a - 1)\n",
    "        if sp.gcd(a, b) == 1 and b not in coprimes:\n",
    "            coprimes.append(b)\n",
    "    return coprimes"
   ]
  },
  {
   "cell_type": "markdown",
   "metadata": {},
   "source": [
    "### Finding the coprimes of $44$"
   ]
  },
  {
   "cell_type": "code",
   "execution_count": 48,
   "metadata": {},
   "outputs": [
    {
     "name": "stdout",
     "output_type": "stream",
     "text": [
      "10 numbers coprime with 44 are: [19, 13, 43, 39, 29, 23, 21, 5, 25, 37]\n",
      "CPU times: user 4.39 ms, sys: 68 μs, total: 4.46 ms\n",
      "Wall time: 4.36 ms\n"
     ]
    }
   ],
   "source": [
    "%%time\n",
    "\n",
    "a = 44\n",
    "n = 10\n",
    "coprimes = find_coprimes(a, n)\n",
    "print(f\"{n} numbers coprime with {a} are: {coprimes}\")"
   ]
  },
  {
   "cell_type": "markdown",
   "metadata": {},
   "source": [
    "### Finding the coprimes of $235319$"
   ]
  },
  {
   "cell_type": "code",
   "execution_count": 49,
   "metadata": {},
   "outputs": [
    {
     "name": "stdout",
     "output_type": "stream",
     "text": [
      "15 numbers coprime with 235319 are: [163414, 157744, 11463, 140811, 32392, 44937, 12774, 150809, 126921, 37073, 148998, 153702, 140029, 32500, 23621]\n",
      "CPU times: user 2.74 ms, sys: 0 ns, total: 2.74 ms\n",
      "Wall time: 2.74 ms\n"
     ]
    }
   ],
   "source": [
    "%%time\n",
    "\n",
    "a = 235319\n",
    "n = 15\n",
    "coprimes = find_coprimes(a, n)\n",
    "print(f\"{n} numbers coprime with {a} are: {coprimes}\")"
   ]
  },
  {
   "cell_type": "markdown",
   "metadata": {},
   "source": [
    "### Finding the coprimes of $80748256$"
   ]
  },
  {
   "cell_type": "code",
   "execution_count": 50,
   "metadata": {},
   "outputs": [
    {
     "name": "stdout",
     "output_type": "stream",
     "text": [
      "20 numbers coprime with 80748256 are: [29114469, 58172365, 78108367, 62599371, 49755597, 61995723, 44851709, 70508381, 12524571, 42994715, 63593083, 70468773, 1072089, 37095855, 16820199, 1146747, 44594747, 61118371, 63942835, 54817271]\n",
      "CPU times: user 5.17 ms, sys: 19 μs, total: 5.19 ms\n",
      "Wall time: 5.08 ms\n"
     ]
    }
   ],
   "source": [
    "%%time\n",
    "\n",
    "a = 80748256\n",
    "n = 20\n",
    "coprimes = find_coprimes(a, n)\n",
    "print(f\"{n} numbers coprime with {a} are: {coprimes}\")"
   ]
  },
  {
   "cell_type": "markdown",
   "metadata": {},
   "source": [
    "# **Prime Factorisation**"
   ]
  },
  {
   "cell_type": "markdown",
   "metadata": {},
   "source": [
    "Prime factorisation is the process of breaking down a composite number into a product of prime numbers. The steps are as follows:\n",
    "\n",
    "1. **Start with the smallest prime number**: Begin with the smallest prime number, which is 2.\n",
    "2. **Divide the number**: Divide the number by the prime number.\n",
    "3. **Check for divisibility**: If the number is divisible by the prime number, record the prime factor and divide the number by this prime factor.\n",
    "4. **Repeat the process**: Continue the process with the resulting quotient. If the quotient is no longer divisible by the current prime, move to the next larger prime number.\n",
    "5. **Continue until the quotient is 1**: Repeat the steps until the quotient becomes 1. The prime factors are all the prime numbers recorded during the division process.\n",
    "\n",
    "For a number $n$, the prime factorization is:\n",
    "\n",
    "$$\n",
    "n = p_1^{e_1} \\times p_2^{e_2} \\times \\cdots \\times p_k^{e_k}\n",
    "$$\n",
    "\n",
    "where $p_1, p_2, \\ldots, p_k$ are prime numbers and $e_1, e_2, \\ldots, e_k$ are their respective exponents.\n"
   ]
  },
  {
   "cell_type": "code",
   "execution_count": 2,
   "metadata": {},
   "outputs": [],
   "source": [
    "def find_factors(n):\n",
    "    factors = []\n",
    "    for i in range(1, n + 1):\n",
    "        if n % i == 0:\n",
    "            factors.append(i)\n",
    "    print(f\"Factors of {n} are: {factors}\")\n",
    "    \n",
    "def find_prime_factors(n):\n",
    "    factors = []\n",
    "    for i in range(1, n + 1):\n",
    "        if n % i == 0 and sympy.isprime(i):\n",
    "            factors.append(i)\n",
    "    print(f\"Prime factors of {n} are: {factors}\")\n",
    "    "
   ]
  },
  {
   "cell_type": "markdown",
   "metadata": {},
   "source": [
    "## **Example with the number $12$**"
   ]
  },
  {
   "cell_type": "code",
   "execution_count": 3,
   "metadata": {},
   "outputs": [
    {
     "name": "stdout",
     "output_type": "stream",
     "text": [
      "Factors of 12 are: [1, 2, 3, 4, 6, 12]\n",
      "Prime factors of 12 are: [2, 3]\n"
     ]
    }
   ],
   "source": [
    "n = 12\n",
    "find_factors(n)\n",
    "find_prime_factors(n)"
   ]
  },
  {
   "cell_type": "markdown",
   "metadata": {},
   "source": [
    "```{admonition} Explanation\n",
    ":class: tip\n",
    "\n",
    "Factors of a number are all the integers that divide the number without leaving a remainder. To find the factors of 12, we check each integer from 1 to 12 to see if it divides 12 evenly.\n",
    "\n",
    "For 12:\n",
    "- **1 divides 12**: $$12 \\div 1 = 12$$\n",
    "- **2 divides 12**: $$12 \\div 2 = 6$$\n",
    "- **3 divides 12**: $$12 \\div 3 = 4$$\n",
    "- **4 divides 12**: $$12 \\div 4 = 3$$\n",
    "- **6 divides 12**: $$12 \\div 6 = 2$$\n",
    "- **12 divides 12**: $$12 \\div 12 = 1$$\n",
    "\n",
    "The factors of 12 are:\n",
    "$$\n",
    "[1, 2, 3, 4, 6, 12]\n",
    "$$\n",
    "\n",
    "#### Prime Factors of 12\n",
    "\n",
    "Prime factors are the prime numbers that multiply together to give the original number. To find the prime factors of 12, we start with the smallest prime number and divide 12 by prime numbers until we cannot divide further.\n",
    "\n",
    "1. **Divide by the smallest prime number (2)**:\n",
    "$$\n",
    "12 \\div 2 = 6 \\quad \\text{(prime factor: 2)}\n",
    "$$\n",
    "2. **Continue dividing by 2**:\n",
    "$$\n",
    "6 \\div 2 = 3 \\quad \\text{(prime factor: 2)}\n",
    "$$\n",
    "3. **3 is a prime number**:\n",
    "$$\n",
    "3 \\div 3 = 1 \\quad \\text{(prime factor: 3)}\n",
    "$$\n",
    "\n",
    "The prime factors of 12 are:\n",
    "$$\n",
    "[2, 2, 3] \\quad \\text{or} \\quad 2^2 \\times 3\n",
    "$$\n",
    "```"
   ]
  },
  {
   "cell_type": "markdown",
   "metadata": {},
   "source": [
    "## **Example with the number $88$**"
   ]
  },
  {
   "cell_type": "code",
   "execution_count": 15,
   "metadata": {},
   "outputs": [
    {
     "name": "stdout",
     "output_type": "stream",
     "text": [
      "Factors of 88 are: [1, 2, 4, 8, 11, 22, 44, 88]\n",
      "Prime factors of 88 are: [2, 11]\n"
     ]
    }
   ],
   "source": [
    "n = 88\n",
    "find_factors(n)\n",
    "find_prime_factors(n)"
   ]
  },
  {
   "cell_type": "markdown",
   "metadata": {},
   "source": [
    "```{admonition} Explanation\n",
    ":class: tip\n",
    "\n",
    "Factors of a number are all the integers that divide the number without leaving a remainder. To find the factors of 88, we check each integer from 1 to 88 to see if it divides 88 evenly.\n",
    "\n",
    "For 88:\n",
    "- **1 divides 88**: $$88 \\div 1 = 88$$\n",
    "- **2 divides 88**: $$88 \\div 2 = 44$$\n",
    "- **4 divides 88**: $$88 \\div 4 = 22$$\n",
    "- **8 divides 88**: $$88 \\div 8 = 11$$\n",
    "- **11 divides 88**: $$88 \\div 11 = 8$$\n",
    "- **22 divides 88**: $$88 \\div 22 = 4$$\n",
    "- **44 divides 88**: $$88 \\div 44 = 2$$\n",
    "- **88 divides 88**: $$88 \\div 88 = 1$$\n",
    "\n",
    "The factors of 88 are:\n",
    "\n",
    "$$\n",
    "[1, 2, 4, 8, 11, 22, 44, 88]\n",
    "$$\n",
    "\n",
    "### **Prime Factors of 88**\n",
    "\n",
    "Prime factors are the prime numbers that multiply together to give the original number. To find the prime factors of 88, we start with the smallest prime number and divide 88 by prime numbers until we cannot divide further.\n",
    "\n",
    "1. **Divide by the smallest prime number (2)**:\n",
    "\n",
    "$$\n",
    "88 \\div 2 = 44 \\quad \\text{(prime factor: 2)}\n",
    "$$\n",
    "2. **Continue dividing by 2**:\n",
    "\n",
    "$$\n",
    "44 \\div 2 = 22 \\quad \\text{(prime factor: 2)}\n",
    "$$\n",
    "3. **Continue dividing by 2**:\n",
    "\n",
    "$$\n",
    "22 \\div 2 = 11 \\quad \\text{(prime factor: 2)}\n",
    "$$\n",
    "4. **11 is a prime number**:\n",
    "\n",
    "$$\n",
    "11 \\div 11 = 1 \\quad \\text{(prime factor: 11)}\n",
    "$$\n",
    "\n",
    "The prime factors of 88 are:\n",
    "\n",
    "$$\n",
    "[2, 2, 2, 11] \\quad \\text{or} \\quad 2^3 \\times 11\n",
    "$$\n",
    "```"
   ]
  },
  {
   "cell_type": "markdown",
   "metadata": {},
   "source": [
    "## **Example with the number $138$**"
   ]
  },
  {
   "cell_type": "code",
   "execution_count": 18,
   "metadata": {},
   "outputs": [
    {
     "name": "stdout",
     "output_type": "stream",
     "text": [
      "Factors of 138 are: [1, 2, 3, 6, 23, 46, 69, 138]\n",
      "Prime factors of 138 are: [2, 3, 23]\n"
     ]
    }
   ],
   "source": [
    "n = 138\n",
    "find_factors(n)\n",
    "find_prime_factors(n)"
   ]
  },
  {
   "cell_type": "markdown",
   "metadata": {},
   "source": [
    "```{admonition} Explanation\n",
    ":class: tip\n",
    "\n",
    "Factors of a number are all the integers that divide the number without leaving a remainder. To find the factors of 138, we check each integer from 1 to 138 to see if it divides 138 evenly.\n",
    "\n",
    "For 138:\n",
    "- **1 divides 138**: $$138 \\div 1 = 138$$\n",
    "- **2 divides 138**: $$138 \\div 2 = 69$$\n",
    "- **3 divides 138**: $$138 \\div 3 = 46$$\n",
    "- **6 divides 138**: $$138 \\div 6 = 23$$\n",
    "- **23 divides 138**: $$138 \\div 23 = 6$$\n",
    "- **46 divides 138**: $$138 \\div 46 = 3$$\n",
    "- **69 divides 138**: $$138 \\div 69 = 2$$\n",
    "- **138 divides 138**: $$138 \\div 138 = 1$$\n",
    "\n",
    "The factors of 138 are:\n",
    "$$\n",
    "[1, 2, 3, 6, 23, 46, 69, 138]\n",
    "$$\n",
    "\n",
    "### Prime Factors of 138\n",
    "\n",
    "Prime factors are the prime numbers that multiply together to give the original number. To find the prime factors of 138, we start with the smallest prime number and divide 138 by prime numbers until we cannot divide further.\n",
    "\n",
    "1. **Divide by the smallest prime number (2)**:\n",
    "$$\n",
    "138 \\div 2 = 69 \\quad \\text{(prime factor: 2)}\n",
    "$$\n",
    "2. **Move to the next prime number (3)**:\n",
    "$$\n",
    "69 \\div 3 = 23 \\quad \\text{(prime factor: 3)}\n",
    "$$\n",
    "3. **23 is a prime number**:\n",
    "$$\n",
    "23 \\div 23 = 1 \\quad \\text{(prime factor: 23)}\n",
    "$$\n",
    "\n",
    "The prime factors of 138 are:\n",
    "$$\n",
    "[2, 3, 23]\n",
    "$$"
   ]
  },
  {
   "cell_type": "markdown",
   "metadata": {},
   "source": [
    "## **Example with randomly generating a number**"
   ]
  },
  {
   "cell_type": "code",
   "execution_count": 6,
   "metadata": {},
   "outputs": [
    {
     "name": "stdout",
     "output_type": "stream",
     "text": [
      "Factors of 750 are: [1, 2, 3, 5, 6, 10, 15, 25, 30, 50, 75, 125, 150, 250, 375, 750]\n",
      "Prime factors of 750 are: [2, 3, 5]\n"
     ]
    }
   ],
   "source": [
    "n = random.randint(100, 1000)\n",
    "find_factors(n)\n",
    "find_prime_factors(n)"
   ]
  },
  {
   "cell_type": "code",
   "execution_count": 7,
   "metadata": {},
   "outputs": [
    {
     "name": "stdout",
     "output_type": "stream",
     "text": [
      "Factors of 3820 are: [1, 2, 4, 5, 10, 20, 191, 382, 764, 955, 1910, 3820]\n",
      "Prime factors of 3820 are: [2, 5, 191]\n"
     ]
    }
   ],
   "source": [
    "n = random.randint(1000, 10000)\n",
    "find_factors(n)\n",
    "find_prime_factors(n)"
   ]
  },
  {
   "cell_type": "code",
   "execution_count": 8,
   "metadata": {},
   "outputs": [
    {
     "name": "stdout",
     "output_type": "stream",
     "text": [
      "Factors of 32130 are: [1, 2, 3, 5, 6, 7, 9, 10, 14, 15, 17, 18, 21, 27, 30, 34, 35, 42, 45, 51, 54, 63, 70, 85, 90, 102, 105, 119, 126, 135, 153, 170, 189, 210, 238, 255, 270, 306, 315, 357, 378, 459, 510, 595, 630, 714, 765, 918, 945, 1071, 1190, 1530, 1785, 1890, 2142, 2295, 3213, 3570, 4590, 5355, 6426, 10710, 16065, 32130]\n",
      "Prime factors of 32130 are: [2, 3, 5, 7, 17]\n"
     ]
    }
   ],
   "source": [
    "n = random.randint(10000, 100000)\n",
    "find_factors(n)\n",
    "find_prime_factors(n)"
   ]
  },
  {
   "cell_type": "markdown",
   "metadata": {},
   "source": [
    "#"
   ]
  }
 ],
 "metadata": {
  "kernelspec": {
   "display_name": "cryptography",
   "language": "python",
   "name": "python3"
  },
  "language_info": {
   "codemirror_mode": {
    "name": "ipython",
    "version": 3
   },
   "file_extension": ".py",
   "mimetype": "text/x-python",
   "name": "python",
   "nbconvert_exporter": "python",
   "pygments_lexer": "ipython3",
   "version": "3.12.3"
  }
 },
 "nbformat": 4,
 "nbformat_minor": 2
}