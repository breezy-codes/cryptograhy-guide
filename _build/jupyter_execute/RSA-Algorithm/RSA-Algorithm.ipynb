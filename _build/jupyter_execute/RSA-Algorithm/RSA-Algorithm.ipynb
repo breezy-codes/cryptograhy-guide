{
 "cells": [
  {
   "cell_type": "code",
   "execution_count": 18,
   "id": "949a1cc871c33359",
   "metadata": {
    "ExecuteTime": {
     "end_time": "2024-06-15T06:21:18.822173Z",
     "start_time": "2024-06-15T06:21:18.381489Z"
    }
   },
   "outputs": [],
   "source": [
    "import numpy as np\n",
    "import sympy\n",
    "from sympy import mod_inverse, isprime\n",
    "import random\n",
    "from math import gcd"
   ]
  },
  {
   "cell_type": "markdown",
   "id": "7931929cd03a3b7d",
   "metadata": {},
   "source": [
    "# **The Rivest Shamir Adleman (RSA) Algorithm**\n",
    "\n",
    "---\n",
    "\n",
    "Public key cryptography is the concept of having a public key that is published and anyone can see or use it to send a message to someone, however only the person with the private key can decrypt the message. This eliminated having to send the decryption key over insecure channels which became more of a problem with the invention of computers.\n",
    "\n",
    "### Table of Contents\n",
    "\n",
    "- [1. Algorithm Overview](#algorithm-overview)\n",
    "- [2. Mathematical Concepts Behind RSA](#mathematical-concepts-behind-rsa)\n",
    "- [3. How the Algorithm Works](#how-the-algorithm-works)\n",
    "- [4. Example of the RSA Algorithm](#example-of-the-rsa-algorithm)\n",
    "- [5. RSA Algorithm with larger numbers](#example-of-the-rsa-algorithm-with-larger-numbers)\n",
    "- [6. Finding the GCD of two numbers](#finding-the-gcd-of-two-numbers)\n",
    "- [7. Finding the the coprime of a number](#finding-the-coprime-of-a-number)\n",
    "- [8. Checking if a number is Prime with Fermat's Little Theorem](#checking-if-a-number-is-prime-with-fermats-little-theorem)\n",
    "- [9. Understanding Modular Arithmetic](#understanding-modular-arithmetic)\n",
    "- [10. Prime Factorisation](#prime-factorisation-and-its-role-in-rsa)\n",
    "  \n",
    "---"
   ]
  },
  {
   "cell_type": "markdown",
   "id": "71274975",
   "metadata": {},
   "source": [
    "## **1. Algorithm Overview**\n",
    "\n",
    "The **Rivest Shamir Adleman algorithm**, more commonly known as the **RSA algorithm**, was the first published example of a workable public key system created in 1977. The RSA Algorithm generates a public/private key pair by doing the following steps:\n",
    "\n",
    "1. **Select two large prime numbers and call them `p` and `q`.** Note, this algorithm works well when these numbers are very large.\n",
    "2. **Compute the modulus** `n` **by doing** `n = p * q` **then compute the Euler’s totient function to find** `φ(pq) = (p - 1)(q - 1)`\n",
    "3. **Select at random the encryption key** `e` **that meets** `1 < e < φ(pq)` **where the gcd is** `gcd(e, φ(pq)) = 1`\n",
    "4. **Then you solve the following equation so that you can find the decryption key** `d`:\n",
    "\n",
    "`d * e ≡ 1 (mod φ(pq)), 0 ≤ d ≤ pq`\n",
    "\n",
    "## **2. Mathematical Concepts Behind RSA**\n",
    "\n",
    "To see some of the mathematical concepts behind the RSA algorithm, check out the [Number Theory Basics](../Number-Theory/Number-Theory-Basics.ipynb) file. Here you'll find explanations and code examples for the following concepts:\n",
    "- **Checking if a number is Prime with Fermat's Little Theorem**\n",
    "- **Finding the coprime of a number**\n",
    "- **Finding the Greatest Common Divisor (GCD) and Least Common Divisor (LCM) of two numbers**\n",
    "- **Prime Factorisation**\n",
    "\n",
    "## **3. How the Algorithm Works**\n",
    "- To use the algorithm, each user will publish their public encryption key along with the modulus `n` which is shown as `PU = {e, n}`. \n",
    "- They keep the secret decryption key along with the primes used `PR = {d, p, q}`. \n",
    "- To encrypt a message `M`, the sender will obtain the public key of the recipient, compute the ciphertext `c` to `c = M^e (mod n)` where `0 ≤ M ≤ n` and then sends the ciphertext `C` to the recipient. \n",
    "- In reverse, the decryption of ciphertext `C` by the recipient is done by using their private decryption key `d` and computing the message `M = C^d (mod n)`.\n",
    "\n",
    "In the code you will notice the use of `%%time`, this is a magic command in Jupyter Notebook that will time how long it takes to run the code. This is useful to see how long it takes to generate the keys and encrypt/decrypt a message. At first you'll see that it's incredibly quick in the inital example, but as you increase the size of the prime numbers, you'll see that it takes longer to generate the keys and encrypt/decrypt a message."
   ]
  },
  {
   "cell_type": "markdown",
   "id": "35f18abd0bc18189",
   "metadata": {},
   "source": [
    "## **4. Example of the RSA Algorithm**\n",
    "\n",
    "---"
   ]
  },
  {
   "cell_type": "markdown",
   "id": "f03892e8746c00ef",
   "metadata": {},
   "source": [
    "### 1. Function Generation\n",
    "The Euler's Totient function is calculated as follows:\n",
    "\n",
    "- If `n` is a prime number, then `φ(n) = n - 1`\n",
    "- If `n` is a product of two prime numbers, then `φ(n) = (p - 1)(q - 1)`\n",
    "- If `n` is a product of three prime numbers, then `φ(n) = (p - 1)(q - 1)(r - 1)`\n",
    "- And so on..."
   ]
  },
  {
   "cell_type": "code",
   "execution_count": 105,
   "id": "initial_id",
   "metadata": {
    "ExecuteTime": {
     "end_time": "2024-06-13T07:07:35.727418Z",
     "start_time": "2024-06-13T07:07:35.724509Z"
    },
    "collapsed": true
   },
   "outputs": [],
   "source": [
    "def euler_phi(n):\n",
    "    result = n\n",
    "    p = 2\n",
    "    while p * p <= n:\n",
    "        if n % p == 0:\n",
    "            while n % p == 0:\n",
    "                n //= p\n",
    "            result -= result // p\n",
    "        p += 1\n",
    "    if n > 1:\n",
    "        result -= result // n\n",
    "    return result\n",
    "\n",
    "def power_mod(base, exp, mod):\n",
    "    return pow(base, exp, mod)"
   ]
  },
  {
   "cell_type": "markdown",
   "id": "66e3aacc3226636f",
   "metadata": {},
   "source": [
    "We will define the following functions:\n",
    "- `find_private_key`: To find the private key `d` using the public key exponent `e` and the totient of `n`\n",
    "- `encrypt_message`: To encrypt the message using the public key exponent `e` and the modulus `n`\n",
    "- `decrypt_message`: To decrypt the message using the private key `d` and the modulus `n`"
   ]
  },
  {
   "cell_type": "code",
   "execution_count": 104,
   "id": "8374a9a17301db32",
   "metadata": {
    "ExecuteTime": {
     "end_time": "2024-06-13T07:28:12.693082Z",
     "start_time": "2024-06-13T07:28:12.689431Z"
    }
   },
   "outputs": [],
   "source": [
    "# def power_mod(base, exp, mod):\n",
    "def find_private_key(e, totient_n):\n",
    "    if gcd(e, totient_n) != 1:\n",
    "        raise ValueError(\"e and totient_n are not coprime\")\n",
    "    return power_mod(e, -1, totient_n)\n",
    "\n",
    "# def find_private_key(e, totient_n):\n",
    "def encrypt_message(message, e, n):\n",
    "    return power_mod(message, e, n)\n",
    "\n",
    "# def encrypt_message(message, e, n):\n",
    "def decrypt_message(ciphertext, d, n):\n",
    "    return power_mod(ciphertext, d, n)"
   ]
  },
  {
   "cell_type": "markdown",
   "id": "27cab4204cfd441c",
   "metadata": {},
   "source": [
    "### 2. Define the variables\n",
    "\n",
    "Let's define the variables for the RSA algorithm:\n",
    "\n",
    "- `p` and `q`: Two large prime numbers\n",
    "- `n`: The product of two large prime numbers\n",
    "- `e`: The public key exponent\n",
    "\n",
    "We will calculate the totient of `n` using the Euler's Totient function."
   ]
  },
  {
   "cell_type": "code",
   "execution_count": 58,
   "id": "88b74927",
   "metadata": {},
   "outputs": [],
   "source": [
    "p = 97\n",
    "q = 101"
   ]
  },
  {
   "cell_type": "code",
   "execution_count": 59,
   "id": "908fd33c87a39dc8",
   "metadata": {
    "ExecuteTime": {
     "end_time": "2024-06-13T07:07:36.411949Z",
     "start_time": "2024-06-13T07:07:36.408148Z"
    }
   },
   "outputs": [
    {
     "name": "stdout",
     "output_type": "stream",
     "text": [
      "Totient of n: 9600\n",
      "CPU times: user 103 μs, sys: 0 ns, total: 103 μs\n",
      "Wall time: 94.7 μs\n"
     ]
    }
   ],
   "source": [
    "%%time\n",
    "n = p * q\n",
    "e = 17\n",
    "totient_n = euler_phi(n)\n",
    "print(\"Totient of n:\", totient_n)"
   ]
  },
  {
   "cell_type": "markdown",
   "id": "42f6af7957ecdb0e",
   "metadata": {},
   "source": [
    "### 3. Find the private key `d`\n",
    "\n",
    "We will find the private key `d` using the public key exponent `e` and the totient of `n`.\n",
    "\n",
    "This is done by solving the equation `d * e ≡ 1 (mod φ(pq))` where `0 ≤ d ≤ pq`."
   ]
  },
  {
   "cell_type": "code",
   "execution_count": 19,
   "id": "60bcc7c56b289555",
   "metadata": {
    "ExecuteTime": {
     "end_time": "2024-06-13T07:24:52.351120Z",
     "start_time": "2024-06-13T07:24:52.347573Z"
    }
   },
   "outputs": [
    {
     "name": "stdout",
     "output_type": "stream",
     "text": [
      "Private key d: 3953\n",
      "CPU times: user 41 μs, sys: 58 μs, total: 99 μs\n",
      "Wall time: 92 μs\n"
     ]
    }
   ],
   "source": [
    "%%time\n",
    "d = find_private_key(e, totient_n)\n",
    "print(\"Private key d:\", d)"
   ]
  },
  {
   "cell_type": "markdown",
   "id": "68a78e0413d9bde6",
   "metadata": {},
   "source": [
    "### 4. Encrypt the message\n",
    "\n",
    "We will encrypt the message `1234` using the public key exponent `e` and the modulus `n`.\n",
    "\n",
    "The ciphertext is calculated as `c = M^e (mod n)`."
   ]
  },
  {
   "cell_type": "code",
   "execution_count": 20,
   "id": "4934370af7997185",
   "metadata": {
    "ExecuteTime": {
     "end_time": "2024-06-13T07:24:53.380043Z",
     "start_time": "2024-06-13T07:24:53.376981Z"
    }
   },
   "outputs": [
    {
     "name": "stdout",
     "output_type": "stream",
     "text": [
      "Original message: 1234\n",
      "Ciphertext: 8897\n",
      "CPU times: user 49 μs, sys: 69 μs, total: 118 μs\n",
      "Wall time: 110 μs\n"
     ]
    }
   ],
   "source": [
    "%%time\n",
    "message = 1234\n",
    "ciphertext = encrypt_message(message, e, n)\n",
    "print(\"Original message:\", message)\n",
    "print(\"Ciphertext:\", ciphertext)"
   ]
  },
  {
   "cell_type": "markdown",
   "id": "88926c10c95ee8c4",
   "metadata": {},
   "source": [
    "### 5. Decrypt the message\n",
    "\n",
    "We will decrypt the ciphertext using the private key `d` and the modulus `n`.\n",
    "\n",
    "The message is calculated as `M = C^d (mod n)`.\n",
    "\n",
    "The decrypted message should be the same as the original message."
   ]
  },
  {
   "cell_type": "code",
   "execution_count": 21,
   "id": "8e325ad94b52ff88",
   "metadata": {
    "ExecuteTime": {
     "end_time": "2024-06-13T07:25:17.609057Z",
     "start_time": "2024-06-13T07:25:17.604933Z"
    }
   },
   "outputs": [
    {
     "name": "stdout",
     "output_type": "stream",
     "text": [
      "Decrypted message: 1234\n",
      "Is the decrypted message the same as the original message? True\n",
      "CPU times: user 126 μs, sys: 0 ns, total: 126 μs\n",
      "Wall time: 121 μs\n"
     ]
    }
   ],
   "source": [
    "%%time\n",
    "decrypted_message = decrypt_message(ciphertext, d, n)\n",
    "print(\"Decrypted message:\", decrypted_message)\n",
    "print(f\"Is the decrypted message the same as the original message? {message == decrypted_message}\")"
   ]
  },
  {
   "cell_type": "markdown",
   "id": "3bfe209aeda73baf",
   "metadata": {},
   "source": [
    "### 6. Putting it all together\n",
    "\n",
    "We will put all the steps together to show how the RSA algorithm works."
   ]
  },
  {
   "cell_type": "code",
   "execution_count": 9,
   "id": "66d8a1c2179606dd",
   "metadata": {
    "ExecuteTime": {
     "end_time": "2024-06-13T07:28:01.712202Z",
     "start_time": "2024-06-13T07:28:01.707680Z"
    }
   },
   "outputs": [
    {
     "name": "stdout",
     "output_type": "stream",
     "text": [
      "Our original value of n was: 9797\n",
      "Our original value of e was: 17\n",
      "Our calculated value of totient_n was: 9600\n",
      "Our original message was: 1234\n",
      "Our encrypted message was: 8897\n",
      "Our decrypted message was: 1234\n",
      "Is the decrypted message the same as the original message? True\n"
     ]
    }
   ],
   "source": [
    "print(f\"Our original value of n was: {n}\")\n",
    "print(f\"Our original value of e was: {e}\")\n",
    "print(f\"Our calculated value of totient_n was: {totient_n}\")\n",
    "print(f\"Our original message was: {message}\")\n",
    "print(f\"Our encrypted message was: {ciphertext}\")\n",
    "print(f\"Our decrypted message was: {decrypted_message}\")\n",
    "print(f\"Is the decrypted message the same as the original message? {message == decrypted_message}\")"
   ]
  },
  {
   "cell_type": "markdown",
   "id": "b00e013a",
   "metadata": {},
   "source": [
    "## **5. Let's try the RSA Algorithm on some Larger Numbers**\n",
    "\n",
    "---"
   ]
  },
  {
   "cell_type": "markdown",
   "id": "b81ae82c",
   "metadata": {},
   "source": [
    "Here we can condense down our code blocks as we have initially declared a lot of our functions and variables. We will now try the RSA algorithm on some larger numbers to see how it works.\n",
    "\n",
    "We will also definte a prime number generator function `generate_prime_number` to generate a prime number of a given size.\n",
    "\n",
    "This will be useful later when testing larger values of `p` and `q`.\n",
    "\n",
    "A handy way of dealing with larger numbers and trying to find the `tiotient` of `n` is to use the `math` library in Python. This library has a function called `math.gcd` which can be used to find the greatest common divisor of two numbers. This is useful when trying to find the `tiotient` of `n` as we can use the formula `gcd(e, φ(pq)) = 1`."
   ]
  },
  {
   "cell_type": "markdown",
   "id": "e1653f78",
   "metadata": {},
   "source": [
    "### 1. Generate a Prime Number Function"
   ]
  },
  {
   "cell_type": "code",
   "execution_count": 115,
   "id": "f3985836",
   "metadata": {},
   "outputs": [],
   "source": [
    "def generate_prime(start=100000, end=800000):\n",
    "    while True:\n",
    "        num = random.randint(start, end)\n",
    "        if sympy.isprime(num):\n",
    "            return num\n",
    "        \n",
    "def print_rsa_values(p, q, n, e, totient_n, message, ciphertext, decrypted_message):\n",
    "    print(f\"Our original value of p and q were: {p} and {q}\")\n",
    "    print(f\"Our original value of n was: {n}\")\n",
    "    print(f\"Our original value of e was: {e}\")\n",
    "    print(f\"Our calculated value of totient_n was: {totient_n}\")\n",
    "    print(f\"Our original message was: {message}\")\n",
    "    print(f\"Our encrypted message was: {ciphertext}\")\n",
    "    print(f\"Our decrypted message was: {decrypted_message}\")\n",
    "    print(f\"Is the decrypted message the same as the original message? {message == decrypted_message}\")"
   ]
  },
  {
   "cell_type": "markdown",
   "id": "73765058",
   "metadata": {},
   "source": [
    "---"
   ]
  },
  {
   "cell_type": "markdown",
   "id": "93df6cae",
   "metadata": {},
   "source": [
    "### 2. The RSA algorithm on 5 digit prime numbers\n",
    "\n",
    "Here the total time for generating the keys and encrypting/decrypting a message is shown. You can see that it takes a bit longer to generate the keys and encrypt/decrypt a message when using 5 digit prime numbers. With it being `40.1 μs` for the entire process."
   ]
  },
  {
   "cell_type": "code",
   "execution_count": 124,
   "id": "7c5e17894afd875e",
   "metadata": {},
   "outputs": [
    {
     "name": "stdout",
     "output_type": "stream",
     "text": [
      "CPU times: user 36 μs, sys: 0 ns, total: 36 μs\n",
      "Wall time: 40.5 μs\n"
     ]
    }
   ],
   "source": [
    "%%time\n",
    "p = 10427\n",
    "q = 10663\n",
    "n = p * q\n",
    "e = 17\n",
    "message = 1234\n",
    "\n",
    "totient_n = euler_phi(p) * euler_phi(q)\n",
    "while gcd(e, totient_n) != 1:\n",
    "    e += 2  # Increment e until it's coprime with totient_n\n",
    "    \n",
    "d = find_private_key(e, totient_n)\n",
    "ciphertext = encrypt_message(message, e, n)\n",
    "decrypted_message = decrypt_message(ciphertext, d, n)"
   ]
  },
  {
   "cell_type": "code",
   "execution_count": 126,
   "id": "b80f2d7a",
   "metadata": {},
   "outputs": [
    {
     "name": "stdout",
     "output_type": "stream",
     "text": [
      "Our original value of p and q were: 10427 and 10663\n",
      "Our original value of n was: 111183101\n",
      "Our original value of e was: 17\n",
      "Our calculated value of totient_n was: 111162012\n",
      "Our original message was: 1234\n",
      "Our encrypted message was: 104710521\n",
      "Our decrypted message was: 1234\n",
      "Is the decrypted message the same as the original message? True\n"
     ]
    }
   ],
   "source": [
    "print_rsa_values(p, q, n, e, totient_n, message, ciphertext, decrypted_message)"
   ]
  },
  {
   "cell_type": "markdown",
   "id": "af9a0b6a",
   "metadata": {},
   "source": [
    "---"
   ]
  },
  {
   "cell_type": "markdown",
   "id": "753e3986",
   "metadata": {},
   "source": [
    "### 3. The RSA algorithm on 10 digit prime numbers\n",
    "\n",
    "Here the total time for generating the keys and encrypting/decrypting a message is shown. You can see that it takes a bit longer to generate the keys and encrypt/decrypt a message when using 10 digit prime numbers. With it now being `26.5 ms` for the entire process, a significant increase from the 5 digit prime numbers."
   ]
  },
  {
   "cell_type": "code",
   "execution_count": 96,
   "id": "8a7e31f7",
   "metadata": {},
   "outputs": [
    {
     "name": "stdout",
     "output_type": "stream",
     "text": [
      "CPU times: user 27.2 ms, sys: 0 ns, total: 27.2 ms\n",
      "Wall time: 26.5 ms\n"
     ]
    }
   ],
   "source": [
    "%%time\n",
    "\n",
    "p = generate_prime(1000000000, 8000000000)\n",
    "q = generate_prime(1000000000, 8000000000)\n",
    "n = p * q\n",
    "e = 17\n",
    "message = 123456789\n",
    "\n",
    "totient_n = euler_phi(p) * euler_phi(q)\n",
    "while gcd(e, totient_n) != 1:\n",
    "    e += 2  # Increment e until it's coprime with totient_n\n",
    "\n",
    "d = find_private_key(e, totient_n)\n",
    "ciphertext = encrypt_message(message, e, n)\n",
    "decrypted_message = decrypt_message(ciphertext, d, n)"
   ]
  },
  {
   "cell_type": "code",
   "execution_count": 80,
   "id": "48cae564",
   "metadata": {},
   "outputs": [
    {
     "name": "stdout",
     "output_type": "stream",
     "text": [
      "Our original value of p and q were: 37201553 and 14549159\n",
      "Our original value of n was: 541251309643927\n",
      "Our original value of e was: 17\n",
      "Our calculated value of totient_n was: 541251257893216\n",
      "Our original message was: 123456789\n",
      "Our encrypted message was: 514680304925327\n",
      "Our decrypted message was: 123456789\n",
      "Is the decrypted message the same as the original message? True\n"
     ]
    }
   ],
   "source": [
    "print_rsa_values(p, q, n, e, totient_n, message, ciphertext, decrypted_message)"
   ]
  },
  {
   "cell_type": "markdown",
   "id": "06e5bb36",
   "metadata": {},
   "source": [
    "---"
   ]
  },
  {
   "cell_type": "markdown",
   "id": "b004f97f",
   "metadata": {},
   "source": [
    "### 4. The RSA algorithm on 15 digit prime numbers\n",
    "\n",
    "Here the total time for generating the keys and encrypting/decrypting a message is shown. You can see that it takes longer to generate the keys and encrypt/decrypt a message when using 15 digit prime numbers. With it now being `4.7 s` for the entire process, which is a significant jump from 10 digit prime numbers and even more so from 5 digit prime numbers."
   ]
  },
  {
   "cell_type": "code",
   "execution_count": 108,
   "id": "97aeac7c",
   "metadata": {},
   "outputs": [
    {
     "name": "stdout",
     "output_type": "stream",
     "text": [
      "CPU times: user 4.7 s, sys: 2 ms, total: 4.7 s\n",
      "Wall time: 4.71 s\n"
     ]
    }
   ],
   "source": [
    "%%time\n",
    "\n",
    "p = generate_prime(100000000000000, 900000000000000)\n",
    "q = generate_prime(100000000000000, 900000000000000)\n",
    "n = p * q\n",
    "e = 17\n",
    "message = 123456789\n",
    "\n",
    "totient_n = euler_phi(p) * euler_phi(q)\n",
    "while gcd(e, totient_n) != 1:\n",
    "    e += 2  # Increment e until it's coprime with totient_n\n",
    "\n",
    "d = find_private_key(e, totient_n)\n",
    "ciphertext = encrypt_message(message, e, n)\n",
    "decrypted_message = decrypt_message(ciphertext, d, n)"
   ]
  },
  {
   "cell_type": "code",
   "execution_count": 90,
   "id": "ab4a7545",
   "metadata": {},
   "outputs": [
    {
     "name": "stdout",
     "output_type": "stream",
     "text": [
      "Our original value of p and q were: 817140172394107 and 547754557755289\n",
      "Our original value of n was: 447592253753814692862971681923\n",
      "Our original value of e was: 17\n",
      "Our calculated value of totient_n was: 447592253753813327968241532528\n",
      "Our original message was: 123456789\n",
      "Our encrypted message was: 266981944652092286561115982209\n",
      "Our decrypted message was: 123456789\n",
      "Is the decrypted message the same as the original message? True\n"
     ]
    }
   ],
   "source": [
    "print_rsa_values(p, q, n, e, totient_n, message, ciphertext, decrypted_message)"
   ]
  },
  {
   "cell_type": "markdown",
   "id": "72294fb5",
   "metadata": {},
   "source": [
    "---"
   ]
  },
  {
   "cell_type": "markdown",
   "id": "c244cbff",
   "metadata": {},
   "source": [
    "### 5. The RSA algorithm on 18 digit prime numbers\n",
    "\n",
    "Here the total time for generating the keys and encrypting/decrypting a message is shown. You can see that it takes longer to generate the keys and encrypt/decrypt a message when using 18 digit prime numbers. With it now being `1 min 48 s` for the entire process, which is a significant jump from 15 digit prime numbers and even more so from 10 digit prime numbers."
   ]
  },
  {
   "cell_type": "code",
   "execution_count": 111,
   "id": "9bdcf0d5",
   "metadata": {},
   "outputs": [
    {
     "name": "stdout",
     "output_type": "stream",
     "text": [
      "CPU times: user 1min 48s, sys: 997 μs, total: 1min 48s\n",
      "Wall time: 1min 48s\n"
     ]
    }
   ],
   "source": [
    "%%time\n",
    "\n",
    "p = generate_prime(100000000000000000, 900000000000000000)\n",
    "q = generate_prime(100000000000000000, 900000000000000000)\n",
    "n = p * q\n",
    "e = 17\n",
    "message = 123456789\n",
    "\n",
    "totient_n = euler_phi(p) * euler_phi(q)\n",
    "while gcd(e, totient_n) != 1:\n",
    "    e += 2  # Increment e until it's coprime with totient_n\n",
    "    \n",
    "d = find_private_key(e, totient_n)\n",
    "ciphertext = encrypt_message(message, e, n)\n",
    "decrypted_message = decrypt_message(ciphertext, d, n)"
   ]
  },
  {
   "cell_type": "code",
   "execution_count": 112,
   "id": "3a014979",
   "metadata": {},
   "outputs": [
    {
     "name": "stdout",
     "output_type": "stream",
     "text": [
      "Our original value of p and q were: 415573428518459957 and 543966113095135777\n",
      "Our original value of n was: 226057862616805912578094787852581589\n",
      "Our original value of e was: 17\n",
      "Our calculated value of totient_n was: 226057862616805911618555246238985856\n",
      "Our original message was: 123456789\n",
      "Our encrypted message was: 160107104791976571231752716075044555\n",
      "Our decrypted message was: 123456789\n",
      "Is the decrypted message the same as the original message? True\n"
     ]
    }
   ],
   "source": [
    "print_rsa_values(p, q, n, e, totient_n, message, ciphertext, decrypted_message)"
   ]
  },
  {
   "cell_type": "markdown",
   "id": "6b66190a",
   "metadata": {},
   "source": [
    "---"
   ]
  },
  {
   "cell_type": "markdown",
   "id": "893a0048",
   "metadata": {},
   "source": [
    "### 6. The RSA algorithm on 19 digit prime numbers\n",
    "\n",
    "The final example shows the RSA algorithm on 19 digit prime numbers. Here the total time for generating the keys and encrypting/decrypting a message is shown. You can see that it takes longer to generate the keys and encrypt/decrypt a message when using 19 digit prime numbers. With it now being `10 min 13 s` for the entire process, which is a significant jump from 18 digit prime numbers and even more so from 15 digit prime numbers."
   ]
  },
  {
   "cell_type": "code",
   "execution_count": 113,
   "id": "c1558520",
   "metadata": {},
   "outputs": [
    {
     "name": "stdout",
     "output_type": "stream",
     "text": [
      "CPU times: user 10min 12s, sys: 92 ms, total: 10min 13s\n",
      "Wall time: 10min 13s\n"
     ]
    }
   ],
   "source": [
    "%%time\n",
    "\n",
    "p = generate_prime(1000000000000000000, 9000000000000000000)\n",
    "q = generate_prime(1000000000000000000, 9000000000000000000)\n",
    "n = p * q\n",
    "e = 17\n",
    "message = 123456789\n",
    "\n",
    "totient_n = euler_phi(p) * euler_phi(q)\n",
    "while gcd(e, totient_n) != 1:\n",
    "    e += 2  # Increment e until it's coprime with totient_n\n",
    "    \n",
    "d = find_private_key(e, totient_n)\n",
    "ciphertext = encrypt_message(message, e, n)\n",
    "decrypted_message = decrypt_message(ciphertext, d, n)"
   ]
  },
  {
   "cell_type": "code",
   "execution_count": 114,
   "id": "da38a736",
   "metadata": {},
   "outputs": [
    {
     "name": "stdout",
     "output_type": "stream",
     "text": [
      "Our original value of p and q were: 5187424496365756861 and 6896938881277935473\n",
      "Our original value of n was: 35777349702678600972672615955165030253\n",
      "Our original value of e was: 17\n",
      "Our calculated value of totient_n was: 35777349702678600960588252577521337920\n",
      "Our original message was: 123456789\n",
      "Our encrypted message was: 2177553986524605235606780047389748843\n",
      "Our decrypted message was: 123456789\n",
      "Is the decrypted message the same as the original message? True\n"
     ]
    }
   ],
   "source": [
    "print_rsa_values(p, q, n, e, totient_n, message, ciphertext, decrypted_message)"
   ]
  },
  {
   "cell_type": "markdown",
   "id": "91851782",
   "metadata": {},
   "source": [
    "So as you can see, the RSA algorithm is incredibly powerful and secure, however, it can be slow to compute when using large prime numbers. This is why it's important to use large prime numbers to ensure the security of the algorithm. The RSA algorithm often uses numbers that are hundreds of digits long to ensure that it's secure.\n",
    "\n",
    "Although the RSA algorithm is secure, it's important to note that it can be vulnerable to attacks such as the **timing attack** and the **low exponent attack**. This is why it's important to use large prime numbers and to ensure that the public and private keys are kept secure."
   ]
  }
 ],
 "metadata": {
  "kernelspec": {
   "display_name": "Python 3",
   "language": "python",
   "name": "python3"
  },
  "language_info": {
   "codemirror_mode": {
    "name": "ipython",
    "version": 3
   },
   "file_extension": ".py",
   "mimetype": "text/x-python",
   "name": "python",
   "nbconvert_exporter": "python",
   "pygments_lexer": "ipython3",
   "version": "3.12.3"
  }
 },
 "nbformat": 4,
 "nbformat_minor": 5
}