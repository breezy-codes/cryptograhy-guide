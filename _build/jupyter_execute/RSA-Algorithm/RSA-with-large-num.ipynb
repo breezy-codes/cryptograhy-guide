{
 "cells": [
  {
   "cell_type": "markdown",
   "id": "85ef2907",
   "metadata": {},
   "source": [
    "# **RSA with Larger Prime Numbers**\n",
    "\n",
    "Extending on from the RSA Algorithm example, we will now use larger prime numbers to demonstrate the RSA algorithm and how the time taken to decrypt the message increases with the size of the prime numbers."
   ]
  },
  {
   "cell_type": "code",
   "execution_count": 18,
   "id": "949a1cc871c33359",
   "metadata": {
    "ExecuteTime": {
     "end_time": "2024-06-15T06:21:18.822173Z",
     "start_time": "2024-06-15T06:21:18.381489Z"
    },
    "tags": [
     "hide-input"
    ]
   },
   "outputs": [],
   "source": [
    "import numpy as np\n",
    "import sympy\n",
    "from sympy import mod_inverse, isprime\n",
    "import random\n",
    "from math import gcd"
   ]
  },
  {
   "cell_type": "markdown",
   "id": "e1653f78",
   "metadata": {},
   "source": [
    "## **Generate a Prime Number Function**\n",
    "\n",
    "We will generate 2 function for this, the first is for randomly generating a prime number between a range we will define. The second function is for code reusability, this will print out all our outputs in a nice format."
   ]
  },
  {
   "cell_type": "code",
   "execution_count": 115,
   "id": "f3985836",
   "metadata": {},
   "outputs": [],
   "source": [
    "def generate_prime(start=100000, end=800000):\n",
    "    while True:\n",
    "        num = random.randint(start, end)\n",
    "        if sympy.isprime(num):\n",
    "            return num\n",
    "        \n",
    "def print_rsa_values(p, q, n, e, totient_n, message, ciphertext, decrypted_message):\n",
    "    print(f\"Our original value of p and q were: {p} and {q}\")\n",
    "    print(f\"Our original value of n was: {n}\")\n",
    "    print(f\"Our original value of e was: {e}\")\n",
    "    print(f\"Our calculated value of totient_n was: {totient_n}\")\n",
    "    print(f\"Our original message was: {message}\")\n",
    "    print(f\"Our encrypted message was: {ciphertext}\")\n",
    "    print(f\"Our decrypted message was: {decrypted_message}\")\n",
    "    print(f\"Is the decrypted message the same as the original message? {message == decrypted_message}\")"
   ]
  },
  {
   "cell_type": "markdown",
   "id": "93df6cae",
   "metadata": {},
   "source": [
    "## **The RSA algorithm on 5 digit prime numbers**\n",
    "\n",
    "Here the total time for generating the keys and encrypting/decrypting a message is shown. You can see that it takes a bit longer to generate the keys and encrypt/decrypt a message when using 5 digit prime numbers. With it being $40.1 μs$ for the entire process."
   ]
  },
  {
   "cell_type": "code",
   "execution_count": 124,
   "id": "7c5e17894afd875e",
   "metadata": {},
   "outputs": [
    {
     "name": "stdout",
     "output_type": "stream",
     "text": [
      "CPU times: user 36 μs, sys: 0 ns, total: 36 μs\n",
      "Wall time: 40.5 μs\n"
     ]
    }
   ],
   "source": [
    "%%time\n",
    "p = 10427\n",
    "q = 10663\n",
    "n = p * q\n",
    "e = 17\n",
    "message = 1234\n",
    "\n",
    "totient_n = euler_phi(p) * euler_phi(q)\n",
    "while gcd(e, totient_n) != 1:\n",
    "    e += 2  # Increment e until it's coprime with totient_n\n",
    "    \n",
    "d = find_private_key(e, totient_n)\n",
    "ciphertext = encrypt_message(message, e, n)\n",
    "decrypted_message = decrypt_message(ciphertext, d, n)"
   ]
  },
  {
   "cell_type": "code",
   "execution_count": 126,
   "id": "b80f2d7a",
   "metadata": {},
   "outputs": [
    {
     "name": "stdout",
     "output_type": "stream",
     "text": [
      "Our original value of p and q were: 10427 and 10663\n",
      "Our original value of n was: 111183101\n",
      "Our original value of e was: 17\n",
      "Our calculated value of totient_n was: 111162012\n",
      "Our original message was: 1234\n",
      "Our encrypted message was: 104710521\n",
      "Our decrypted message was: 1234\n",
      "Is the decrypted message the same as the original message? True\n"
     ]
    }
   ],
   "source": [
    "print_rsa_values(p, q, n, e, totient_n, message, ciphertext, decrypted_message)"
   ]
  },
  {
   "cell_type": "markdown",
   "id": "753e3986",
   "metadata": {},
   "source": [
    "## **The RSA algorithm on 10 digit prime numbers**\n",
    "\n",
    "Here the total time for generating the keys and encrypting/decrypting a message is shown. You can see that it takes a bit longer to generate the keys and encrypt/decrypt a message when using 10 digit prime numbers. With it now being $26.5~ms$ for the entire process, a significant increase from the 5 digit prime numbers."
   ]
  },
  {
   "cell_type": "code",
   "execution_count": 96,
   "id": "8a7e31f7",
   "metadata": {},
   "outputs": [
    {
     "name": "stdout",
     "output_type": "stream",
     "text": [
      "CPU times: user 27.2 ms, sys: 0 ns, total: 27.2 ms\n",
      "Wall time: 26.5 ms\n"
     ]
    }
   ],
   "source": [
    "%%time\n",
    "\n",
    "p = generate_prime(1000000000, 8000000000)\n",
    "q = generate_prime(1000000000, 8000000000)\n",
    "n = p * q\n",
    "e = 17\n",
    "message = 123456789\n",
    "\n",
    "totient_n = euler_phi(p) * euler_phi(q)\n",
    "while gcd(e, totient_n) != 1:\n",
    "    e += 2  # Increment e until it's coprime with totient_n\n",
    "\n",
    "d = find_private_key(e, totient_n)\n",
    "ciphertext = encrypt_message(message, e, n)\n",
    "decrypted_message = decrypt_message(ciphertext, d, n)"
   ]
  },
  {
   "cell_type": "code",
   "execution_count": 80,
   "id": "48cae564",
   "metadata": {},
   "outputs": [
    {
     "name": "stdout",
     "output_type": "stream",
     "text": [
      "Our original value of p and q were: 37201553 and 14549159\n",
      "Our original value of n was: 541251309643927\n",
      "Our original value of e was: 17\n",
      "Our calculated value of totient_n was: 541251257893216\n",
      "Our original message was: 123456789\n",
      "Our encrypted message was: 514680304925327\n",
      "Our decrypted message was: 123456789\n",
      "Is the decrypted message the same as the original message? True\n"
     ]
    }
   ],
   "source": [
    "print_rsa_values(p, q, n, e, totient_n, message, ciphertext, decrypted_message)"
   ]
  },
  {
   "cell_type": "markdown",
   "id": "b004f97f",
   "metadata": {},
   "source": [
    "### **The RSA algorithm on 15 digit prime numbers**\n",
    "\n",
    "Here the total time for generating the keys and encrypting/decrypting a message is shown. You can see that it takes longer to generate the keys and encrypt/decrypt a message when using 15 digit prime numbers. With it now being $4.7~s$ for the entire process, which is a significant jump from 10 digit prime numbers and even more so from 5 digit prime numbers."
   ]
  },
  {
   "cell_type": "code",
   "execution_count": 108,
   "id": "97aeac7c",
   "metadata": {},
   "outputs": [
    {
     "name": "stdout",
     "output_type": "stream",
     "text": [
      "CPU times: user 4.7 s, sys: 2 ms, total: 4.7 s\n",
      "Wall time: 4.71 s\n"
     ]
    }
   ],
   "source": [
    "%%time\n",
    "\n",
    "p = generate_prime(100000000000000, 900000000000000)\n",
    "q = generate_prime(100000000000000, 900000000000000)\n",
    "n = p * q\n",
    "e = 17\n",
    "message = 123456789\n",
    "\n",
    "totient_n = euler_phi(p) * euler_phi(q)\n",
    "while gcd(e, totient_n) != 1:\n",
    "    e += 2  # Increment e until it's coprime with totient_n\n",
    "\n",
    "d = find_private_key(e, totient_n)\n",
    "ciphertext = encrypt_message(message, e, n)\n",
    "decrypted_message = decrypt_message(ciphertext, d, n)"
   ]
  },
  {
   "cell_type": "code",
   "execution_count": 90,
   "id": "ab4a7545",
   "metadata": {},
   "outputs": [
    {
     "name": "stdout",
     "output_type": "stream",
     "text": [
      "Our original value of p and q were: 817140172394107 and 547754557755289\n",
      "Our original value of n was: 447592253753814692862971681923\n",
      "Our original value of e was: 17\n",
      "Our calculated value of totient_n was: 447592253753813327968241532528\n",
      "Our original message was: 123456789\n",
      "Our encrypted message was: 266981944652092286561115982209\n",
      "Our decrypted message was: 123456789\n",
      "Is the decrypted message the same as the original message? True\n"
     ]
    }
   ],
   "source": [
    "print_rsa_values(p, q, n, e, totient_n, message, ciphertext, decrypted_message)"
   ]
  },
  {
   "cell_type": "markdown",
   "id": "c244cbff",
   "metadata": {},
   "source": [
    "## **The RSA algorithm on 18 digit prime numbers**\n",
    "\n",
    "Here the total time for generating the keys and encrypting/decrypting a message is shown. You can see that it takes longer to generate the keys and encrypt/decrypt a message when using 18 digit prime numbers. With it now being $1~min~48~s$ for the entire process, which is a significant jump from 15 digit prime numbers and even more so from 10 digit prime numbers."
   ]
  },
  {
   "cell_type": "code",
   "execution_count": 111,
   "id": "9bdcf0d5",
   "metadata": {},
   "outputs": [
    {
     "name": "stdout",
     "output_type": "stream",
     "text": [
      "CPU times: user 1min 48s, sys: 997 μs, total: 1min 48s\n",
      "Wall time: 1min 48s\n"
     ]
    }
   ],
   "source": [
    "%%time\n",
    "\n",
    "p = generate_prime(100000000000000000, 900000000000000000)\n",
    "q = generate_prime(100000000000000000, 900000000000000000)\n",
    "n = p * q\n",
    "e = 17\n",
    "message = 123456789\n",
    "\n",
    "totient_n = euler_phi(p) * euler_phi(q)\n",
    "while gcd(e, totient_n) != 1:\n",
    "    e += 2  # Increment e until it's coprime with totient_n\n",
    "    \n",
    "d = find_private_key(e, totient_n)\n",
    "ciphertext = encrypt_message(message, e, n)\n",
    "decrypted_message = decrypt_message(ciphertext, d, n)"
   ]
  },
  {
   "cell_type": "code",
   "execution_count": 112,
   "id": "3a014979",
   "metadata": {},
   "outputs": [
    {
     "name": "stdout",
     "output_type": "stream",
     "text": [
      "Our original value of p and q were: 415573428518459957 and 543966113095135777\n",
      "Our original value of n was: 226057862616805912578094787852581589\n",
      "Our original value of e was: 17\n",
      "Our calculated value of totient_n was: 226057862616805911618555246238985856\n",
      "Our original message was: 123456789\n",
      "Our encrypted message was: 160107104791976571231752716075044555\n",
      "Our decrypted message was: 123456789\n",
      "Is the decrypted message the same as the original message? True\n"
     ]
    }
   ],
   "source": [
    "print_rsa_values(p, q, n, e, totient_n, message, ciphertext, decrypted_message)"
   ]
  },
  {
   "cell_type": "markdown",
   "id": "893a0048",
   "metadata": {},
   "source": [
    "## **The RSA algorithm on 19 digit prime numbers**\n",
    "\n",
    "The final example shows the RSA algorithm on 19 digit prime numbers. Here the total time for generating the keys and encrypting/decrypting a message is shown. You can see that it takes longer to generate the keys and encrypt/decrypt a message when using 19 digit prime numbers. With it now being $~10~min~13~s$ for the entire process, which is a significant jump from 18 digit prime numbers and even more so from 15 digit prime numbers."
   ]
  },
  {
   "cell_type": "code",
   "execution_count": 113,
   "id": "c1558520",
   "metadata": {},
   "outputs": [
    {
     "name": "stdout",
     "output_type": "stream",
     "text": [
      "CPU times: user 10min 12s, sys: 92 ms, total: 10min 13s\n",
      "Wall time: 10min 13s\n"
     ]
    }
   ],
   "source": [
    "%%time\n",
    "\n",
    "p = generate_prime(1000000000000000000, 9000000000000000000)\n",
    "q = generate_prime(1000000000000000000, 9000000000000000000)\n",
    "n = p * q\n",
    "e = 17\n",
    "message = 123456789\n",
    "\n",
    "totient_n = euler_phi(p) * euler_phi(q)\n",
    "while gcd(e, totient_n) != 1:\n",
    "    e += 2  # Increment e until it's coprime with totient_n\n",
    "    \n",
    "d = find_private_key(e, totient_n)\n",
    "ciphertext = encrypt_message(message, e, n)\n",
    "decrypted_message = decrypt_message(ciphertext, d, n)"
   ]
  },
  {
   "cell_type": "code",
   "execution_count": 114,
   "id": "da38a736",
   "metadata": {},
   "outputs": [
    {
     "name": "stdout",
     "output_type": "stream",
     "text": [
      "Our original value of p and q were: 5187424496365756861 and 6896938881277935473\n",
      "Our original value of n was: 35777349702678600972672615955165030253\n",
      "Our original value of e was: 17\n",
      "Our calculated value of totient_n was: 35777349702678600960588252577521337920\n",
      "Our original message was: 123456789\n",
      "Our encrypted message was: 2177553986524605235606780047389748843\n",
      "Our decrypted message was: 123456789\n",
      "Is the decrypted message the same as the original message? True\n"
     ]
    }
   ],
   "source": [
    "print_rsa_values(p, q, n, e, totient_n, message, ciphertext, decrypted_message)"
   ]
  },
  {
   "cell_type": "markdown",
   "id": "91851782",
   "metadata": {},
   "source": [
    "So as you can see, the RSA algorithm is incredibly powerful and secure, however, it can be slow to compute when using large prime numbers. This is why it's important to use large prime numbers to ensure the security of the algorithm. The RSA algorithm often uses numbers that are hundreds of digits long to ensure that it's secure.\n",
    "\n",
    "Although the RSA algorithm is secure, it's important to note that it can be vulnerable to attacks such as the **timing attack** and the **low exponent attack**. This is why it's important to use large prime numbers and to ensure that the public and private keys are kept secure."
   ]
  }
 ],
 "metadata": {
  "kernelspec": {
   "display_name": "Python 3",
   "language": "python",
   "name": "python3"
  },
  "language_info": {
   "codemirror_mode": {
    "name": "ipython",
    "version": 3
   },
   "file_extension": ".py",
   "mimetype": "text/x-python",
   "name": "python",
   "nbconvert_exporter": "python",
   "pygments_lexer": "ipython3",
   "version": "3.12.3"
  }
 },
 "nbformat": 4,
 "nbformat_minor": 5
}