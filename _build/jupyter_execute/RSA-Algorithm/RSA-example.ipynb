{
 "cells": [
  {
   "cell_type": "markdown",
   "metadata": {},
   "source": [
    "# **The RSA Algorithm**\n",
    "\n",
    "The Ron Rivest, Adi Shamir, and Leonard Adleman (RSA) algorithm is a public-key cryptosystem that is widely used for secure data transmission. It is based on the principle that it is easy to multiply large prime numbers together, however it is extremely difficult to factor the product of two large prime numbers. The RSA algorithm is based on the mathematical properties of prime numbers and the Euler's totient function.\n",
    "\n",
    "Let's break down the mathematics behind the RSA algorithm:\n",
    "\n",
    "1. **Key Generation**:\n",
    "    - Choose two distinct prime numbers $p$ and $q$.\n",
    "    - Compute $n$ as the product of $p$ and $q$:\n",
    "  \n",
    "    $$\n",
    "    n = p \\times q\n",
    "    $$\n",
    "\n",
    "    - Compute the totient function $\\phi(n)$:\n",
    "  \n",
    "    $$\n",
    "    \\phi(n) = (p-1) \\times (q-1)\n",
    "    $$\n",
    "\n",
    "    - Choose an integer $e$ such that $1 < e < \\phi(n)$ and $e$ is coprime with $\\phi(n)$. Typically, $e = 65537$ is chosen.\n",
    "    - Compute the modular multiplicative inverse of $e$ modulo $\\phi(n)$ to get $d$:\n",
    "    \n",
    "    $$\n",
    "    d \\equiv e^{-1} \\mod \\phi(n)\n",
    "    $$\n",
    "\n",
    "    - The public key is $(e, n)$ and the private key is $(d, n)$.\n",
    "\n",
    "2. **Encryption**:\n",
    "    - Convert the plaintext message $M$ into an integer $m$ such that $0 \\leq m < n$.\n",
    "    - Compute the ciphertext $c$ using the public key $(e, n)$:\n",
    "    \n",
    "    $$\n",
    "    c \\equiv m^e \\mod n\n",
    "    $$\n",
    "\n",
    "3. **Decryption**:\n",
    "    - Compute the plaintext integer $m$ from the ciphertext $c$ using the private key $(d, n)$:\n",
    "    \n",
    "    $$\n",
    "    m \\equiv c^d \\mod n\n",
    "    $$\n",
    "    \n",
    "    - Convert the integer $m$ back to the original plaintext message $M$."
   ]
  },
  {
   "cell_type": "markdown",
   "metadata": {},
   "source": [
    "## RSA Algorithm Implementation"
   ]
  },
  {
   "cell_type": "markdown",
   "metadata": {},
   "source": [
    "### Function Generation\n",
    "The Euler's Totient function is calculated as follows:\n",
    "\n",
    "- If $n$ is a prime number, then $φ(n) = n - 1$\n",
    "- If $n$ is a product of two prime numbers, then $φ(n) = (p - 1)(q - 1)$\n",
    "- If $n$ is a product of three prime numbers, then $φ(n) = (p - 1)(q - 1)(r - 1)$\n",
    "- And so on..."
   ]
  },
  {
   "cell_type": "code",
   "execution_count": 1,
   "metadata": {},
   "outputs": [],
   "source": [
    "import numpy as np\n",
    "import sympy\n",
    "from sympy import mod_inverse, isprime\n",
    "import random\n",
    "from math import gcd"
   ]
  },
  {
   "cell_type": "code",
   "execution_count": 2,
   "metadata": {},
   "outputs": [],
   "source": [
    "def euler_phi(n):\n",
    "    result = n\n",
    "    p = 2\n",
    "    while p * p <= n:\n",
    "        if n % p == 0:\n",
    "            while n % p == 0:\n",
    "                n //= p\n",
    "            result -= result // p\n",
    "        p += 1\n",
    "    if n > 1:\n",
    "        result -= result // n\n",
    "    return result\n",
    "\n",
    "def power_mod(base, exp, mod):\n",
    "    return pow(base, exp, mod)"
   ]
  },
  {
   "cell_type": "markdown",
   "metadata": {},
   "source": [
    "We will define the following functions:\n",
    "- `find_private_key`: To find the private key $d$ using the public key exponent $e$ and the totient of $n$\n",
    "- `encrypt_message`: To encrypt the message using the public key exponent $e$ and the modulus $n$\n",
    "- `decrypt_message`: To decrypt the message using the private key $d$ and the modulus $n$"
   ]
  },
  {
   "cell_type": "code",
   "execution_count": 3,
   "metadata": {},
   "outputs": [],
   "source": [
    "# def power_mod(base, exp, mod):\n",
    "def find_private_key(e, totient_n):\n",
    "    if gcd(e, totient_n) != 1:\n",
    "        raise ValueError(\"e and totient_n are not coprime\")\n",
    "    return power_mod(e, -1, totient_n)\n",
    "\n",
    "# def find_private_key(e, totient_n):\n",
    "def encrypt_message(message, e, n):\n",
    "    return power_mod(message, e, n)\n",
    "\n",
    "# def encrypt_message(message, e, n):\n",
    "def decrypt_message(ciphertext, d, n):\n",
    "    return power_mod(ciphertext, d, n)"
   ]
  },
  {
   "cell_type": "markdown",
   "metadata": {},
   "source": [
    "### Define the variables\n",
    "\n",
    "Let's define the variables for the RSA algorithm:\n",
    "\n",
    "- $p$ and $q$: Two large prime numbers\n",
    "- $n$: The product of two large prime numbers\n",
    "- $e$: The public key exponent\n",
    "\n",
    "We will calculate the totient of $n$ using the Euler's Totient function."
   ]
  },
  {
   "cell_type": "code",
   "execution_count": 4,
   "metadata": {},
   "outputs": [],
   "source": [
    "p = 97\n",
    "q = 101"
   ]
  },
  {
   "cell_type": "markdown",
   "metadata": {},
   "source": [
    "### Find the Euler's Totient function\n",
    "\n",
    "Let's define a function `find_totient` to calculate the Euler's Totient function $\\phi(n)$ using the prime numbers $p$ and $q$."
   ]
  },
  {
   "cell_type": "code",
   "execution_count": 5,
   "metadata": {},
   "outputs": [
    {
     "name": "stdout",
     "output_type": "stream",
     "text": [
      "Totient of n: 9600\n",
      "CPU times: user 119 μs, sys: 0 ns, total: 119 μs\n",
      "Wall time: 112 μs\n"
     ]
    }
   ],
   "source": [
    "%%time\n",
    "n = p * q\n",
    "e = 17\n",
    "totient_n = euler_phi(n)\n",
    "print(\"Totient of n:\", totient_n)"
   ]
  },
  {
   "cell_type": "markdown",
   "metadata": {},
   "source": [
    "```{admonition} Euler's Totient Function\n",
    ":class: tip\n",
    "Euler's totient function, $\\phi(n)$, is crucial for generating the RSA keys. It is calculated using the formula:\n",
    "\n",
    "$$\n",
    "\\phi(n) = (p - 1) \\times (q - 1)\n",
    "$$\n",
    "\n",
    "where $p$ and $q$ are prime numbers.\n",
    "\n",
    "#### Example:\n",
    "\n",
    "Given:\n",
    "\n",
    "$$\n",
    "p = 97 \\\\\n",
    "q = 101\n",
    "$$\n",
    "\n",
    "Calculate $n$:\n",
    "\n",
    "$$\n",
    "n = p \\times q = 97 \\times 101 = 9797\n",
    "$$\n",
    "\n",
    "Calculate $\\phi(n)$:\n",
    "\n",
    "$$\n",
    "\\phi(n) = (97 - 1) \\times (101 - 1) = 96 \\times 100 = 9600\n",
    "$$\n",
    "```"
   ]
  },
  {
   "cell_type": "markdown",
   "metadata": {},
   "source": [
    "### Find the private key $d$\n",
    "\n",
    "We will find the private key $d$ using the public key exponent $e$ and the totient of $n$.\n",
    "\n",
    "This is done by solving the equation $d * e ≡ 1 (mod~φ(pq))$ where $0 ≤ d ≤ pq$."
   ]
  },
  {
   "cell_type": "code",
   "execution_count": 6,
   "metadata": {},
   "outputs": [
    {
     "name": "stdout",
     "output_type": "stream",
     "text": [
      "Private key d: 3953\n",
      "CPU times: user 90 μs, sys: 0 ns, total: 90 μs\n",
      "Wall time: 85.4 μs\n"
     ]
    }
   ],
   "source": [
    "%%time\n",
    "d = find_private_key(e, totient_n)\n",
    "print(\"Private key d:\", d)"
   ]
  },
  {
   "cell_type": "markdown",
   "metadata": {},
   "source": [
    "```{admonition} Private Key Calculation\n",
    ":class: tip\n",
    "\n",
    "The private key $d$ is the modular multiplicative inverse of $e$ modulo $\\phi(n)$. This means we need to find $d$ such that:\n",
    "\n",
    "$$\n",
    "d \\equiv e^{-1} \\mod \\phi(n)\n",
    "$$\n",
    "\n",
    "Given:\n",
    "\n",
    "$$\n",
    "e = 17\n",
    "$$\n",
    "\n",
    "Use the Extended Euclidean Algorithm to find $d$:\n",
    "\n",
    "$$\n",
    "d \\equiv 17^{-1} \\mod 9600\n",
    "$$\n",
    "\n",
    "Using the algorithm, we find:\n",
    "\n",
    "$$\n",
    "d = 5657\n",
    "$$\n",
    "```"
   ]
  },
  {
   "cell_type": "markdown",
   "metadata": {},
   "source": [
    "### Encrypt the message\n",
    "\n",
    "We will encrypt the message $1234$ using the public key exponent $e$ and the modulus $n$.\n",
    "\n",
    "The ciphertext is calculated as $c = M^e~(mod~n)$."
   ]
  },
  {
   "cell_type": "code",
   "execution_count": 7,
   "metadata": {},
   "outputs": [
    {
     "name": "stdout",
     "output_type": "stream",
     "text": [
      "Original message: 1234\n",
      "Ciphertext: 8897\n",
      "CPU times: user 126 μs, sys: 0 ns, total: 126 μs\n",
      "Wall time: 117 μs\n"
     ]
    }
   ],
   "source": [
    "%%time\n",
    "message = 1234\n",
    "ciphertext = encrypt_message(message, e, n)\n",
    "print(\"Original message:\", message)\n",
    "print(\"Ciphertext:\", ciphertext)"
   ]
  },
  {
   "cell_type": "markdown",
   "metadata": {},
   "source": [
    "```{admonition} Encryption\n",
    ":class: tip\n",
    "\n",
    "To encrypt a message $M$, convert it to an integer $m$ such that $0 \\leq m < n$. Then, use the public key $(e, n)$ to compute the ciphertext $c$:\n",
    "\n",
    "$$\n",
    "c \\equiv m^e \\mod n\n",
    "$$\n",
    "\n",
    "Suppose the plaintext message $M$ is represented as the integer $m = 1234$.\n",
    "\n",
    "Given the public key:\n",
    "\n",
    "$$\n",
    "(e, n) = (17, 9797)\n",
    "$$\n",
    "\n",
    "Calculate the ciphertext $c$:\n",
    "\n",
    "$$\n",
    "c \\equiv 1234^{17} \\mod 9797 = 4362\n",
    "$$\n",
    "```"
   ]
  },
  {
   "cell_type": "markdown",
   "metadata": {},
   "source": [
    "### Decrypt the message\n",
    "\n",
    "We will decrypt the ciphertext using the private key $d$ and the modulus $n$.\n",
    "\n",
    "The message is calculated as $M = C^d~(mod~n)$.\n",
    "\n",
    "The decrypted message should be the same as the original message."
   ]
  },
  {
   "cell_type": "code",
   "execution_count": 8,
   "metadata": {},
   "outputs": [
    {
     "name": "stdout",
     "output_type": "stream",
     "text": [
      "Decrypted message: 1234\n",
      "Is the decrypted message the same as the original message? True\n",
      "CPU times: user 123 μs, sys: 0 ns, total: 123 μs\n",
      "Wall time: 116 μs\n"
     ]
    }
   ],
   "source": [
    "%%time\n",
    "decrypted_message = decrypt_message(ciphertext, d, n)\n",
    "print(\"Decrypted message:\", decrypted_message)\n",
    "print(f\"Is the decrypted message the same as the original message? {message == decrypted_message}\")"
   ]
  },
  {
   "cell_type": "markdown",
   "metadata": {},
   "source": [
    "```{admonition} Decryption\n",
    ":class: tip\n",
    "\n",
    "To decrypt the ciphertext $c$, use the private key $(d, n)$ to compute the plaintext integer $m$:\n",
    "\n",
    "$$\n",
    "m \\equiv c^d \\mod n\n",
    "$$\n",
    "\n",
    "Given the private key:\n",
    "\n",
    "$$\n",
    "(d, n) = (5657, 9797)\n",
    "$$\n",
    "\n",
    "Calculate the plaintext integer $m$ from the ciphertext $c$:\n",
    "\n",
    "$$\n",
    "m \\equiv 4362^{5657} \\mod 9797 = 1234\n",
    "$$\n",
    "\n",
    "Convert $m$ back to the original plaintext message.\n",
    "```"
   ]
  },
  {
   "cell_type": "markdown",
   "metadata": {},
   "source": [
    "### Putting it all together\n",
    "\n",
    "We will put all the steps together to show how the RSA algorithm works."
   ]
  },
  {
   "cell_type": "code",
   "execution_count": 9,
   "metadata": {},
   "outputs": [
    {
     "name": "stdout",
     "output_type": "stream",
     "text": [
      "Our original value of n was: 9797\n",
      "Our original value of e was: 17\n",
      "Our calculated value of totient_n was: 9600\n",
      "Our original message was: 1234\n",
      "Our encrypted message was: 8897\n",
      "Our decrypted message was: 1234\n",
      "Is the decrypted message the same as the original message? True\n"
     ]
    }
   ],
   "source": [
    "print(f\"Our original value of n was: {n}\")\n",
    "print(f\"Our original value of e was: {e}\")\n",
    "print(f\"Our calculated value of totient_n was: {totient_n}\")\n",
    "print(f\"Our original message was: {message}\")\n",
    "print(f\"Our encrypted message was: {ciphertext}\")\n",
    "print(f\"Our decrypted message was: {decrypted_message}\")\n",
    "print(f\"Is the decrypted message the same as the original message? {message == decrypted_message}\")"
   ]
  }
 ],
 "metadata": {
  "kernelspec": {
   "display_name": "jupyter-books",
   "language": "python",
   "name": "python3"
  },
  "language_info": {
   "codemirror_mode": {
    "name": "ipython",
    "version": 3
   },
   "file_extension": ".py",
   "mimetype": "text/x-python",
   "name": "python",
   "nbconvert_exporter": "python",
   "pygments_lexer": "ipython3",
   "version": "3.12.3"
  }
 },
 "nbformat": 4,
 "nbformat_minor": 2
}