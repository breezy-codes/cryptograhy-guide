{
 "cells": [
  {
   "cell_type": "markdown",
   "metadata": {},
   "source": [
    "# **Modular Arithmetic**\n",
    "\n",
    "Modular arithmetic is a system of arithmetic for integers, where numbers \"wrap around\" upon reaching a certain value, called the modulus. This means that after reaching the modulus, numbers start back at zero.\n",
    "\n",
    "The basic operation in modular arithmetic is to find the remainder when one integer is divided by another (the modulus).\n",
    "\n",
    "For a given modulus $m$, any integer $a$ can be expressed in modular arithmetic as:\n",
    "\n",
    "$$\n",
    "a \\mod m\n",
    "$$\n",
    "\n",
    "This represents the remainder when $a$ is divided by $m$.\n",
    "\n",
    "For example:\n",
    "- $7 \\mod 5 = 2$ because $7$ divided by $5$ gives a quotient of $1$ and a remainder of $2$.\n",
    "- $12 \\mod 4 = 0$ because $12$ divided by $4$ gives a quotient of $3$ and a remainder of $0$.\n",
    "\n",
    "In general:\n",
    "\n",
    "$$\n",
    "a \\equiv b \\mod m\n",
    "$$\n",
    "\n",
    "means that $a$ and $b$ have the same remainder when divided by $m$."
   ]
  },
  {
   "cell_type": "markdown",
   "metadata": {},
   "source": [
    "## Functions"
   ]
  },
  {
   "cell_type": "code",
   "execution_count": 1,
   "metadata": {},
   "outputs": [],
   "source": [
    "import sympy as sp\n",
    "from sympy import *\n",
    "from math import gcd\n",
    "import random"
   ]
  },
  {
   "cell_type": "code",
   "execution_count": 13,
   "metadata": {},
   "outputs": [],
   "source": [
    "def modular_arithmetic(number, modulus):\n",
    "    result = number % modulus\n",
    "    print(f\"{number} ≡ {result} (mod {modulus})\")\n",
    "    return"
   ]
  },
  {
   "cell_type": "markdown",
   "metadata": {},
   "source": [
    "## Examples"
   ]
  },
  {
   "cell_type": "markdown",
   "metadata": {},
   "source": [
    "### Finding the Remainder of $17$ mod $5$"
   ]
  },
  {
   "cell_type": "code",
   "execution_count": 9,
   "metadata": {},
   "outputs": [
    {
     "name": "stdout",
     "output_type": "stream",
     "text": [
      "17 ≡ 2 (mod 5)\n"
     ]
    }
   ],
   "source": [
    "number = 17\n",
    "modulus = 5\n",
    "modular_arithmetic(number, modulus)"
   ]
  },
  {
   "cell_type": "markdown",
   "metadata": {},
   "source": [
    "```{admonition} Explanation\n",
    ":class: tip\n",
    "\n",
    "To find the remainder when $17$ is divided by $5$, follow these steps:\n",
    "\n",
    "1. **Divide $17$ by $5$**: Compute the quotient and remainder.\n",
    "\n",
    "$$\n",
    "17 \\div 5 = 3 \\text{ remainder } 2\n",
    "$$\n",
    "\n",
    "2. **Express the division**:\n",
    "\n",
    "$$\n",
    "17 = 5 \\times 3 + 2\n",
    "$$\n",
    "\n",
    "3. **The remainder is the result of the modulo operation**:\n",
    "\n",
    "$$\n",
    "17 \\mod 5 = 2\n",
    "$$\n",
    "\n",
    "Therefore:\n",
    "\n",
    "$$\n",
    "17 \\equiv 2 \\mod 5\n",
    "$$\n",
    "\n",
    "```"
   ]
  },
  {
   "cell_type": "markdown",
   "metadata": {},
   "source": [
    "### Finding the Remainder of $170$ mod $16$"
   ]
  },
  {
   "cell_type": "code",
   "execution_count": 11,
   "metadata": {},
   "outputs": [
    {
     "name": "stdout",
     "output_type": "stream",
     "text": [
      "170 ≡ 10 (mod 16)\n"
     ]
    }
   ],
   "source": [
    "number = 170\n",
    "modulus = 16\n",
    "modular_arithmetic(number, modulus)"
   ]
  },
  {
   "cell_type": "markdown",
   "metadata": {},
   "source": [
    "```{admonition} Explanation\n",
    ":class: tip\n",
    "\n",
    "To find the remainder when $170$ is divided by $16$, follow these steps:\n",
    "\n",
    "1. **Divide $170$ by $16$**: Compute the quotient and remainder.\n",
    "\n",
    "$$\n",
    "170 \\div 16 = 10 \\text{ remainder } 10\n",
    "$$\n",
    "\n",
    "2. **Express the division**:\n",
    "\n",
    "$$\n",
    "170 = 16 \\times 10 + 10\n",
    "$$\n",
    "\n",
    "3. **The remainder is the result of the modulo operation**:\n",
    "\n",
    "$$\n",
    "170 \\mod 16 = 10\n",
    "$$\n",
    "\n",
    "Therefore:\n",
    "\n",
    "$$\n",
    "170 \\equiv 10 \\mod 16\n",
    "$$\n",
    "\n",
    "```"
   ]
  },
  {
   "cell_type": "markdown",
   "metadata": {},
   "source": [
    "### Finding the Remainder of $338$ mod $12$"
   ]
  },
  {
   "cell_type": "code",
   "execution_count": 10,
   "metadata": {},
   "outputs": [
    {
     "name": "stdout",
     "output_type": "stream",
     "text": [
      "338 ≡ 2 (mod 12)\n"
     ]
    }
   ],
   "source": [
    "number = 338\n",
    "modulus = 12\n",
    "modular_arithmetic(number, modulus)"
   ]
  },
  {
   "cell_type": "markdown",
   "metadata": {},
   "source": [
    "```{admonition} Explanation\n",
    ":class: tip\n",
    "\n",
    "To find the remainder when 338 is divided by $12$, follow these steps:\n",
    "\n",
    "1. **Divide $338$ by $12$**: Compute the quotient and remainder.\n",
    "\n",
    "$$\n",
    "338 \\div 12 = 28 \\text{ remainder } 2\n",
    "$$\n",
    "\n",
    "2. **Express the division**:\n",
    "\n",
    "$$\n",
    "338 = 12 \\times 28 + 2\n",
    "$$\n",
    "\n",
    "3. **The remainder is the result of the modulo operation**:\n",
    "\n",
    "$$\n",
    "338 \\mod 12 = 2\n",
    "$$\n",
    "\n",
    "Therefore:\n",
    "\n",
    "$$\n",
    "338 \\equiv 2 \\mod 12\n",
    "$$\n",
    "\n",
    "```"
   ]
  },
  {
   "cell_type": "markdown",
   "metadata": {},
   "source": [
    "### Finding the Remainder of $90$ mod $30$"
   ]
  },
  {
   "cell_type": "code",
   "execution_count": 12,
   "metadata": {},
   "outputs": [
    {
     "name": "stdout",
     "output_type": "stream",
     "text": [
      "90 ≡ 0 (mod 30)\n"
     ]
    }
   ],
   "source": [
    "number = 90\n",
    "modulus = 30\n",
    "modular_arithmetic(number, modulus)"
   ]
  },
  {
   "cell_type": "markdown",
   "metadata": {},
   "source": [
    "```{admonition} Explanation\n",
    ":class: tip\n",
    "\n",
    "To find the remainder when $90$ is divided by $30$, follow these steps:\n",
    "\n",
    "1. **Divide $90$ by $30$**: Compute the quotient and remainder.\n",
    "\n",
    "$$\n",
    "90 \\div 30 = 3 \\text{ remainder } 0\n",
    "$$\n",
    "\n",
    "2. **Express the division**:\n",
    "\n",
    "$$\n",
    "90 = 30 \\times 3 + 0\n",
    "$$\n",
    "\n",
    "3. **The remainder is the result of the modulo operation**:\n",
    "\n",
    "$$\n",
    "90 \\mod 30 = 0\n",
    "$$\n",
    "\n",
    "Therefore:\n",
    "\n",
    "$$\n",
    "90 \\equiv 0 \\mod 30\n",
    "$$\n",
    "\n",
    "```"
   ]
  },
  {
   "cell_type": "markdown",
   "metadata": {},
   "source": [
    "# **Modular Addition**\n",
    "\n",
    "Modular addition involves adding two numbers and then taking the remainder when the result is divided by the modulus.\n",
    "\n",
    "The formula for modular addition of two numbers $a$ and $b$ with modulus $m$ is:\n",
    "\n",
    "$$\n",
    "(a + b) \\mod m\n",
    "$$\n",
    "\n",
    "Steps:\n",
    "1. Add the numbers $a$ and $b$.\n",
    "2. Take the result and apply the modulus $m$ to find the remainder."
   ]
  },
  {
   "cell_type": "markdown",
   "metadata": {},
   "source": [
    "# **Modular Subtraction**\n",
    "\n",
    "Modular subtraction involves subtracting one number from another and then taking the remainder when the result is divided by the modulus.\n",
    "\n",
    "The formula for modular subtraction of two numbers $a$ and $b$ with modulus $m$ is:\n",
    "\n",
    "$$\n",
    "(a - b) \\mod m\n",
    "$$\n",
    "\n",
    "Steps:\n",
    "1. Subtract the number $b$ from $a$.\n",
    "2. If the result is negative, add the modulus $m$ until the result is non-negative.\n",
    "3. Apply the modulus $m$ to find the remainder."
   ]
  },
  {
   "cell_type": "markdown",
   "metadata": {},
   "source": [
    "# **Modular Multiplication**\n",
    "\n",
    "Modular multiplication involves multiplying two numbers and then taking the remainder when the result is divided by the modulus.\n",
    "\n",
    "The formula for modular multiplication of two numbers $a$ and $b$ with modulus $m$ is:\n",
    "\n",
    "$$\n",
    "(a \\times b) \\mod m\n",
    "$$\n",
    "\n",
    "Steps:\n",
    "1. Multiply the numbers $a$ and $b$.\n",
    "2. Apply the modulus $m$ to find the remainder.\n"
   ]
  },
  {
   "cell_type": "markdown",
   "metadata": {},
   "source": [
    "# **Modular Inverse**\n",
    "\n",
    "The modular inverse of a number $a$ modulo $m$ is a number $x$ such that:\n",
    "\n",
    "$$\n",
    "a \\times x \\equiv 1 \\mod m\n",
    "$$\n",
    "\n",
    "The modular inverse exists if and only if $a$ and $m$ are coprime (i.e., $\\text{gcd}(a, m) = 1$).\n",
    "\n",
    "To find the modular inverse of $a$ modulo $m$, you can use the Extended Euclidean Algorithm.\n"
   ]
  },
  {
   "cell_type": "markdown",
   "metadata": {},
   "source": [
    "# **Modular Exponentiation**\n",
    "\n",
    "Modular exponentiation involves raising a number to an exponent and then taking the remainder when the result is divided by the modulus.\n",
    "\n",
    "The formula for modular exponentiation of a number $a$ raised to an exponent $b$ with modulus $m$ is:\n",
    "\n",
    "$$\n",
    "a^b \\mod m\n",
    "$$\n",
    "\n",
    "Steps:\n",
    "1. Compute the power $a^b$.\n",
    "2. Apply the modulus $m$ to find the remainder."
   ]
  }
 ],
 "metadata": {
  "kernelspec": {
   "display_name": "jupyter-books",
   "language": "python",
   "name": "python3"
  },
  "language_info": {
   "codemirror_mode": {
    "name": "ipython",
    "version": 3
   },
   "file_extension": ".py",
   "mimetype": "text/x-python",
   "name": "python",
   "nbconvert_exporter": "python",
   "pygments_lexer": "ipython3",
   "version": "3.12.3"
  }
 },
 "nbformat": 4,
 "nbformat_minor": 2
}
