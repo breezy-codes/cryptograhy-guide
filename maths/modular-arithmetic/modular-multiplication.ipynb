{
 "cells": [
  {
   "cell_type": "code",
   "execution_count": null,
   "metadata": {
    "vscode": {
     "languageId": "plaintext"
    }
   },
   "outputs": [],
   "source": [
    "import sympy as sp\n",
    "from sympy import *\n",
    "from math import gcd\n",
    "import random"
   ]
  },
  {
   "cell_type": "markdown",
   "metadata": {},
   "source": [
    "# **Modular Multiplication**\n",
    "\n",
    "Modular multiplication involves multiplying two numbers and then taking the remainder when the result is divided by the modulus.\n",
    "\n",
    "The formula for modular multiplication of two numbers $a$ and $b$ with modulus $m$ is:\n",
    "\n",
    "$$\n",
    "(a \\times b) \\mod m\n",
    "$$\n",
    "\n",
    "Steps:\n",
    "1. Multiply the numbers $a$ and $b$.\n",
    "2. Apply the modulus $m$ to find the remainder.\n"
   ]
  }
 ],
 "metadata": {
  "kernelspec": {
   "display_name": "jupyter-books",
   "language": "python",
   "name": "python3"
  },
  "language_info": {
   "codemirror_mode": {
    "name": "ipython",
    "version": 3
   },
   "file_extension": ".py",
   "mimetype": "text/x-python",
   "name": "python",
   "nbconvert_exporter": "python",
   "pygments_lexer": "ipython3",
   "version": "3.12.3"
  }
 },
 "nbformat": 4,
 "nbformat_minor": 2
}
