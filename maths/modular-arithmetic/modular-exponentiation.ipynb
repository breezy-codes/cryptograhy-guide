{
 "cells": [
  {
   "cell_type": "code",
   "execution_count": null,
   "metadata": {
    "vscode": {
     "languageId": "plaintext"
    }
   },
   "outputs": [],
   "source": [
    "import sympy as sp\n",
    "from sympy import *\n",
    "from math import gcd\n",
    "import random"
   ]
  },
  {
   "cell_type": "markdown",
   "metadata": {},
   "source": [
    "# **Modular Exponentiation**\n",
    "\n",
    "Modular exponentiation involves raising a number to an exponent and then taking the remainder when the result is divided by the modulus.\n",
    "\n",
    "The formula for modular exponentiation of a number $a$ raised to an exponent $b$ with modulus $m$ is:\n",
    "\n",
    "$$\n",
    "a^b \\mod m\n",
    "$$\n",
    "\n",
    "Steps:\n",
    "1. Compute the power $a^b$.\n",
    "2. Apply the modulus $m$ to find the remainder."
   ]
  }
 ],
 "metadata": {
  "kernelspec": {
   "display_name": "jupyter-books",
   "language": "python",
   "name": "python3"
  },
  "language_info": {
   "codemirror_mode": {
    "name": "ipython",
    "version": 3
   },
   "file_extension": ".py",
   "mimetype": "text/x-python",
   "name": "python",
   "nbconvert_exporter": "python",
   "pygments_lexer": "ipython3",
   "version": "3.12.3"
  }
 },
 "nbformat": 4,
 "nbformat_minor": 2
}
