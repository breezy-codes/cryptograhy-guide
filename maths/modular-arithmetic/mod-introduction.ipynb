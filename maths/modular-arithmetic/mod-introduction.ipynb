{
 "cells": [
  {
   "cell_type": "markdown",
   "metadata": {},
   "source": [
    "# **Modular Arithmetic Complete**\n",
    "\n",
    "Modular arithmetic is a system of arithmetic for integers, where numbers \"wrap around\" upon reaching a certain value, called the modulus. This means that after reaching the modulus, numbers start back at zero.\n",
    "\n",
    "The basic operation in modular arithmetic is to find the remainder when one integer is divided by another (the modulus).\n",
    "\n",
    "For a given modulus $m$, any integer $a$ can be expressed in modular arithmetic as:\n",
    "\n",
    "$$\n",
    "a \\mod m\n",
    "$$\n",
    "\n",
    "This represents the remainder when $a$ is divided by $m$.\n",
    "\n",
    "For example:\n",
    "- $7 \\mod 5 = 2$ because $7$ divided by $5$ gives a quotient of $1$ and a remainder of $2$.\n",
    "- $12 \\mod 4 = 0$ because $12$ divided by $4$ gives a quotient of $3$ and a remainder of $0$.\n",
    "\n",
    "In general:\n",
    "\n",
    "$$\n",
    "a \\equiv b \\mod m\n",
    "$$\n",
    "\n",
    "means that $a$ and $b$ have the same remainder when divided by $m$."
   ]
  },
  {
   "cell_type": "markdown",
   "metadata": {},
   "source": [
    "## Functions"
   ]
  },
  {
   "cell_type": "code",
   "execution_count": 1,
   "metadata": {
    "tags": [
     "hide-input"
    ]
   },
   "outputs": [],
   "source": [
    "import sympy as sp\n",
    "from sympy import *\n",
    "from math import gcd\n",
    "import random"
   ]
  },
  {
   "cell_type": "code",
   "execution_count": 13,
   "metadata": {},
   "outputs": [],
   "source": [
    "def modular_arithmetic(number, modulus):\n",
    "    result = number % modulus\n",
    "    print(f\"{number} ≡ {result} (mod {modulus})\")\n",
    "    return"
   ]
  },
  {
   "cell_type": "markdown",
   "metadata": {},
   "source": [
    "## Examples"
   ]
  },
  {
   "cell_type": "markdown",
   "metadata": {},
   "source": [
    "### Finding the Remainder of $17$ mod $5$"
   ]
  },
  {
   "cell_type": "code",
   "execution_count": 9,
   "metadata": {},
   "outputs": [
    {
     "name": "stdout",
     "output_type": "stream",
     "text": [
      "17 ≡ 2 (mod 5)\n"
     ]
    }
   ],
   "source": [
    "number = 17\n",
    "modulus = 5\n",
    "modular_arithmetic(number, modulus)"
   ]
  },
  {
   "cell_type": "markdown",
   "metadata": {},
   "source": [
    "```{admonition} Explanation\n",
    ":class: tip\n",
    "\n",
    "To find the remainder when $17$ is divided by $5$, follow these steps:\n",
    "\n",
    "1. **Divide $17$ by $5$**: Compute the quotient and remainder.\n",
    "\n",
    "$$\n",
    "17 \\div 5 = 3 \\text{ remainder } 2\n",
    "$$\n",
    "\n",
    "2. **Express the division**:\n",
    "\n",
    "$$\n",
    "17 = 5 \\times 3 + 2\n",
    "$$\n",
    "\n",
    "3. **The remainder is the result of the modulo operation**:\n",
    "\n",
    "$$\n",
    "17 \\mod 5 = 2\n",
    "$$\n",
    "\n",
    "Therefore:\n",
    "\n",
    "$$\n",
    "17 \\equiv 2 \\mod 5\n",
    "$$\n",
    "\n",
    "```"
   ]
  },
  {
   "cell_type": "markdown",
   "metadata": {},
   "source": [
    "### Finding the Remainder of $170$ mod $16$"
   ]
  },
  {
   "cell_type": "code",
   "execution_count": 11,
   "metadata": {},
   "outputs": [
    {
     "name": "stdout",
     "output_type": "stream",
     "text": [
      "170 ≡ 10 (mod 16)\n"
     ]
    }
   ],
   "source": [
    "number = 170\n",
    "modulus = 16\n",
    "modular_arithmetic(number, modulus)"
   ]
  },
  {
   "cell_type": "markdown",
   "metadata": {},
   "source": [
    "```{admonition} Explanation\n",
    ":class: tip, dropdown\n",
    "\n",
    "To find the remainder when $170$ is divided by $16$, follow these steps:\n",
    "\n",
    "1. **Divide $170$ by $16$**: Compute the quotient and remainder.\n",
    "\n",
    "$$\n",
    "170 \\div 16 = 10 \\text{ remainder } 10\n",
    "$$\n",
    "\n",
    "2. **Express the division**:\n",
    "\n",
    "$$\n",
    "170 = 16 \\times 10 + 10\n",
    "$$\n",
    "\n",
    "3. **The remainder is the result of the modulo operation**:\n",
    "\n",
    "$$\n",
    "170 \\mod 16 = 10\n",
    "$$\n",
    "\n",
    "Therefore:\n",
    "\n",
    "$$\n",
    "170 \\equiv 10 \\mod 16\n",
    "$$\n",
    "\n",
    "```"
   ]
  },
  {
   "cell_type": "markdown",
   "metadata": {},
   "source": [
    "### Finding the Remainder of $338$ mod $12$"
   ]
  },
  {
   "cell_type": "code",
   "execution_count": 10,
   "metadata": {},
   "outputs": [
    {
     "name": "stdout",
     "output_type": "stream",
     "text": [
      "338 ≡ 2 (mod 12)\n"
     ]
    }
   ],
   "source": [
    "number = 338\n",
    "modulus = 12\n",
    "modular_arithmetic(number, modulus)"
   ]
  },
  {
   "cell_type": "markdown",
   "metadata": {},
   "source": [
    "```{admonition} Explanation\n",
    ":class: tip, dropdown\n",
    "\n",
    "To find the remainder when 338 is divided by $12$, follow these steps:\n",
    "\n",
    "1. **Divide $338$ by $12$**: Compute the quotient and remainder.\n",
    "\n",
    "$$\n",
    "338 \\div 12 = 28 \\text{ remainder } 2\n",
    "$$\n",
    "\n",
    "2. **Express the division**:\n",
    "\n",
    "$$\n",
    "338 = 12 \\times 28 + 2\n",
    "$$\n",
    "\n",
    "3. **The remainder is the result of the modulo operation**:\n",
    "\n",
    "$$\n",
    "338 \\mod 12 = 2\n",
    "$$\n",
    "\n",
    "Therefore:\n",
    "\n",
    "$$\n",
    "338 \\equiv 2 \\mod 12\n",
    "$$\n",
    "\n",
    "```"
   ]
  },
  {
   "cell_type": "markdown",
   "metadata": {},
   "source": [
    "### Finding the Remainder of $90$ mod $30$"
   ]
  },
  {
   "cell_type": "code",
   "execution_count": 12,
   "metadata": {},
   "outputs": [
    {
     "name": "stdout",
     "output_type": "stream",
     "text": [
      "90 ≡ 0 (mod 30)\n"
     ]
    }
   ],
   "source": [
    "number = 90\n",
    "modulus = 30\n",
    "modular_arithmetic(number, modulus)"
   ]
  },
  {
   "cell_type": "markdown",
   "metadata": {},
   "source": [
    "```{admonition} Explanation\n",
    ":class: tip, dropdown\n",
    "\n",
    "To find the remainder when $90$ is divided by $30$, follow these steps:\n",
    "\n",
    "1. **Divide $90$ by $30$**: Compute the quotient and remainder.\n",
    "\n",
    "$$\n",
    "90 \\div 30 = 3 \\text{ remainder } 0\n",
    "$$\n",
    "\n",
    "2. **Express the division**:\n",
    "\n",
    "$$\n",
    "90 = 30 \\times 3 + 0\n",
    "$$\n",
    "\n",
    "3. **The remainder is the result of the modulo operation**:\n",
    "\n",
    "$$\n",
    "90 \\mod 30 = 0\n",
    "$$\n",
    "\n",
    "Therefore:\n",
    "\n",
    "$$\n",
    "90 \\equiv 0 \\mod 30\n",
    "$$\n",
    "\n",
    "```"
   ]
  },
  {
   "cell_type": "markdown",
   "metadata": {},
   "source": [
    "# **Modular Addition**\n",
    "\n",
    "Modular addition involves adding two numbers and then taking the remainder when the result is divided by the modulus.\n",
    "\n",
    "The formula for modular addition of two numbers $a$ and $b$ with modulus $m$ is:\n",
    "\n",
    "$$\n",
    "(a + b) \\mod m\n",
    "$$\n",
    "\n",
    "Steps:\n",
    "1. Add the numbers $a$ and $b$.\n",
    "2. Take the result and apply the modulus $m$ to find the remainder."
   ]
  },
  {
   "cell_type": "markdown",
   "metadata": {},
   "source": [
    "## Functions"
   ]
  },
  {
   "cell_type": "code",
   "execution_count": 2,
   "metadata": {},
   "outputs": [],
   "source": [
    "def modular_addition(a, b, modulus):\n",
    "    result = (a + b) % modulus\n",
    "    print(f\"{a} + {b} ≡ {result} (mod {modulus})\")\n",
    "    return result"
   ]
  },
  {
   "cell_type": "markdown",
   "metadata": {},
   "source": [
    "## Examples"
   ]
  },
  {
   "cell_type": "markdown",
   "metadata": {},
   "source": [
    "### Finding $(10 + 17)~mod~7$"
   ]
  },
  {
   "cell_type": "code",
   "execution_count": 3,
   "metadata": {},
   "outputs": [
    {
     "name": "stdout",
     "output_type": "stream",
     "text": [
      "10 + 17 ≡ 6 (mod 7)\n"
     ]
    }
   ],
   "source": [
    "a = 10\n",
    "b = 17\n",
    "modulus = 7\n",
    "\n",
    "result = modular_addition(a, b, modulus)"
   ]
  },
  {
   "cell_type": "markdown",
   "metadata": {},
   "source": [
    "```{admonition} Explanation\n",
    ":class: tip\n",
    "\n",
    "To find the result of \\( 10 + 17 \\) modulo \\( 7 \\), follow these steps:\n",
    "\n",
    "1. **Perform the addition**:\n",
    "\n",
    "$$\n",
    "10 + 17 = 27\n",
    "$$\n",
    "\n",
    "2. **Compute the remainder when divided by the modulus**:\n",
    "\n",
    "$$\n",
    "27 \\div 7 = 3 \\text{ remainder } 6\n",
    "$$\n",
    "\n",
    "3. **Express the division**:\n",
    "\n",
    "$$\n",
    "27 = 7 \\times 3 + 6\n",
    "$$\n",
    "\n",
    "4. **The remainder is the result of the modulo operation**:\n",
    "\n",
    "$$\n",
    "27 \\mod 7 = 6\n",
    "$$\n",
    "\n",
    "Therefore:\n",
    "\n",
    "$$\n",
    "10 + 17 \\equiv 6 \\mod 7\n",
    "$$\n",
    "```"
   ]
  },
  {
   "cell_type": "markdown",
   "metadata": {},
   "source": [
    "### Finding $(203 + 17)~mod~10$"
   ]
  },
  {
   "cell_type": "code",
   "execution_count": 4,
   "metadata": {},
   "outputs": [
    {
     "name": "stdout",
     "output_type": "stream",
     "text": [
      "203 + 17 ≡ 0 (mod 10)\n"
     ]
    }
   ],
   "source": [
    "a = 203\n",
    "b = 17\n",
    "modulus = 10\n",
    "\n",
    "result = modular_addition(a, b, modulus)"
   ]
  },
  {
   "cell_type": "markdown",
   "metadata": {},
   "source": [
    "```{admonition} Explanation\n",
    ":class: tip, dropdown\n",
    "\n",
    "To find the result of \\( 203 + 17 \\) modulo \\( 10 \\), follow these steps:\n",
    "\n",
    "1. **Perform the addition**:\n",
    "\n",
    "$$\n",
    "203 + 17 = 220\n",
    "$$\n",
    "\n",
    "2. **Compute the remainder when divided by the modulus**:\n",
    "\n",
    "$$\n",
    "220 \\div 10 = 22 \\text{ remainder } 0\n",
    "$$\n",
    "\n",
    "3. **Express the division**:\n",
    "\n",
    "$$\n",
    "220 = 10 \\times 22 + 0\n",
    "$$\n",
    "\n",
    "4. **The remainder is the result of the modulo operation**:\n",
    "\n",
    "$$\n",
    "220 \\mod 10 = 0\n",
    "$$\n",
    "\n",
    "Therefore:\n",
    "\n",
    "$$\n",
    "203 + 17 \\equiv 0 \\mod 10\n",
    "$$\n",
    "\n",
    "```"
   ]
  },
  {
   "cell_type": "markdown",
   "metadata": {},
   "source": [
    "### Finding $(-43 + 128)~mod~26$"
   ]
  },
  {
   "cell_type": "code",
   "execution_count": 5,
   "metadata": {},
   "outputs": [
    {
     "name": "stdout",
     "output_type": "stream",
     "text": [
      "-43 + 128 ≡ 7 (mod 26)\n"
     ]
    }
   ],
   "source": [
    "a = -43\n",
    "b = 128\n",
    "modulus = 26\n",
    "\n",
    "result = modular_addition(a, b, modulus)"
   ]
  },
  {
   "cell_type": "markdown",
   "metadata": {},
   "source": [
    "```{admonition} Explanation\n",
    ":class: tip, dropdown\n",
    "\n",
    "To find the result of \\( -43 + 128 \\) modulo \\( 26 \\), follow these steps:\n",
    "\n",
    "1. **Perform the addition**:\n",
    "\n",
    "$$\n",
    "-43 + 128 = 85\n",
    "$$\n",
    "\n",
    "2. **Compute the remainder when divided by the modulus**:\n",
    "\n",
    "$$\n",
    "85 \\div 26 = 3 \\text{ remainder } 7\n",
    "$$\n",
    "\n",
    "3. **Express the division**:\n",
    "\n",
    "$$\n",
    "85 = 26 \\times 3 + 7\n",
    "$$\n",
    "\n",
    "4. **The remainder is the result of the modulo operation**:\n",
    "\n",
    "$$\n",
    "85 \\mod 26 = 7\n",
    "$$\n",
    "\n",
    "Therefore:\n",
    "\n",
    "$$\n",
    "-43 + 128 \\equiv 7 \\mod 26\n",
    "$$\n",
    "```"
   ]
  },
  {
   "cell_type": "markdown",
   "metadata": {},
   "source": [
    "### Finding $(3028 + 220934)~mod~85$"
   ]
  },
  {
   "cell_type": "code",
   "execution_count": 6,
   "metadata": {},
   "outputs": [
    {
     "name": "stdout",
     "output_type": "stream",
     "text": [
      "3028 + 220934 ≡ 72 (mod 85)\n"
     ]
    }
   ],
   "source": [
    "a = 3028\n",
    "b = 220934\n",
    "modulus = 85\n",
    "\n",
    "result = modular_addition(a, b, modulus)"
   ]
  },
  {
   "cell_type": "markdown",
   "metadata": {},
   "source": [
    "```{admonition} Explanation\n",
    ":class: tip, dropdown\n",
    "\n",
    "To find the result of \\( 3028 + 220934 \\) modulo \\( 85 \\), follow these steps:\n",
    "\n",
    "1. **Perform the addition**:\n",
    "\n",
    "$$\n",
    "3028 + 220934 = 223962\n",
    "$$\n",
    "\n",
    "2. **Compute the remainder when divided by the modulus**:\n",
    "\n",
    "$$\n",
    "223962 \\div 85 = 2634 \\text{ remainder } 12\n",
    "$$\n",
    "\n",
    "3. **Express the division**:\n",
    "\n",
    "$$\n",
    "223962 = 85 \\times 2634 + 12\n",
    "$$\n",
    "\n",
    "4. **The remainder is the result of the modulo operation**:\n",
    "\n",
    "$$\n",
    "223962 \\mod 85 = 12\n",
    "$$\n",
    "\n",
    "Therefore:\n",
    "\n",
    "$$\n",
    "3028 + 220934 \\equiv 12 \\mod 85\n",
    "$$\n",
    "\n",
    "```"
   ]
  },
  {
   "cell_type": "markdown",
   "metadata": {},
   "source": [
    "# **Modular Subtraction**\n",
    "\n",
    "Modular subtraction involves subtracting one number from another and then taking the remainder when the result is divided by the modulus.\n",
    "\n",
    "The formula for modular subtraction of two numbers $a$ and $b$ with modulus $m$ is:\n",
    "\n",
    "$$\n",
    "(a - b) \\mod m\n",
    "$$\n",
    "\n",
    "Steps:\n",
    "1. Subtract the number $b$ from $a$.\n",
    "2. If the result is negative, add the modulus $m$ until the result is non-negative.\n",
    "3. Apply the modulus $m$ to find the remainder."
   ]
  },
  {
   "cell_type": "markdown",
   "metadata": {},
   "source": [
    "## Functions"
   ]
  },
  {
   "cell_type": "code",
   "execution_count": 7,
   "metadata": {},
   "outputs": [],
   "source": [
    "def modular_subtraction(a, b, modulus):\n",
    "    result = (a - b) % modulus\n",
    "    print(f\"{a} - {b} ≡ {result} (mod {modulus})\")\n",
    "    return result"
   ]
  },
  {
   "cell_type": "markdown",
   "metadata": {},
   "source": [
    "## Examples"
   ]
  },
  {
   "cell_type": "markdown",
   "metadata": {},
   "source": [
    "### Finding $(10 - 17)~mod~7$"
   ]
  },
  {
   "cell_type": "code",
   "execution_count": 8,
   "metadata": {},
   "outputs": [
    {
     "name": "stdout",
     "output_type": "stream",
     "text": [
      "10 - 17 ≡ 0 (mod 7)\n"
     ]
    }
   ],
   "source": [
    "a = 10\n",
    "b = 17\n",
    "modulus = 7\n",
    "\n",
    "result = modular_subtraction(a, b, modulus)"
   ]
  },
  {
   "cell_type": "markdown",
   "metadata": {},
   "source": [
    "```{admonition} Explanation\n",
    ":class: tip\n",
    "\n",
    "To find the result of \\( 10 - 17 \\) modulo \\( 7 \\), follow these steps:\n",
    "\n",
    "1. **Perform the subtraction**:\n",
    "\n",
    "$$\n",
    "10 - 17 = -7\n",
    "$$\n",
    "\n",
    "2. **Adjust to ensure the result is within the range 0 to modulus-1**:\n",
    "\n",
    "Since we have a negative result, we adjust it by adding the modulus until it becomes non-negative:\n",
    "\n",
    "$$\n",
    "-7 + 7 = 0\n",
    "$$\n",
    "\n",
    "3. **The adjusted result is the result of the modulo operation**:\n",
    "\n",
    "$$\n",
    "10 - 17 \\equiv 0 \\mod 7\n",
    "$$\n",
    "\n",
    "```"
   ]
  },
  {
   "cell_type": "markdown",
   "metadata": {},
   "source": [
    "### Finding $(217 - 240)~mod~19$"
   ]
  },
  {
   "cell_type": "code",
   "execution_count": 11,
   "metadata": {},
   "outputs": [
    {
     "name": "stdout",
     "output_type": "stream",
     "text": [
      "217 - 240 ≡ 15 (mod 19)\n"
     ]
    }
   ],
   "source": [
    "a = 217\n",
    "b = 240\n",
    "modulus = 19\n",
    "\n",
    "result = modular_subtraction(a, b, modulus)"
   ]
  },
  {
   "cell_type": "markdown",
   "metadata": {},
   "source": [
    "```{admonition} Explanation\n",
    ":class: tip, dropdown\n",
    "\n",
    "To find the result of \\( 217 - 240 \\) modulo \\( 19 \\), follow these steps:\n",
    "\n",
    "1. **Perform the subtraction**:\n",
    "\n",
    "$$\n",
    "217 - 240 = -23\n",
    "$$\n",
    "\n",
    "2. **Adjust to ensure the result is within the range 0 to modulus-1**:\n",
    "\n",
    "Since we have a negative result, we adjust it by adding the modulus until it becomes non-negative:\n",
    "\n",
    "$$\n",
    "-23 + 19 = -4\n",
    "$$\n",
    "\n",
    "3. **Find the remainder when divided by the modulus**:\n",
    "\n",
    "Now, calculate the remainder when \\( -4 \\) is divided by \\( 19 \\):\n",
    "\n",
    "$$\n",
    "-4 \\mod 19 = 15\n",
    "$$\n",
    "\n",
    "Therefore:\n",
    "\n",
    "$$\n",
    "217 - 240 \\equiv 15 \\mod 19\n",
    "$$\n",
    "\n",
    "```"
   ]
  },
  {
   "cell_type": "markdown",
   "metadata": {},
   "source": [
    "### Finding $(2293 - 334)~mod~38$"
   ]
  },
  {
   "cell_type": "code",
   "execution_count": 10,
   "metadata": {},
   "outputs": [
    {
     "name": "stdout",
     "output_type": "stream",
     "text": [
      "2293 - 334 ≡ 21 (mod 38)\n"
     ]
    }
   ],
   "source": [
    "a = 2293\n",
    "b = 334\n",
    "modulus = 38\n",
    "\n",
    "result = modular_subtraction(a, b, modulus)"
   ]
  },
  {
   "cell_type": "markdown",
   "metadata": {},
   "source": [
    "```{admonition} Explanation\n",
    ":class: tip, dropdown\n",
    "\n",
    "To find the result of \\( 2293 - 334 \\) modulo \\( 38 \\), follow these steps:\n",
    "\n",
    "1. **Perform the subtraction**:\n",
    "\n",
    "$$\n",
    "2293 - 334 = 1959\n",
    "$$\n",
    "\n",
    "2. **Find the remainder when divided by the modulus**:\n",
    "\n",
    "Now, calculate the remainder when \\( 1959 \\) is divided by \\( 38 \\):\n",
    "\n",
    "$$\n",
    "1959 \\div 38 = 51 \\text{ remainder } 21\n",
    "$$\n",
    "\n",
    "3. **Express the division**:\n",
    "\n",
    "$$\n",
    "1959 = 38 \\times 51 + 21\n",
    "$$\n",
    "\n",
    "4. **The remainder is the result of the modulo operation**:\n",
    "\n",
    "$$\n",
    "1959 \\mod 38 = 21\n",
    "$$\n",
    "\n",
    "Therefore:\n",
    "\n",
    "$$\n",
    "2293 - 334 \\equiv 21 \\mod 38\n",
    "$$\n",
    "\n",
    "```"
   ]
  },
  {
   "cell_type": "markdown",
   "metadata": {},
   "source": [
    "# **Modular Multiplication**\n",
    "\n",
    "Modular multiplication involves multiplying two numbers and then taking the remainder when the result is divided by the modulus.\n",
    "\n",
    "The formula for modular multiplication of two numbers $a$ and $b$ with modulus $m$ is:\n",
    "\n",
    "$$\n",
    "(a \\times b) \\mod m\n",
    "$$\n",
    "\n",
    "Steps:\n",
    "1. Multiply the numbers $a$ and $b$.\n",
    "2. Apply the modulus $m$ to find the remainder.\n"
   ]
  },
  {
   "cell_type": "markdown",
   "metadata": {},
   "source": [
    "## Functions"
   ]
  },
  {
   "cell_type": "code",
   "execution_count": 12,
   "metadata": {},
   "outputs": [],
   "source": [
    "def modular_multiplication(a, b, modulus):\n",
    "    result = (a * b) % modulus\n",
    "    print(f\"{a} * {b} ≡ {result} (mod {modulus})\")\n",
    "    return result"
   ]
  },
  {
   "cell_type": "markdown",
   "metadata": {},
   "source": [
    "## Examples"
   ]
  },
  {
   "cell_type": "markdown",
   "metadata": {},
   "source": [
    "### Find $(23 \\times 7)~mod~26$"
   ]
  },
  {
   "cell_type": "code",
   "execution_count": 13,
   "metadata": {},
   "outputs": [
    {
     "name": "stdout",
     "output_type": "stream",
     "text": [
      "23 * 7 ≡ 5 (mod 26)\n"
     ]
    }
   ],
   "source": [
    "a = 23\n",
    "b = 7\n",
    "modulus = 26\n",
    "\n",
    "result = modular_multiplication(a, b, modulus)"
   ]
  },
  {
   "cell_type": "markdown",
   "metadata": {},
   "source": [
    "```{admonition} Explanation\n",
    ":class: tip\n",
    "\n",
    "To find the result of \\( 23 \\times 7 \\) modulo \\( 26 \\), follow these steps:\n",
    "\n",
    "1. **Perform the multiplication**:\n",
    "\n",
    "$$\n",
    "23 \\times 7 = 161\n",
    "$$\n",
    "\n",
    "2. **Find the remainder when divided by the modulus**:\n",
    "\n",
    "Now, calculate the remainder when \\( 161 \\) is divided by \\( 26 \\):\n",
    "\n",
    "$$\n",
    "161 \\div 26 = 6 \\text{ remainder } 5\n",
    "$$\n",
    "\n",
    "3. **Express the division**:\n",
    "\n",
    "$$\n",
    "161 = 26 \\times 6 + 5\n",
    "$$\n",
    "\n",
    "4. **The remainder is the result of the modulo operation**:\n",
    "\n",
    "$$\n",
    "161 \\mod 26 = 5\n",
    "$$\n",
    "\n",
    "Therefore:\n",
    "\n",
    "$$\n",
    "23 \\times 7 \\equiv 5 \\mod 26\n",
    "$$\n",
    "\n",
    "```"
   ]
  },
  {
   "cell_type": "markdown",
   "metadata": {},
   "source": [
    "### Finding $(182 \\times 39)~mod~8$"
   ]
  },
  {
   "cell_type": "code",
   "execution_count": 14,
   "metadata": {},
   "outputs": [
    {
     "name": "stdout",
     "output_type": "stream",
     "text": [
      "182 * 39 ≡ 2 (mod 8)\n"
     ]
    }
   ],
   "source": [
    "a = 182\n",
    "b = 39\n",
    "modulus = 8\n",
    "\n",
    "result = modular_multiplication(a, b, modulus)"
   ]
  },
  {
   "cell_type": "markdown",
   "metadata": {},
   "source": [
    "```{admonition} Explanation\n",
    ":class: tip, dropdown\n",
    "\n",
    "To find the result of \\( 182 \\times 39 \\) modulo \\( 8 \\), follow these steps:\n",
    "\n",
    "1. **Perform the multiplication**:\n",
    "\n",
    "$$\n",
    "182 \\times 39 = 7104\n",
    "$$\n",
    "\n",
    "2. **Find the remainder when divided by the modulus**:\n",
    "\n",
    "Now, calculate the remainder when \\( 7104 \\) is divided by \\( 8 \\):\n",
    "\n",
    "$$\n",
    "7104 \\div 8 = 888 \\text{ remainder } 0\n",
    "$$\n",
    "\n",
    "3. **Express the division**:\n",
    "\n",
    "$$\n",
    "7104 = 8 \\times 888 + 0\n",
    "$$\n",
    "\n",
    "4. **The remainder is the result of the modulo operation**:\n",
    "\n",
    "$$\n",
    "7104 \\mod 8 = 0\n",
    "$$\n",
    "\n",
    "Therefore:\n",
    "\n",
    "$$\n",
    "182 \\times 39 \\equiv 0 \\mod 8\n",
    "$$\n",
    "```"
   ]
  },
  {
   "cell_type": "markdown",
   "metadata": {},
   "source": [
    "### Finding $(123 \\times 291)~mod~39$"
   ]
  },
  {
   "cell_type": "code",
   "execution_count": 15,
   "metadata": {},
   "outputs": [
    {
     "name": "stdout",
     "output_type": "stream",
     "text": [
      "123 * 291 ≡ 30 (mod 39)\n"
     ]
    }
   ],
   "source": [
    "a = 123\n",
    "b = 291\n",
    "modulus = 39\n",
    "\n",
    "result = modular_multiplication(a, b, modulus)"
   ]
  },
  {
   "cell_type": "markdown",
   "metadata": {},
   "source": [
    "```{admonition} Explanation\n",
    ":class: tip, dropdown\n",
    "\n",
    "To find the result of \\( 123 \\times 291 \\) modulo \\( 39 \\), follow these steps:\n",
    "\n",
    "1. **Perform the multiplication**:\n",
    "\n",
    "$$\n",
    "123 \\times 291 = 35853\n",
    "$$\n",
    "\n",
    "2. **Find the remainder when divided by the modulus**:\n",
    "\n",
    "Now, calculate the remainder when \\( 35853 \\) is divided by \\( 39 \\):\n",
    "\n",
    "$$\n",
    "35853 \\div 39 = 919 \\text{ remainder } 32\n",
    "$$\n",
    "\n",
    "3. **Express the division**:\n",
    "\n",
    "$$\n",
    "35853 = 39 \\times 919 + 32\n",
    "$$\n",
    "\n",
    "4. **The remainder is the result of the modulo operation**:\n",
    "\n",
    "$$\n",
    "35853 \\mod 39 = 32\n",
    "$$\n",
    "\n",
    "Therefore:\n",
    "\n",
    "$$\n",
    "123 \\times 291 \\equiv 32 \\mod 39\n",
    "$$\n",
    "```"
   ]
  },
  {
   "cell_type": "markdown",
   "metadata": {},
   "source": [
    "# **Modular Inverse**\n",
    "\n",
    "The modular inverse of a number $a$ modulo $m$ is a number $x$ such that:\n",
    "\n",
    "$$\n",
    "a \\times x \\equiv 1 \\mod m\n",
    "$$\n",
    "\n",
    "The modular inverse exists if and only if $a$ and $m$ are coprime (i.e., $\\text{gcd}(a, m) = 1$).\n",
    "\n",
    "To find the modular inverse of $a$ modulo $m$, you can use the Extended Euclidean Algorithm.\n",
    "\n",
    "## Extended Euclidean Algorithm\n",
    "\n",
    "The Euclidean Algorithm is a method to find the greatest common divisor (gcd) of two integers. The Extended Euclidean Algorithm extends this to find the coefficients $x$ and $y$ such that:\n",
    "\n",
    "$$ a \\times x + b \\times y = \\text{gcd}(a, b) $$\n",
    "\n",
    "These coefficients $x$ and $y$ can be used to express the gcd as a linear combination of $a$ and $b$.\n"
   ]
  },
  {
   "cell_type": "markdown",
   "metadata": {},
   "source": [
    "## Functions"
   ]
  },
  {
   "cell_type": "code",
   "execution_count": 17,
   "metadata": {},
   "outputs": [],
   "source": [
    "def modular_inverse(a, modulus):\n",
    "    def extended_gcd(a, b):\n",
    "        if a == 0:\n",
    "            return b, 0, 1\n",
    "        gcd, x1, y1 = extended_gcd(b % a, a)\n",
    "        x = y1 - (b // a) * x1\n",
    "        y = x1\n",
    "        return gcd, x, y\n",
    "    \n",
    "    gcd, x, _ = extended_gcd(a, modulus)\n",
    "    if gcd != 1:\n",
    "        raise ValueError(f\"Inverse does not exist for {a} modulo {modulus}\")\n",
    "    else:\n",
    "        result = x % modulus\n",
    "        print(f\"Inverse of {a} ≡ {result} (mod {modulus})\")\n",
    "        return result"
   ]
  },
  {
   "cell_type": "markdown",
   "metadata": {},
   "source": [
    "## Examples"
   ]
  },
  {
   "cell_type": "markdown",
   "metadata": {},
   "source": [
    "### Finding the modular inverse of $23~mod~26$"
   ]
  },
  {
   "cell_type": "code",
   "execution_count": 18,
   "metadata": {},
   "outputs": [
    {
     "name": "stdout",
     "output_type": "stream",
     "text": [
      "Inverse of 23 ≡ 17 (mod 26)\n"
     ]
    }
   ],
   "source": [
    "a = 23\n",
    "modulus = 26\n",
    "\n",
    "result = modular_inverse(a, modulus)"
   ]
  },
  {
   "cell_type": "markdown",
   "metadata": {},
   "source": [
    "```{admonition} Modular Inverse Calculation\n",
    ":class: tip\n",
    "\n",
    "To find the modular inverse of 23 mod 26, follow these steps using the Extended Euclidean Algorithm:\n",
    "\n",
    "1. **Initialisation**:\n",
    "   Set initial values:\n",
    "   - $\\text{gcd} = 1$\n",
    "   - $x = 0$\n",
    "   - $y = 1$\n",
    "\n",
    "2. **Step-by-Step Calculation**:\n",
    "\n",
    "   **Step 0**:\n",
    "   - $\\text{gcd} = 1$\n",
    "   - $x = 0$\n",
    "   - $y = 1$\n",
    "\n",
    "   **Step 1**:\n",
    "   - Update values based on the Euclidean algorithm:\n",
    "   - $\\text{gcd} = 1$\n",
    "   - $x = 1$\n",
    "   - $y = 0$\n",
    "\n",
    "   **Step 2**:\n",
    "   - Continue updating:\n",
    "   - $\\text{gcd} = 1$\n",
    "   - $x = -1$\n",
    "   - $y = 1$\n",
    "\n",
    "   **Step 3**:\n",
    "   - Further updates:\n",
    "   - $\\text{gcd} = 1$\n",
    "   - $x = 8$\n",
    "   - $y = -1$\n",
    "\n",
    "   **Step 4**:\n",
    "   - Final updates:\n",
    "   - $\\text{gcd} = 1$\n",
    "   - $x = -9$\n",
    "   - $y = 8$\n",
    "\n",
    "3. **Result**:\n",
    "   - Since the $\\text{gcd}$ remains 1 throughout, 23 has an inverse modulo 26.\n",
    "   - The final value of $x$ after adjustments for modular arithmetic (as $-9 \\equiv 17 \\ (\\text{mod}\\ 26)$) gives the modular inverse.\n",
    "   - Thus, the inverse of 23 modulo 26 is 17.\n",
    "```"
   ]
  },
  {
   "cell_type": "markdown",
   "metadata": {},
   "source": [
    "## Extending the Function\n",
    "\n",
    "As modular inverse is a step up from the simple addition or subtraction operations in modular arithmetic; we can actually extend the function further to output the steps for using the Extended Euclidean Algorithm to find the modular inverse. This can be useful for understanding the steps, you can also use this to check your work for practicing the algorithm."
   ]
  },
  {
   "cell_type": "code",
   "execution_count": 21,
   "metadata": {},
   "outputs": [],
   "source": [
    "def modular_inverse_steps(a, modulus):\n",
    "    def extended_gcd(a, b):\n",
    "        steps = []\n",
    "        if a == 0:\n",
    "            steps.append((b, 0, 1))\n",
    "            return b, 0, 1, steps\n",
    "        gcd, x1, y1, prev_steps = extended_gcd(b % a, a)\n",
    "        x = y1 - (b // a) * x1\n",
    "        y = x1\n",
    "        steps = prev_steps + [(gcd, x, y)]\n",
    "        return gcd, x, y, steps\n",
    "\n",
    "    gcd, x, y, steps = extended_gcd(a, modulus)\n",
    "    if gcd != 1:\n",
    "        raise ValueError(f\"Inverse does not exist for {a} modulo {modulus}\")\n",
    "    else:\n",
    "        result = x % modulus\n",
    "        print(f\"Steps to find the modular inverse of {a} mod {modulus}:\")\n",
    "        for i, (gcd, x, y) in enumerate(steps):\n",
    "            print(f\"Step {i}: gcd = {gcd}, x = {x}, y = {y}\")\n",
    "        print(f\"Inverse of {a} ≡ {result} (mod {modulus})\")\n",
    "        return"
   ]
  },
  {
   "cell_type": "code",
   "execution_count": 22,
   "metadata": {},
   "outputs": [
    {
     "name": "stdout",
     "output_type": "stream",
     "text": [
      "Steps to find the modular inverse of 11 mod 30:\n",
      "Step 0: gcd = 1, x = 0, y = 1\n",
      "Step 1: gcd = 1, x = 1, y = 0\n",
      "Step 2: gcd = 1, x = -1, y = 1\n",
      "Step 3: gcd = 1, x = 3, y = -1\n",
      "Step 4: gcd = 1, x = -4, y = 3\n",
      "Step 5: gcd = 1, x = 11, y = -4\n",
      "Inverse of 11 ≡ 11 (mod 30)\n"
     ]
    }
   ],
   "source": [
    "a = 11\n",
    "modulus = 30\n",
    "\n",
    "result = modular_inverse_steps(a, modulus)"
   ]
  },
  {
   "cell_type": "markdown",
   "metadata": {},
   "source": [
    "### Finding the modular inverse of $23~mod~49$"
   ]
  },
  {
   "cell_type": "code",
   "execution_count": 23,
   "metadata": {},
   "outputs": [
    {
     "name": "stdout",
     "output_type": "stream",
     "text": [
      "Steps to find the modular inverse of 23 mod 49:\n",
      "Step 0: gcd = 1, x = 0, y = 1\n",
      "Step 1: gcd = 1, x = 1, y = 0\n",
      "Step 2: gcd = 1, x = -1, y = 1\n",
      "Step 3: gcd = 1, x = 8, y = -1\n",
      "Step 4: gcd = 1, x = -17, y = 8\n",
      "Inverse of 23 ≡ 32 (mod 49)\n"
     ]
    }
   ],
   "source": [
    "a = 23\n",
    "modulus = 49\n",
    "\n",
    "result = modular_inverse_steps(a, modulus)"
   ]
  },
  {
   "cell_type": "markdown",
   "metadata": {},
   "source": [
    "### Finding the modular inverse of $20~mod~40$\n",
    "\n",
    "In the following example you'll see what occurs when the modular inverse doesn't exist."
   ]
  },
  {
   "cell_type": "code",
   "execution_count": 24,
   "metadata": {},
   "outputs": [
    {
     "ename": "ValueError",
     "evalue": "Inverse does not exist for 20 modulo 40",
     "output_type": "error",
     "traceback": [
      "\u001b[0;31m---------------------------------------------------------------------------\u001b[0m",
      "\u001b[0;31mValueError\u001b[0m                                Traceback (most recent call last)",
      "Cell \u001b[0;32mIn[24], line 4\u001b[0m\n\u001b[1;32m      1\u001b[0m a \u001b[38;5;241m=\u001b[39m \u001b[38;5;241m20\u001b[39m\n\u001b[1;32m      2\u001b[0m modulus \u001b[38;5;241m=\u001b[39m \u001b[38;5;241m40\u001b[39m\n\u001b[0;32m----> 4\u001b[0m result \u001b[38;5;241m=\u001b[39m \u001b[43mmodular_inverse_steps\u001b[49m\u001b[43m(\u001b[49m\u001b[43ma\u001b[49m\u001b[43m,\u001b[49m\u001b[43m \u001b[49m\u001b[43mmodulus\u001b[49m\u001b[43m)\u001b[49m\n",
      "Cell \u001b[0;32mIn[21], line 15\u001b[0m, in \u001b[0;36mmodular_inverse_steps\u001b[0;34m(a, modulus)\u001b[0m\n\u001b[1;32m     13\u001b[0m gcd, x, y, steps \u001b[38;5;241m=\u001b[39m extended_gcd(a, modulus)\n\u001b[1;32m     14\u001b[0m \u001b[38;5;28;01mif\u001b[39;00m gcd \u001b[38;5;241m!=\u001b[39m \u001b[38;5;241m1\u001b[39m:\n\u001b[0;32m---> 15\u001b[0m     \u001b[38;5;28;01mraise\u001b[39;00m \u001b[38;5;167;01mValueError\u001b[39;00m(\u001b[38;5;124mf\u001b[39m\u001b[38;5;124m\"\u001b[39m\u001b[38;5;124mInverse does not exist for \u001b[39m\u001b[38;5;132;01m{\u001b[39;00ma\u001b[38;5;132;01m}\u001b[39;00m\u001b[38;5;124m modulo \u001b[39m\u001b[38;5;132;01m{\u001b[39;00mmodulus\u001b[38;5;132;01m}\u001b[39;00m\u001b[38;5;124m\"\u001b[39m)\n\u001b[1;32m     16\u001b[0m \u001b[38;5;28;01melse\u001b[39;00m:\n\u001b[1;32m     17\u001b[0m     result \u001b[38;5;241m=\u001b[39m x \u001b[38;5;241m%\u001b[39m modulus\n",
      "\u001b[0;31mValueError\u001b[0m: Inverse does not exist for 20 modulo 40"
     ]
    }
   ],
   "source": [
    "a = 20\n",
    "modulus = 40\n",
    "\n",
    "result = modular_inverse_steps(a, modulus)"
   ]
  },
  {
   "cell_type": "markdown",
   "metadata": {},
   "source": [
    "# **Modular Exponentiation**\n",
    "\n",
    "Modular exponentiation involves raising a number to an exponent and then taking the remainder when the result is divided by the modulus. This operation is commonly used in fields such as cryptography.\n",
    "\n",
    "The formula for modular exponentiation of a number $a$ raised to an exponent $b$ with modulus $m$ is:\n",
    "\n",
    "$$a^b~\\mod~m$$\n",
    "\n",
    "## Steps to Perform Modular Exponentiation\n",
    "\n",
    "1. **Compute the Power $a^b$:**\n",
    "   Calculate the power of the base $a$ raised to the exponent $b$.\n",
    "\n",
    "2. **Apply the Modulus $m$:**\n",
    "   After computing $a^b$, take the remainder when the result is divided by the modulus $m$.\n",
    "\n",
    "However, computing $a^b$ directly for large $b$ can be computationally expensive and may result in very large intermediate results. Instead, we use an efficient method called **Exponentiation by Squaring** to perform modular exponentiation.\n",
    "\n",
    "### Exponentiation by Squaring\n",
    "\n",
    "Exponentiation by Squaring is an efficient algorithm to compute $a^b \\mod m$. It works by breaking down the exponentiation process into a series of squaring and multiplication steps, reducing the overall number of operations.\n",
    "\n",
    "### Steps of Exponentiation by Squaring:\n",
    "\n",
    "1. **Initialisation:**\n",
    "   Set the result to 1 and the base to $a$.\n",
    "\n",
    "2. **Iterate through the bits of the exponent $b$:**\n",
    "   - If the current bit is 1, multiply the result by the current base.\n",
    "   - Square the base for the next iteration.\n",
    "\n",
    "3. **Apply the modulus $m$ at each step:**\n",
    "   Take the remainder of both the result and the base with $m$ to keep the numbers manageable."
   ]
  },
  {
   "cell_type": "markdown",
   "metadata": {},
   "source": [
    "## Functions\n",
    "\n",
    "This time we will make two functions from the get go, one to initially show how to get the result, and one that can give you the steps for the Exponentiation by Squaring method."
   ]
  },
  {
   "cell_type": "code",
   "execution_count": 30,
   "metadata": {},
   "outputs": [],
   "source": [
    "def modular_exponentiation(base, exponent, modulus):\n",
    "    result = pow(base, exponent, modulus)\n",
    "    print(f\"{base}^{exponent} ≡ {result} (mod {modulus})\")\n",
    "    return result"
   ]
  },
  {
   "cell_type": "code",
   "execution_count": 31,
   "metadata": {},
   "outputs": [],
   "source": [
    "def modular_exponentiation_steps(base, exponent, modulus):\n",
    "    result = 1\n",
    "    base = base % modulus\n",
    "    steps = []\n",
    "\n",
    "    while exponent > 0:\n",
    "        if (exponent % 2) == 1:\n",
    "            result = (result * base) % modulus\n",
    "            steps.append(f\"Result updated to {result} after multiplying by base {base}\")\n",
    "        \n",
    "        base = (base * base) % modulus\n",
    "        steps.append(f\"Base squared and reduced modulo {modulus}: {base}\")\n",
    "\n",
    "        exponent = exponent // 2\n",
    "        steps.append(f\"Exponent shifted right: {exponent}\")\n",
    "\n",
    "    print(f\"Steps of computation:\")\n",
    "    for step in steps:\n",
    "        print(step)\n",
    "\n",
    "    print(f\"{base}^{exponent} ≡ {result} (mod {modulus})\")\n",
    "    return result\n"
   ]
  },
  {
   "cell_type": "markdown",
   "metadata": {},
   "source": [
    "## Examples"
   ]
  },
  {
   "cell_type": "markdown",
   "metadata": {},
   "source": [
    "### Finding the modular exponentiation of $11^{13}~mod~18$"
   ]
  },
  {
   "cell_type": "code",
   "execution_count": 34,
   "metadata": {},
   "outputs": [
    {
     "name": "stdout",
     "output_type": "stream",
     "text": [
      "11^13 ≡ 11 (mod 18)\n"
     ]
    }
   ],
   "source": [
    "a = 11\n",
    "exponent = 13\n",
    "modulus = 18\n",
    "\n",
    "result = modular_exponentiation(a, exponent, modulus)"
   ]
  },
  {
   "cell_type": "code",
   "execution_count": 35,
   "metadata": {},
   "outputs": [
    {
     "name": "stdout",
     "output_type": "stream",
     "text": [
      "Steps of computation:\n",
      "Result updated to 11 after multiplying by base 11\n",
      "Base squared and reduced modulo 18: 13\n",
      "Exponent shifted right: 6\n",
      "Base squared and reduced modulo 18: 7\n",
      "Exponent shifted right: 3\n",
      "Result updated to 5 after multiplying by base 7\n",
      "Base squared and reduced modulo 18: 13\n",
      "Exponent shifted right: 1\n",
      "Result updated to 11 after multiplying by base 13\n",
      "Base squared and reduced modulo 18: 7\n",
      "Exponent shifted right: 0\n",
      "7^0 ≡ 11 (mod 18)\n"
     ]
    }
   ],
   "source": [
    "result = modular_exponentiation_steps(a, exponent, modulus)"
   ]
  },
  {
   "cell_type": "markdown",
   "metadata": {},
   "source": [
    "### Finding the modular exponentiation of $283^{4}~mod~12$"
   ]
  },
  {
   "cell_type": "code",
   "execution_count": 37,
   "metadata": {},
   "outputs": [
    {
     "name": "stdout",
     "output_type": "stream",
     "text": [
      "283^4 ≡ 1 (mod 12)\n"
     ]
    }
   ],
   "source": [
    "a = 283\n",
    "exponent = 4\n",
    "modulus = 12\n",
    "\n",
    "result = modular_exponentiation(a, exponent, modulus)"
   ]
  },
  {
   "cell_type": "code",
   "execution_count": 38,
   "metadata": {},
   "outputs": [
    {
     "name": "stdout",
     "output_type": "stream",
     "text": [
      "Steps of computation:\n",
      "Base squared and reduced modulo 12: 1\n",
      "Exponent shifted right: 2\n",
      "Base squared and reduced modulo 12: 1\n",
      "Exponent shifted right: 1\n",
      "Result updated to 1 after multiplying by base 1\n",
      "Base squared and reduced modulo 12: 1\n",
      "Exponent shifted right: 0\n",
      "1^0 ≡ 1 (mod 12)\n"
     ]
    }
   ],
   "source": [
    "result = modular_exponentiation_steps(a, exponent, modulus)"
   ]
  },
  {
   "cell_type": "markdown",
   "metadata": {},
   "source": [
    "### Finding the modular exponentiation of $38273^{7}~mod~24$"
   ]
  },
  {
   "cell_type": "code",
   "execution_count": 39,
   "metadata": {},
   "outputs": [
    {
     "name": "stdout",
     "output_type": "stream",
     "text": [
      "38273^7 ≡ 17 (mod 24)\n"
     ]
    }
   ],
   "source": [
    "a = 38273\n",
    "exponent = 7\n",
    "modulus = 24\n",
    "\n",
    "result = modular_exponentiation(a, exponent, modulus)"
   ]
  },
  {
   "cell_type": "code",
   "execution_count": 40,
   "metadata": {},
   "outputs": [
    {
     "name": "stdout",
     "output_type": "stream",
     "text": [
      "Steps of computation:\n",
      "Result updated to 17 after multiplying by base 17\n",
      "Base squared and reduced modulo 24: 1\n",
      "Exponent shifted right: 3\n",
      "Result updated to 17 after multiplying by base 1\n",
      "Base squared and reduced modulo 24: 1\n",
      "Exponent shifted right: 1\n",
      "Result updated to 17 after multiplying by base 1\n",
      "Base squared and reduced modulo 24: 1\n",
      "Exponent shifted right: 0\n",
      "1^0 ≡ 17 (mod 24)\n"
     ]
    }
   ],
   "source": [
    "result = modular_exponentiation_steps(a, exponent, modulus)"
   ]
  }
 ],
 "metadata": {
  "kernelspec": {
   "display_name": "jupyter-books",
   "language": "python",
   "name": "python3"
  },
  "language_info": {
   "codemirror_mode": {
    "name": "ipython",
    "version": 3
   },
   "file_extension": ".py",
   "mimetype": "text/x-python",
   "name": "python",
   "nbconvert_exporter": "python",
   "pygments_lexer": "ipython3",
   "version": "3.12.3"
  }
 },
 "nbformat": 4,
 "nbformat_minor": 2
}
