{
 "cells": [
  {
   "cell_type": "markdown",
   "metadata": {},
   "source": [
    "# Converting Values"
   ]
  },
  {
   "cell_type": "markdown",
   "metadata": {},
   "source": [
    "Converting between different numerical and data representations is an essential skill in programming, allowing for efficient data processing, interoperability, and the ability to build versatile applications. This guide will explore how to validate, convert, encode, and decode various formats, making your programs both robust and flexible. These concepts also serve as a foundation for implementing more complex systems in SplashKit, such as cryptographic utilities or network tools.\n",
    "\n",
    "## Validation Functions\n",
    "\n",
    "Validation is the first step in any reliable conversion process. Ensuring input values conform to their respective formats reduces errors and creates a solid foundation for processing data. For example, binary numbers must consist only of `0`s and `1`s, while hexadecimal values use a combination of numeric and alphabetic characters. In this section, we’ll explore how to check the correctness of binary, decimal, hexadecimal, and octal values, ensuring all inputs are clean and error-free before proceeding with conversions.\n",
    "\n",
    ":::note\n",
    "The following validation functions are used in the conversion operations described later in this guide. They check whether a given string is a valid representation of a binary, decimal, hexadecimal, or octal number, respectively.\n",
    ":::"
   ]
  },
  {
   "cell_type": "markdown",
   "metadata": {},
   "source": [
    "### Is Binary\n",
    "\n",
    "This function checks if a given string is a valid binary number, ensuring it contains only the characters `0` and `1`. It also verifies that the input is not empty, returning false for any invalid or empty input."
   ]
  },
  {
   "cell_type": "code",
   "execution_count": 71,
   "metadata": {},
   "outputs": [],
   "source": [
    "def is_binary(binary_string):\n",
    "    return all(character in '01' for character in binary_string) and bool(binary_string)"
   ]
  },
  {
   "cell_type": "markdown",
   "metadata": {},
   "source": [
    "We can use this function within many other functions, or even to just check if a string is a binary number:"
   ]
  },
  {
   "cell_type": "code",
   "execution_count": 72,
   "metadata": {},
   "outputs": [
    {
     "name": "stdout",
     "output_type": "stream",
     "text": [
      "Value 1003300101 is a False binary value\n",
      "Value 10010101 is a True binary value\n"
     ]
    }
   ],
   "source": [
    "binary_string1 = \"1003300101\"\n",
    "print(F\"Value {binary_string1} is a {is_binary(binary_string1)} binary value\")\n",
    "\n",
    "binary_string2 = \"10010101\"\n",
    "print(F\"Value {binary_string2} is a {is_binary(binary_string2)} binary value\")"
   ]
  },
  {
   "cell_type": "markdown",
   "metadata": {},
   "source": [
    "### Is Hexadecimal\n",
    "\n",
    "This function validates whether a string represents a valid hexadecimal number. It checks that each character falls within the ranges `0-9`, `A-F`, or `a-f`, while also ensuring the input is not empty."
   ]
  },
  {
   "cell_type": "code",
   "execution_count": 73,
   "metadata": {},
   "outputs": [],
   "source": [
    "def is_hex(hex_string):\n",
    "    return all(character in '0123456789ABCDEFabcdef' for character in hex_string) and bool(hex_string)"
   ]
  },
  {
   "cell_type": "markdown",
   "metadata": {},
   "source": [
    "We can use this function to verify hexadecimal strings before converting them to other formats:"
   ]
  },
  {
   "cell_type": "code",
   "execution_count": 74,
   "metadata": {},
   "outputs": [
    {
     "name": "stdout",
     "output_type": "stream",
     "text": [
      "Value 1A2B3C4D5F is a True hex value\n",
      "Value 1A2B3C4D5G is a False hex value\n"
     ]
    }
   ],
   "source": [
    "hex_string1 = \"1A2B3C4D5F\"\n",
    "print(f\"Value {hex_string1} is a {is_hex(hex_string1)} hex value\") # True\n",
    "\n",
    "hex_string2 = \"1A2B3C4D5G\"\n",
    "print(f\"Value {hex_string2} is a {is_hex(hex_string2)} hex value\") # False"
   ]
  },
  {
   "cell_type": "markdown",
   "metadata": {},
   "source": [
    "### Is Octal\n",
    "\n",
    "This function determines if a string is a valid octal number by ensuring all characters are within the range `0-7`. It also returns false if the input string is empty."
   ]
  },
  {
   "cell_type": "code",
   "execution_count": 75,
   "metadata": {},
   "outputs": [],
   "source": [
    "def is_octal(octal_string):\n",
    "    return all(character in '01234567' for character in octal_string) and bool(octal_string)"
   ]
  },
  {
   "cell_type": "markdown",
   "metadata": {},
   "source": [
    "We can use this function to validate octal strings before converting them to other formats:"
   ]
  },
  {
   "cell_type": "code",
   "execution_count": 76,
   "metadata": {},
   "outputs": [
    {
     "name": "stdout",
     "output_type": "stream",
     "text": [
      "Value 1234567 is a True octal value\n",
      "Value 12345678 is a False octal value\n"
     ]
    }
   ],
   "source": [
    "octal_string1 = \"1234567\"\n",
    "print(f\"Value {octal_string1} is a {is_octal(octal_string1)} octal value\") # True\n",
    "\n",
    "octal_string2 = \"12345678\"\n",
    "print(f\"Value {octal_string2} is a {is_octal(octal_string2)} octal value\") # False"
   ]
  },
  {
   "cell_type": "markdown",
   "metadata": {},
   "source": [
    "## Basic Conversion Operations\n",
    "\n",
    "Conversions between number systems are fundamental to understanding how data is represented in programming. Whether you’re transforming binary to decimal, decimal to hexadecimal, or even converting between less common systems like octal and base-64, these operations provide insight into the underlying mechanics of data storage and manipulation. This section will introduce methods for performing these conversions step by step, helping you understand the relationships between different numerical systems and how to implement them efficiently in code."
   ]
  },
  {
   "cell_type": "markdown",
   "metadata": {},
   "source": [
    "### Decimal to Binary\n",
    "\n",
    "Converting a decimal number to binary involves dividing the number by 2 repeatedly and recording the remainder for each division. These remainders, read in reverse order, form the binary representation of the decimal number. For example, to convert the decimal number 10 to binary, you would perform the following steps: $10 ÷ 2 = 5$ remainder $0$, $5 ÷ 2 = 2$ remainder $1$, $2 ÷ 2 = 1$ remainder $0$, and $1 ÷ 2 = 0$ remainder $1$. Reading the remainders from bottom to top, you get the binary number $1010$. This process can be implemented programmatically to convert any decimal number to its binary equivalent.\n",
    "\n",
    ":::tip\n",
    "This could be useful for encoding data into binary formats like Base64, performing low-level programming tasks, or representing numbers in digital circuits.\n",
    ":::"
   ]
  },
  {
   "cell_type": "code",
   "execution_count": 77,
   "metadata": {},
   "outputs": [],
   "source": [
    "def dec_to_bin(decimal_value):\n",
    "    if decimal_value == 0:\n",
    "        return \"0\"\n",
    "    \n",
    "    binary_string = \"\"\n",
    "    while decimal_value > 0:\n",
    "        binary_string = (\"1\" if decimal_value & 1 else \"0\") + binary_string\n",
    "        decimal_value >>= 1\n",
    "    return binary_string"
   ]
  },
  {
   "cell_type": "code",
   "execution_count": 78,
   "metadata": {},
   "outputs": [
    {
     "name": "stdout",
     "output_type": "stream",
     "text": [
      "Binary value: 1010\n"
     ]
    }
   ],
   "source": [
    "decimal_value = 10\n",
    "binary_string = dec_to_bin(decimal_value)\n",
    "print(\"Binary value:\", binary_string)"
   ]
  },
  {
   "cell_type": "markdown",
   "metadata": {},
   "source": [
    "If we change the input value to $22$, the output will be:"
   ]
  },
  {
   "cell_type": "code",
   "execution_count": 79,
   "metadata": {},
   "outputs": [
    {
     "name": "stdout",
     "output_type": "stream",
     "text": [
      "Binary value: 10110\n"
     ]
    }
   ],
   "source": [
    "decimal_value = 22\n",
    "binary_string = dec_to_bin(decimal_value)\n",
    "print(\"Binary value:\", binary_string)"
   ]
  },
  {
   "cell_type": "markdown",
   "metadata": {},
   "source": [
    "### Binary to Decimal\n",
    "\n",
    "Converting a binary number to decimal involves multiplying each digit by $2^n$, where $n$ is the position of the digit from the rightmost bit, starting at $0$. For example, to convert the binary number $1010$ to decimal, you would calculate $1 \\times 2^3 + 0 \\times 2^2 + 1 \\times 2^1 + 0 \\times 2^0 = 10$. This process can be implemented programmatically to convert any binary number to its decimal equivalent."
   ]
  },
  {
   "cell_type": "code",
   "execution_count": 80,
   "metadata": {},
   "outputs": [],
   "source": [
    "def bin_to_dec(binary_string):\n",
    "    if not is_binary(binary_string):\n",
    "        return 0\n",
    "\n",
    "    decimal_value = 0\n",
    "    for i, character in enumerate(reversed(binary_string)):\n",
    "        if character == '1':\n",
    "            decimal_value += (1 << i)\n",
    "    return decimal_value"
   ]
  },
  {
   "cell_type": "code",
   "execution_count": 81,
   "metadata": {},
   "outputs": [
    {
     "name": "stdout",
     "output_type": "stream",
     "text": [
      "Decimal value: 10\n"
     ]
    }
   ],
   "source": [
    "binary_string = \"1010\"\n",
    "decimal_value = bin_to_dec(binary_string)\n",
    "print(\"Decimal value:\", decimal_value)"
   ]
  },
  {
   "cell_type": "markdown",
   "metadata": {},
   "source": [
    "If we change the input value to $10110$, the output will be:"
   ]
  },
  {
   "cell_type": "code",
   "execution_count": 82,
   "metadata": {},
   "outputs": [
    {
     "name": "stdout",
     "output_type": "stream",
     "text": [
      "Decimal value: 22\n"
     ]
    }
   ],
   "source": [
    "binary_string = \"10110\"\n",
    "decimal_value = bin_to_dec(binary_string)\n",
    "print(\"Decimal value:\", decimal_value)"
   ]
  },
  {
   "cell_type": "markdown",
   "metadata": {},
   "source": [
    "### Hexadecimal to Binary\n",
    "\n",
    "Converting a hexadecimal number to binary involves converting each hexadecimal digit to its binary equivalent. For example, the hexadecimal number $A3$ can be converted to binary by converting $A$ to $1010$ and $3$ to $0011$, resulting in the binary number $10100011$. This process can be implemented programmatically to convert any hexadecimal number to its binary equivalent."
   ]
  },
  {
   "cell_type": "code",
   "execution_count": 83,
   "metadata": {},
   "outputs": [],
   "source": [
    "def hex_to_bin(hex_string):\n",
    "    if not is_hex(hex_string):\n",
    "        return \"\"\n",
    "    \n",
    "    binary_string = \"\"\n",
    "    for hex_character in hex_string:\n",
    "        hex_value = int(hex_character, 16)\n",
    "        for i in range(3, -1, -1):\n",
    "            binary_string += \"1\" if (hex_value >> i) & 1 else \"0\"\n",
    "    \n",
    "    if len(hex_string) == 1:\n",
    "        first_one = binary_string.find('1')\n",
    "        return \"0\" if first_one == -1 else binary_string[first_one:]\n",
    "    \n",
    "    return binary_string"
   ]
  },
  {
   "cell_type": "code",
   "execution_count": 84,
   "metadata": {},
   "outputs": [
    {
     "name": "stdout",
     "output_type": "stream",
     "text": [
      "Binary value: 10100011\n"
     ]
    }
   ],
   "source": [
    "hex_string = \"A3\"\n",
    "binary_string = hex_to_bin(hex_string)\n",
    "print(\"Binary value:\", binary_string)"
   ]
  },
  {
   "cell_type": "markdown",
   "metadata": {},
   "source": [
    "If we change the input value to $FA$, the output will be:"
   ]
  },
  {
   "cell_type": "code",
   "execution_count": 85,
   "metadata": {},
   "outputs": [
    {
     "name": "stdout",
     "output_type": "stream",
     "text": [
      "Binary value: 11111010\n"
     ]
    }
   ],
   "source": [
    "hex_string = \"FA\"\n",
    "binary_string = hex_to_bin(hex_string)\n",
    "print(\"Binary value:\", binary_string)"
   ]
  },
  {
   "cell_type": "markdown",
   "metadata": {},
   "source": [
    "### Binary to Hexadecimal\n",
    "\n",
    "Converting a binary number to hexadecimal involves grouping the binary digits into sets of four, starting from the rightmost bit. Each group of four bits corresponds to a single hexadecimal digit, allowing you to convert the binary number to its hexadecimal equivalent. For example, the binary number $10100011$ can be grouped as $1010$ and $0011$, which correspond to the hexadecimal digits $A$ and $3$, respectively. This process can be implemented programmatically to convert any binary number to its hexadecimal equivalent."
   ]
  },
  {
   "cell_type": "code",
   "execution_count": 86,
   "metadata": {},
   "outputs": [],
   "source": [
    "def bin_to_hex(binary_string):\n",
    "    if not is_binary(binary_string):\n",
    "        return \"\"\n",
    "    \n",
    "    length = len(binary_string)\n",
    "    padding = (4 - (length % 4)) % 4\n",
    "    padded_binary_string = \"0\" * padding + binary_string\n",
    "    \n",
    "    hex_string = \"\"\n",
    "    for i in range(0, len(padded_binary_string), 4):\n",
    "        hex_value = int(padded_binary_string[i:i+4], 2)\n",
    "        hex_string += hex(hex_value)[2:].upper()\n",
    "    return hex_string"
   ]
  },
  {
   "cell_type": "code",
   "execution_count": 87,
   "metadata": {},
   "outputs": [
    {
     "name": "stdout",
     "output_type": "stream",
     "text": [
      "Hexadecimal value: A3\n"
     ]
    }
   ],
   "source": [
    "binary_string = \"10100011\"\n",
    "hex_string = bin_to_hex(binary_string)\n",
    "print(\"Hexadecimal value:\", hex_string)"
   ]
  },
  {
   "cell_type": "markdown",
   "metadata": {},
   "source": [
    "If we change the input value to $1100101011$, the output will be:"
   ]
  },
  {
   "cell_type": "code",
   "execution_count": 88,
   "metadata": {},
   "outputs": [
    {
     "name": "stdout",
     "output_type": "stream",
     "text": [
      "Hexadecimal value: 32B\n"
     ]
    }
   ],
   "source": [
    "binary_string = \"1100101011\"\n",
    "hex_string = bin_to_hex(binary_string)\n",
    "print(\"Hexadecimal value:\", hex_string)"
   ]
  },
  {
   "cell_type": "markdown",
   "metadata": {},
   "source": [
    "### Decimal to Octal\n",
    "\n",
    "Converting a decimal number to octal involves dividing the number by 8 repeatedly and recording the remainder for each division. These remainders, read in reverse order, form the octal representation of the decimal number. For example, to convert the decimal number 10 to octal, you would perform the following steps: $10 ÷ 8 = 1$ remainder $2$, and $1 ÷ 8 = 0$ remainder $1$. Reading the remainders from bottom to top, you get the octal number $12$. This process can be implemented programmatically to convert any decimal number to its octal equivalent."
   ]
  },
  {
   "cell_type": "code",
   "execution_count": 89,
   "metadata": {},
   "outputs": [],
   "source": [
    "def dec_to_oct(decimal_value):\n",
    "    if decimal_value == 0:\n",
    "        return \"0\"\n",
    "    \n",
    "    octal_string = \"\"\n",
    "    while decimal_value > 0:\n",
    "        octal_string = str(decimal_value % 8) + octal_string\n",
    "        decimal_value //= 8\n",
    "    return octal_string"
   ]
  },
  {
   "cell_type": "code",
   "execution_count": 90,
   "metadata": {},
   "outputs": [
    {
     "name": "stdout",
     "output_type": "stream",
     "text": [
      "Octal value: 12\n"
     ]
    }
   ],
   "source": [
    "decimal_value = 10\n",
    "octal_string = dec_to_oct(decimal_value)\n",
    "print(\"Octal value:\", octal_string)"
   ]
  },
  {
   "cell_type": "markdown",
   "metadata": {},
   "source": [
    "If we change the input value to $87$, the output will be:"
   ]
  },
  {
   "cell_type": "code",
   "execution_count": 91,
   "metadata": {},
   "outputs": [
    {
     "name": "stdout",
     "output_type": "stream",
     "text": [
      "Octal value: 127\n"
     ]
    }
   ],
   "source": [
    "decimal_value = 87\n",
    "octal_string = dec_to_oct(decimal_value)\n",
    "print(\"Octal value:\", octal_string)"
   ]
  },
  {
   "cell_type": "markdown",
   "metadata": {},
   "source": [
    "### Octal to Decimal\n",
    "\n",
    "Converting an octal number to decimal involves multiplying each digit by $8^n$, where $n$ is the position of the digit from the rightmost bit, starting at $0$. For example, to convert the octal number 12 to decimal, you would calculate $1 \\times 8^1 + 2 \\times 8^0 = 10$. This process can be implemented programmatically to convert any octal number to its decimal equivalent."
   ]
  },
  {
   "cell_type": "code",
   "execution_count": 92,
   "metadata": {},
   "outputs": [],
   "source": [
    "def oct_to_dec(octal_string):\n",
    "    if not is_octal(octal_string):\n",
    "        return 0\n",
    "\n",
    "    decimal_value = 0\n",
    "    for i, character in enumerate(reversed(octal_string)):\n",
    "        decimal_value += int(character) * (8 ** i)\n",
    "    return decimal_value"
   ]
  },
  {
   "cell_type": "code",
   "execution_count": 93,
   "metadata": {},
   "outputs": [
    {
     "name": "stdout",
     "output_type": "stream",
     "text": [
      "Decimal value: 10\n"
     ]
    }
   ],
   "source": [
    "octal_string = \"12\"\n",
    "decimal_value = oct_to_dec(octal_string)\n",
    "print(\"Decimal value:\", decimal_value)"
   ]
  },
  {
   "cell_type": "markdown",
   "metadata": {},
   "source": [
    "If we change the input value to $26$, the output will be:"
   ]
  },
  {
   "cell_type": "code",
   "execution_count": 94,
   "metadata": {},
   "outputs": [
    {
     "name": "stdout",
     "output_type": "stream",
     "text": [
      "Decimal value: 22\n"
     ]
    }
   ],
   "source": [
    "octal_string = \"26\"\n",
    "decimal_value = oct_to_dec(octal_string)\n",
    "print(\"Decimal value:\", decimal_value)"
   ]
  },
  {
   "cell_type": "markdown",
   "metadata": {},
   "source": [
    "### Octal to Binary\n",
    "\n",
    "Converting an octal number to binary involves converting each octal digit to its binary equivalent. For example, the octal number $12$ can be converted to binary by converting $1$ to $001$ and $2$ to $010$, resulting in the binary number $001010$. This process can be implemented programmatically to convert any octal number to its binary equivalent."
   ]
  },
  {
   "cell_type": "code",
   "execution_count": 95,
   "metadata": {},
   "outputs": [],
   "source": [
    "def oct_to_bin(octal_string):\n",
    "    if not is_octal(octal_string):\n",
    "        return \"\"\n",
    "    \n",
    "    binary_string = \"\"\n",
    "    for octal_character in octal_string:\n",
    "        octal_value = int(octal_character)\n",
    "        for i in range(2, -1, -1):\n",
    "            binary_string += \"1\" if (octal_value >> i) & 1 else \"0\"\n",
    "    \n",
    "    first_one = binary_string.find('1')\n",
    "    return \"0\" if first_one == -1 else binary_string[first_one:]"
   ]
  },
  {
   "cell_type": "code",
   "execution_count": 96,
   "metadata": {},
   "outputs": [
    {
     "name": "stdout",
     "output_type": "stream",
     "text": [
      "Binary value: 1010\n"
     ]
    }
   ],
   "source": [
    "octal_string = \"12\"\n",
    "binary_string = oct_to_bin(octal_string)\n",
    "print(\"Binary value:\", binary_string)"
   ]
  },
  {
   "cell_type": "markdown",
   "metadata": {},
   "source": [
    "If we change the input value to $26$, the output will be:"
   ]
  },
  {
   "cell_type": "code",
   "execution_count": 97,
   "metadata": {},
   "outputs": [
    {
     "name": "stdout",
     "output_type": "stream",
     "text": [
      "Binary value: 10110\n"
     ]
    }
   ],
   "source": [
    "octal_string = \"26\"\n",
    "binary_string = oct_to_bin(octal_string)\n",
    "print(\"Binary value:\", binary_string)"
   ]
  },
  {
   "cell_type": "markdown",
   "metadata": {},
   "source": [
    "### Binary to Octal\n",
    "\n",
    "Converting a binary number to octal involves grouping the binary digits into sets of three, starting from the rightmost bit. Each group of three bits corresponds to a single octal digit, allowing you to convert the binary number to its octal equivalent. For example, the binary number $101010$ can be grouped as $101$ and $010$, which correspond to the octal digits $5$ and $2$, respectively. This process can be implemented programmatically to convert any binary number to its octal equivalent."
   ]
  },
  {
   "cell_type": "code",
   "execution_count": 98,
   "metadata": {},
   "outputs": [],
   "source": [
    "def bin_to_oct(binary_string):\n",
    "    if not is_binary(binary_string):\n",
    "        return \"\"\n",
    "    \n",
    "    padding = (3 - (len(binary_string) % 3)) % 3\n",
    "    padded_binary_string = \"0\" * padding + binary_string\n",
    "    \n",
    "    octal_string = \"\"\n",
    "    for i in range(0, len(padded_binary_string), 3):\n",
    "        octal_value = int(padded_binary_string[i:i+3], 2)\n",
    "        octal_string += str(octal_value)\n",
    "    \n",
    "    first_non_zero = octal_string.find('1')\n",
    "    return \"0\" if first_non_zero == -1 else octal_string[first_non_zero:]"
   ]
  },
  {
   "cell_type": "code",
   "execution_count": 99,
   "metadata": {},
   "outputs": [
    {
     "name": "stdout",
     "output_type": "stream",
     "text": [
      "Octal value: 0\n"
     ]
    }
   ],
   "source": [
    "binary_string = \"101010\"\n",
    "octal_string = bin_to_oct(binary_string)\n",
    "print(\"Octal value:\", octal_string)"
   ]
  },
  {
   "cell_type": "markdown",
   "metadata": {},
   "source": [
    "If we change the input value to $101110010$, the output will be:"
   ]
  },
  {
   "cell_type": "code",
   "execution_count": 100,
   "metadata": {},
   "outputs": [
    {
     "name": "stdout",
     "output_type": "stream",
     "text": [
      "Octal value: 0\n"
     ]
    }
   ],
   "source": [
    "binary_string = \"101110010\"\n",
    "octal_string = bin_to_oct(binary_string)\n",
    "print(\"Octal value:\", octal_string)"
   ]
  },
  {
   "cell_type": "markdown",
   "metadata": {},
   "source": [
    "### Hexadecimal to Octal\n",
    "\n",
    "Converting a hexadecimal number to octal involves converting the hexadecimal number to binary and then converting the binary number to octal. This process can be implemented programmatically to convert any hexadecimal number to its octal equivalent.\n",
    "\n",
    ":::note\n",
    "This function relies on the `hex_to_bin` and the `bin_to_oct` functions defined above.\n",
    ":::"
   ]
  },
  {
   "cell_type": "code",
   "execution_count": 101,
   "metadata": {},
   "outputs": [],
   "source": [
    "def hex_to_oct(hex_string):\n",
    "    if not is_hex(hex_string):\n",
    "        return \"\"\n",
    "    \n",
    "    binary_string = hex_to_bin(hex_string)\n",
    "    return bin_to_oct(binary_string)"
   ]
  },
  {
   "cell_type": "code",
   "execution_count": 102,
   "metadata": {},
   "outputs": [
    {
     "name": "stdout",
     "output_type": "stream",
     "text": [
      "Octal value: 0\n"
     ]
    }
   ],
   "source": [
    "hex_string = \"A3\"\n",
    "octal_string = hex_to_oct(hex_string)\n",
    "print(\"Octal value:\", octal_string)"
   ]
  },
  {
   "cell_type": "markdown",
   "metadata": {},
   "source": [
    "If we change the input value to $FAA$, the output will be:"
   ]
  },
  {
   "cell_type": "code",
   "execution_count": 103,
   "metadata": {},
   "outputs": [
    {
     "name": "stdout",
     "output_type": "stream",
     "text": [
      "Octal value: 0\n"
     ]
    }
   ],
   "source": [
    "hex_string = \"FAA\"\n",
    "octal_string = hex_to_oct(hex_string)\n",
    "print(\"Octal value:\", octal_string)"
   ]
  },
  {
   "cell_type": "markdown",
   "metadata": {},
   "source": [
    "### Octal to Hexadecimal\n",
    "\n",
    "Converting an octal number to hexadecimal involves converting the octal number to binary and then converting the binary number to hexadecimal. This process can be implemented programmatically to convert any octal number to its hexadecimal equivalent.\n",
    "\n",
    ":::note\n",
    "This function relies on the `oct_to_bin` and `bin_to_hex` functions defined above.\n",
    ":::"
   ]
  },
  {
   "cell_type": "code",
   "execution_count": 104,
   "metadata": {},
   "outputs": [],
   "source": [
    "def oct_to_hex(octal_string):\n",
    "    if not is_octal(octal_string):\n",
    "        return \"\"\n",
    "    \n",
    "    binary_string = oct_to_bin(octal_string)\n",
    "    return bin_to_hex(binary_string)"
   ]
  },
  {
   "cell_type": "code",
   "execution_count": 105,
   "metadata": {},
   "outputs": [
    {
     "name": "stdout",
     "output_type": "stream",
     "text": [
      "Hexadecimal value: A\n"
     ]
    }
   ],
   "source": [
    "octal_string = \"12\"\n",
    "hex_string = oct_to_hex(octal_string)\n",
    "print(\"Hexadecimal value:\", hex_string)"
   ]
  },
  {
   "cell_type": "markdown",
   "metadata": {},
   "source": [
    "If we change the input value to $26$, the output will be:"
   ]
  },
  {
   "cell_type": "code",
   "execution_count": 109,
   "metadata": {},
   "outputs": [
    {
     "name": "stdout",
     "output_type": "stream",
     "text": [
      "Hexadecimal value: 16\n"
     ]
    }
   ],
   "source": [
    "octal_string = \"26\"\n",
    "hex_string = oct_to_hex(octal_string)\n",
    "print(\"Hexadecimal value:\", hex_string)"
   ]
  }
 ],
 "metadata": {
  "kernelspec": {
   "display_name": "jupyter-books",
   "language": "python",
   "name": "python3"
  },
  "language_info": {
   "codemirror_mode": {
    "name": "ipython",
    "version": 3
   },
   "file_extension": ".py",
   "mimetype": "text/x-python",
   "name": "python",
   "nbconvert_exporter": "python",
   "pygments_lexer": "ipython3",
   "version": "3.12.7"
  }
 },
 "nbformat": 4,
 "nbformat_minor": 2
}
