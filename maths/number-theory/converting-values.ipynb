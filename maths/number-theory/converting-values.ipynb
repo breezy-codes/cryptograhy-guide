{
 "cells": [
  {
   "cell_type": "markdown",
   "metadata": {},
   "source": [
    "# **Converting Values**"
   ]
  },
  {
   "cell_type": "markdown",
   "metadata": {},
   "source": [
    "Converting between different numerical and data representations is an essential skill in programming, allowing for efficient data processing, interoperability, and the ability to build versatile applications. This guide will explore how to validate, convert, encode, and decode various formats, making your programs both robust and flexible. These concepts also serve as a foundation for implementing more complex systems in SplashKit, such as cryptographic utilities or network tools.\n",
    "\n",
    "## Validation Functions\n",
    "\n",
    "Validation is the first step in any reliable conversion process. Ensuring input values conform to their respective formats reduces errors and creates a solid foundation for processing data. For example, binary numbers must consist only of `0`s and `1`s, while hexadecimal values use a combination of numeric and alphabetic characters. In this section, we’ll explore how to check the correctness of binary, decimal, hexadecimal, and octal values, ensuring all inputs are clean and error-free before proceeding with conversions.\n",
    "\n",
    "```{admonition} Handy Tip\n",
    ":class: tip\n",
    "The following validation functions are used in the conversion operations described later in this guide. They check whether a given string is a valid representation of a binary, decimal, hexadecimal, or octal number, respectively.\n",
    "```"
   ]
  },
  {
   "cell_type": "markdown",
   "metadata": {},
   "source": [
    "### Is Binary\n",
    "\n",
    "This function checks if a given string is a valid binary number, ensuring it contains only the characters `0` and `1`. It also verifies that the input is not empty, returning false for any invalid or empty input."
   ]
  },
  {
   "cell_type": "code",
   "execution_count": 71,
   "metadata": {},
   "outputs": [],
   "source": [
    "def is_binary(binary_string):\n",
    "    return all(character in '01' for character in binary_string) and bool(binary_string)"
   ]
  },
  {
   "cell_type": "markdown",
   "metadata": {},
   "source": [
    "We can use this function within many other functions, or even to just check if a string is a binary number:"
   ]
  },
  {
   "cell_type": "code",
   "execution_count": 72,
   "metadata": {},
   "outputs": [
    {
     "name": "stdout",
     "output_type": "stream",
     "text": [
      "Value 1003300101 is a False binary value\n",
      "Value 10010101 is a True binary value\n"
     ]
    }
   ],
   "source": [
    "binary_string1 = \"1003300101\"\n",
    "print(F\"Value {binary_string1} is a {is_binary(binary_string1)} binary value\")\n",
    "\n",
    "binary_string2 = \"10010101\"\n",
    "print(F\"Value {binary_string2} is a {is_binary(binary_string2)} binary value\")"
   ]
  },
  {
   "cell_type": "markdown",
   "metadata": {},
   "source": [
    "### Is Hexadecimal\n",
    "\n",
    "This function validates whether a string represents a valid hexadecimal number. It checks that each character falls within the ranges `0-9`, `A-F`, or `a-f`, while also ensuring the input is not empty."
   ]
  },
  {
   "cell_type": "code",
   "execution_count": 73,
   "metadata": {},
   "outputs": [],
   "source": [
    "def is_hex(hex_string):\n",
    "    return all(character in '0123456789ABCDEFabcdef' for character in hex_string) and bool(hex_string)"
   ]
  },
  {
   "cell_type": "markdown",
   "metadata": {},
   "source": [
    "We can use this function to verify hexadecimal strings before converting them to other formats:"
   ]
  },
  {
   "cell_type": "code",
   "execution_count": 74,
   "metadata": {},
   "outputs": [
    {
     "name": "stdout",
     "output_type": "stream",
     "text": [
      "Value 1A2B3C4D5F is a True hex value\n",
      "Value 1A2B3C4D5G is a False hex value\n"
     ]
    }
   ],
   "source": [
    "hex_string1 = \"1A2B3C4D5F\"\n",
    "print(f\"Value {hex_string1} is a {is_hex(hex_string1)} hex value\") # True\n",
    "\n",
    "hex_string2 = \"1A2B3C4D5G\"\n",
    "print(f\"Value {hex_string2} is a {is_hex(hex_string2)} hex value\") # False"
   ]
  },
  {
   "cell_type": "markdown",
   "metadata": {},
   "source": [
    "### Is Octal\n",
    "\n",
    "This function determines if a string is a valid octal number by ensuring all characters are within the range `0-7`. It also returns false if the input string is empty."
   ]
  },
  {
   "cell_type": "code",
   "execution_count": 75,
   "metadata": {},
   "outputs": [],
   "source": [
    "def is_octal(octal_string):\n",
    "    return all(character in '01234567' for character in octal_string) and bool(octal_string)"
   ]
  },
  {
   "cell_type": "markdown",
   "metadata": {},
   "source": [
    "We can use this function to validate octal strings before converting them to other formats:"
   ]
  },
  {
   "cell_type": "code",
   "execution_count": 76,
   "metadata": {},
   "outputs": [
    {
     "name": "stdout",
     "output_type": "stream",
     "text": [
      "Value 1234567 is a True octal value\n",
      "Value 12345678 is a False octal value\n"
     ]
    }
   ],
   "source": [
    "octal_string1 = \"1234567\"\n",
    "print(f\"Value {octal_string1} is a {is_octal(octal_string1)} octal value\") # True\n",
    "\n",
    "octal_string2 = \"12345678\"\n",
    "print(f\"Value {octal_string2} is a {is_octal(octal_string2)} octal value\") # False"
   ]
  },
  {
   "cell_type": "markdown",
   "metadata": {},
   "source": [
    "## Basic Conversion Operations\n",
    "\n",
    "Conversions between number systems are fundamental to understanding how data is represented in programming. Whether you’re transforming binary to decimal, decimal to hexadecimal, or even converting between less common systems like octal and base-64, these operations provide insight into the underlying mechanics of data storage and manipulation. This section will introduce methods for performing these conversions step by step, helping you understand the relationships between different numerical systems and how to implement them efficiently in code."
   ]
  },
  {
   "cell_type": "markdown",
   "metadata": {},
   "source": [
    "### Decimal to Binary\n",
    "\n",
    "The conversion of a decimal number to binary involves repeatedly dividing the decimal number by 2 and storing the remainders. These remainders, when read in reverse order, represent the binary equivalent of the decimal number. This method ensures an efficient step-by-step breakdown of the decimal number into its binary representation. For example, the decimal number 10 is converted to binary by dividing it by 2 until the quotient is 0, collecting the remainders along the way.\n",
    "\n",
    "```{prf:algorithm} Decimal to Binary Conversion  \n",
    ":label: decimal-to-binary  \n",
    "\n",
    "**Input**: A decimal integer $N$  \n",
    "**Output**: Binary representation of $N$  \n",
    "\n",
    "1. Represent the binary equivalent of $N$ as the sum of powers of 2:  \n",
    "\n",
    "   $$\n",
    "   N = \\sum_{i=0}^k b_i \\cdot 2^i\n",
    "   $$  \n",
    "\n",
    "   where $b_i \\in \\{0, 1\\}$ and $k$ is the highest power of 2 less than or equal to $N$.  \n",
    "\n",
    "2. Extract the binary digits $b_i$ iteratively:  \n",
    "    - Compute $b_0$ as $N \\mod 2$, which gives the remainder when $N$ is divided by 2.  \n",
    "    - Update $N$ by performing integer division:  \n",
    "      \n",
    "      $$\n",
    "      N \\gets \\lfloor N / 2 \\rfloor\n",
    "      $$  \n",
    "\n",
    "    - Repeat this process until $N = 0$.  \n",
    "\n",
    "3. Collect the binary digits $b_0, b_1, \\ldots, b_k$ in reverse order.  \n",
    "\n",
    "4. Reverse the order of the collected binary digits to obtain the correct binary representation:  \n",
    "\n",
    "   $$\n",
    "   B = b_k b_{k-1} \\ldots b_1 b_0\n",
    "   $$  \n",
    "\n",
    "5. Return $B$.  \n",
    "```\n",
    "\n",
    "```{admonition} Example of Decimal to Binary Conversion  \n",
    ":class: tip, dropdown  \n",
    "\n",
    "Consider the decimal number $10$. We convert it to binary using the algorithm:  \n",
    "\n",
    "1. **Initial Number ($N = 10$)**  \n",
    "   - Compute the remainder: $10 \\mod 2 = 0$  \n",
    "   - Quotient: $10 \\div 2 = 5$ (integer division)  \n",
    "   - Store $0$ in `binary_digits`.  \n",
    "\n",
    "2. **Next Number ($N = 5$)**  \n",
    "   - Compute the remainder: $5 \\mod 2 = 1$  \n",
    "   - Quotient: $5 \\div 2 = 2$  \n",
    "   - Store $1$ in `binary_digits`.  \n",
    "\n",
    "3. **Next Number ($N = 2$)**  \n",
    "   - Compute the remainder: $2 \\mod 2 = 0$  \n",
    "   - Quotient: $2 \\div 2 = 1$  \n",
    "   - Store $0$ in `binary_digits`.  \n",
    "\n",
    "4. **Next Number ($N = 1$)**  \n",
    "   - Compute the remainder: $1 \\mod 2 = 1$  \n",
    "   - Quotient: $1 \\div 2 = 0$  \n",
    "   - Store $1$ in `binary_digits`.  \n",
    "\n",
    "5. **Reversing and Combining the Digits**  \n",
    "   - `binary_digits` (in reverse order of computation): $[0, 1, 0, 1]$.  \n",
    "   - Reverse the digits to obtain $[1, 0, 1, 0]$.  \n",
    "   - Join the digits to form the binary number $1010$.  \n",
    "\n",
    "**Final Result**: The binary representation of $10$ is $1010$.  \n",
    "```"
   ]
  },
  {
   "cell_type": "code",
   "execution_count": 77,
   "metadata": {},
   "outputs": [],
   "source": [
    "def dec_to_bin(decimal_value):\n",
    "    if decimal_value == 0:\n",
    "        return \"0\"\n",
    "    \n",
    "    binary_string = \"\"\n",
    "    while decimal_value > 0:\n",
    "        binary_string = (\"1\" if decimal_value & 1 else \"0\") + binary_string\n",
    "        decimal_value >>= 1\n",
    "    return binary_string"
   ]
  },
  {
   "cell_type": "code",
   "execution_count": 78,
   "metadata": {},
   "outputs": [
    {
     "name": "stdout",
     "output_type": "stream",
     "text": [
      "Binary value: 1010\n"
     ]
    }
   ],
   "source": [
    "decimal_value = 10\n",
    "binary_string = dec_to_bin(decimal_value)\n",
    "print(\"Binary value:\", binary_string)"
   ]
  },
  {
   "cell_type": "markdown",
   "metadata": {},
   "source": [
    "If we change the input value to $22$, the output will be:"
   ]
  },
  {
   "cell_type": "code",
   "execution_count": 79,
   "metadata": {},
   "outputs": [
    {
     "name": "stdout",
     "output_type": "stream",
     "text": [
      "Binary value: 10110\n"
     ]
    }
   ],
   "source": [
    "decimal_value = 22\n",
    "binary_string = dec_to_bin(decimal_value)\n",
    "print(\"Binary value:\", binary_string)"
   ]
  },
  {
   "cell_type": "markdown",
   "metadata": {},
   "source": [
    "### Binary to Decimal\n",
    "\n",
    "The conversion of a binary number to decimal involves summing up each binary digit multiplied by $2^n$, where $n$ represents the position of the digit from the rightmost bit (starting at 0). This method provides a straightforward way to compute the decimal value of a binary number. For example, the binary number $1010$ is converted to decimal by calculating the weighted sum of its digits.\n",
    "\n",
    "```{prf:algorithm} Binary to Decimal Conversion  \n",
    ":label: binary-to-decimal  \n",
    "\n",
    "**Input**: A binary string $B$  \n",
    "**Output**: Decimal representation of $B$  \n",
    "\n",
    "1. Represent the binary string $B$ as $b_k b_{k-1} \\ldots b_1 b_0$, where $b_i \\in \\{0, 1\\}$ and $k$ is the index of the most significant bit (MSB).  \n",
    "2. Initialise the decimal number $D = 0$.  \n",
    "3. Compute the decimal equivalent:  \n",
    "\n",
    "   $$\n",
    "   D = \\sum_{i=0}^k b_i \\cdot 2^i  \n",
    "   $$\n",
    "     \n",
    "   - For each binary digit $b_i$, its value contributes $b_i \\cdot 2^i$ to the sum, where $i$ is the position of the digit from right to left (with $i = 0$ for the least significant bit).  \n",
    "4. Return $D$.  \n",
    "```\n",
    "\n",
    "```{admonition} Example of Binary to Decimal Conversion  \n",
    ":class: tip, dropdown  \n",
    "\n",
    "Consider the binary number $1010$. We convert it to decimal using the algorithm:  \n",
    "\n",
    "1. **Binary Number**: $1010$ (read left to right)  \n",
    "\n",
    "   - **Most Significant Bit (MSB)**:  \n",
    "     $1 \\times 2^3 = 8$  \n",
    "   - **Next Bit**:  \n",
    "     $0 \\times 2^2 = 0$  \n",
    "   - **Next Bit**:  \n",
    "     $1 \\times 2^1 = 2$  \n",
    "   - **Least Significant Bit (LSB)**:  \n",
    "     $0 \\times 2^0 = 0$  \n",
    "\n",
    "2. **Summing the Results**:  \n",
    "   $8 + 0 + 2 + 0 = 10$  \n",
    "\n",
    "**Final Result**: The decimal representation of $1010$ is $10$.  \n",
    "```"
   ]
  },
  {
   "cell_type": "code",
   "execution_count": 80,
   "metadata": {},
   "outputs": [],
   "source": [
    "def bin_to_dec(binary_string):\n",
    "    if not is_binary(binary_string):\n",
    "        return 0\n",
    "\n",
    "    decimal_value = 0\n",
    "    for i, character in enumerate(reversed(binary_string)):\n",
    "        if character == '1':\n",
    "            decimal_value += (1 << i)\n",
    "    return decimal_value"
   ]
  },
  {
   "cell_type": "code",
   "execution_count": 81,
   "metadata": {},
   "outputs": [
    {
     "name": "stdout",
     "output_type": "stream",
     "text": [
      "Decimal value: 10\n"
     ]
    }
   ],
   "source": [
    "binary_string = \"1010\"\n",
    "decimal_value = bin_to_dec(binary_string)\n",
    "print(\"Decimal value:\", decimal_value)"
   ]
  },
  {
   "cell_type": "markdown",
   "metadata": {},
   "source": [
    "If we change the input value to $10110$, the output will be:"
   ]
  },
  {
   "cell_type": "code",
   "execution_count": 82,
   "metadata": {},
   "outputs": [
    {
     "name": "stdout",
     "output_type": "stream",
     "text": [
      "Decimal value: 22\n"
     ]
    }
   ],
   "source": [
    "binary_string = \"10110\"\n",
    "decimal_value = bin_to_dec(binary_string)\n",
    "print(\"Decimal value:\", decimal_value)"
   ]
  },
  {
   "cell_type": "markdown",
   "metadata": {},
   "source": [
    "### Hexadecimal to Binary\n",
    "\n",
    "The conversion of a hexadecimal number to binary involves translating each hexadecimal digit into its 4-bit binary equivalent. This method ensures an efficient and accurate conversion process, as each hexadecimal digit directly maps to a fixed binary sequence. For example, the hexadecimal number $A3$ is converted to binary by mapping $A$ to $1010$ and $3$ to $0011$, resulting in $10100011$.\n",
    "\n",
    "```{prf:algorithm} Hexadecimal to Binary Conversion  \n",
    ":label: hexadecimal-to-binary  \n",
    "\n",
    "**Input**: A hexadecimal string $H$  \n",
    "**Output**: Binary representation of $H$  \n",
    "\n",
    "1. Represent each hexadecimal digit $h$ as a 4-bit binary string using a mapping:  \n",
    "\n",
    "   $$\n",
    "   h \\in \\{0, 1, \\dots, 9, A, B, C, D, E, F\\} \\quad \\to \\quad \\text{4-bit binary equivalent.}\n",
    "   $$  \n",
    "\n",
    "   Example mapping:  \n",
    "\n",
    "   $$\n",
    "   \\{'0': '0000', '1': '0001', \\dots, 'A': '1010', \\dots, 'F': '1111'\\}.\n",
    "   $$  \n",
    "\n",
    "2. Let the binary result $B$ be an empty string.  \n",
    "\n",
    "3. For each digit $h$ in $H$:  \n",
    "\n",
    "   $$\n",
    "   B \\gets B \\, || \\, \\text{binary equivalent of } h\n",
    "   $$\n",
    "     \n",
    "   Here, $||$ denotes concatenation of strings.  \n",
    "\n",
    "4. Return $B$.  \n",
    "```\n",
    "\n",
    "```{admonition} Example of Hexadecimal to Binary Conversion  \n",
    ":class: tip, dropdown  \n",
    "\n",
    "Consider the hexadecimal number $A3$. We convert it to binary using the algorithm:  \n",
    "\n",
    "1. **Hexadecimal Number**: $A3$  \n",
    "\n",
    "   - **First Digit ($A$)**:  \n",
    "     Using the mapping $A \\to 1010$, store $1010$.  \n",
    "   - **Second Digit ($3$)**:  \n",
    "     Using the mapping $3 \\to 0011$, store $0011$.  \n",
    "\n",
    "2. **Combine the Binary Equivalents**:  \n",
    "   Concatenate $1010$ and $0011$ to form $10100011$.  \n",
    "\n",
    "**Final Result**: The binary representation of $A3$ is $10100011$.  \n",
    "```"
   ]
  },
  {
   "cell_type": "code",
   "execution_count": 83,
   "metadata": {},
   "outputs": [],
   "source": [
    "def hex_to_bin(hex_string):\n",
    "    if not is_hex(hex_string):\n",
    "        return \"\"\n",
    "    \n",
    "    binary_string = \"\"\n",
    "    for hex_character in hex_string:\n",
    "        hex_value = int(hex_character, 16)\n",
    "        for i in range(3, -1, -1):\n",
    "            binary_string += \"1\" if (hex_value >> i) & 1 else \"0\"\n",
    "    \n",
    "    if len(hex_string) == 1:\n",
    "        first_one = binary_string.find('1')\n",
    "        return \"0\" if first_one == -1 else binary_string[first_one:]\n",
    "    \n",
    "    return binary_string"
   ]
  },
  {
   "cell_type": "code",
   "execution_count": 84,
   "metadata": {},
   "outputs": [
    {
     "name": "stdout",
     "output_type": "stream",
     "text": [
      "Binary value: 10100011\n"
     ]
    }
   ],
   "source": [
    "hex_string = \"A3\"\n",
    "binary_string = hex_to_bin(hex_string)\n",
    "print(\"Binary value:\", binary_string)"
   ]
  },
  {
   "cell_type": "markdown",
   "metadata": {},
   "source": [
    "If we change the input value to $FA$, the output will be:"
   ]
  },
  {
   "cell_type": "code",
   "execution_count": 85,
   "metadata": {},
   "outputs": [
    {
     "name": "stdout",
     "output_type": "stream",
     "text": [
      "Binary value: 11111010\n"
     ]
    }
   ],
   "source": [
    "hex_string = \"FA\"\n",
    "binary_string = hex_to_bin(hex_string)\n",
    "print(\"Binary value:\", binary_string)"
   ]
  },
  {
   "cell_type": "markdown",
   "metadata": {},
   "source": [
    "### Binary to Hexadecimal\n",
    "\n",
    "The conversion of a binary number to hexadecimal involves grouping the binary digits into sets of four bits (starting from the rightmost bit) and then mapping each group to its hexadecimal equivalent. This method ensures a straightforward translation between binary and hexadecimal systems, as four binary digits correspond to one hexadecimal digit. For example, the binary number $10100011$ is grouped as $1010$ and $0011$, which map to the hexadecimal digits $A$ and $3$, resulting in $A3$.\n",
    "\n",
    "```{prf:algorithm} Binary to Hexadecimal Conversion  \n",
    ":label: binary-to-hexadecimal  \n",
    "\n",
    "**Input**: A binary string $B$  \n",
    "**Output**: Hexadecimal representation of $B$  \n",
    "\n",
    "1. Represent each 4-bit binary group $b$ as a single hexadecimal digit using a mapping:  \n",
    "\n",
    "   $$\n",
    "   b \\in \\{0000, 0001, \\dots, 1110, 1111\\} \\quad \\to \\quad \\text{hexadecimal equivalent.}\n",
    "   $$  \n",
    "\n",
    "   Example mapping:  \n",
    "\n",
    "   $$\n",
    "   \\{'0000': '0', '0001': '1', \\dots, '1010': 'A', \\dots, '1111': 'F'\\}.\n",
    "   $$  \n",
    "\n",
    "2. If the length of $B$ is not a multiple of 4, pad $B$ with leading zeros until its length is divisible by 4:  \n",
    "\n",
    "   $$\n",
    "   B \\gets \\text{'0'}^{m} || B, \\quad m = 4 - (\\text{length of } B \\mod 4).\n",
    "   $$  \n",
    "\n",
    "3. Let the hexadecimal result $H$ be an empty string.  \n",
    "\n",
    "4. Divide $B$ into 4-bit groups:  \n",
    "\n",
    "   $$\n",
    "   B = b_k || b_{k-1} || \\ldots || b_1 || b_0, \\quad \\text{where each } b_i \\text{ is a 4-bit group.}\n",
    "   $$  \n",
    "\n",
    "5. For each 4-bit group $b_i$:  \n",
    "\n",
    "   $$\n",
    "   H \\gets H \\, || \\, \\text{hexadecimal equivalent of } b_i\n",
    "   $$  \n",
    "\n",
    "   Here, $||$ denotes concatenation of strings.  \n",
    "\n",
    "6. Return $H$.  \n",
    "```\n",
    "\n",
    "```{admonition} Example of Binary to Hexadecimal Conversion  \n",
    ":class: tip, dropdown  \n",
    "\n",
    "Consider the binary number $10100011$. We convert it to hexadecimal using the algorithm:  \n",
    "\n",
    "1. **Binary Number**: $10100011$  \n",
    "\n",
    "   - **Group the Binary Digits**:  \n",
    "     Divide the binary number into groups of four bits from right to left:  \n",
    "     $1010$, $0011$.  \n",
    "\n",
    "2. **Map Each Group to its Hexadecimal Equivalent**:  \n",
    "   - $1010 \\to A$  \n",
    "   - $0011 \\to 3$  \n",
    "\n",
    "3. **Combine the Hexadecimal Digits**:  \n",
    "   Concatenate $A$ and $3$ to form $A3$.  \n",
    "\n",
    "**Final Result**: The hexadecimal representation of $10100011$ is $A3$.  \n",
    "```"
   ]
  },
  {
   "cell_type": "code",
   "execution_count": 86,
   "metadata": {},
   "outputs": [],
   "source": [
    "def bin_to_hex(binary_string):\n",
    "    if not is_binary(binary_string):\n",
    "        return \"\"\n",
    "    \n",
    "    length = len(binary_string)\n",
    "    padding = (4 - (length % 4)) % 4\n",
    "    padded_binary_string = \"0\" * padding + binary_string\n",
    "    \n",
    "    hex_string = \"\"\n",
    "    for i in range(0, len(padded_binary_string), 4):\n",
    "        hex_value = int(padded_binary_string[i:i+4], 2)\n",
    "        hex_string += hex(hex_value)[2:].upper()\n",
    "    return hex_string"
   ]
  },
  {
   "cell_type": "code",
   "execution_count": 87,
   "metadata": {},
   "outputs": [
    {
     "name": "stdout",
     "output_type": "stream",
     "text": [
      "Hexadecimal value: A3\n"
     ]
    }
   ],
   "source": [
    "binary_string = \"10100011\"\n",
    "hex_string = bin_to_hex(binary_string)\n",
    "print(\"Hexadecimal value:\", hex_string)"
   ]
  },
  {
   "cell_type": "markdown",
   "metadata": {},
   "source": [
    "If we change the input value to $1100101011$, the output will be:"
   ]
  },
  {
   "cell_type": "code",
   "execution_count": 88,
   "metadata": {},
   "outputs": [
    {
     "name": "stdout",
     "output_type": "stream",
     "text": [
      "Hexadecimal value: 32B\n"
     ]
    }
   ],
   "source": [
    "binary_string = \"1100101011\"\n",
    "hex_string = bin_to_hex(binary_string)\n",
    "print(\"Hexadecimal value:\", hex_string)"
   ]
  },
  {
   "cell_type": "markdown",
   "metadata": {},
   "source": [
    "### Decimal to Octal\n",
    "\n",
    "The conversion of a decimal number to octal involves repeatedly dividing the number by $8$ and recording the remainder at each step. These remainders, when read in reverse order, form the octal representation of the decimal number. For example, the decimal number $10$ is converted to octal by dividing it by $8$ until the quotient is $0$, and then reading the remainders from bottom to top.\n",
    "\n",
    "```{prf:algorithm} Decimal to Octal Conversion  \n",
    ":label: decimal-to-octal  \n",
    "\n",
    "**Input**: A decimal integer $N$  \n",
    "**Output**: Octal representation of $N$  \n",
    "\n",
    "1. Represent the octal equivalent of $N$ as the sum of powers of 8:  \n",
    "\n",
    "   $$\n",
    "   N = \\sum_{i=0}^k d_i \\cdot 8^i\n",
    "   $$  \n",
    "\n",
    "   where $d_i \\in \\{0, 1, \\dots, 7\\}$ and $k$ is the highest power of 8 less than or equal to $N$.  \n",
    "\n",
    "2. Extract the octal digits $d_i$ iteratively:  \n",
    "    - Compute $d_0$ as $N \\mod 8$, which gives the remainder when $N$ is divided by 8.  \n",
    "    - Update $N$ using integer division:  \n",
    "\n",
    "      $$\n",
    "      N \\gets \\lfloor N / 8 \\rfloor\n",
    "      $$  \n",
    "\n",
    "    - Repeat this process until $N = 0$.  \n",
    "\n",
    "3. Collect the octal digits $d_0, d_1, \\ldots, d_k$ in reverse order.  \n",
    "\n",
    "4. Reverse the order of the collected octal digits to obtain the correct octal representation:  \n",
    "\n",
    "   $$\n",
    "   O = d_k d_{k-1} \\ldots d_1 d_0\n",
    "   $$  \n",
    "\n",
    "5. Return $O$.  \n",
    "```\n",
    "\n",
    "```{admonition} Example of Decimal to Octal Conversion  \n",
    ":class: tip, dropdown  \n",
    "\n",
    "Consider the decimal number $10$. We convert it to octal using the algorithm:  \n",
    "\n",
    "1. **Initial Number ($N = 10$)**  \n",
    "   - Compute the remainder: $10 \\mod 8 = 2$  \n",
    "   - Quotient: $10 \\div 8 = 1$ (integer division)  \n",
    "   - Store $2$ in `octal_digits`.  \n",
    "\n",
    "2. **Next Number ($N = 1$)**  \n",
    "   - Compute the remainder: $1 \\mod 8 = 1$  \n",
    "   - Quotient: $1 \\div 8 = 0$  \n",
    "   - Store $1$ in `octal_digits`.  \n",
    "\n",
    "3. **Reversing and Combining the Digits**  \n",
    "   - `octal_digits` (in reverse order of computation): $[2, 1]$.  \n",
    "   - Reverse the digits to obtain $[1, 2]$.  \n",
    "   - Join the digits to form the octal number $12$.  \n",
    "\n",
    "**Final Result**: The octal representation of $10$ is $12$.  \n",
    "```"
   ]
  },
  {
   "cell_type": "code",
   "execution_count": 89,
   "metadata": {},
   "outputs": [],
   "source": [
    "def dec_to_oct(decimal_value):\n",
    "    if decimal_value == 0:\n",
    "        return \"0\"\n",
    "    \n",
    "    octal_string = \"\"\n",
    "    while decimal_value > 0:\n",
    "        octal_string = str(decimal_value % 8) + octal_string\n",
    "        decimal_value //= 8\n",
    "    return octal_string"
   ]
  },
  {
   "cell_type": "code",
   "execution_count": 90,
   "metadata": {},
   "outputs": [
    {
     "name": "stdout",
     "output_type": "stream",
     "text": [
      "Octal value: 12\n"
     ]
    }
   ],
   "source": [
    "decimal_value = 10\n",
    "octal_string = dec_to_oct(decimal_value)\n",
    "print(\"Octal value:\", octal_string)"
   ]
  },
  {
   "cell_type": "markdown",
   "metadata": {},
   "source": [
    "If we change the input value to $87$, the output will be:"
   ]
  },
  {
   "cell_type": "code",
   "execution_count": 91,
   "metadata": {},
   "outputs": [
    {
     "name": "stdout",
     "output_type": "stream",
     "text": [
      "Octal value: 127\n"
     ]
    }
   ],
   "source": [
    "decimal_value = 87\n",
    "octal_string = dec_to_oct(decimal_value)\n",
    "print(\"Octal value:\", octal_string)"
   ]
  },
  {
   "cell_type": "markdown",
   "metadata": {},
   "source": [
    "### Octal to Decimal\n",
    "\n",
    "The conversion of an octal number to decimal involves summing up each octal digit multiplied by $8^n$, where $n$ represents the position of the digit from the rightmost bit (starting at $0$). This method allows for a straightforward computation of the decimal equivalent of an octal number. For example, the octal number $12$ is converted to decimal by calculating $1 \\times 8^1 + 2 \\times 8^0 = 10$.\n",
    "\n",
    "```{prf:algorithm} Octal to Decimal Conversion  \n",
    ":label: octal-to-decimal  \n",
    "\n",
    "**Input**: An octal string $O$  \n",
    "**Output**: Decimal representation of $O$  \n",
    "\n",
    "1. Represent the octal string $O$ as $d_k d_{k-1} \\ldots d_1 d_0$, where $d_i \\in \\{0, 1, \\dots, 7\\}$ and $k$ is the index of the most significant digit (MSD).  \n",
    "\n",
    "2. Compute the decimal equivalent $N$ using the positional value of each octal digit:  \n",
    "\n",
    "   $$\n",
    "   N = \\sum_{i=0}^k d_i \\cdot 8^i\n",
    "   $$  \n",
    "\n",
    "   Here, $d_i$ is the octal digit at position $i$, and $8^i$ represents its positional weight.  \n",
    "\n",
    "3. Evaluate the sum by iterating through each digit $d_i$ in $O$ from right to left:  \n",
    "    - Multiply each $d_i$ by $8^i$ and add the result to the running total $N$.  \n",
    "\n",
    "4. Return $N$.  \n",
    "```\n",
    "\n",
    "```{admonition} Example of Octal to Decimal Conversion  \n",
    ":class: tip, dropdown  \n",
    "\n",
    "Consider the octal number $12$. We convert it to decimal using the algorithm:  \n",
    "\n",
    "1. **Octal Number**: $12$ (read from left to right)  \n",
    "\n",
    "   - **Most Significant Digit ($1$)**:  \n",
    "     $1 \\times 8^1 = 8$  \n",
    "   - **Least Significant Digit ($2$)**:  \n",
    "     $2 \\times 8^0 = 2$  \n",
    "\n",
    "2. **Summing the Results**:  \n",
    "   $8 + 2 = 10$  \n",
    "\n",
    "**Final Result**: The decimal representation of $12$ is $10$.  \n",
    "```"
   ]
  },
  {
   "cell_type": "code",
   "execution_count": 92,
   "metadata": {},
   "outputs": [],
   "source": [
    "def oct_to_dec(octal_string):\n",
    "    if not is_octal(octal_string):\n",
    "        return 0\n",
    "\n",
    "    decimal_value = 0\n",
    "    for i, character in enumerate(reversed(octal_string)):\n",
    "        decimal_value += int(character) * (8 ** i)\n",
    "    return decimal_value"
   ]
  },
  {
   "cell_type": "code",
   "execution_count": 93,
   "metadata": {},
   "outputs": [
    {
     "name": "stdout",
     "output_type": "stream",
     "text": [
      "Decimal value: 10\n"
     ]
    }
   ],
   "source": [
    "octal_string = \"12\"\n",
    "decimal_value = oct_to_dec(octal_string)\n",
    "print(\"Decimal value:\", decimal_value)"
   ]
  },
  {
   "cell_type": "markdown",
   "metadata": {},
   "source": [
    "If we change the input value to $26$, the output will be:"
   ]
  },
  {
   "cell_type": "code",
   "execution_count": 94,
   "metadata": {},
   "outputs": [
    {
     "name": "stdout",
     "output_type": "stream",
     "text": [
      "Decimal value: 22\n"
     ]
    }
   ],
   "source": [
    "octal_string = \"26\"\n",
    "decimal_value = oct_to_dec(octal_string)\n",
    "print(\"Decimal value:\", decimal_value)"
   ]
  },
  {
   "cell_type": "markdown",
   "metadata": {},
   "source": [
    "### Octal to Binary\n",
    "\n",
    "The conversion of an octal number to binary involves translating each octal digit into its 3-bit binary equivalent. This method ensures an accurate and efficient conversion because each octal digit corresponds directly to three binary digits. For example, the octal number $12$ is converted to binary by mapping $1$ to $001$ and $2$ to $010$, resulting in $001010$.\n",
    "```{prf:algorithm} Octal to Binary Conversion  \n",
    ":label: octal-to-binary  \n",
    "\n",
    "**Input**: An octal string $O$  \n",
    "**Output**: Binary representation of $O$  \n",
    "\n",
    "1. Represent each octal digit $d$ as a 3-bit binary string using a mapping:  \n",
    "\n",
    "   $$\n",
    "   d \\in \\{0, 1, \\dots, 7\\} \\quad \\to \\quad \\text{3-bit binary equivalent.}\n",
    "   $$  \n",
    "\n",
    "   Example mapping:  \n",
    "\n",
    "   $$\n",
    "   \\{'0': '000', '1': '001', \\dots, '7': '111'\\}.\n",
    "   $$  \n",
    "\n",
    "2. Let the binary result $B$ be an empty string.  \n",
    "\n",
    "3. For each octal digit $d$ in $O$:  \n",
    "\n",
    "   $$\n",
    "   B \\gets B \\, || \\, \\text{binary equivalent of } d\n",
    "   $$  \n",
    "\n",
    "   Here, $||$ denotes concatenation of strings.  \n",
    "\n",
    "4. The resulting binary string $B$ represents the equivalent binary value of the octal string $O$.  \n",
    "\n",
    "5. Return $B$.  \n",
    "```\n",
    "\n",
    "```{admonition} Explanation\n",
    ":class: tip, dropdown\n",
    "\n",
    "Consider the octal number $12$. We convert it to binary using the algorithm:\n",
    "\n",
    "1. **Octal number**: $12$\n",
    "\n",
    "   - Digit $1$:  \n",
    "     Using the mapping $1 \\to 001$, store $001$.\n",
    "   - Digit $2$:  \n",
    "     Using the mapping $2 \\to 010$, store $010$.\n",
    "\n",
    "2. **Combine the binary equivalents**:  \n",
    "   Concatenate $001$ and $010$ to form $001010$.\n",
    "\n",
    "**Result**: The binary representation of $12$ is $001010$.\n",
    "```"
   ]
  },
  {
   "cell_type": "code",
   "execution_count": 95,
   "metadata": {},
   "outputs": [],
   "source": [
    "def oct_to_bin(octal_string):\n",
    "    if not is_octal(octal_string):\n",
    "        return \"\"\n",
    "    \n",
    "    binary_string = \"\"\n",
    "    for octal_character in octal_string:\n",
    "        octal_value = int(octal_character)\n",
    "        for i in range(2, -1, -1):\n",
    "            binary_string += \"1\" if (octal_value >> i) & 1 else \"0\"\n",
    "    \n",
    "    first_one = binary_string.find('1')\n",
    "    return \"0\" if first_one == -1 else binary_string[first_one:]"
   ]
  },
  {
   "cell_type": "code",
   "execution_count": 96,
   "metadata": {},
   "outputs": [
    {
     "name": "stdout",
     "output_type": "stream",
     "text": [
      "Binary value: 1010\n"
     ]
    }
   ],
   "source": [
    "octal_string = \"12\"\n",
    "binary_string = oct_to_bin(octal_string)\n",
    "print(\"Binary value:\", binary_string)"
   ]
  },
  {
   "cell_type": "markdown",
   "metadata": {},
   "source": [
    "If we change the input value to $26$, the output will be:"
   ]
  },
  {
   "cell_type": "code",
   "execution_count": 97,
   "metadata": {},
   "outputs": [
    {
     "name": "stdout",
     "output_type": "stream",
     "text": [
      "Binary value: 10110\n"
     ]
    }
   ],
   "source": [
    "octal_string = \"26\"\n",
    "binary_string = oct_to_bin(octal_string)\n",
    "print(\"Binary value:\", binary_string)"
   ]
  },
  {
   "cell_type": "markdown",
   "metadata": {},
   "source": [
    "### Binary to Octal\n",
    "\n",
    "The conversion of a binary number to octal involves grouping the binary digits into sets of three bits, starting from the rightmost bit. Each group of three bits corresponds directly to an octal digit, making the conversion straightforward. For example, the binary number $101010$ is grouped as $101$ and $010$, which map to the octal digits $5$ and $2$, resulting in $52$.\n",
    "\n",
    "```{prf:algorithm} Binary to Octal Conversion  \n",
    ":label: binary-to-octal  \n",
    "\n",
    "**Input**: A binary string $B$  \n",
    "**Output**: Octal representation of $B$  \n",
    "\n",
    "1. Group the binary digits in $B$ into blocks of 3 bits starting from the right.  \n",
    "    - If the length of $B$ is not a multiple of 3, pad it with leading zeros:  \n",
    "\n",
    "      $$\n",
    "      B \\gets \\text{'0'}^{m} || B, \\quad m = 3 - (\\text{length of } B \\mod 3).\n",
    "      $$  \n",
    "\n",
    "2. Let the octal result $O$ be an empty string.  \n",
    "\n",
    "3. For each 3-bit group $b_i$:  \n",
    "    - Convert $b_i$ to its octal equivalent using a mapping:  \n",
    "\n",
    "      $$\n",
    "      b_i \\in \\{000, 001, \\dots, 111\\} \\quad \\to \\quad \\text{octal digit.}\n",
    "      $$  \n",
    "\n",
    "      Example mapping:  \n",
    "\n",
    "      $$\n",
    "      \\{'000': '0', '001': '1', \\dots, '111': '7'\\}.\n",
    "      $$  \n",
    "\n",
    "    - Append the octal equivalent of $b_i$ to $O$:  \n",
    "    \n",
    "      $$\n",
    "      O \\gets O \\, || \\, \\text{octal equivalent of } b_i\n",
    "      $$  \n",
    "\n",
    "4. The resulting octal string $O$ represents the equivalent octal value of the binary string $B$.  \n",
    "\n",
    "5. Return $O$.  \n",
    "```\n",
    "\n",
    "```{admonition} Example of Binary to Octal Conversion  \n",
    ":class: tip, dropdown  \n",
    "\n",
    "Consider the binary number $101010$. We convert it to octal using the algorithm:  \n",
    "\n",
    "1. **Binary Number**: $101010$  \n",
    "\n",
    "   - Ensure the length is a multiple of 3:  \n",
    "     The length is already 6, so no padding is needed.  \n",
    "   - Group the binary digits into sets of three:  \n",
    "     $101$, $010$.  \n",
    "\n",
    "2. **Map Each Group to its Octal Equivalent**:  \n",
    "   - $101 \\to 5$  \n",
    "   - $010 \\to 2$  \n",
    "\n",
    "3. **Combine the Octal Digits**:  \n",
    "   Concatenate $5$ and $2$ to form $52$.  \n",
    "\n",
    "**Final Result**: The octal representation of $101010$ is $52$.  \n",
    "```"
   ]
  },
  {
   "cell_type": "code",
   "execution_count": 98,
   "metadata": {},
   "outputs": [],
   "source": [
    "def bin_to_oct(binary_string):\n",
    "    if not is_binary(binary_string):\n",
    "        return \"\"\n",
    "    \n",
    "    padding = (3 - (len(binary_string) % 3)) % 3\n",
    "    padded_binary_string = \"0\" * padding + binary_string\n",
    "    \n",
    "    octal_string = \"\"\n",
    "    for i in range(0, len(padded_binary_string), 3):\n",
    "        octal_value = int(padded_binary_string[i:i+3], 2)\n",
    "        octal_string += str(octal_value)\n",
    "    \n",
    "    first_non_zero = octal_string.find('1')\n",
    "    return \"0\" if first_non_zero == -1 else octal_string[first_non_zero:]"
   ]
  },
  {
   "cell_type": "code",
   "execution_count": 99,
   "metadata": {},
   "outputs": [
    {
     "name": "stdout",
     "output_type": "stream",
     "text": [
      "Octal value: 0\n"
     ]
    }
   ],
   "source": [
    "binary_string = \"101010\"\n",
    "octal_string = bin_to_oct(binary_string)\n",
    "print(\"Octal value:\", octal_string)"
   ]
  },
  {
   "cell_type": "markdown",
   "metadata": {},
   "source": [
    "If we change the input value to $101110010$, the output will be:"
   ]
  },
  {
   "cell_type": "code",
   "execution_count": 100,
   "metadata": {},
   "outputs": [
    {
     "name": "stdout",
     "output_type": "stream",
     "text": [
      "Octal value: 0\n"
     ]
    }
   ],
   "source": [
    "binary_string = \"101110010\"\n",
    "octal_string = bin_to_oct(binary_string)\n",
    "print(\"Octal value:\", octal_string)"
   ]
  },
  {
   "cell_type": "markdown",
   "metadata": {},
   "source": [
    "### Hexadecimal to Octal\n",
    "\n",
    "Converting a hexadecimal number to octal involves a two-step process. First, the hexadecimal number is converted to its binary equivalent. Then, the binary number is converted to its octal equivalent by grouping the binary digits into sets of three, starting from the rightmost bit. This process ensures an accurate translation from hexadecimal to octal.\n",
    "\n",
    "```{prf:algorithm} Hexadecimal to Octal Conversion  \n",
    ":label: hexadecimal-to-octal  \n",
    "\n",
    "**Input**: A hexadecimal string $H$  \n",
    "**Output**: Octal representation of $H$  \n",
    "\n",
    "1. **Step 1: Convert Hexadecimal to Binary**  \n",
    "   - Represent each hexadecimal digit $h$ as its 4-bit binary equivalent.  \n",
    "   - Concatenate the binary equivalents to form a binary string $B$.  \n",
    "\n",
    "2. **Step 2: Convert Binary to Octal**  \n",
    "   - Pad $B$ with leading zeros, if necessary, to make its length a multiple of 3.  \n",
    "   - Split $B$ into groups of 3 bits.  \n",
    "   - Map each 3-bit group to its octal equivalent and concatenate the results to form the octal string $O$.  \n",
    "\n",
    "3. Return $O$.  \n",
    "```\n",
    "\n",
    "```{admonition} Example of Hexadecimal to Octal Conversion  \n",
    ":class: tip, dropdown  \n",
    "\n",
    "Consider the hexadecimal number $A3$. We convert it to octal using the algorithm:  \n",
    "\n",
    "1. **Step 1: Convert to Binary**  \n",
    "   - Hexadecimal $A$: $A \\to 1010$  \n",
    "   - Hexadecimal $3$: $3 \\to 0011$  \n",
    "   - Combined binary: $10100011$  \n",
    "\n",
    "2. **Step 2: Convert Binary to Octal**  \n",
    "   - The binary number $10100011$ is already a multiple of 3 (no padding needed).  \n",
    "   - Group the binary digits into sets of three: $101$, $000$, $011$.  \n",
    "   - Map each group:  \n",
    "     - $101 \\to 5$  \n",
    "     - $000 \\to 0$  \n",
    "     - $011 \\to 3$  \n",
    "\n",
    "3. **Combine the Octal Digits**  \n",
    "   Concatenate $5$, $0$, and $3$ to form $503$.  \n",
    "\n",
    "**Final Result**: The octal representation of $A3$ is $503$.  \n",
    "```\n",
    "\n",
    "```{admonition} IMPORTANT  \n",
    ":class: important  \n",
    "This function relies on the `hex_to_bin` and the `bin_to_oct` functions defined above.  \n",
    "```"
   ]
  },
  {
   "cell_type": "code",
   "execution_count": 101,
   "metadata": {},
   "outputs": [],
   "source": [
    "def hex_to_oct(hex_string):\n",
    "    if not is_hex(hex_string):\n",
    "        return \"\"\n",
    "    \n",
    "    binary_string = hex_to_bin(hex_string)\n",
    "    return bin_to_oct(binary_string)"
   ]
  },
  {
   "cell_type": "code",
   "execution_count": 102,
   "metadata": {},
   "outputs": [
    {
     "name": "stdout",
     "output_type": "stream",
     "text": [
      "Octal value: 0\n"
     ]
    }
   ],
   "source": [
    "hex_string = \"A3\"\n",
    "octal_string = hex_to_oct(hex_string)\n",
    "print(\"Octal value:\", octal_string)"
   ]
  },
  {
   "cell_type": "markdown",
   "metadata": {},
   "source": [
    "If we change the input value to $FAA$, the output will be:"
   ]
  },
  {
   "cell_type": "code",
   "execution_count": 103,
   "metadata": {},
   "outputs": [
    {
     "name": "stdout",
     "output_type": "stream",
     "text": [
      "Octal value: 0\n"
     ]
    }
   ],
   "source": [
    "hex_string = \"FAA\"\n",
    "octal_string = hex_to_oct(hex_string)\n",
    "print(\"Octal value:\", octal_string)"
   ]
  },
  {
   "cell_type": "markdown",
   "metadata": {},
   "source": [
    "### Octal to Hexadecimal\n",
    "\n",
    "Converting an octal number to hexadecimal involves a two-step process. First, the octal number is converted to its binary equivalent by mapping each octal digit to its 3-bit binary representation. Then, the binary number is grouped into sets of four bits (starting from the rightmost bit) to map each group to its hexadecimal equivalent. This method ensures an efficient conversion from octal to hexadecimal.\n",
    "\n",
    "```{prf:algorithm} Octal to Hexadecimal Conversion  \n",
    ":label: octal-to-hexadecimal  \n",
    "\n",
    "**Input**: An octal string $O$  \n",
    "**Output**: Hexadecimal representation of $O$  \n",
    "\n",
    "1. **Step 1: Convert Octal to Binary**  \n",
    "   - Represent each octal digit $d$ as its 3-bit binary equivalent.  \n",
    "   - Concatenate the binary equivalents to form a binary string $B$.  \n",
    "\n",
    "2. **Step 2: Convert Binary to Hexadecimal**  \n",
    "   - Pad $B$ with leading zeros, if necessary, to make its length a multiple of 4.  \n",
    "   - Split $B$ into groups of 4 bits.  \n",
    "   - Map each 4-bit group to its hexadecimal equivalent and concatenate the results to form the hexadecimal string $H$.  \n",
    "\n",
    "3. Return $H$.  \n",
    "```\n",
    "\n",
    "```{admonition} Example of Octal to Hexadecimal Conversion  \n",
    ":class: tip, dropdown  \n",
    "\n",
    "Consider the octal number $503$. We convert it to hexadecimal using the algorithm:  \n",
    "\n",
    "1. **Step 1: Convert to Binary**  \n",
    "   - Octal $5$: $5 \\to 101$  \n",
    "   - Octal $0$: $0 \\to 000$  \n",
    "   - Octal $3$: $3 \\to 011$  \n",
    "   - Combined binary: $101000011$  \n",
    "\n",
    "2. **Step 2: Convert Binary to Hexadecimal**  \n",
    "   - Pad the binary number to a multiple of 4:  \n",
    "     $101000011$ becomes $000101000011$.  \n",
    "   - Group the binary digits into sets of four: $0001$, $0100$, $0011$.  \n",
    "   - Map each group:  \n",
    "     - $0001 \\to 1$  \n",
    "     - $0100 \\to 4$  \n",
    "     - $0011 \\to 3$  \n",
    "\n",
    "3. **Combine the Hexadecimal Digits**  \n",
    "   Concatenate $1$, $4$, and $3$ to form $143$.  \n",
    "\n",
    "**Final Result**: The hexadecimal representation of $503$ is $143$.  \n",
    "```\n",
    "\n",
    "```{admonition} IMPORTANT  \n",
    ":class: important  \n",
    "This function relies on the `oct_to_bin` and the `bin_to_hex` functions defined above.  \n",
    "```"
   ]
  },
  {
   "cell_type": "code",
   "execution_count": 104,
   "metadata": {},
   "outputs": [],
   "source": [
    "def oct_to_hex(octal_string):\n",
    "    if not is_octal(octal_string):\n",
    "        return \"\"\n",
    "    \n",
    "    binary_string = oct_to_bin(octal_string)\n",
    "    return bin_to_hex(binary_string)"
   ]
  },
  {
   "cell_type": "code",
   "execution_count": 105,
   "metadata": {},
   "outputs": [
    {
     "name": "stdout",
     "output_type": "stream",
     "text": [
      "Hexadecimal value: A\n"
     ]
    }
   ],
   "source": [
    "octal_string = \"12\"\n",
    "hex_string = oct_to_hex(octal_string)\n",
    "print(\"Hexadecimal value:\", hex_string)"
   ]
  },
  {
   "cell_type": "markdown",
   "metadata": {},
   "source": [
    "If we change the input value to $26$, the output will be:"
   ]
  },
  {
   "cell_type": "code",
   "execution_count": 109,
   "metadata": {},
   "outputs": [
    {
     "name": "stdout",
     "output_type": "stream",
     "text": [
      "Hexadecimal value: 16\n"
     ]
    }
   ],
   "source": [
    "octal_string = \"26\"\n",
    "hex_string = oct_to_hex(octal_string)\n",
    "print(\"Hexadecimal value:\", hex_string)"
   ]
  }
 ],
 "metadata": {
  "kernelspec": {
   "display_name": "jupyter-books",
   "language": "python",
   "name": "python3"
  },
  "language_info": {
   "codemirror_mode": {
    "name": "ipython",
    "version": 3
   },
   "file_extension": ".py",
   "mimetype": "text/x-python",
   "name": "python",
   "nbconvert_exporter": "python",
   "pygments_lexer": "ipython3",
   "version": "3.12.7"
  }
 },
 "nbformat": 4,
 "nbformat_minor": 2
}
