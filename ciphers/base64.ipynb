{
 "cells": [
  {
   "cell_type": "markdown",
   "metadata": {},
   "source": [
    "# Base64"
   ]
  },
  {
   "cell_type": "code",
   "execution_count": null,
   "metadata": {},
   "outputs": [],
   "source": [
    "BASE64_CHARS = \"ABCDEFGHIJKLMNOPQRSTUVWXYZabcdefghijklmnopqrstuvwxyz0123456789+/\""
   ]
  },
  {
   "cell_type": "code",
   "execution_count": null,
   "metadata": {},
   "outputs": [],
   "source": [
    "def base64_encode(input_string):\n",
    "    encoded_string = \"\"\n",
    "    value = 0\n",
    "    bits = -6\n",
    "    base64_mask = 0x3F\n",
    "\n",
    "    for character in input_string.encode():\n",
    "        value = (value << 8) + character\n",
    "        bits += 8\n",
    "\n",
    "        while bits >= 0:\n",
    "            encoded_string += BASE64_CHARS[(value >> bits) & base64_mask]\n",
    "            bits -= 6\n",
    "    \n",
    "    if bits > -6:\n",
    "        encoded_string += BASE64_CHARS[((value << 8) >> (bits + 8)) & base64_mask]\n",
    "    \n",
    "    while len(encoded_string) % 4:\n",
    "        encoded_string += \"=\"\n",
    "    \n",
    "    return encoded_string"
   ]
  },
  {
   "cell_type": "code",
   "execution_count": null,
   "metadata": {},
   "outputs": [],
   "source": [
    "def base64_decode(input_string):\n",
    "    decoded_string = bytearray()\n",
    "    value = 0\n",
    "    bits = -8\n",
    "\n",
    "    for character in input_string:\n",
    "        if character not in BASE64_CHARS:\n",
    "            if character == \"=\":\n",
    "                break\n",
    "            continue\n",
    "        \n",
    "        value = (value << 6) + BASE64_CHARS.index(character)\n",
    "        bits += 6\n",
    "\n",
    "        if bits >= 0:\n",
    "            decoded_string.append((value >> bits) & 0xFF)\n",
    "            bits -= 8\n",
    "    \n",
    "    return decoded_string.decode()"
   ]
  }
 ],
 "metadata": {
  "kernelspec": {
   "display_name": "jupyter-books",
   "language": "python",
   "name": "python3"
  },
  "language_info": {
   "name": "python",
   "version": "3.12.7"
  }
 },
 "nbformat": 4,
 "nbformat_minor": 2
}
