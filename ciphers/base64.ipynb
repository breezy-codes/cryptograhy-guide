{
 "cells": [
  {
   "cell_type": "markdown",
   "metadata": {},
   "source": [
    "# **Base64 Encoding and Decoding**\n",
    "\n",
    "Base64 encoding is a method used to convert binary data into an ASCII string format by translating it into a radix-64 representation. This is particularly useful for encoding data that needs to be stored and transferred over media that are designed to deal with textual data. Base64 ensures that the data remains intact without modification during transport.\n",
    "\n",
    "When using Base64, you need to define the characters used in the encoding process. This can be done with:\n",
    "\n",
    "```shell\n",
    "const string BASE64_CHARS = \"ABCDEFGHIJKLMNOPQRSTUVWXYZabcdefghijklmnopqrstuvwxyz0123456789+/\";\n",
    "```"
   ]
  },
  {
   "cell_type": "markdown",
   "metadata": {},
   "source": [
    "## Encoding with Base64\n",
    "\n",
    "Encoding data with Base64 involves converting the input data into a sequence of characters from the Base64 character set. This process ensures that the data can be safely transmitted over text-based protocols such as HTTP or email. The following code shows how you can implement Base64 encoding to convert a message into a Base64-encoded string.\n",
    "\n",
    "```{admonition} Interesting Fact\n",
    ":class: tip\n",
    "The Base64-encoded message is padded with `=` characters to ensure that the length is a multiple of 4.\n",
    "```"
   ]
  },
  {
   "cell_type": "code",
   "execution_count": 1,
   "metadata": {},
   "outputs": [],
   "source": [
    "def base64_encode(input_string):\n",
    "    BASE64_CHARS = \"ABCDEFGHIJKLMNOPQRSTUVWXYZabcdefghijklmnopqrstuvwxyz0123456789+/\"\n",
    "    encoded_string = \"\"\n",
    "    value = 0\n",
    "    bits = -6\n",
    "    base64_mask = 0x3F\n",
    "\n",
    "    for character in input_string.encode():\n",
    "        value = (value << 8) + character\n",
    "        bits += 8\n",
    "\n",
    "        while bits >= 0:\n",
    "            encoded_string += BASE64_CHARS[(value >> bits) & base64_mask]\n",
    "            bits -= 6\n",
    "    \n",
    "    if bits > -6:\n",
    "        encoded_string += BASE64_CHARS[((value << 8) >> (bits + 8)) & base64_mask]\n",
    "    \n",
    "    while len(encoded_string) % 4:\n",
    "        encoded_string += \"=\"\n",
    "    \n",
    "    return encoded_string"
   ]
  },
  {
   "cell_type": "code",
   "execution_count": 2,
   "metadata": {},
   "outputs": [
    {
     "name": "stdout",
     "output_type": "stream",
     "text": [
      "Original: Hello, World!\n",
      "Encoded: SGVsbG8sIFdvcmxkIQ==\n"
     ]
    }
   ],
   "source": [
    "message = \"Hello, World!\"\n",
    "encoded_message = base64_encode(message)\n",
    "print(f\"Original: {message}\")\n",
    "print(f\"Encoded: {encoded_message}\")"
   ]
  },
  {
   "cell_type": "markdown",
   "metadata": {},
   "source": [
    "## Decoding with Base64\n",
    "\n",
    "Decoding Base64 data involves converting the encoded string back into its original binary form. This process is essential for retrieving the original data after it has been encoded using Base64. The following code shows how you can implement Base64 decoding to convert a Base64-encoded string back into its original form."
   ]
  },
  {
   "cell_type": "code",
   "execution_count": 3,
   "metadata": {},
   "outputs": [],
   "source": [
    "def base64_decode(input_string):\n",
    "    BASE64_CHARS = \"ABCDEFGHIJKLMNOPQRSTUVWXYZabcdefghijklmnopqrstuvwxyz0123456789+/\"\n",
    "    decoded_string = bytearray()\n",
    "    value = 0\n",
    "    bits = -8\n",
    "\n",
    "    for character in input_string:\n",
    "        if character not in BASE64_CHARS:\n",
    "            if character == \"=\":\n",
    "                break\n",
    "            continue\n",
    "        \n",
    "        value = (value << 6) + BASE64_CHARS.index(character)\n",
    "        bits += 6\n",
    "\n",
    "        if bits >= 0:\n",
    "            decoded_string.append((value >> bits) & 0xFF)\n",
    "            bits -= 8\n",
    "    \n",
    "    return decoded_string.decode()"
   ]
  },
  {
   "cell_type": "code",
   "execution_count": 4,
   "metadata": {},
   "outputs": [
    {
     "name": "stdout",
     "output_type": "stream",
     "text": [
      "Encoded: SGVsbG8sIFdvcmxkIQ==\n",
      "Decoded: Hello, World!\n"
     ]
    }
   ],
   "source": [
    "encoded_message = \"SGVsbG8sIFdvcmxkIQ==\"\n",
    "decoded_message = base64_decode(encoded_message)\n",
    "print(f\"Encoded: {encoded_message}\")\n",
    "print(f\"Decoded: {decoded_message}\")"
   ]
  }
 ],
 "metadata": {
  "kernelspec": {
   "display_name": "jupyter-books",
   "language": "python",
   "name": "python3"
  },
  "language_info": {
   "codemirror_mode": {
    "name": "ipython",
    "version": 3
   },
   "file_extension": ".py",
   "mimetype": "text/x-python",
   "name": "python",
   "nbconvert_exporter": "python",
   "pygments_lexer": "ipython3",
   "version": "3.12.7"
  }
 },
 "nbformat": 4,
 "nbformat_minor": 2
}
