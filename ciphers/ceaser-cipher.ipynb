{
 "cells": [
  {
   "cell_type": "markdown",
   "metadata": {},
   "source": [
    "# **Ceaser Cipher**\n",
    "\n",
    "The Caesar cipher is a type of substitution cipher in which each letter in the plaintext is shifted a certain number of places down the alphabet. For example, with a shift of $1$, $A$ would be replaced by $B$, $B$ would become $C$, and so on. The method is named after Julius Caesar, who used it to communicate with his officials.\n",
    "\n",
    "- The encryption can be represented using modular arithmetic by first transforming the letters into numbers, according to the scheme: $A = 0$, $B = 1$, $\\ldots$, $Z = 25$.\n",
    "- Encryption of a letter $x$ by a shift $k$ can be described mathematically as:\n",
    "\n",
    "$$\n",
    "E(x) = (x + k) \\mod 26\n",
    "$$"
   ]
  },
  {
   "cell_type": "markdown",
   "metadata": {},
   "source": [
    "```{prf:algorithm} Caesar Cipher Input\n",
    ":label: alg-caesar-input\n",
    "\n",
    "**Input:**\n",
    "- Plaintext message $M$.\n",
    "- Shift value $k$.\n",
    "\n",
    "**Transformation of Letters to Numbers**\n",
    "\n",
    "1. **Assign Numbers to Letters:**\n",
    "    - Each letter in the alphabet is assigned a number:\n",
    "\n",
    "    $$\n",
    "    \\begin{aligned}\n",
    "    A & = 0, \\\\\n",
    "    B & = 1, \\\\\n",
    "    \\vdots \\\\\n",
    "    Z & = 25.\n",
    "    \\end{aligned}\n",
    "    $$\n",
    "\n",
    "```\n",
    "\n",
    "```{admonition} Explanation\n",
    ":class: tip, dropdown\n",
    "\n",
    "**Transformation of Letters to Numbers:**\n",
    "\n",
    "- The first step in both encryption and decryption is to convert letters into numbers. Each letter is assigned a number from 0 to 25 (A=0, B=1, ..., Z=25).\n",
    "```\n",
    "\n",
    "\n",
    "```{prf:algorithm} Caesar Cipher Encryption\n",
    ":label: alg-caesar-encryption\n",
    "\n",
    "**Encryption Process**\n",
    "- Given a plaintext letter $x$ (where $x$ is its corresponding number), and a shift $k$, the encryption function $E(x)$ shifts the letter $x$ by $k$ positions down the alphabet:\n",
    "\n",
    "$$\n",
    "E(x) = (x + k) \\mod 26\n",
    "$$\n",
    "\n",
    "- Example: If $x = 0$ (corresponding to $A$) and $k = 3$, then:\n",
    "    \n",
    "$$\n",
    "E(0) = (0 + 3) \\mod 26 = 3\n",
    "$$\n",
    "\n",
    "- The number 3 corresponds to the letter $D$, so $A$ encrypted with a shift of 3 becomes $D$.\n",
    "\n",
    "```\n",
    "\n",
    "```{admonition} Explanation\n",
    ":class: tip, dropdown\n",
    "\n",
    "**Encryption Process:**\n",
    "\n",
    "- Given a plaintext letter $x$ (represented as a number) and a shift $k$, the encryption function $E(x)$ shifts the letter $x$ by $k$ positions down the alphabet. This is expressed mathematically as:\n",
    "\n",
    "$$\n",
    "E(x) = (x + k) \\mod 26\n",
    "$$\n",
    "\n",
    "- Example: If we want to encrypt the letter 'A' (x=0) with a shift of 3 (k=3), the calculation would be:\n",
    "$$\n",
    "E(0) = (0 + 3) \\mod 26 = 3\n",
    "$$\n",
    "\n",
    "- The result, 3, corresponds to the letter 'D'. Therefore, 'A' encrypted with a shift of 3 becomes 'D'.\n",
    "```\n",
    "\n",
    "```{prf:algorithm} Caesar Cipher Decryption\n",
    ":label: alg-caesar-decryption\n",
    "\n",
    "**Decryption Process**\n",
    "\n",
    "- To decrypt a letter $y$ (the encrypted letter) with a known shift $k$, the decryption function $D(y)$ shifts the letter $y$ back by $k$ positions up the alphabet:\n",
    "\n",
    "$$\n",
    "D(y) = (y - k) \\mod 26\n",
    "$$\n",
    "\n",
    "- Example: If $y = 3$ (corresponding to $D$) and $k = 3$, then:\n",
    "\n",
    "$$\n",
    "D(3) = (3 - 3) \\mod 26 = 0\n",
    "$$\n",
    "\n",
    "- The number 0 corresponds to the letter $A$, so $D$ decrypted with a shift of 3 becomes $A$.\n",
    "```\n",
    "\n",
    "```{admonition} Explanation\n",
    ":class: tip, dropdown\n",
    "\n",
    "**Decryption Process:**\n",
    "\n",
    "- To decrypt a letter $y$ (represented as a number) with a known shift $k$, the decryption function $D(y)$ shifts the letter $y$ back by $k$ positions up the alphabet. This is expressed mathematically as:\n",
    "\n",
    "$$\n",
    "D(y) = (y - k) \\mod 26\n",
    "$$\n",
    "\n",
    "- Example: If we want to decrypt the letter 'D' (y=3) with a shift of 3 (k=3), the calculation would be:\n",
    "$$\n",
    "D(3) = (3 - 3) \\mod 26 = 0\n",
    "$$\n",
    "\n",
    "- The result, 0, corresponds to the letter 'A'. Therefore, 'D' decrypted with a shift of 3 becomes 'A'.\n",
    "```\n",
    "\n",
    "The Caesar cipher is easy to understand and implement but is also easy to break. It’s named after Julius Caesar, who used it for military communication. Despite its simplicity, it demonstrates the basic principles of substitution ciphers and modular arithmetic."
   ]
  },
  {
   "cell_type": "markdown",
   "metadata": {},
   "source": [
    "## **Ceaser Cipher Algorithm**"
   ]
  },
  {
   "cell_type": "markdown",
   "metadata": {},
   "source": [
    "The following functions are used in the algorithm:\n",
    "- `ceaser_cipher_encrypt`: Encrypts the given text using the Caesar cipher with the specified shift value.\n",
    "- `ceaser_cipher_decrypt`: Decrypts the given text using the Caesar cipher with the specified shift value.\n",
    "- `ceaser_cipher_brute_force`: Brute forces the Caesar cipher by decrypting the given text for all possible shift values.\n",
    "- `ceaser_cipher`: Runs the calculation for the Caesar cipher algorithm and outputs the encrypted and decrypted text."
   ]
  },
  {
   "cell_type": "code",
   "execution_count": 2,
   "metadata": {
    "ExecuteTime": {
     "end_time": "2024-06-27T05:25:06.263565Z",
     "start_time": "2024-06-27T05:25:06.203464Z"
    },
    "scrolled": false,
    "tags": [
     "hide-input"
    ]
   },
   "outputs": [],
   "source": [
    "import random\n",
    "import faker"
   ]
  },
  {
   "cell_type": "code",
   "execution_count": 3,
   "metadata": {
    "ExecuteTime": {
     "end_time": "2024-06-27T05:25:11.572673Z",
     "start_time": "2024-06-27T05:25:11.568606Z"
    },
    "scrolled": false
   },
   "outputs": [],
   "source": [
    "def caesar_cipher_encrypt(plaintext, shift):\n",
    "    ciphertext = \"\"\n",
    "    for c in plaintext:\n",
    "        if c.isalpha():\n",
    "            if c.islower():\n",
    "                ciphertext += chr((ord(c) - ord('a') + shift) % 26 + ord('a'))\n",
    "            else:\n",
    "                ciphertext += chr((ord(c) - ord('A') + shift) % 26 + ord('A'))\n",
    "        else:\n",
    "            ciphertext += c\n",
    "    return ciphertext"
   ]
  },
  {
   "cell_type": "code",
   "execution_count": 4,
   "metadata": {
    "ExecuteTime": {
     "end_time": "2024-06-27T05:25:12.748264Z",
     "start_time": "2024-06-27T05:25:12.745385Z"
    },
    "scrolled": false
   },
   "outputs": [],
   "source": [
    "def caesar_cipher_decrypt(ciphertext, shift):\n",
    "    return caesar_cipher_encrypt(ciphertext, -shift)"
   ]
  },
  {
   "cell_type": "code",
   "execution_count": 5,
   "metadata": {
    "ExecuteTime": {
     "end_time": "2024-06-27T05:25:13.397995Z",
     "start_time": "2024-06-27T05:25:13.395009Z"
    },
    "scrolled": false
   },
   "outputs": [],
   "source": [
    "def ceaser_cipher_brute_force(ciphertext):\n",
    "    print(f\"The encrypted message is: {ciphertext}\")\n",
    "    for shift in range(26):\n",
    "        plaintext = caesar_cipher_decrypt(ciphertext, shift)      \n",
    "        print(f\"Shift: {shift} => {plaintext}\")"
   ]
  },
  {
   "cell_type": "code",
   "execution_count": 6,
   "metadata": {
    "ExecuteTime": {
     "end_time": "2024-06-27T05:25:14.124807Z",
     "start_time": "2024-06-27T05:25:14.121072Z"
    },
    "scrolled": false
   },
   "outputs": [],
   "source": [
    "# Function to do the whole cipher messages\n",
    "def caesar_cipher(plaintext, shift):\n",
    "    print(f\"The shift is: {shift}\")\n",
    "    print(f\"Original Message: {plaintext}\")\n",
    "    ciphertext = caesar_cipher_encrypt(plaintext, shift)\n",
    "    print(f\"Encrypted Message: {ciphertext}\")\n",
    "    plaintext = caesar_cipher_decrypt(ciphertext, shift)\n",
    "    print(f\"Decrypted Message: {plaintext}\") "
   ]
  },
  {
   "cell_type": "markdown",
   "metadata": {},
   "source": [
    "## **Ceaser Cipher Example**\n",
    "\n",
    "---"
   ]
  },
  {
   "cell_type": "markdown",
   "metadata": {},
   "source": [
    "### Example 1: Encryption and Decryption of a Message"
   ]
  },
  {
   "cell_type": "code",
   "execution_count": 14,
   "metadata": {
    "scrolled": false
   },
   "outputs": [
    {
     "name": "stdout",
     "output_type": "stream",
     "text": [
      "The shift is: 22\n",
      "Original Message: Hello World!\n",
      "Encrypted Message: Dahhk Sknhz!\n",
      "Decrypted Message: Hello World!\n"
     ]
    }
   ],
   "source": [
    "shift = random.randint(1, 25)\n",
    "plaintext = \"Hello World!\"\n",
    "caesar_cipher(plaintext, shift)"
   ]
  },
  {
   "cell_type": "markdown",
   "metadata": {},
   "source": [
    "```{admonition} Explanation of the Shift\n",
    ":class: tip, dropdown\n",
    "\n",
    "Given a shift of $22$, let's see how the encryption and decryption work mathematically.\n",
    "\n",
    "**Encryption:**\n",
    "For the letter $H$ (which corresponds to 7):\n",
    "\n",
    "$$\n",
    "E(7) = (7 + 22) \\mod 26 = 29 \\mod 26 = 3\n",
    "$$\n",
    "\n",
    "The number 3 corresponds to the letter $D$.\n",
    "\n",
    "For the letter $e$ (which corresponds to 4):\n",
    "\n",
    "$$\n",
    "E(4) = (4 + 22) \\mod 26 = 26 \\mod 26 = 0\n",
    "$$\n",
    "\n",
    "The number 0 corresponds to the letter $A$.\n",
    "\n",
    "**Decryption:**\n",
    "For the letter $D$ (which corresponds to 3):\n",
    "\n",
    "$$\n",
    "D(3) = (3 - 22) \\mod 26 = -19 \\mod 26 = 7\n",
    "$$\n",
    "\n",
    "The number 7 corresponds to the letter $H$.\n",
    "\n",
    "For the letter $A$ (which corresponds to 0):\n",
    "\n",
    "$$\n",
    "D(0) = (0 - 22) \\mod 26 = -22 \\mod 26 = 4\n",
    "$$\n",
    "\n",
    "The number 4 corresponds to the letter $e$.\n",
    "\n",
    "So, with a shift of $22$, \"Hello World!\" becomes \"Dahhk Sknhz!\" upon encryption and reverts to \"Hello World!\" upon decryption.\n",
    "```"
   ]
  },
  {
   "cell_type": "markdown",
   "metadata": {},
   "source": [
    "### Example 2: Encryption and Decryption of a Message"
   ]
  },
  {
   "cell_type": "code",
   "execution_count": 8,
   "metadata": {
    "ExecuteTime": {
     "end_time": "2024-06-27T05:25:20.812311Z",
     "start_time": "2024-06-27T05:25:20.808653Z"
    }
   },
   "outputs": [
    {
     "name": "stdout",
     "output_type": "stream",
     "text": [
      "The shift is: 10\n",
      "Original Message: Hello World!\n",
      "Encrypted Message: Rovvy Gybvn!\n",
      "Decrypted Message: Hello World!\n"
     ]
    }
   ],
   "source": [
    "shift = random.randint(1, 25)\n",
    "plaintext = \"Hello World!\"\n",
    "caesar_cipher(plaintext, shift)"
   ]
  },
  {
   "cell_type": "markdown",
   "metadata": {},
   "source": [
    "```{admonition} Explanation of the Shift\n",
    ":class: tip, dropdown\n",
    "\n",
    "Given a shift of $10$, let's see how the encryption and decryption work mathematically.\n",
    "\n",
    "**Encryption:**\n",
    "For the letter $H$ (which corresponds to 7):\n",
    "\n",
    "$$\n",
    "E(7) = (7 + 10) \\mod 26 = 17 \\mod 26 = 17\n",
    "$$\n",
    "\n",
    "The number 17 corresponds to the letter $R$.\n",
    "\n",
    "For the letter $e$ (which corresponds to 4):\n",
    "\n",
    "$$\n",
    "E(4) = (4 + 10) \\mod 26 = 14 \\mod 26 = 14\n",
    "$$\n",
    "\n",
    "The number 14 corresponds to the letter $O$.\n",
    "\n",
    "**Decryption:**\n",
    "For the letter $R$ (which corresponds to 17):\n",
    "\n",
    "$$\n",
    "D(17) = (17 - 10) \\mod 26 = 7 \\mod 26 = 7\n",
    "$$\n",
    "\n",
    "The number 7 corresponds to the letter $H$.\n",
    "\n",
    "For the letter $O$ (which corresponds to 14):\n",
    "\n",
    "$$\n",
    "D(14) = (14 - 10) \\mod 26 = 4 \\mod 26 = 4\n",
    "$$\n",
    "\n",
    "The number 4 corresponds to the letter $e$.\n",
    "\n",
    "So, with a shift of $10$, \"Hello World!\" becomes \"Rovvy Gybvn!\" upon encryption and reverts to \"Hello World!\" upon decryption.\n",
    "```"
   ]
  },
  {
   "cell_type": "markdown",
   "metadata": {},
   "source": [
    "### Brute Force Attack on the Cipher"
   ]
  },
  {
   "cell_type": "code",
   "execution_count": 9,
   "metadata": {
    "ExecuteTime": {
     "end_time": "2024-06-27T05:25:46.727297Z",
     "start_time": "2024-06-27T05:25:46.723685Z"
    },
    "tags": [
     "scroll-output"
    ]
   },
   "outputs": [
    {
     "name": "stdout",
     "output_type": "stream",
     "text": [
      "The encrypted message is: Khoor Zruog!\n",
      "Shift: 0 => Khoor Zruog!\n",
      "Shift: 1 => Jgnnq Yqtnf!\n",
      "Shift: 2 => Ifmmp Xpsme!\n",
      "Shift: 3 => Hello World!\n",
      "Shift: 4 => Gdkkn Vnqkc!\n",
      "Shift: 5 => Fcjjm Umpjb!\n",
      "Shift: 6 => Ebiil Tloia!\n",
      "Shift: 7 => Dahhk Sknhz!\n",
      "Shift: 8 => Czggj Rjmgy!\n",
      "Shift: 9 => Byffi Qilfx!\n",
      "Shift: 10 => Axeeh Phkew!\n",
      "Shift: 11 => Zwddg Ogjdv!\n",
      "Shift: 12 => Yvccf Nficu!\n",
      "Shift: 13 => Xubbe Mehbt!\n",
      "Shift: 14 => Wtaad Ldgas!\n",
      "Shift: 15 => Vszzc Kcfzr!\n",
      "Shift: 16 => Uryyb Jbeyq!\n",
      "Shift: 17 => Tqxxa Iadxp!\n",
      "Shift: 18 => Spwwz Hzcwo!\n",
      "Shift: 19 => Rovvy Gybvn!\n",
      "Shift: 20 => Qnuux Fxaum!\n",
      "Shift: 21 => Pmttw Ewztl!\n",
      "Shift: 22 => Olssv Dvysk!\n",
      "Shift: 23 => Nkrru Cuxrj!\n",
      "Shift: 24 => Mjqqt Btwqi!\n",
      "Shift: 25 => Lipps Asvph!\n"
     ]
    }
   ],
   "source": [
    "ciphertext = \"Khoor Zruog!\"\n",
    "ceaser_cipher_brute_force(ciphertext)"
   ]
  },
  {
   "cell_type": "markdown",
   "metadata": {},
   "source": [
    "## **Examples with longer Messages**\n",
    "\n",
    "---"
   ]
  },
  {
   "cell_type": "markdown",
   "metadata": {},
   "source": [
    "The following function is introduced using the `faker` library to generate a random message. The function `generate_random_message` generates a random message with a specified length."
   ]
  },
  {
   "cell_type": "code",
   "execution_count": 31,
   "metadata": {
    "scrolled": false
   },
   "outputs": [],
   "source": [
    "def random_message():\n",
    "    fake = faker.Faker()\n",
    "    message = fake.text()\n",
    "    return message"
   ]
  },
  {
   "cell_type": "code",
   "execution_count": 32,
   "metadata": {
    "scrolled": false
   },
   "outputs": [
    {
     "name": "stdout",
     "output_type": "stream",
     "text": [
      "The shift is: 10\n",
      "Original Message: Only process those attention. Even college recent also. Toward evening size surface PM.\n",
      "Father second country social west partner maintain. Huge your song prove.\n",
      "Encrypted Message: Yxvi zbymocc dryco kddoxdsyx. Ofox myvvoqo bomoxd kvcy. Dygkbn ofoxsxq csjo cebpkmo ZW.\n",
      "Pkdrob comyxn myexdbi cymskv gocd zkbdxob wksxdksx. Reqo iyeb cyxq zbyfo.\n",
      "Decrypted Message: Only process those attention. Even college recent also. Toward evening size surface PM.\n",
      "Father second country social west partner maintain. Huge your song prove.\n"
     ]
    }
   ],
   "source": [
    "shift = random.randint(1, 25)\n",
    "plaintext = random_message()\n",
    "caesar_cipher(plaintext, shift)"
   ]
  },
  {
   "cell_type": "code",
   "execution_count": 33,
   "metadata": {
    "scrolled": true,
    "tags": [
     "scroll-output"
    ]
   },
   "outputs": [
    {
     "name": "stdout",
     "output_type": "stream",
     "text": [
      "The encrypted message is: Qbyg knevd zsomo myxcewob loxopsd. Xokbvi wyfso gkdmr kbok bokvvi nsppsmevd.\n",
      "Mvokb droi cdbkdoqi gri gsdr.\n",
      "Sxfyvfo drowcovfoc sxcsno kxn. Kxn pkmo ofobi qykv.\n",
      "Qy sxcdsdedsyx myxcewob vycc kbyexn.\n",
      "Shift: 0 => Qbyg knevd zsomo myxcewob loxopsd. Xokbvi wyfso gkdmr kbok bokvvi nsppsmevd.\n",
      "Mvokb droi cdbkdoqi gri gsdr.\n",
      "Sxfyvfo drowcovfoc sxcsno kxn. Kxn pkmo ofobi qykv.\n",
      "Qy sxcdsdedsyx myxcewob vycc kbyexn.\n",
      "Shift: 1 => Paxf jmduc yrnln lxwbdvna knwnorc. Wnjauh vxern fjclq janj anjuuh mroorlduc.\n",
      "Lunja cqnh bcajcnph fqh frcq.\n",
      "Rwexuen cqnvbnuenb rwbrmn jwm. Jwm ojln nenah pxju.\n",
      "Px rwbcrcdcrxw lxwbdvna uxbb jaxdwm.\n",
      "Shift: 2 => Ozwe ilctb xqmkm kwvacumz jmvmnqb. Vmiztg uwdqm eibkp izmi zmittg lqnnqkctb.\n",
      "Ktmiz bpmg abzibmog epg eqbp.\n",
      "Qvdwtdm bpmuamtdma qvaqlm ivl. Ivl nikm mdmzg owit.\n",
      "Ow qvabqbcbqwv kwvacumz twaa izwcvl.\n",
      "Shift: 3 => Nyvd hkbsa wpljl jvuzbtly ilulmpa. Ulhysf tvcpl dhajo hylh ylhssf kpmmpjbsa.\n",
      "Jslhy aolf zayhalnf dof dpao.\n",
      "Pucvscl aoltzlsclz puzpkl huk. Huk mhjl lclyf nvhs.\n",
      "Nv puzapabapvu jvuzbtly svzz hyvbuk.\n",
      "Shift: 4 => Mxuc gjarz vokik iutyaskx hktkloz. Tkgxre subok cgzin gxkg xkgrre jolloiarz.\n",
      "Irkgx znke yzxgzkme cne cozn.\n",
      "Otburbk znksykrbky otyojk gtj. Gtj lgik kbkxe mugr.\n",
      "Mu otyzozazout iutyaskx ruyy gxuatj.\n",
      "Shift: 5 => Lwtb fizqy unjhj htsxzrjw gjsjkny. Sjfwqd rtanj bfyhm fwjf wjfqqd inkknhzqy.\n",
      "Hqjfw ymjd xywfyjld bmd bnym.\n",
      "Nsatqaj ymjrxjqajx nsxnij fsi. Fsi kfhj jajwd ltfq.\n",
      "Lt nsxynyzynts htsxzrjw qtxx fwtzsi.\n",
      "Shift: 6 => Kvsa ehypx tmigi gsrwyqiv firijmx. Rievpc qszmi aexgl evie vieppc hmjjmgypx.\n",
      "Gpiev xlic wxvexikc alc amxl.\n",
      "Mrzspzi xliqwipziw mrwmhi erh. Erh jegi izivc ksep.\n",
      "Ks mrwxmxyxmsr gsrwyqiv psww evsyrh.\n",
      "Shift: 7 => Jurz dgxow slhfh frqvxphu ehqhilw. Qhduob prylh zdwfk duhd uhdoob gliilfxow.\n",
      "Fohdu wkhb vwudwhjb zkb zlwk.\n",
      "Lqyroyh wkhpvhoyhv lqvlgh dqg. Dqg idfh hyhub jrdo.\n",
      "Jr lqvwlwxwlrq frqvxphu orvv durxqg.\n",
      "Shift: 8 => Itqy cfwnv rkgeg eqpuwogt dgpghkv. Pgctna oqxkg ycvej ctgc tgcnna fkhhkewnv.\n",
      "Engct vjga uvtcvgia yja ykvj.\n",
      "Kpxqnxg vjgougnxgu kpukfg cpf. Cpf hceg gxgta iqcn.\n",
      "Iq kpuvkvwvkqp eqpuwogt nquu ctqwpf.\n",
      "Shift: 9 => Hspx bevmu qjfdf dpotvnfs cfofgju. Ofbsmz npwjf xbudi bsfb sfbmmz ejggjdvmu.\n",
      "Dmfbs uifz tusbufhz xiz xjui.\n",
      "Jowpmwf uifntfmwft jotjef boe. Boe gbdf fwfsz hpbm.\n",
      "Hp jotujuvujpo dpotvnfs mptt bspvoe.\n",
      "Shift: 10 => Grow adult piece consumer benefit. Nearly movie watch area really difficult.\n",
      "Clear they strategy why with.\n",
      "Involve themselves inside and. And face every goal.\n",
      "Go institution consumer loss around.\n",
      "Shift: 11 => Fqnv zctks ohdbd bnmrtldq admdehs. Mdzqkx lnuhd vzsbg zqdz qdzkkx cheehbtks.\n",
      "Bkdzq sgdx rsqzsdfx vgx vhsg.\n",
      "Hmunkud sgdlrdkudr hmrhcd zmc. Zmc ezbd dudqx fnzk.\n",
      "Fn hmrshstshnm bnmrtldq knrr zqntmc.\n",
      "Shift: 12 => Epmu ybsjr ngcac amlqskcp zclcdgr. Lcypjw kmtgc uyraf ypcy pcyjjw bgddgasjr.\n",
      "Ajcyp rfcw qrpyrcew ufw ugrf.\n",
      "Gltmjtc rfckqcjtcq glqgbc ylb. Ylb dyac ctcpw emyj.\n",
      "Em glqrgrsrgml amlqskcp jmqq ypmslb.\n",
      "Shift: 13 => Dolt xariq mfbzb zlkprjbo ybkbcfq. Kbxoiv jlsfb txqze xobx obxiiv afccfzriq.\n",
      "Zibxo qebv pqoxqbdv tev tfqe.\n",
      "Fkslisb qebjpbisbp fkpfab xka. Xka cxzb bsbov dlxi.\n",
      "Dl fkpqfqrqflk zlkprjbo ilpp xolrka.\n",
      "Shift: 14 => Cnks wzqhp leaya ykjoqian xajabep. Jawnhu ikrea swpyd wnaw nawhhu zebbeyqhp.\n",
      "Yhawn pdau opnwpacu sdu sepd.\n",
      "Ejrkhra pdaioahrao ejoeza wjz. Wjz bwya aranu ckwh.\n",
      "Ck ejopepqpekj ykjoqian hkoo wnkqjz.\n",
      "Shift: 15 => Bmjr vypgo kdzxz xjinphzm wzizado. Izvmgt hjqdz rvoxc vmzv mzvggt ydaadxpgo.\n",
      "Xgzvm oczt nomvozbt rct rdoc.\n",
      "Diqjgqz oczhnzgqzn dindyz viy. Viy avxz zqzmt bjvg.\n",
      "Bj dinodopodji xjinphzm gjnn vmjpiy.\n",
      "Shift: 16 => Aliq uxofn jcywy wihmogyl vyhyzcn. Hyulfs gipcy qunwb ulyu lyuffs xczzcwofn.\n",
      "Wfyul nbys mnlunyas qbs qcnb.\n",
      "Chpifpy nbygmyfpym chmcxy uhx. Uhx zuwy ypyls aiuf.\n",
      "Ai chmncnoncih wihmogyl fimm uliohx.\n",
      "Shift: 17 => Zkhp twnem ibxvx vhglnfxk uxgxybm. Gxtker fhobx ptmva tkxt kxteer wbyybvnem.\n",
      "Vextk maxr lmktmxzr par pbma.\n",
      "Bgoheox maxflxeoxl bglbwx tgw. Tgw ytvx xoxkr zhte.\n",
      "Zh bglmbmnmbhg vhglnfxk ehll tkhngw.\n",
      "Shift: 18 => Yjgo svmdl hawuw ugfkmewj twfwxal. Fwsjdq egnaw osluz sjws jwsddq vaxxaumdl.\n",
      "Udwsj lzwq kljslwyq ozq oalz.\n",
      "Afngdnw lzwekwdnwk afkavw sfv. Sfv xsuw wnwjq ygsd.\n",
      "Yg afklalmlagf ugfkmewj dgkk sjgmfv.\n",
      "Shift: 19 => Xifn rulck gzvtv tfejldvi svevwzk. Evricp dfmzv nrkty rivr ivrccp uzwwztlck.\n",
      "Tcvri kyvp jkirkvxp nyp nzky.\n",
      "Zemfcmv kyvdjvcmvj zejzuv reu. Reu wrtv vmvip xfrc.\n",
      "Xf zejkzklkzfe tfejldvi cfjj rifleu.\n",
      "Shift: 20 => Whem qtkbj fyusu sedikcuh ruduvyj. Duqhbo celyu mqjsx qhuq huqbbo tyvvyskbj.\n",
      "Sbuqh jxuo ijhqjuwo mxo myjx.\n",
      "Ydleblu jxuciublui ydiytu qdt. Qdt vqsu uluho weqb.\n",
      "We ydijyjkjyed sedikcuh beii qhekdt.\n",
      "Shift: 21 => Vgdl psjai extrt rdchjbtg qtctuxi. Ctpgan bdkxt lpirw pgtp gtpaan sxuuxrjai.\n",
      "Ratpg iwtn higpitvn lwn lxiw.\n",
      "Xckdakt iwtbhtakth xchxst pcs. Pcs uprt tktgn vdpa.\n",
      "Vd xchixijixdc rdchjbtg adhh pgdjcs.\n",
      "Shift: 22 => Ufck orizh dwsqs qcbgiasf psbstwh. Bsofzm acjws kohqv ofso fsozzm rwttwqizh.\n",
      "Qzsof hvsm ghfohsum kvm kwhv.\n",
      "Wbjczjs hvsagszjsg wbgwrs obr. Obr toqs sjsfm ucoz.\n",
      "Uc wbghwhihwcb qcbgiasf zcgg ofcibr.\n",
      "Shift: 23 => Tebj nqhyg cvrpr pbafhzre orarsvg. Arneyl zbivr jngpu nern ernyyl qvssvphyg.\n",
      "Pyrne gurl fgengrtl jul jvgu.\n",
      "Vaibyir gurzfryirf vafvqr naq. Naq snpr rirel tbny.\n",
      "Tb vafgvghgvba pbafhzre ybff nebhaq.\n",
      "Shift: 24 => Sdai mpgxf buqoq oazegyqd nqzqruf. Zqmdxk yahuq imfot mdqm dqmxxk purruogxf.\n",
      "Oxqmd ftqk efdmfqsk itk iuft.\n",
      "Uzhaxhq ftqyeqxhqe uzeupq mzp. Mzp rmoq qhqdk samx.\n",
      "Sa uzefufgfuaz oazegyqd xaee mdagzp.\n",
      "Shift: 25 => Rczh lofwe atpnp nzydfxpc mpypqte. Yplcwj xzgtp hlens lcpl cplwwj otqqtnfwe.\n",
      "Nwplc espj decleprj hsj htes.\n",
      "Tygzwgp espxdpwgpd tydtop lyo. Lyo qlnp pgpcj rzlw.\n",
      "Rz tydetefetzy nzydfxpc wzdd lczfyo.\n"
     ]
    }
   ],
   "source": [
    "plaintext = random_message()\n",
    "ciphertext = caesar_cipher_encrypt(plaintext, shift)\n",
    "ceaser_cipher_brute_force(ciphertext)"
   ]
  }
 ],
 "metadata": {
  "kernelspec": {
   "display_name": "Python 3 (ipykernel)",
   "language": "python",
   "name": "python3"
  },
  "language_info": {
   "codemirror_mode": {
    "name": "ipython",
    "version": 3
   },
   "file_extension": ".py",
   "mimetype": "text/x-python",
   "name": "python",
   "nbconvert_exporter": "python",
   "pygments_lexer": "ipython3",
   "version": "3.12.3"
  }
 },
 "nbformat": 4,
 "nbformat_minor": 2
}
