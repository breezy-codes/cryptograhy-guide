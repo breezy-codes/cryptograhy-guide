{
 "cells": [
  {
   "cell_type": "markdown",
   "metadata": {},
   "source": [
    "# **Vigenère Cipher**\n",
    "\n",
    "The Vigenère cipher is a method of encrypting alphabetic text using a form of polyalphabetic substitution, which applies multiple Caesar ciphers based on a keyword. Each letter in the plaintext is shifted by an amount determined by the corresponding letter in the keyword, creating a more secure encryption than a single-shift cipher. This method is more resistant to brute force attacks because the pattern of shifts varies based on the keyword."
   ]
  },
  {
   "cell_type": "markdown",
   "metadata": {},
   "source": [
    "```{prf:algorithm} Vigenère Cipher Input\n",
    ":label: alg-vigenere-input\n",
    "\n",
    "**Input:**\n",
    "- Plaintext message $M$.\n",
    "- Key $K$.\n",
    "\n",
    "**Preparation for Encryption:**\n",
    "\n",
    "1. **Assign Numbers to Letters:**\n",
    "    - Each letter in the alphabet is assigned a number:\n",
    "\n",
    "    $$\n",
    "    \\begin{aligned}\n",
    "    A & = 0, \\\\\n",
    "    B & = 1, \\\\\n",
    "    \\vdots \\\\\n",
    "    Z & = 25.\n",
    "    \\end{aligned}\n",
    "    $$\n",
    "\n",
    "2. **Repeat Key to Match Message Length:**\n",
    "    - If the plaintext message $M$ has a length $n$ and the key $K$ has a length $m$, repeat the key until it matches the length of the message.\n",
    "\n",
    "    Example: If $M = \"HELLO\"$ and $K = \"KEY\"$, then $K$ is repeated to form \"KEYKE\".\n",
    "```\n",
    "\n",
    "```{admonition} Explanation\n",
    ":class: tip, dropdown\n",
    "\n",
    "**Preparation for Encryption:**\n",
    "\n",
    "- In the Vigenère Cipher, each letter is first converted into its numeric representation (A=0, B=1, ..., Z=25).\n",
    "- The key $K$ is repeated as many times as needed to match the length of the plaintext message $M$. This ensures every letter in $M$ has a corresponding key letter.\n",
    "```\n",
    "\n",
    "```{prf:algorithm} Vigenère Cipher Encryption\n",
    ":label: alg-vigenere-encryption\n",
    "\n",
    "**Encryption Process:**\n",
    "\n",
    "- For each letter in the plaintext message $M$, let $x$ be its numeric representation.\n",
    "- For the corresponding letter in the key $K$, let $k$ be its numeric representation.\n",
    "- The encryption function $E(x, k)$ shifts the letter $x$ by $k$ positions down the alphabet:\n",
    "\n",
    "$$\n",
    "E(x, k) = (x + k) \\mod 26\n",
    "$$\n",
    "\n",
    "- Example: Encrypting $M = \"HELLO\"$ with $K = \"KEYKE\"$:\n",
    "    - $H = 7$, $K = 10$: $E(7, 10) = (7 + 10) \\mod 26 = 17$ (R)\n",
    "    - $E = 4$, $E = 4$: $E(4, 4) = (4 + 4) \\mod 26 = 8$ (I)\n",
    "    - $L = 11$, $Y = 24$: $E(11, 24) = (11 + 24) \\mod 26 = 9$ (J)\n",
    "    - $L = 11$, $K = 10$: $E(11, 10) = (11 + 10) \\mod 26 = 21$ (V)\n",
    "    - $O = 14$, $E = 4$: $E(14, 4) = (14 + 4) \\mod 26 = 18$ (S)\n",
    "\n",
    "    - Result: $M = \"HELLO\"$ is encrypted to $C = \"RIJVS\"$.\n",
    "```\n",
    "\n",
    "```{admonition} Explanation\n",
    ":class: tip, dropdown\n",
    "\n",
    "**Encryption Process:**\n",
    "\n",
    "- Each letter in the plaintext $M$ is encrypted by shifting it down the alphabet by the value of the corresponding letter in the key $K$. This is expressed mathematically as:\n",
    "\n",
    "$$\n",
    "E(x, k) = (x + k) \\mod 26\n",
    "$$\n",
    "\n",
    "- Example:\n",
    "    - Plaintext letter $H$ (x=7) is shifted by the key letter $K$ (k=10), resulting in $R$ (17).\n",
    "    - Repeating this for all letters produces the ciphertext.\n",
    "```\n",
    "\n",
    "```{prf:algorithm} Vigenère Cipher Decryption\n",
    ":label: alg-vigenere-decryption\n",
    "\n",
    "**Decryption Process:**\n",
    "\n",
    "- For each letter in the ciphertext $C$, let $y$ be its numeric representation.\n",
    "- For the corresponding letter in the key $K$, let $k$ be its numeric representation.\n",
    "- The decryption function $D(y, k)$ shifts the letter $y$ back by $k$ positions up the alphabet:\n",
    "\n",
    "$$\n",
    "D(y, k) = (y - k) \\mod 26\n",
    "$$\n",
    "\n",
    "- Example: Decrypting $C = \"RIJVS\"$ with $K = \"KEYKE\"$:\n",
    "    - $R = 17$, $K = 10$: $D(17, 10) = (17 - 10) \\mod 26 = 7$ (H)\n",
    "    - $I = 8$, $E = 4$: $D(8, 4) = (8 - 4) \\mod 26 = 4$ (E)\n",
    "    - $J = 9$, $Y = 24$: $D(9, 24) = (9 - 24) \\mod 26 = 11$ (L)\n",
    "    - $V = 21$, $K = 10$: $D(21, 10) = (21 - 10) \\mod 26 = 11$ (L)\n",
    "    - $S = 18$, $E = 4$: $D(18, 4) = (18 - 4) \\mod 26 = 14$ (O)\n",
    "\n",
    "    - Result: $C = \"RIJVS\"$ is decrypted to $M = \"HELLO\"$.\n",
    "```\n",
    "\n",
    "```{admonition} Explanation\n",
    ":class: tip, dropdown\n",
    "\n",
    "**Decryption Process:**\n",
    "\n",
    "- Each letter in the ciphertext $C$ is decrypted by shifting it up the alphabet by the value of the corresponding letter in the key $K$. This is expressed mathematically as:\n",
    "\n",
    "$$\n",
    "D(y, k) = (y - k) \\mod 26\n",
    "$$\n",
    "\n",
    "- Example:\n",
    "    - Ciphertext letter $R$ (y=17) is shifted back by the key letter $K$ (k=10), resulting in $H$ (7).\n",
    "    - Repeating this for all letters restores the plaintext.\n",
    "```\n",
    "\n",
    "The Vigenère Cipher is more secure than the Caesar Cipher due to its use of a repeating key, introducing polyalphabetic substitution. However, it is still vulnerable to cryptanalysis, especially if the key length is known or the ciphertext is long."
   ]
  },
  {
   "cell_type": "markdown",
   "metadata": {},
   "source": [
    "## Encoding with the Vigenère Cipher\n",
    "\n",
    "Encoding a message with the Vigenère cipher involves applying different shifts to each letter in the plaintext, determined by the corresponding letter in the repeated keyword. This ensures that each character is encrypted with a different substitution, making the resulting ciphertext more complex and secure. The process involves converting characters to numeric values, applying modular arithmetic for the shifts, and converting the results back to alphabetic text."
   ]
  },
  {
   "cell_type": "code",
   "execution_count": 14,
   "metadata": {},
   "outputs": [],
   "source": [
    "def vigenere_cipher_encode(input_string, keyword):\n",
    "    encoded_string = \"\"\n",
    "    for i, character in enumerate(input_string):\n",
    "        key = keyword[i % len(keyword)]\n",
    "        if character.isalpha():\n",
    "            base = ord('a') if character.islower() else ord('A')\n",
    "            encoded_string += chr((ord(character) - base + ord(key) - ord('A')) % 26 + base)\n",
    "        else:\n",
    "            encoded_string += character  # Non-alphabet characters remain unchanged\n",
    "    return encoded_string"
   ]
  },
  {
   "cell_type": "code",
   "execution_count": 15,
   "metadata": {},
   "outputs": [
    {
     "name": "stdout",
     "output_type": "stream",
     "text": [
      "Original: Hello, World!\n",
      "Encoded: Rijvs, Ambpb!\n"
     ]
    }
   ],
   "source": [
    "message = \"Hello, World!\"\n",
    "keyword = \"KEY\"\n",
    "encoded_message = vigenere_cipher_encode(message, keyword)\n",
    "print(f\"Original: {message}\")\n",
    "print(f\"Encoded: {encoded_message}\")"
   ]
  },
  {
   "cell_type": "markdown",
   "metadata": {},
   "source": [
    "## Decoding with the Vigenère Cipher\n",
    "\n",
    "Decoding a message encrypted with the Vigenère cipher involves reversing the shifts applied during encryption using the same keyword. By applying the modular arithmetic in reverse, each character is shifted back to its original position, reconstructing the plaintext. This process relies on the keyword to match the shifts used during encryption, ensuring that the message can only be decrypted by someone with the correct key."
   ]
  },
  {
   "cell_type": "code",
   "execution_count": 16,
   "metadata": {},
   "outputs": [],
   "source": [
    "def vigenere_cipher_decode(input_string, keyword):\n",
    "    decoded_string = \"\"\n",
    "    for i, character in enumerate(input_string):\n",
    "        key = keyword[i % len(keyword)]\n",
    "        if character.isalpha():\n",
    "            base = ord('a') if character.islower() else ord('A')\n",
    "            decoded_string += chr((ord(character) - base - ord(key) + ord('A') + 26) % 26 + base)\n",
    "        else:\n",
    "            decoded_string += character  # Non-alphabet characters remain unchanged\n",
    "    return decoded_string"
   ]
  },
  {
   "cell_type": "code",
   "execution_count": 17,
   "metadata": {},
   "outputs": [
    {
     "name": "stdout",
     "output_type": "stream",
     "text": [
      "Encoded: Rijvs, Ambpb!\n",
      "Decoded: Hello, World!\n"
     ]
    }
   ],
   "source": [
    "encoded_message = \"Rijvs, Ambpb!\"\n",
    "keyword = \"KEY\"\n",
    "decoded_message = vigenere_cipher_decode(encoded_message, keyword)\n",
    "print(f\"Encoded: {encoded_message}\")\n",
    "print(f\"Decoded: {decoded_message}\")"
   ]
  }
 ],
 "metadata": {
  "kernelspec": {
   "display_name": "jupyter-books",
   "language": "python",
   "name": "python3"
  },
  "language_info": {
   "codemirror_mode": {
    "name": "ipython",
    "version": 3
   },
   "file_extension": ".py",
   "mimetype": "text/x-python",
   "name": "python",
   "nbconvert_exporter": "python",
   "pygments_lexer": "ipython3",
   "version": "3.12.7"
  }
 },
 "nbformat": 4,
 "nbformat_minor": 2
}
